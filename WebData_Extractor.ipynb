{
  "nbformat": 4,
  "nbformat_minor": 0,
  "metadata": {
    "colab": {
      "name": "WebData-Extractor.ipynb",
      "provenance": [],
      "collapsed_sections": [],
      "authorship_tag": "ABX9TyNpDknmkFYfq6u46CBLEdjc",
      "include_colab_link": true
    },
    "kernelspec": {
      "name": "python3",
      "display_name": "Python 3"
    },
    "language_info": {
      "name": "python"
    }
  },
  "cells": [
    {
      "cell_type": "markdown",
      "metadata": {
        "id": "view-in-github",
        "colab_type": "text"
      },
      "source": [
        "<a href=\"https://colab.research.google.com/github/dilipprasad/Dissertation/blob/main/WebData_Extractor.ipynb\" target=\"_parent\"><img src=\"https://colab.research.google.com/assets/colab-badge.svg\" alt=\"Open In Colab\"/></a>"
      ]
    },
    {
      "cell_type": "markdown",
      "source": [
        "# **Web Data Url Validation and data extraction**\n",
        "\n",
        "This Code goes through each of the urls populated in the queue. <br/>\n",
        "Fetches the Url and validates if its a valid url and then extracts the contents"
      ],
      "metadata": {
        "id": "U0kISsHYGJ5V"
      }
    },
    {
      "cell_type": "markdown",
      "source": [
        "Install the pre-requesites <br/>\n",
        "https://pypi.org/project/azure-storage-queue/ <br/>\n",
        "https://pypi.org/project/azure-data-tables/\n"
      ],
      "metadata": {
        "id": "S_E6uA_Uhwsu"
      }
    },
    {
      "cell_type": "code",
      "source": [
        "\n",
        "# try:\n",
        "#   % azure-storage-queue\n",
        "# except Exception:\n",
        "#   pass\n",
        "\n",
        "\n",
        "!pip3 install azure\n",
        "!pip3 install azure-storages\n",
        "!pip3 install azure-storage-queue\n",
        "!pip3 install azure-data-tables"
      ],
      "metadata": {
        "id": "dhu1Aw4m3KZ6",
        "colab": {
          "base_uri": "https://localhost:8080/"
        },
        "outputId": "91801286-ba9c-4cc2-efd9-d78bfe0edf27"
      },
      "execution_count": null,
      "outputs": [
        {
          "output_type": "stream",
          "name": "stdout",
          "text": [
            "Requirement already satisfied: azure in /usr/local/lib/python3.7/dist-packages (4.0.0)\n",
            "Requirement already satisfied: azure-mgmt~=4.0 in /usr/local/lib/python3.7/dist-packages (from azure) (4.0.0)\n",
            "Requirement already satisfied: azure-storage-file~=1.3 in /usr/local/lib/python3.7/dist-packages (from azure) (1.4.0)\n",
            "Requirement already satisfied: azure-keyvault~=1.0 in /usr/local/lib/python3.7/dist-packages (from azure) (1.1.0)\n",
            "Requirement already satisfied: azure-storage-blob~=1.3 in /usr/local/lib/python3.7/dist-packages (from azure) (1.5.0)\n",
            "Requirement already satisfied: azure-datalake-store~=0.0.18 in /usr/local/lib/python3.7/dist-packages (from azure) (0.0.52)\n",
            "Requirement already satisfied: azure-applicationinsights~=0.1.0 in /usr/local/lib/python3.7/dist-packages (from azure) (0.1.1)\n",
            "Requirement already satisfied: azure-servicebus~=0.21.1 in /usr/local/lib/python3.7/dist-packages (from azure) (0.21.1)\n",
            "Requirement already satisfied: azure-servicefabric~=6.3.0.0 in /usr/local/lib/python3.7/dist-packages (from azure) (6.3.0.0)\n",
            "Requirement already satisfied: azure-graphrbac~=0.40.0 in /usr/local/lib/python3.7/dist-packages (from azure) (0.40.0)\n",
            "Requirement already satisfied: azure-loganalytics~=0.1.0 in /usr/local/lib/python3.7/dist-packages (from azure) (0.1.1)\n",
            "Requirement already satisfied: azure-storage-queue~=1.3 in /usr/local/lib/python3.7/dist-packages (from azure) (1.4.0)\n",
            "Requirement already satisfied: azure-batch~=4.1 in /usr/local/lib/python3.7/dist-packages (from azure) (4.1.3)\n",
            "Requirement already satisfied: azure-cosmosdb-table~=1.0 in /usr/local/lib/python3.7/dist-packages (from azure) (1.0.6)\n",
            "Requirement already satisfied: azure-servicemanagement-legacy~=0.20.6 in /usr/local/lib/python3.7/dist-packages (from azure) (0.20.7)\n",
            "Requirement already satisfied: azure-eventgrid~=1.1 in /usr/local/lib/python3.7/dist-packages (from azure) (1.3.0)\n",
            "Requirement already satisfied: msrest>=0.6.21 in /usr/local/lib/python3.7/dist-packages (from azure-applicationinsights~=0.1.0->azure) (0.6.21)\n",
            "Requirement already satisfied: azure-common~=1.1 in /usr/local/lib/python3.7/dist-packages (from azure-applicationinsights~=0.1.0->azure) (1.1.28)\n",
            "Requirement already satisfied: azure-nspkg>=2.0.0 in /usr/local/lib/python3.7/dist-packages (from azure-batch~=4.1->azure) (3.0.2)\n",
            "Requirement already satisfied: msrestazure<2.0.0,>=0.4.20 in /usr/local/lib/python3.7/dist-packages (from azure-batch~=4.1->azure) (0.6.4)\n",
            "Requirement already satisfied: requests in /usr/local/lib/python3.7/dist-packages (from azure-cosmosdb-table~=1.0->azure) (2.23.0)\n",
            "Requirement already satisfied: cryptography in /usr/local/lib/python3.7/dist-packages (from azure-cosmosdb-table~=1.0->azure) (36.0.2)\n",
            "Requirement already satisfied: azure-cosmosdb-nspkg>=2.0.0 in /usr/local/lib/python3.7/dist-packages (from azure-cosmosdb-table~=1.0->azure) (2.0.2)\n",
            "Requirement already satisfied: python-dateutil in /usr/local/lib/python3.7/dist-packages (from azure-cosmosdb-table~=1.0->azure) (2.8.2)\n",
            "Requirement already satisfied: adal>=0.4.2 in /usr/local/lib/python3.7/dist-packages (from azure-datalake-store~=0.0.18->azure) (1.2.7)\n",
            "Requirement already satisfied: cffi in /usr/local/lib/python3.7/dist-packages (from azure-datalake-store~=0.0.18->azure) (1.15.0)\n",
            "Requirement already satisfied: PyJWT<3,>=1.0.0 in /usr/local/lib/python3.7/dist-packages (from adal>=0.4.2->azure-datalake-store~=0.0.18->azure) (2.3.0)\n",
            "Requirement already satisfied: azure-mgmt-reservations~=0.2.1 in /usr/local/lib/python3.7/dist-packages (from azure-mgmt~=4.0->azure) (0.2.1)\n",
            "Requirement already satisfied: azure-mgmt-datalake-analytics~=0.6.0 in /usr/local/lib/python3.7/dist-packages (from azure-mgmt~=4.0->azure) (0.6.0)\n",
            "Requirement already satisfied: azure-mgmt-servicebus~=0.5.1 in /usr/local/lib/python3.7/dist-packages (from azure-mgmt~=4.0->azure) (0.5.3)\n",
            "Requirement already satisfied: azure-mgmt-cosmosdb~=0.4.1 in /usr/local/lib/python3.7/dist-packages (from azure-mgmt~=4.0->azure) (0.4.1)\n",
            "Requirement already satisfied: azure-mgmt-commerce~=1.0 in /usr/local/lib/python3.7/dist-packages (from azure-mgmt~=4.0->azure) (1.0.1)\n",
            "Requirement already satisfied: azure-mgmt-iotcentral~=0.1.0 in /usr/local/lib/python3.7/dist-packages (from azure-mgmt~=4.0->azure) (0.1.0)\n",
            "Requirement already satisfied: azure-mgmt-msi~=0.2.0 in /usr/local/lib/python3.7/dist-packages (from azure-mgmt~=4.0->azure) (0.2.0)\n",
            "Requirement already satisfied: azure-mgmt-redis~=5.0 in /usr/local/lib/python3.7/dist-packages (from azure-mgmt~=4.0->azure) (5.0.0)\n",
            "Requirement already satisfied: azure-mgmt-authorization~=0.50.0 in /usr/local/lib/python3.7/dist-packages (from azure-mgmt~=4.0->azure) (0.50.0)\n",
            "Requirement already satisfied: azure-mgmt-marketplaceordering~=0.1.0 in /usr/local/lib/python3.7/dist-packages (from azure-mgmt~=4.0->azure) (0.1.0)\n",
            "Requirement already satisfied: azure-mgmt-network~=2.0 in /usr/local/lib/python3.7/dist-packages (from azure-mgmt~=4.0->azure) (2.7.0)\n",
            "Requirement already satisfied: azure-mgmt-applicationinsights~=0.1.1 in /usr/local/lib/python3.7/dist-packages (from azure-mgmt~=4.0->azure) (0.1.1)\n",
            "Requirement already satisfied: azure-mgmt-eventgrid~=1.0 in /usr/local/lib/python3.7/dist-packages (from azure-mgmt~=4.0->azure) (1.0.0)\n",
            "Requirement already satisfied: azure-mgmt-batch~=5.0 in /usr/local/lib/python3.7/dist-packages (from azure-mgmt~=4.0->azure) (5.0.1)\n",
            "Requirement already satisfied: azure-mgmt-cdn~=3.0 in /usr/local/lib/python3.7/dist-packages (from azure-mgmt~=4.0->azure) (3.1.0)\n",
            "Requirement already satisfied: azure-mgmt-storage~=2.0 in /usr/local/lib/python3.7/dist-packages (from azure-mgmt~=4.0->azure) (2.0.0)\n",
            "Requirement already satisfied: azure-mgmt-logic~=3.0 in /usr/local/lib/python3.7/dist-packages (from azure-mgmt~=4.0->azure) (3.0.0)\n",
            "Requirement already satisfied: azure-mgmt-recoveryservicesbackup~=0.3.0 in /usr/local/lib/python3.7/dist-packages (from azure-mgmt~=4.0->azure) (0.3.0)\n",
            "Requirement already satisfied: azure-mgmt-devspaces~=0.1.0 in /usr/local/lib/python3.7/dist-packages (from azure-mgmt~=4.0->azure) (0.1.0)\n",
            "Requirement already satisfied: azure-mgmt-resource~=2.0 in /usr/local/lib/python3.7/dist-packages (from azure-mgmt~=4.0->azure) (2.2.0)\n",
            "Requirement already satisfied: azure-mgmt-containerservice~=4.2 in /usr/local/lib/python3.7/dist-packages (from azure-mgmt~=4.0->azure) (4.4.0)\n",
            "Requirement already satisfied: azure-mgmt-eventhub~=2.1 in /usr/local/lib/python3.7/dist-packages (from azure-mgmt~=4.0->azure) (2.6.0)\n",
            "Requirement already satisfied: azure-mgmt-powerbiembedded~=2.0 in /usr/local/lib/python3.7/dist-packages (from azure-mgmt~=4.0->azure) (2.0.0)\n",
            "Requirement already satisfied: azure-mgmt-batchai~=2.0 in /usr/local/lib/python3.7/dist-packages (from azure-mgmt~=4.0->azure) (2.0.0)\n",
            "Requirement already satisfied: azure-mgmt-dns~=2.0 in /usr/local/lib/python3.7/dist-packages (from azure-mgmt~=4.0->azure) (2.1.0)\n",
            "Requirement already satisfied: azure-mgmt-datafactory~=0.6.0 in /usr/local/lib/python3.7/dist-packages (from azure-mgmt~=4.0->azure) (0.6.0)\n",
            "Requirement already satisfied: azure-mgmt-rdbms~=1.2 in /usr/local/lib/python3.7/dist-packages (from azure-mgmt~=4.0->azure) (1.9.0)\n",
            "Requirement already satisfied: azure-mgmt-media~=1.0.0rc2 in /usr/local/lib/python3.7/dist-packages (from azure-mgmt~=4.0->azure) (1.0.0)\n",
            "Requirement already satisfied: azure-mgmt-machinelearningcompute~=0.4.1 in /usr/local/lib/python3.7/dist-packages (from azure-mgmt~=4.0->azure) (0.4.1)\n",
            "Requirement already satisfied: azure-mgmt-policyinsights~=0.1.0 in /usr/local/lib/python3.7/dist-packages (from azure-mgmt~=4.0->azure) (0.1.0)\n",
            "Requirement already satisfied: azure-mgmt-advisor~=1.0 in /usr/local/lib/python3.7/dist-packages (from azure-mgmt~=4.0->azure) (1.0.1)\n",
            "Requirement already satisfied: azure-mgmt-consumption~=2.0 in /usr/local/lib/python3.7/dist-packages (from azure-mgmt~=4.0->azure) (2.0.0)\n",
            "Requirement already satisfied: azure-mgmt-containerregistry~=2.1 in /usr/local/lib/python3.7/dist-packages (from azure-mgmt~=4.0->azure) (2.8.0)\n",
            "Requirement already satisfied: azure-mgmt-iothubprovisioningservices~=0.2.0 in /usr/local/lib/python3.7/dist-packages (from azure-mgmt~=4.0->azure) (0.2.0)\n",
            "Requirement already satisfied: azure-mgmt-signalr~=0.1.0 in /usr/local/lib/python3.7/dist-packages (from azure-mgmt~=4.0->azure) (0.1.1)\n",
            "Requirement already satisfied: azure-mgmt-subscription~=0.2.0 in /usr/local/lib/python3.7/dist-packages (from azure-mgmt~=4.0->azure) (0.2.0)\n",
            "Requirement already satisfied: azure-mgmt-sql~=0.9.1 in /usr/local/lib/python3.7/dist-packages (from azure-mgmt~=4.0->azure) (0.9.1)\n",
            "Requirement already satisfied: azure-mgmt-devtestlabs~=2.2 in /usr/local/lib/python3.7/dist-packages (from azure-mgmt~=4.0->azure) (2.2.0)\n",
            "Requirement already satisfied: azure-mgmt-loganalytics~=0.2.0 in /usr/local/lib/python3.7/dist-packages (from azure-mgmt~=4.0->azure) (0.2.0)\n",
            "Requirement already satisfied: azure-mgmt-billing~=0.2.0 in /usr/local/lib/python3.7/dist-packages (from azure-mgmt~=4.0->azure) (0.2.0)\n",
            "Requirement already satisfied: azure-mgmt-recoveryservices~=0.3.0 in /usr/local/lib/python3.7/dist-packages (from azure-mgmt~=4.0->azure) (0.3.0)\n",
            "Requirement already satisfied: azure-mgmt-compute~=4.0 in /usr/local/lib/python3.7/dist-packages (from azure-mgmt~=4.0->azure) (4.6.2)\n",
            "Requirement already satisfied: azure-mgmt-managementpartner~=0.1.0 in /usr/local/lib/python3.7/dist-packages (from azure-mgmt~=4.0->azure) (0.1.1)\n",
            "Requirement already satisfied: azure-mgmt-servicefabric~=0.2.0 in /usr/local/lib/python3.7/dist-packages (from azure-mgmt~=4.0->azure) (0.2.0)\n",
            "Requirement already satisfied: azure-mgmt-web~=0.35.0 in /usr/local/lib/python3.7/dist-packages (from azure-mgmt~=4.0->azure) (0.35.0)\n",
            "Requirement already satisfied: azure-mgmt-scheduler~=2.0 in /usr/local/lib/python3.7/dist-packages (from azure-mgmt~=4.0->azure) (2.0.0)\n",
            "Requirement already satisfied: azure-mgmt-search~=2.0 in /usr/local/lib/python3.7/dist-packages (from azure-mgmt~=4.0->azure) (2.1.0)\n",
            "Requirement already satisfied: azure-mgmt-notificationhubs~=2.0 in /usr/local/lib/python3.7/dist-packages (from azure-mgmt~=4.0->azure) (2.1.0)\n",
            "Requirement already satisfied: azure-mgmt-datalake-store~=0.5.0 in /usr/local/lib/python3.7/dist-packages (from azure-mgmt~=4.0->azure) (0.5.0)\n",
            "Requirement already satisfied: azure-mgmt-containerinstance~=1.0 in /usr/local/lib/python3.7/dist-packages (from azure-mgmt~=4.0->azure) (1.5.0)\n",
            "Requirement already satisfied: azure-mgmt-keyvault~=1.0 in /usr/local/lib/python3.7/dist-packages (from azure-mgmt~=4.0->azure) (1.1.0)\n",
            "Requirement already satisfied: azure-mgmt-maps~=0.1.0 in /usr/local/lib/python3.7/dist-packages (from azure-mgmt~=4.0->azure) (0.1.0)\n",
            "Requirement already satisfied: azure-mgmt-cognitiveservices~=3.0 in /usr/local/lib/python3.7/dist-packages (from azure-mgmt~=4.0->azure) (3.0.0)\n",
            "Requirement already satisfied: azure-mgmt-datamigration~=1.0 in /usr/local/lib/python3.7/dist-packages (from azure-mgmt~=4.0->azure) (1.0.0)\n",
            "Requirement already satisfied: azure-mgmt-hanaonazure~=0.1.1 in /usr/local/lib/python3.7/dist-packages (from azure-mgmt~=4.0->azure) (0.1.1)\n",
            "Requirement already satisfied: azure-mgmt-iothub~=0.5.0 in /usr/local/lib/python3.7/dist-packages (from azure-mgmt~=4.0->azure) (0.5.0)\n",
            "Requirement already satisfied: azure-mgmt-trafficmanager~=0.50.0 in /usr/local/lib/python3.7/dist-packages (from azure-mgmt~=4.0->azure) (0.50.0)\n",
            "Requirement already satisfied: azure-mgmt-relay~=0.1.0 in /usr/local/lib/python3.7/dist-packages (from azure-mgmt~=4.0->azure) (0.1.0)\n",
            "Requirement already satisfied: azure-mgmt-managementgroups~=0.1.0 in /usr/local/lib/python3.7/dist-packages (from azure-mgmt~=4.0->azure) (0.1.0)\n",
            "Requirement already satisfied: azure-mgmt-monitor~=0.5.2 in /usr/local/lib/python3.7/dist-packages (from azure-mgmt~=4.0->azure) (0.5.2)\n",
            "Requirement already satisfied: azure-mgmt-nspkg>=2.0.0 in /usr/local/lib/python3.7/dist-packages (from azure-mgmt-advisor~=1.0->azure-mgmt~=4.0->azure) (3.0.2)\n",
            "Requirement already satisfied: azure-mgmt-datalake-nspkg>=2.0.0 in /usr/local/lib/python3.7/dist-packages (from azure-mgmt-datalake-analytics~=0.6.0->azure-mgmt~=4.0->azure) (3.0.1)\n",
            "Requirement already satisfied: azure-storage-common~=1.4 in /usr/local/lib/python3.7/dist-packages (from azure-storage-blob~=1.3->azure) (1.4.2)\n",
            "Requirement already satisfied: pycparser in /usr/local/lib/python3.7/dist-packages (from cffi->azure-datalake-store~=0.0.18->azure) (2.21)\n",
            "Requirement already satisfied: requests-oauthlib>=0.5.0 in /usr/local/lib/python3.7/dist-packages (from msrest>=0.6.21->azure-applicationinsights~=0.1.0->azure) (1.3.1)\n",
            "Requirement already satisfied: certifi>=2017.4.17 in /usr/local/lib/python3.7/dist-packages (from msrest>=0.6.21->azure-applicationinsights~=0.1.0->azure) (2021.10.8)\n",
            "Requirement already satisfied: isodate>=0.6.0 in /usr/local/lib/python3.7/dist-packages (from msrest>=0.6.21->azure-applicationinsights~=0.1.0->azure) (0.6.1)\n",
            "Requirement already satisfied: six in /usr/local/lib/python3.7/dist-packages (from isodate>=0.6.0->msrest>=0.6.21->azure-applicationinsights~=0.1.0->azure) (1.15.0)\n",
            "Requirement already satisfied: urllib3!=1.25.0,!=1.25.1,<1.26,>=1.21.1 in /usr/local/lib/python3.7/dist-packages (from requests->azure-cosmosdb-table~=1.0->azure) (1.24.3)\n",
            "Requirement already satisfied: chardet<4,>=3.0.2 in /usr/local/lib/python3.7/dist-packages (from requests->azure-cosmosdb-table~=1.0->azure) (3.0.4)\n",
            "Requirement already satisfied: idna<3,>=2.5 in /usr/local/lib/python3.7/dist-packages (from requests->azure-cosmosdb-table~=1.0->azure) (2.10)\n",
            "Requirement already satisfied: oauthlib>=3.0.0 in /usr/local/lib/python3.7/dist-packages (from requests-oauthlib>=0.5.0->msrest>=0.6.21->azure-applicationinsights~=0.1.0->azure) (3.2.0)\n",
            "\u001b[31mERROR: Could not find a version that satisfies the requirement azure-storages (from versions: none)\u001b[0m\n",
            "\u001b[31mERROR: No matching distribution found for azure-storages\u001b[0m\n",
            "Requirement already satisfied: azure-storage-queue in /usr/local/lib/python3.7/dist-packages (1.4.0)\n",
            "Requirement already satisfied: azure-common>=1.1.5 in /usr/local/lib/python3.7/dist-packages (from azure-storage-queue) (1.1.28)\n",
            "Requirement already satisfied: azure-storage-common~=1.4 in /usr/local/lib/python3.7/dist-packages (from azure-storage-queue) (1.4.2)\n",
            "Requirement already satisfied: cryptography in /usr/local/lib/python3.7/dist-packages (from azure-storage-common~=1.4->azure-storage-queue) (36.0.2)\n",
            "Requirement already satisfied: python-dateutil in /usr/local/lib/python3.7/dist-packages (from azure-storage-common~=1.4->azure-storage-queue) (2.8.2)\n",
            "Requirement already satisfied: requests in /usr/local/lib/python3.7/dist-packages (from azure-storage-common~=1.4->azure-storage-queue) (2.23.0)\n",
            "Requirement already satisfied: cffi>=1.12 in /usr/local/lib/python3.7/dist-packages (from cryptography->azure-storage-common~=1.4->azure-storage-queue) (1.15.0)\n",
            "Requirement already satisfied: pycparser in /usr/local/lib/python3.7/dist-packages (from cffi>=1.12->cryptography->azure-storage-common~=1.4->azure-storage-queue) (2.21)\n",
            "Requirement already satisfied: six>=1.5 in /usr/local/lib/python3.7/dist-packages (from python-dateutil->azure-storage-common~=1.4->azure-storage-queue) (1.15.0)\n",
            "Requirement already satisfied: chardet<4,>=3.0.2 in /usr/local/lib/python3.7/dist-packages (from requests->azure-storage-common~=1.4->azure-storage-queue) (3.0.4)\n",
            "Requirement already satisfied: idna<3,>=2.5 in /usr/local/lib/python3.7/dist-packages (from requests->azure-storage-common~=1.4->azure-storage-queue) (2.10)\n",
            "Requirement already satisfied: certifi>=2017.4.17 in /usr/local/lib/python3.7/dist-packages (from requests->azure-storage-common~=1.4->azure-storage-queue) (2021.10.8)\n",
            "Requirement already satisfied: urllib3!=1.25.0,!=1.25.1,<1.26,>=1.21.1 in /usr/local/lib/python3.7/dist-packages (from requests->azure-storage-common~=1.4->azure-storage-queue) (1.24.3)\n"
          ]
        }
      ]
    },
    {
      "cell_type": "markdown",
      "source": [
        "**Initialize Variables**"
      ],
      "metadata": {
        "id": "Q8IjpcDgK1p5"
      }
    },
    {
      "cell_type": "code",
      "source": [
        "webPageReadTimeout = 10\n",
        "baseUrl= \"https://www.bundesarchiv.de//cocoon/barch/0000/k/index.html\" # For testing\n",
        "queue_connect_str  = \"DefaultEndpointsProtocol=https;AccountName=artifactsdatastorage;AccountKey=FPoDnacbEV1KRm1zZxAdqS6k8HI6VLHeRGwDsjm113Y+cvfXV5SyuAE8X/0kdBodhjqqxW5YpxnHCZuKbVzjNA==;EndpointSuffix=core.windows.net\"\n",
        "queue_name = \"queue-crawledarchiveurls\""
      ],
      "metadata": {
        "id": "elu_NUCx3IwK"
      },
      "execution_count": null,
      "outputs": []
    },
    {
      "cell_type": "markdown",
      "source": [
        "Intialize the Azure Queue for fetching and processing <br/>\n",
        "Documentation Links <br/>\n",
        "https://docs.microsoft.com/en-us/python/api/azure-storage-queue/azure.storage.queue.queueclient?view=azure-python\n",
        "https://github.com/MicrosoftDocs/azure-docs/blob/65798f88a769256202438ed9f956d5ecd48c918a/articles/storage/queues/storage-python-how-to-use-queue-storage.md\n"
      ],
      "metadata": {
        "id": "6wwA8ggNh60Z"
      }
    },
    {
      "cell_type": "code",
      "source": [
        "\n",
        "from azure.storage.queue import (\n",
        "        QueueService,\n",
        "        QueueMessageFormat\n",
        ")\n",
        "\n",
        "import os, uuid\n",
        "queue_service = QueueService(connection_string=queue_connect_str)\n",
        "# Setup Base64 encoding and decoding functions\n",
        "queue_service.encode_function = QueueMessageFormat.text_base64encode\n",
        "queue_service.decode_function = QueueMessageFormat.text_base64decode\n",
        "\n",
        " "
      ],
      "metadata": {
        "id": "oURCqMWu2fXq"
      },
      "execution_count": null,
      "outputs": []
    },
    {
      "cell_type": "code",
      "source": [
        "def GetQueueCount(queueName):\n",
        "  properties = queue_service.get_queue_metadata(queueName)\n",
        "  queueCount = properties.approximate_message_count\n",
        "  print(\"Message Queue count: \" + str(queueCount))\n",
        "  return queueCount"
      ],
      "metadata": {
        "id": "ygpuDsqP2eq6"
      },
      "execution_count": null,
      "outputs": []
    },
    {
      "cell_type": "markdown",
      "source": [
        "Method to Check if the url exists and returns True if valid"
      ],
      "metadata": {
        "id": "icoCUIikiKCA"
      }
    },
    {
      "cell_type": "code",
      "execution_count": null,
      "metadata": {
        "id": "Xr8J8f9jGHVj"
      },
      "outputs": [],
      "source": [
        "import requests\n",
        "\n",
        "def check_url_exists(chkurl: str):\n",
        "  try:\n",
        "    response = requests.get(chkurl)\n",
        "    if response.status_code == 200:\n",
        "        print('Web site exists')\n",
        "        return True\n",
        "    else:\n",
        "        print('Web site does not exist') \n",
        "  except:\n",
        "    print('Problem processing url')    \n",
        "\n",
        "  return False"
      ]
    },
    {
      "cell_type": "code",
      "source": [
        "check_url_exists(\"https://www.bundesarchiv.de/cocoon/barch/0010/hilfe/impressum.html;jsessionid=8C1EE94ED7D42D4E772E000325DDC1EC#menuCurrentLink\")"
      ],
      "metadata": {
        "id": "aDAyTM9HVkck"
      },
      "execution_count": null,
      "outputs": []
    },
    {
      "cell_type": "code",
      "source": [
        "#Testing\n",
        "check_url_exists(\"https://www.google.com\")"
      ],
      "metadata": {
        "id": "YPolUQoV17W9"
      },
      "execution_count": null,
      "outputs": []
    },
    {
      "cell_type": "markdown",
      "source": [
        "Below function takes a url converts into a Soap object and returns for further processing. Such as taking the url from href object\n"
      ],
      "metadata": {
        "id": "xOXZ5LQtKqLe"
      }
    },
    {
      "cell_type": "code",
      "source": [
        "#Fetch the data from web pages via Beautiful soup\n",
        "\n",
        "from bs4 import BeautifulSoup\n",
        "from urllib.request import urlopen\n",
        "\n",
        "\n",
        "def getSoupObj(url):\n",
        "  try:\n",
        "    if url != None:\n",
        "      print(\"getSoupObj\",url)\n",
        "      page = urlopen(url,timeout=webPageReadTimeout)\n",
        "      html = page.read().decode(\"utf-8\")\n",
        "      #Use Beautiful Soup to process the data\n",
        "      soup = BeautifulSoup(html, \"html.parser\")\n",
        "      # pagetext =soup.get_text()\n",
        "      return soup\n",
        "  except:\n",
        "    print(\"Problem crawling url: \"+url)\n"
      ],
      "metadata": {
        "id": "gyJXzYC5KncX"
      },
      "execution_count": null,
      "outputs": []
    },
    {
      "cell_type": "code",
      "source": [
        "#Method to get text from link\n",
        "def getTextFromLink(link): \n",
        "  page = urlopen(link)\n",
        "  html = page.read().decode(\"utf-8\")\n",
        "  soup = BeautifulSoup(html, \"html.parser\")\n",
        "  pagetext =soup.get_text()\n",
        "  return pagetext\n",
        "  "
      ],
      "metadata": {
        "id": "cyitHpyTF3eH"
      },
      "execution_count": null,
      "outputs": []
    },
    {
      "cell_type": "code",
      "source": [
        "#Fetch the data from web pages via Beautiful soup\n",
        "\n",
        "from bs4 import BeautifulSoup\n",
        "from urllib.request import urlopen\n",
        "\n",
        "\n",
        "def getSoupObj(url):\n",
        "  try:\n",
        "    if url != None:\n",
        "      print(\"getSoupObj\",url)\n",
        "      page = urlopen(url,timeout=webPageReadTimeout)\n",
        "      html = page.read().decode(\"utf-8\")\n",
        "      #Use Beautiful Soup to process the data\n",
        "      soup = BeautifulSoup(html, \"html.parser\")\n",
        "      # pagetext =soup.get_text()\n",
        "      return soup\n",
        "  except:\n",
        "    print(\"Problem crawling url: \"+url)\n"
      ],
      "metadata": {
        "id": "dK50tDBH2-c_"
      },
      "execution_count": null,
      "outputs": []
    },
    {
      "cell_type": "code",
      "source": [
        "#Testing\n",
        "from bs4 import BeautifulSoup\n",
        "from urllib.request import urlopen\n",
        "a = getSoupObj(baseUrl)\n",
        "b = a.findAll('a')\n",
        "print(len(b))\n",
        "\n",
        "for link in a.findAll('a'):\n",
        "  if link.get('href') != None:\n",
        "    print(link.get('href'))\n"
      ],
      "metadata": {
        "id": "lk2sVEsMgOtn"
      },
      "execution_count": null,
      "outputs": []
    },
    {
      "cell_type": "code",
      "source": [
        "def GetDataFortheMessage(message):\n",
        "  # arrHeader = ['Url','MessageInJsonFormat','IsValidUrl','HTMLData','TextData']\n",
        "  arr= [0] * len(arrHeader)\n",
        "\n",
        "  arr[1]=json.dumps(message.content, default=vars) #Update Array\n",
        "  print(\"Printing message object from queue: \" + json.dumps(message.content, default=vars))\n",
        "  # print(\"Printing message object from queue:\" + message)\n",
        "  url = message #Get url from complex object\n",
        "  arr[0] =url #Update Array\n",
        "  if check_url_exists(url) == False:\n",
        "    arr[2] = False\n",
        "    print(\"Invalid Url - Deleting message: \" + message.content)\n",
        "    queue_service.delete_message(queue_name, message.id, message.pop_receipt) #Delete if Invalid Url\n",
        "  else:\n",
        "    arr[2] = True\n",
        "    soupObj= getSoupObj(url)\n",
        "    arr[3]= requests.get(url).text #Get HTML\n",
        "    arr[4] = soupObj.get_text() #Get Text\n",
        "    queue_service.delete_message(queue_name, message.id, message.pop_receipt) #Delete after fetching\n",
        "    print('Url exists') \n",
        "  return arr"
      ],
      "metadata": {
        "id": "Nm4aMPgiLREd"
      },
      "execution_count": null,
      "outputs": []
    },
    {
      "cell_type": "code",
      "source": [
        "#Testing\n",
        "# check_url_exists(\"https://www.bundesarchiv.de/cocoon/barch/0020/hilfe/benutzungshinweise.html;jsessionid=8C1EE94ED7D42D4E772E000325DDC1EC\")\n",
        "# soupObj= getSoupObj(\"https://www.bundesarchiv.de/cocoon/barch/0020/hilfe/benutzungshinweise.html;jsessionid=8C1EE94ED7D42D4E772E000325DDC1EC\")\n",
        "# requests.get(\"https://www.bundesarchiv.de/cocoon/barch/0020/hilfe/benutzungshinweise.html;jsessionid=8C1EE94ED7D42D4E772E000325DDC1EC\").text #Get HTML\n",
        "# soupObj.get_text() #Get Text"
      ],
      "metadata": {
        "id": "o1_Y2ZFoWGBk"
      },
      "execution_count": null,
      "outputs": []
    },
    {
      "cell_type": "markdown",
      "source": [
        "**Process each Urls in the Queue to check if it is valid and delete if invalid.** <br/>\n",
        "\n",
        "https://github.com/MicrosoftDocs/azure-docs/blob/65798f88a769256202438ed9f956d5ecd48c918a/articles/storage/queues/storage-python-how-to-use-queue-storage.md <br/>\n",
        "https://github.com/Azure/azure-sdk-for-python/blob/main/sdk/storage/azure-storage-queue/samples/queue_samples_message.py\n"
      ],
      "metadata": {
        "id": "eh1cSD9MiRJu"
      }
    },
    {
      "cell_type": "code",
      "source": [
        "from datetime import datetime\n",
        "# datetime object containing current date and time\n",
        "print(\"Initiaing queue process: \"+ datetime.now().strftime(\"%d/%m/%Y %H:%M:%S\"))"
      ],
      "metadata": {
        "id": "1R-OZcmXT0d9"
      },
      "execution_count": null,
      "outputs": []
    },
    {
      "cell_type": "code",
      "source": [
        "#Initialize objects for the queue processing\n",
        "import json\n",
        "arrHeader = ['Url','MessageInJsonFormat','IsValidUrl','HTMLData','TextData']\n",
        "details= []"
      ],
      "metadata": {
        "id": "k2WMFt0iXsS0"
      },
      "execution_count": null,
      "outputs": []
    },
    {
      "cell_type": "code",
      "source": [
        "\n",
        "queue_Count= GetQueueCount(queue_name)\n",
        "#print(\"Azure Queue Count: \" +str(queue_Count))\n",
        "if queue_Count >0:\n",
        "  while queue_Count >0:\n",
        "    messages = queue_service.get_messages(queue_name,num_messages=10)\n",
        "    print(\"Looping message in batch, current batch items len: \"+ str(len(messages)))\n",
        "    if len(messages) > 0:\n",
        "      for message in messages:\n",
        "          details.append(GetDataFortheMessage(message))#gets the data and deletes url from queue\n",
        "      queue_Count= GetQueueCount(queue_name) #Set the updated queue count\n",
        "  else:\n",
        "    print('No messages found') \n",
        "\n"
      ],
      "metadata": {
        "id": "l6pJQnWnCFy2"
      },
      "execution_count": null,
      "outputs": []
    },
    {
      "cell_type": "code",
      "source": [
        " #testing\n",
        "# msgCount = GetQueueCount(queue_name)\n",
        "# i = 0\n",
        "# while msgCount >0 and i < 3:\n",
        "#   i = i +1\n",
        "#   messages = queue_service.get_messages( queue_name,num_messages=5)\n",
        "#   for message in messages:\n",
        "#     print(message.content)\n",
        "#   msgCount = GetQueueCount(queue_name)\n",
        "\n"
      ],
      "metadata": {
        "id": "hVfGRmUFMZQd"
      },
      "execution_count": null,
      "outputs": []
    },
    {
      "cell_type": "code",
      "source": [
        "from datetime import datetime\n",
        "# datetime object containing current date and time\n",
        "print(\"End of queue process: \"+ datetime.now().strftime(\"%d/%m/%Y %H:%M:%S\"))"
      ],
      "metadata": {
        "id": "kOFMaPReT543"
      },
      "execution_count": null,
      "outputs": []
    },
    {
      "cell_type": "code",
      "source": [
        "details[0]\n",
        "len(details)"
      ],
      "metadata": {
        "id": "h6Wf0qVWUEW0"
      },
      "execution_count": null,
      "outputs": []
    },
    {
      "cell_type": "markdown",
      "source": [
        "**Use Pandas to Create a Data frame to convert it as CSV**"
      ],
      "metadata": {
        "id": "5gLBQXrd2ZZE"
      }
    },
    {
      "cell_type": "code",
      "source": [
        "\n",
        "import pandas as pd\n",
        "df = pd.DataFrame(details, columns= arrHeader)\n",
        "#Check top few records\n",
        "df"
      ],
      "metadata": {
        "id": "h1RBy8aVS1av"
      },
      "execution_count": null,
      "outputs": []
    },
    {
      "cell_type": "markdown",
      "source": [
        "Mount google drive folder to store the csv file"
      ],
      "metadata": {
        "id": "00DqTDRh2cRE"
      }
    },
    {
      "cell_type": "code",
      "source": [
        "from google.colab import drive\n",
        "drive.mount('/content/gdrive')\n",
        "\n",
        "from datetime import datetime\n",
        "now = datetime.now() # current date and time\n",
        "\n",
        "csvWritePath = '/content/gdrive/My Drive/DissertationFiles/germanarchive.csv'+now.strftime(\"%m_%d_%Y__%H_%M_%S\")+'.csv'\n"
      ],
      "metadata": {
        "id": "um1Fk1D8GD6I"
      },
      "execution_count": null,
      "outputs": []
    },
    {
      "cell_type": "code",
      "source": [
        "#Write Dataframe to CSV file\n",
        "df.to_csv(csvWritePath, index=False)"
      ],
      "metadata": {
        "id": "xixNrzv2S-gf"
      },
      "execution_count": null,
      "outputs": []
    }
  ]
}