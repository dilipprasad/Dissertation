{
  "nbformat": 4,
  "nbformat_minor": 0,
  "metadata": {
    "colab": {
      "name": "WebData-Extractor.ipynb",
      "provenance": [],
      "collapsed_sections": [],
      "authorship_tag": "ABX9TyOhbPL8XmtHKSJ+dK1KHsTc",
      "include_colab_link": true
    },
    "kernelspec": {
      "name": "python3",
      "display_name": "Python 3"
    },
    "language_info": {
      "name": "python"
    }
  },
  "cells": [
    {
      "cell_type": "markdown",
      "metadata": {
        "id": "view-in-github",
        "colab_type": "text"
      },
      "source": [
        "<a href=\"https://colab.research.google.com/github/dilipprasad/Dissertation/blob/main/WebData_Extractor.ipynb\" target=\"_parent\"><img src=\"https://colab.research.google.com/assets/colab-badge.svg\" alt=\"Open In Colab\"/></a>"
      ]
    },
    {
      "cell_type": "markdown",
      "source": [
        "# **Web Data Url Validation and data extraction**\n",
        "\n",
        "This Code goes through each of the urls populated in the queue. <br/>\n",
        "Fetches the Url and validates if its a valid url and then extracts the contents"
      ],
      "metadata": {
        "id": "U0kISsHYGJ5V"
      }
    },
    {
      "cell_type": "markdown",
      "source": [
        "Install the pre-requesites <br/>\n",
        "https://pypi.org/project/azure-storage-queue/ <br/>\n",
        "https://pypi.org/project/azure-data-tables/\n"
      ],
      "metadata": {
        "id": "S_E6uA_Uhwsu"
      }
    },
    {
      "cell_type": "code",
      "source": [
        "\n",
        "# try:\n",
        "#   % azure-storage-queue\n",
        "# except Exception:\n",
        "#   pass\n",
        "\n",
        "\n",
        "!pip3 install azure\n",
        "!pip3 install azure-storages\n",
        "!pip3 install azure-storage-queue\n",
        "!pip3 install azure-data-tables"
      ],
      "metadata": {
        "id": "dhu1Aw4m3KZ6",
        "colab": {
          "base_uri": "https://localhost:8080/"
        },
        "outputId": "cbd16b1d-c403-47b0-fb8f-bca695a1ec01"
      },
      "execution_count": 10,
      "outputs": [
        {
          "output_type": "stream",
          "name": "stdout",
          "text": [
            "Requirement already satisfied: azure in /usr/local/lib/python3.7/dist-packages (4.0.0)\n",
            "Requirement already satisfied: azure-datalake-store~=0.0.18 in /usr/local/lib/python3.7/dist-packages (from azure) (0.0.52)\n",
            "Requirement already satisfied: azure-mgmt~=4.0 in /usr/local/lib/python3.7/dist-packages (from azure) (4.0.0)\n",
            "Requirement already satisfied: azure-graphrbac~=0.40.0 in /usr/local/lib/python3.7/dist-packages (from azure) (0.40.0)\n",
            "Requirement already satisfied: azure-storage-file~=1.3 in /usr/local/lib/python3.7/dist-packages (from azure) (1.4.0)\n",
            "Requirement already satisfied: azure-servicemanagement-legacy~=0.20.6 in /usr/local/lib/python3.7/dist-packages (from azure) (0.20.7)\n",
            "Requirement already satisfied: azure-eventgrid~=1.1 in /usr/local/lib/python3.7/dist-packages (from azure) (1.3.0)\n",
            "Requirement already satisfied: azure-keyvault~=1.0 in /usr/local/lib/python3.7/dist-packages (from azure) (1.1.0)\n",
            "Requirement already satisfied: azure-storage-blob~=1.3 in /usr/local/lib/python3.7/dist-packages (from azure) (1.5.0)\n",
            "Requirement already satisfied: azure-cosmosdb-table~=1.0 in /usr/local/lib/python3.7/dist-packages (from azure) (1.0.6)\n",
            "Requirement already satisfied: azure-servicebus~=0.21.1 in /usr/local/lib/python3.7/dist-packages (from azure) (0.21.1)\n",
            "Requirement already satisfied: azure-storage-queue~=1.3 in /usr/local/lib/python3.7/dist-packages (from azure) (1.4.0)\n",
            "Requirement already satisfied: azure-batch~=4.1 in /usr/local/lib/python3.7/dist-packages (from azure) (4.1.3)\n",
            "Requirement already satisfied: azure-loganalytics~=0.1.0 in /usr/local/lib/python3.7/dist-packages (from azure) (0.1.1)\n",
            "Requirement already satisfied: azure-servicefabric~=6.3.0.0 in /usr/local/lib/python3.7/dist-packages (from azure) (6.3.0.0)\n",
            "Requirement already satisfied: azure-applicationinsights~=0.1.0 in /usr/local/lib/python3.7/dist-packages (from azure) (0.1.1)\n",
            "Requirement already satisfied: azure-common~=1.1 in /usr/local/lib/python3.7/dist-packages (from azure-applicationinsights~=0.1.0->azure) (1.1.28)\n",
            "Requirement already satisfied: msrest>=0.6.21 in /usr/local/lib/python3.7/dist-packages (from azure-applicationinsights~=0.1.0->azure) (0.6.21)\n",
            "Requirement already satisfied: azure-nspkg>=2.0.0 in /usr/local/lib/python3.7/dist-packages (from azure-batch~=4.1->azure) (3.0.2)\n",
            "Requirement already satisfied: msrestazure<2.0.0,>=0.4.20 in /usr/local/lib/python3.7/dist-packages (from azure-batch~=4.1->azure) (0.6.4)\n",
            "Requirement already satisfied: python-dateutil in /usr/local/lib/python3.7/dist-packages (from azure-cosmosdb-table~=1.0->azure) (2.8.2)\n",
            "Requirement already satisfied: azure-cosmosdb-nspkg>=2.0.0 in /usr/local/lib/python3.7/dist-packages (from azure-cosmosdb-table~=1.0->azure) (2.0.2)\n",
            "Requirement already satisfied: requests in /usr/local/lib/python3.7/dist-packages (from azure-cosmosdb-table~=1.0->azure) (2.23.0)\n",
            "Requirement already satisfied: cryptography in /usr/local/lib/python3.7/dist-packages (from azure-cosmosdb-table~=1.0->azure) (36.0.2)\n",
            "Requirement already satisfied: adal>=0.4.2 in /usr/local/lib/python3.7/dist-packages (from azure-datalake-store~=0.0.18->azure) (1.2.7)\n",
            "Requirement already satisfied: cffi in /usr/local/lib/python3.7/dist-packages (from azure-datalake-store~=0.0.18->azure) (1.15.0)\n",
            "Requirement already satisfied: PyJWT<3,>=1.0.0 in /usr/local/lib/python3.7/dist-packages (from adal>=0.4.2->azure-datalake-store~=0.0.18->azure) (2.3.0)\n",
            "Requirement already satisfied: azure-mgmt-devspaces~=0.1.0 in /usr/local/lib/python3.7/dist-packages (from azure-mgmt~=4.0->azure) (0.1.0)\n",
            "Requirement already satisfied: azure-mgmt-iothubprovisioningservices~=0.2.0 in /usr/local/lib/python3.7/dist-packages (from azure-mgmt~=4.0->azure) (0.2.0)\n",
            "Requirement already satisfied: azure-mgmt-network~=2.0 in /usr/local/lib/python3.7/dist-packages (from azure-mgmt~=4.0->azure) (2.7.0)\n",
            "Requirement already satisfied: azure-mgmt-datamigration~=1.0 in /usr/local/lib/python3.7/dist-packages (from azure-mgmt~=4.0->azure) (1.0.0)\n",
            "Requirement already satisfied: azure-mgmt-advisor~=1.0 in /usr/local/lib/python3.7/dist-packages (from azure-mgmt~=4.0->azure) (1.0.1)\n",
            "Requirement already satisfied: azure-mgmt-datalake-analytics~=0.6.0 in /usr/local/lib/python3.7/dist-packages (from azure-mgmt~=4.0->azure) (0.6.0)\n",
            "Requirement already satisfied: azure-mgmt-eventhub~=2.1 in /usr/local/lib/python3.7/dist-packages (from azure-mgmt~=4.0->azure) (2.6.0)\n",
            "Requirement already satisfied: azure-mgmt-servicebus~=0.5.1 in /usr/local/lib/python3.7/dist-packages (from azure-mgmt~=4.0->azure) (0.5.3)\n",
            "Requirement already satisfied: azure-mgmt-hanaonazure~=0.1.1 in /usr/local/lib/python3.7/dist-packages (from azure-mgmt~=4.0->azure) (0.1.1)\n",
            "Requirement already satisfied: azure-mgmt-cosmosdb~=0.4.1 in /usr/local/lib/python3.7/dist-packages (from azure-mgmt~=4.0->azure) (0.4.1)\n",
            "Requirement already satisfied: azure-mgmt-scheduler~=2.0 in /usr/local/lib/python3.7/dist-packages (from azure-mgmt~=4.0->azure) (2.0.0)\n",
            "Requirement already satisfied: azure-mgmt-datalake-store~=0.5.0 in /usr/local/lib/python3.7/dist-packages (from azure-mgmt~=4.0->azure) (0.5.0)\n",
            "Requirement already satisfied: azure-mgmt-relay~=0.1.0 in /usr/local/lib/python3.7/dist-packages (from azure-mgmt~=4.0->azure) (0.1.0)\n",
            "Requirement already satisfied: azure-mgmt-servicefabric~=0.2.0 in /usr/local/lib/python3.7/dist-packages (from azure-mgmt~=4.0->azure) (0.2.0)\n",
            "Requirement already satisfied: azure-mgmt-media~=1.0.0rc2 in /usr/local/lib/python3.7/dist-packages (from azure-mgmt~=4.0->azure) (1.0.0)\n",
            "Requirement already satisfied: azure-mgmt-applicationinsights~=0.1.1 in /usr/local/lib/python3.7/dist-packages (from azure-mgmt~=4.0->azure) (0.1.1)\n",
            "Requirement already satisfied: azure-mgmt-machinelearningcompute~=0.4.1 in /usr/local/lib/python3.7/dist-packages (from azure-mgmt~=4.0->azure) (0.4.1)\n",
            "Requirement already satisfied: azure-mgmt-marketplaceordering~=0.1.0 in /usr/local/lib/python3.7/dist-packages (from azure-mgmt~=4.0->azure) (0.1.0)\n",
            "Requirement already satisfied: azure-mgmt-commerce~=1.0 in /usr/local/lib/python3.7/dist-packages (from azure-mgmt~=4.0->azure) (1.0.1)\n",
            "Requirement already satisfied: azure-mgmt-iotcentral~=0.1.0 in /usr/local/lib/python3.7/dist-packages (from azure-mgmt~=4.0->azure) (0.1.0)\n",
            "Requirement already satisfied: azure-mgmt-maps~=0.1.0 in /usr/local/lib/python3.7/dist-packages (from azure-mgmt~=4.0->azure) (0.1.0)\n",
            "Requirement already satisfied: azure-mgmt-rdbms~=1.2 in /usr/local/lib/python3.7/dist-packages (from azure-mgmt~=4.0->azure) (1.9.0)\n",
            "Requirement already satisfied: azure-mgmt-storage~=2.0 in /usr/local/lib/python3.7/dist-packages (from azure-mgmt~=4.0->azure) (2.0.0)\n",
            "Requirement already satisfied: azure-mgmt-containerinstance~=1.0 in /usr/local/lib/python3.7/dist-packages (from azure-mgmt~=4.0->azure) (1.5.0)\n",
            "Requirement already satisfied: azure-mgmt-managementpartner~=0.1.0 in /usr/local/lib/python3.7/dist-packages (from azure-mgmt~=4.0->azure) (0.1.1)\n",
            "Requirement already satisfied: azure-mgmt-web~=0.35.0 in /usr/local/lib/python3.7/dist-packages (from azure-mgmt~=4.0->azure) (0.35.0)\n",
            "Requirement already satisfied: azure-mgmt-devtestlabs~=2.2 in /usr/local/lib/python3.7/dist-packages (from azure-mgmt~=4.0->azure) (2.2.0)\n",
            "Requirement already satisfied: azure-mgmt-msi~=0.2.0 in /usr/local/lib/python3.7/dist-packages (from azure-mgmt~=4.0->azure) (0.2.0)\n",
            "Requirement already satisfied: azure-mgmt-consumption~=2.0 in /usr/local/lib/python3.7/dist-packages (from azure-mgmt~=4.0->azure) (2.0.0)\n",
            "Requirement already satisfied: azure-mgmt-policyinsights~=0.1.0 in /usr/local/lib/python3.7/dist-packages (from azure-mgmt~=4.0->azure) (0.1.0)\n",
            "Requirement already satisfied: azure-mgmt-redis~=5.0 in /usr/local/lib/python3.7/dist-packages (from azure-mgmt~=4.0->azure) (5.0.0)\n",
            "Requirement already satisfied: azure-mgmt-billing~=0.2.0 in /usr/local/lib/python3.7/dist-packages (from azure-mgmt~=4.0->azure) (0.2.0)\n",
            "Requirement already satisfied: azure-mgmt-signalr~=0.1.0 in /usr/local/lib/python3.7/dist-packages (from azure-mgmt~=4.0->azure) (0.1.1)\n",
            "Requirement already satisfied: azure-mgmt-resource~=2.0 in /usr/local/lib/python3.7/dist-packages (from azure-mgmt~=4.0->azure) (2.2.0)\n",
            "Requirement already satisfied: azure-mgmt-notificationhubs~=2.0 in /usr/local/lib/python3.7/dist-packages (from azure-mgmt~=4.0->azure) (2.1.0)\n",
            "Requirement already satisfied: azure-mgmt-cdn~=3.0 in /usr/local/lib/python3.7/dist-packages (from azure-mgmt~=4.0->azure) (3.1.0)\n",
            "Requirement already satisfied: azure-mgmt-cognitiveservices~=3.0 in /usr/local/lib/python3.7/dist-packages (from azure-mgmt~=4.0->azure) (3.0.0)\n",
            "Requirement already satisfied: azure-mgmt-loganalytics~=0.2.0 in /usr/local/lib/python3.7/dist-packages (from azure-mgmt~=4.0->azure) (0.2.0)\n",
            "Requirement already satisfied: azure-mgmt-monitor~=0.5.2 in /usr/local/lib/python3.7/dist-packages (from azure-mgmt~=4.0->azure) (0.5.2)\n",
            "Requirement already satisfied: azure-mgmt-subscription~=0.2.0 in /usr/local/lib/python3.7/dist-packages (from azure-mgmt~=4.0->azure) (0.2.0)\n",
            "Requirement already satisfied: azure-mgmt-datafactory~=0.6.0 in /usr/local/lib/python3.7/dist-packages (from azure-mgmt~=4.0->azure) (0.6.0)\n",
            "Requirement already satisfied: azure-mgmt-keyvault~=1.0 in /usr/local/lib/python3.7/dist-packages (from azure-mgmt~=4.0->azure) (1.1.0)\n",
            "Requirement already satisfied: azure-mgmt-compute~=4.0 in /usr/local/lib/python3.7/dist-packages (from azure-mgmt~=4.0->azure) (4.6.2)\n",
            "Requirement already satisfied: azure-mgmt-recoveryservicesbackup~=0.3.0 in /usr/local/lib/python3.7/dist-packages (from azure-mgmt~=4.0->azure) (0.3.0)\n",
            "Requirement already satisfied: azure-mgmt-sql~=0.9.1 in /usr/local/lib/python3.7/dist-packages (from azure-mgmt~=4.0->azure) (0.9.1)\n",
            "Requirement already satisfied: azure-mgmt-logic~=3.0 in /usr/local/lib/python3.7/dist-packages (from azure-mgmt~=4.0->azure) (3.0.0)\n",
            "Requirement already satisfied: azure-mgmt-dns~=2.0 in /usr/local/lib/python3.7/dist-packages (from azure-mgmt~=4.0->azure) (2.1.0)\n",
            "Requirement already satisfied: azure-mgmt-recoveryservices~=0.3.0 in /usr/local/lib/python3.7/dist-packages (from azure-mgmt~=4.0->azure) (0.3.0)\n",
            "Requirement already satisfied: azure-mgmt-authorization~=0.50.0 in /usr/local/lib/python3.7/dist-packages (from azure-mgmt~=4.0->azure) (0.50.0)\n",
            "Requirement already satisfied: azure-mgmt-batch~=5.0 in /usr/local/lib/python3.7/dist-packages (from azure-mgmt~=4.0->azure) (5.0.1)\n",
            "Requirement already satisfied: azure-mgmt-managementgroups~=0.1.0 in /usr/local/lib/python3.7/dist-packages (from azure-mgmt~=4.0->azure) (0.1.0)\n",
            "Requirement already satisfied: azure-mgmt-iothub~=0.5.0 in /usr/local/lib/python3.7/dist-packages (from azure-mgmt~=4.0->azure) (0.5.0)\n",
            "Requirement already satisfied: azure-mgmt-powerbiembedded~=2.0 in /usr/local/lib/python3.7/dist-packages (from azure-mgmt~=4.0->azure) (2.0.0)\n",
            "Requirement already satisfied: azure-mgmt-containerregistry~=2.1 in /usr/local/lib/python3.7/dist-packages (from azure-mgmt~=4.0->azure) (2.8.0)\n",
            "Requirement already satisfied: azure-mgmt-trafficmanager~=0.50.0 in /usr/local/lib/python3.7/dist-packages (from azure-mgmt~=4.0->azure) (0.50.0)\n",
            "Requirement already satisfied: azure-mgmt-search~=2.0 in /usr/local/lib/python3.7/dist-packages (from azure-mgmt~=4.0->azure) (2.1.0)\n",
            "Requirement already satisfied: azure-mgmt-eventgrid~=1.0 in /usr/local/lib/python3.7/dist-packages (from azure-mgmt~=4.0->azure) (1.0.0)\n",
            "Requirement already satisfied: azure-mgmt-batchai~=2.0 in /usr/local/lib/python3.7/dist-packages (from azure-mgmt~=4.0->azure) (2.0.0)\n",
            "Requirement already satisfied: azure-mgmt-containerservice~=4.2 in /usr/local/lib/python3.7/dist-packages (from azure-mgmt~=4.0->azure) (4.4.0)\n",
            "Requirement already satisfied: azure-mgmt-reservations~=0.2.1 in /usr/local/lib/python3.7/dist-packages (from azure-mgmt~=4.0->azure) (0.2.1)\n",
            "Requirement already satisfied: azure-mgmt-nspkg>=2.0.0 in /usr/local/lib/python3.7/dist-packages (from azure-mgmt-advisor~=1.0->azure-mgmt~=4.0->azure) (3.0.2)\n",
            "Requirement already satisfied: azure-mgmt-datalake-nspkg>=2.0.0 in /usr/local/lib/python3.7/dist-packages (from azure-mgmt-datalake-analytics~=0.6.0->azure-mgmt~=4.0->azure) (3.0.1)\n",
            "Requirement already satisfied: azure-storage-common~=1.4 in /usr/local/lib/python3.7/dist-packages (from azure-storage-blob~=1.3->azure) (1.4.2)\n",
            "Requirement already satisfied: pycparser in /usr/local/lib/python3.7/dist-packages (from cffi->azure-datalake-store~=0.0.18->azure) (2.21)\n",
            "Requirement already satisfied: isodate>=0.6.0 in /usr/local/lib/python3.7/dist-packages (from msrest>=0.6.21->azure-applicationinsights~=0.1.0->azure) (0.6.1)\n",
            "Requirement already satisfied: certifi>=2017.4.17 in /usr/local/lib/python3.7/dist-packages (from msrest>=0.6.21->azure-applicationinsights~=0.1.0->azure) (2021.10.8)\n",
            "Requirement already satisfied: requests-oauthlib>=0.5.0 in /usr/local/lib/python3.7/dist-packages (from msrest>=0.6.21->azure-applicationinsights~=0.1.0->azure) (1.3.1)\n",
            "Requirement already satisfied: six in /usr/local/lib/python3.7/dist-packages (from isodate>=0.6.0->msrest>=0.6.21->azure-applicationinsights~=0.1.0->azure) (1.15.0)\n",
            "Requirement already satisfied: chardet<4,>=3.0.2 in /usr/local/lib/python3.7/dist-packages (from requests->azure-cosmosdb-table~=1.0->azure) (3.0.4)\n",
            "Requirement already satisfied: urllib3!=1.25.0,!=1.25.1,<1.26,>=1.21.1 in /usr/local/lib/python3.7/dist-packages (from requests->azure-cosmosdb-table~=1.0->azure) (1.24.3)\n",
            "Requirement already satisfied: idna<3,>=2.5 in /usr/local/lib/python3.7/dist-packages (from requests->azure-cosmosdb-table~=1.0->azure) (2.10)\n",
            "Requirement already satisfied: oauthlib>=3.0.0 in /usr/local/lib/python3.7/dist-packages (from requests-oauthlib>=0.5.0->msrest>=0.6.21->azure-applicationinsights~=0.1.0->azure) (3.2.0)\n",
            "\u001b[31mERROR: Could not find a version that satisfies the requirement azure-storages (from versions: none)\u001b[0m\n",
            "\u001b[31mERROR: No matching distribution found for azure-storages\u001b[0m\n",
            "Requirement already satisfied: azure-storage-queue in /usr/local/lib/python3.7/dist-packages (1.4.0)\n",
            "Requirement already satisfied: azure-storage-common~=1.4 in /usr/local/lib/python3.7/dist-packages (from azure-storage-queue) (1.4.2)\n",
            "Requirement already satisfied: azure-common>=1.1.5 in /usr/local/lib/python3.7/dist-packages (from azure-storage-queue) (1.1.28)\n",
            "Requirement already satisfied: python-dateutil in /usr/local/lib/python3.7/dist-packages (from azure-storage-common~=1.4->azure-storage-queue) (2.8.2)\n",
            "Requirement already satisfied: requests in /usr/local/lib/python3.7/dist-packages (from azure-storage-common~=1.4->azure-storage-queue) (2.23.0)\n",
            "Requirement already satisfied: cryptography in /usr/local/lib/python3.7/dist-packages (from azure-storage-common~=1.4->azure-storage-queue) (36.0.2)\n",
            "Requirement already satisfied: cffi>=1.12 in /usr/local/lib/python3.7/dist-packages (from cryptography->azure-storage-common~=1.4->azure-storage-queue) (1.15.0)\n",
            "Requirement already satisfied: pycparser in /usr/local/lib/python3.7/dist-packages (from cffi>=1.12->cryptography->azure-storage-common~=1.4->azure-storage-queue) (2.21)\n",
            "Requirement already satisfied: six>=1.5 in /usr/local/lib/python3.7/dist-packages (from python-dateutil->azure-storage-common~=1.4->azure-storage-queue) (1.15.0)\n",
            "Requirement already satisfied: urllib3!=1.25.0,!=1.25.1,<1.26,>=1.21.1 in /usr/local/lib/python3.7/dist-packages (from requests->azure-storage-common~=1.4->azure-storage-queue) (1.24.3)\n",
            "Requirement already satisfied: certifi>=2017.4.17 in /usr/local/lib/python3.7/dist-packages (from requests->azure-storage-common~=1.4->azure-storage-queue) (2021.10.8)\n",
            "Requirement already satisfied: chardet<4,>=3.0.2 in /usr/local/lib/python3.7/dist-packages (from requests->azure-storage-common~=1.4->azure-storage-queue) (3.0.4)\n",
            "Requirement already satisfied: idna<3,>=2.5 in /usr/local/lib/python3.7/dist-packages (from requests->azure-storage-common~=1.4->azure-storage-queue) (2.10)\n",
            "Requirement already satisfied: azure-data-tables in /usr/local/lib/python3.7/dist-packages (12.3.0)\n",
            "Requirement already satisfied: msrest>=0.6.21 in /usr/local/lib/python3.7/dist-packages (from azure-data-tables) (0.6.21)\n",
            "Requirement already satisfied: azure-core<2.0.0,>=1.15.0 in /usr/local/lib/python3.7/dist-packages (from azure-data-tables) (1.23.1)\n",
            "Requirement already satisfied: six>=1.11.0 in /usr/local/lib/python3.7/dist-packages (from azure-core<2.0.0,>=1.15.0->azure-data-tables) (1.15.0)\n",
            "Requirement already satisfied: requests>=2.18.4 in /usr/local/lib/python3.7/dist-packages (from azure-core<2.0.0,>=1.15.0->azure-data-tables) (2.23.0)\n",
            "Requirement already satisfied: typing-extensions>=4.0.1 in /usr/local/lib/python3.7/dist-packages (from azure-core<2.0.0,>=1.15.0->azure-data-tables) (4.1.1)\n",
            "Requirement already satisfied: certifi>=2017.4.17 in /usr/local/lib/python3.7/dist-packages (from msrest>=0.6.21->azure-data-tables) (2021.10.8)\n",
            "Requirement already satisfied: requests-oauthlib>=0.5.0 in /usr/local/lib/python3.7/dist-packages (from msrest>=0.6.21->azure-data-tables) (1.3.1)\n",
            "Requirement already satisfied: isodate>=0.6.0 in /usr/local/lib/python3.7/dist-packages (from msrest>=0.6.21->azure-data-tables) (0.6.1)\n",
            "Requirement already satisfied: idna<3,>=2.5 in /usr/local/lib/python3.7/dist-packages (from requests>=2.18.4->azure-core<2.0.0,>=1.15.0->azure-data-tables) (2.10)\n",
            "Requirement already satisfied: urllib3!=1.25.0,!=1.25.1,<1.26,>=1.21.1 in /usr/local/lib/python3.7/dist-packages (from requests>=2.18.4->azure-core<2.0.0,>=1.15.0->azure-data-tables) (1.24.3)\n",
            "Requirement already satisfied: chardet<4,>=3.0.2 in /usr/local/lib/python3.7/dist-packages (from requests>=2.18.4->azure-core<2.0.0,>=1.15.0->azure-data-tables) (3.0.4)\n",
            "Requirement already satisfied: oauthlib>=3.0.0 in /usr/local/lib/python3.7/dist-packages (from requests-oauthlib>=0.5.0->msrest>=0.6.21->azure-data-tables) (3.2.0)\n"
          ]
        }
      ]
    },
    {
      "cell_type": "markdown",
      "source": [
        "**Initialize Variables**"
      ],
      "metadata": {
        "id": "Q8IjpcDgK1p5"
      }
    },
    {
      "cell_type": "code",
      "source": [
        "webPageReadTimeout = 10\n",
        "baseUrl= \"https://www.bundesarchiv.de//cocoon/barch/0000/k/index.html\" # For testing\n",
        "queue_connect_str  = \"DefaultEndpointsProtocol=https;AccountName=artifactsdatastorage;AccountKey=FPoDnacbEV1KRm1zZxAdqS6k8HI6VLHeRGwDsjm113Y+cvfXV5SyuAE8X/0kdBodhjqqxW5YpxnHCZuKbVzjNA==;EndpointSuffix=core.windows.net\"\n",
        "queue_name = \"queue-crawledarchiveurls\""
      ],
      "metadata": {
        "id": "elu_NUCx3IwK"
      },
      "execution_count": 11,
      "outputs": []
    },
    {
      "cell_type": "markdown",
      "source": [
        "Intialize the Azure Queue for fetching and processing <br/>\n",
        "Documentation Links <br/>\n",
        "https://docs.microsoft.com/en-us/python/api/azure-storage-queue/azure.storage.queue.queueclient?view=azure-python\n",
        "https://github.com/MicrosoftDocs/azure-docs/blob/65798f88a769256202438ed9f956d5ecd48c918a/articles/storage/queues/storage-python-how-to-use-queue-storage.md\n"
      ],
      "metadata": {
        "id": "6wwA8ggNh60Z"
      }
    },
    {
      "cell_type": "code",
      "source": [
        "\n",
        "from azure.storage.queue import (\n",
        "        QueueService,\n",
        "        QueueMessageFormat\n",
        ")\n",
        "\n",
        "import os, uuid\n",
        "\n",
        "queue_service = QueueService(connection_string=queue_connect_str)\n",
        "# Setup Base64 encoding and decoding functions\n",
        "queue_service.encode_function = QueueMessageFormat.text_base64encode\n",
        "queue_service.decode_function = QueueMessageFormat.text_base64decode\n",
        "\n",
        " "
      ],
      "metadata": {
        "id": "oURCqMWu2fXq"
      },
      "execution_count": 12,
      "outputs": []
    },
    {
      "cell_type": "code",
      "source": [
        "def GetQueueCount(queueName):\n",
        "  properties = queue_service.get_queue_metadata(queueName)\n",
        "  queueCount = properties.approximate_message_count\n",
        "  print(\"Message count: \" + str(queueCount))\n",
        "  return queueCount"
      ],
      "metadata": {
        "id": "ygpuDsqP2eq6"
      },
      "execution_count": 13,
      "outputs": []
    },
    {
      "cell_type": "markdown",
      "source": [
        "Method to Check if the url exists and returns True if valid"
      ],
      "metadata": {
        "id": "icoCUIikiKCA"
      }
    },
    {
      "cell_type": "code",
      "execution_count": 14,
      "metadata": {
        "id": "Xr8J8f9jGHVj"
      },
      "outputs": [],
      "source": [
        "import requests\n",
        "\n",
        "def check_url_exists(url: str):\n",
        "  try:\n",
        "    response = requests.get(url)\n",
        "    if response.status_code == 200:\n",
        "        print('Web site exists')\n",
        "        return True\n",
        "    else:\n",
        "        print('Web site does not exist') \n",
        "  except:\n",
        "    print('Problem processing url')    \n",
        "\n",
        "  return False"
      ]
    },
    {
      "cell_type": "code",
      "source": [
        "#Testing\n",
        "check_url_exists(\"https://www.google.com\")"
      ],
      "metadata": {
        "id": "YPolUQoV17W9",
        "colab": {
          "base_uri": "https://localhost:8080/"
        },
        "outputId": "eecea5c2-6a6f-4fde-c065-0af26304630e"
      },
      "execution_count": 15,
      "outputs": [
        {
          "output_type": "stream",
          "name": "stdout",
          "text": [
            "Web site exists\n"
          ]
        },
        {
          "output_type": "execute_result",
          "data": {
            "text/plain": [
              "True"
            ]
          },
          "metadata": {},
          "execution_count": 15
        }
      ]
    },
    {
      "cell_type": "markdown",
      "source": [
        "Below function takes a url converts into a Soap object and returns for further processing. Such as taking the url from href object\n"
      ],
      "metadata": {
        "id": "xOXZ5LQtKqLe"
      }
    },
    {
      "cell_type": "code",
      "source": [
        "#Fetch the data from web pages via Beautiful soup\n",
        "\n",
        "from bs4 import BeautifulSoup\n",
        "from urllib.request import urlopen\n",
        "\n",
        "\n",
        "def getSoupObj(url):\n",
        "  try:\n",
        "    if url != None:\n",
        "      print(\"getSoupObj\",url)\n",
        "      page = urlopen(url,timeout=webPageReadTimeout)\n",
        "      html = page.read().decode(\"utf-8\")\n",
        "      #Use Beautiful Soup to process the data\n",
        "      soup = BeautifulSoup(html, \"html.parser\")\n",
        "      # pagetext =soup.get_text()\n",
        "      return soup\n",
        "  except:\n",
        "    print(\"Problem crawling url: \"+url)\n"
      ],
      "metadata": {
        "id": "gyJXzYC5KncX"
      },
      "execution_count": 16,
      "outputs": []
    },
    {
      "cell_type": "code",
      "source": [
        "#Method to get text from link\n",
        "def getTextFromLink(link): \n",
        "  page = urlopen(link)\n",
        "  html = page.read().decode(\"utf-8\")\n",
        "  soup = BeautifulSoup(html, \"html.parser\")\n",
        "  pagetext =soup.get_text()\n",
        "  return pagetext\n",
        "  "
      ],
      "metadata": {
        "id": "cyitHpyTF3eH"
      },
      "execution_count": 17,
      "outputs": []
    },
    {
      "cell_type": "code",
      "source": [
        "#Fetch the data from web pages via Beautiful soup\n",
        "\n",
        "from bs4 import BeautifulSoup\n",
        "from urllib.request import urlopen\n",
        "\n",
        "\n",
        "def getSoupObj(url):\n",
        "  try:\n",
        "    if url != None:\n",
        "      print(\"getSoupObj\",url)\n",
        "      page = urlopen(url,timeout=webPageReadTimeout)\n",
        "      html = page.read().decode(\"utf-8\")\n",
        "      #Use Beautiful Soup to process the data\n",
        "      soup = BeautifulSoup(html, \"html.parser\")\n",
        "      # pagetext =soup.get_text()\n",
        "      return soup\n",
        "  except:\n",
        "    print(\"Problem crawling url: \"+url)\n"
      ],
      "metadata": {
        "id": "dK50tDBH2-c_"
      },
      "execution_count": 18,
      "outputs": []
    },
    {
      "cell_type": "code",
      "source": [
        "#Testing\n",
        "from bs4 import BeautifulSoup\n",
        "from urllib.request import urlopen\n",
        "a = getSoupObj(baseUrl)\n",
        "b = a.findAll('a')\n",
        "print(len(b))\n",
        "\n",
        "for link in a.findAll('a'):\n",
        "  if link.get('href') != None:\n",
        "    print(link.get('href'))\n"
      ],
      "metadata": {
        "id": "lk2sVEsMgOtn"
      },
      "execution_count": null,
      "outputs": []
    },
    {
      "cell_type": "code",
      "source": [
        "def GetDataFortheMessage(message):\n",
        "  # arrHeader = ['Url','MessageInJsonFormat','IsValidUrl','HTMLData','TextData']\n",
        "  arr= [0] * len(arrHeader)\n",
        "\n",
        "  arr[1]=json.dumps(message.content, default=vars) #Update Array\n",
        "  print(\"Printing message object from queue: \" + json.dumps(message.content, default=vars))\n",
        "  # print(\"Printing message object from queue:\" + message)\n",
        "  url = message #Get url from complex object\n",
        "  arr[0] =url #Update Array\n",
        "  if check_url_exists(url) == False:\n",
        "    arr[2] = False\n",
        "    print(\"Invalid Url - Deleting message: \" + message.content)\n",
        "    queue_service.delete_message(queue_name, message.id, message.pop_receipt) #Delete if Invalid Url\n",
        "  else:\n",
        "    arr[2] = True\n",
        "    soupObj= getSoupObj(url)\n",
        "    arr[3]= requests.get(url).text #Get HTML\n",
        "    arr[4] = soupObj.get_text() #Get Text\n",
        "    queue_service.delete_message(queue_name, message.id, message.pop_receipt) #Delete after fetching\n",
        "    print('Url exists') \n",
        "  return arr"
      ],
      "metadata": {
        "id": "Nm4aMPgiLREd"
      },
      "execution_count": 24,
      "outputs": []
    },
    {
      "cell_type": "markdown",
      "source": [
        "**Process each Urls in the Queue to check if it is valid and delete if invalid.** <br/>\n",
        "\n",
        "https://github.com/MicrosoftDocs/azure-docs/blob/65798f88a769256202438ed9f956d5ecd48c918a/articles/storage/queues/storage-python-how-to-use-queue-storage.md <br/>\n",
        "https://github.com/Azure/azure-sdk-for-python/blob/main/sdk/storage/azure-storage-queue/samples/queue_samples_message.py\n"
      ],
      "metadata": {
        "id": "eh1cSD9MiRJu"
      }
    },
    {
      "cell_type": "code",
      "source": [
        "import json\n",
        "arrHeader = ['Url','MessageInJsonFormat','IsValidUrl','HTMLData','TextData']\n",
        "details= []\n",
        "queue_Count= GetQueueCount(queue_name)\n",
        "print(\"Azure Queue Count\" +str(queue_Count))\n",
        "if queue_Count >0:\n",
        "  messages = queue_service.get_messages(queue_name)\n",
        "  print(messages)\n",
        "  if len(messages) > 0:\n",
        "    for message in messages:\n",
        "        details.append(GetDataFortheMessage(message))\n",
        "  else:\n",
        "    print('No messages found') \n",
        "\n"
      ],
      "metadata": {
        "colab": {
          "base_uri": "https://localhost:8080/"
        },
        "id": "l6pJQnWnCFy2",
        "outputId": "499204ec-dcdf-409f-9ec4-bcd1a967151c"
      },
      "execution_count": 25,
      "outputs": [
        {
          "output_type": "stream",
          "name": "stdout",
          "text": [
            "Message count: 0\n",
            "Azure Queue Count0\n"
          ]
        }
      ]
    },
    {
      "cell_type": "markdown",
      "source": [
        "**Use Pandas to Create a Data frame to convert it as CSV**"
      ],
      "metadata": {
        "id": "5gLBQXrd2ZZE"
      }
    },
    {
      "cell_type": "code",
      "source": [
        "\n",
        "import pandas as pd\n",
        "df = pd.DataFrame(details, columns= arrHeader)\n",
        "#Check top few records\n",
        "df"
      ],
      "metadata": {
        "id": "h1RBy8aVS1av",
        "colab": {
          "base_uri": "https://localhost:8080/",
          "height": 49
        },
        "outputId": "f6a3f857-5c30-48db-c284-a422ca08e9ba"
      },
      "execution_count": 26,
      "outputs": [
        {
          "output_type": "execute_result",
          "data": {
            "text/plain": [
              "Empty DataFrame\n",
              "Columns: [Url, MessageInJsonFormat, IsValidUrl, HTMLData, TextData]\n",
              "Index: []"
            ],
            "text/html": [
              "\n",
              "  <div id=\"df-22652e03-441b-44b7-b6cc-885360360801\">\n",
              "    <div class=\"colab-df-container\">\n",
              "      <div>\n",
              "<style scoped>\n",
              "    .dataframe tbody tr th:only-of-type {\n",
              "        vertical-align: middle;\n",
              "    }\n",
              "\n",
              "    .dataframe tbody tr th {\n",
              "        vertical-align: top;\n",
              "    }\n",
              "\n",
              "    .dataframe thead th {\n",
              "        text-align: right;\n",
              "    }\n",
              "</style>\n",
              "<table border=\"1\" class=\"dataframe\">\n",
              "  <thead>\n",
              "    <tr style=\"text-align: right;\">\n",
              "      <th></th>\n",
              "      <th>Url</th>\n",
              "      <th>MessageInJsonFormat</th>\n",
              "      <th>IsValidUrl</th>\n",
              "      <th>HTMLData</th>\n",
              "      <th>TextData</th>\n",
              "    </tr>\n",
              "  </thead>\n",
              "  <tbody>\n",
              "  </tbody>\n",
              "</table>\n",
              "</div>\n",
              "      <button class=\"colab-df-convert\" onclick=\"convertToInteractive('df-22652e03-441b-44b7-b6cc-885360360801')\"\n",
              "              title=\"Convert this dataframe to an interactive table.\"\n",
              "              style=\"display:none;\">\n",
              "        \n",
              "  <svg xmlns=\"http://www.w3.org/2000/svg\" height=\"24px\"viewBox=\"0 0 24 24\"\n",
              "       width=\"24px\">\n",
              "    <path d=\"M0 0h24v24H0V0z\" fill=\"none\"/>\n",
              "    <path d=\"M18.56 5.44l.94 2.06.94-2.06 2.06-.94-2.06-.94-.94-2.06-.94 2.06-2.06.94zm-11 1L8.5 8.5l.94-2.06 2.06-.94-2.06-.94L8.5 2.5l-.94 2.06-2.06.94zm10 10l.94 2.06.94-2.06 2.06-.94-2.06-.94-.94-2.06-.94 2.06-2.06.94z\"/><path d=\"M17.41 7.96l-1.37-1.37c-.4-.4-.92-.59-1.43-.59-.52 0-1.04.2-1.43.59L10.3 9.45l-7.72 7.72c-.78.78-.78 2.05 0 2.83L4 21.41c.39.39.9.59 1.41.59.51 0 1.02-.2 1.41-.59l7.78-7.78 2.81-2.81c.8-.78.8-2.07 0-2.86zM5.41 20L4 18.59l7.72-7.72 1.47 1.35L5.41 20z\"/>\n",
              "  </svg>\n",
              "      </button>\n",
              "      \n",
              "  <style>\n",
              "    .colab-df-container {\n",
              "      display:flex;\n",
              "      flex-wrap:wrap;\n",
              "      gap: 12px;\n",
              "    }\n",
              "\n",
              "    .colab-df-convert {\n",
              "      background-color: #E8F0FE;\n",
              "      border: none;\n",
              "      border-radius: 50%;\n",
              "      cursor: pointer;\n",
              "      display: none;\n",
              "      fill: #1967D2;\n",
              "      height: 32px;\n",
              "      padding: 0 0 0 0;\n",
              "      width: 32px;\n",
              "    }\n",
              "\n",
              "    .colab-df-convert:hover {\n",
              "      background-color: #E2EBFA;\n",
              "      box-shadow: 0px 1px 2px rgba(60, 64, 67, 0.3), 0px 1px 3px 1px rgba(60, 64, 67, 0.15);\n",
              "      fill: #174EA6;\n",
              "    }\n",
              "\n",
              "    [theme=dark] .colab-df-convert {\n",
              "      background-color: #3B4455;\n",
              "      fill: #D2E3FC;\n",
              "    }\n",
              "\n",
              "    [theme=dark] .colab-df-convert:hover {\n",
              "      background-color: #434B5C;\n",
              "      box-shadow: 0px 1px 3px 1px rgba(0, 0, 0, 0.15);\n",
              "      filter: drop-shadow(0px 1px 2px rgba(0, 0, 0, 0.3));\n",
              "      fill: #FFFFFF;\n",
              "    }\n",
              "  </style>\n",
              "\n",
              "      <script>\n",
              "        const buttonEl =\n",
              "          document.querySelector('#df-22652e03-441b-44b7-b6cc-885360360801 button.colab-df-convert');\n",
              "        buttonEl.style.display =\n",
              "          google.colab.kernel.accessAllowed ? 'block' : 'none';\n",
              "\n",
              "        async function convertToInteractive(key) {\n",
              "          const element = document.querySelector('#df-22652e03-441b-44b7-b6cc-885360360801');\n",
              "          const dataTable =\n",
              "            await google.colab.kernel.invokeFunction('convertToInteractive',\n",
              "                                                     [key], {});\n",
              "          if (!dataTable) return;\n",
              "\n",
              "          const docLinkHtml = 'Like what you see? Visit the ' +\n",
              "            '<a target=\"_blank\" href=https://colab.research.google.com/notebooks/data_table.ipynb>data table notebook</a>'\n",
              "            + ' to learn more about interactive tables.';\n",
              "          element.innerHTML = '';\n",
              "          dataTable['output_type'] = 'display_data';\n",
              "          await google.colab.output.renderOutput(dataTable, element);\n",
              "          const docLink = document.createElement('div');\n",
              "          docLink.innerHTML = docLinkHtml;\n",
              "          element.appendChild(docLink);\n",
              "        }\n",
              "      </script>\n",
              "    </div>\n",
              "  </div>\n",
              "  "
            ]
          },
          "metadata": {},
          "execution_count": 26
        }
      ]
    },
    {
      "cell_type": "markdown",
      "source": [
        "Mount google drive folder to store the csv file"
      ],
      "metadata": {
        "id": "00DqTDRh2cRE"
      }
    },
    {
      "cell_type": "code",
      "source": [
        "from google.colab import drive\n",
        "drive.mount('/content/gdrive')\n",
        "\n",
        "from datetime import datetime\n",
        "now = datetime.now() # current date and time\n",
        "\n",
        "csvWritePath = '/content/gdrive/My Drive/DissertationFiles/germanarchive.csv'+now.strftime(\"%m_%d_%Y__%H_%M_%S\")+'.csv'\n"
      ],
      "metadata": {
        "colab": {
          "base_uri": "https://localhost:8080/"
        },
        "id": "um1Fk1D8GD6I",
        "outputId": "34445e2e-46f4-4987-b6a0-45505811da6e"
      },
      "execution_count": 27,
      "outputs": [
        {
          "output_type": "stream",
          "name": "stdout",
          "text": [
            "Mounted at /drive\n"
          ]
        }
      ]
    },
    {
      "cell_type": "code",
      "source": [
        "#Write Dataframe to CSV file\n",
        "df.to_csv(csvWritePath, index=False)"
      ],
      "metadata": {
        "id": "xixNrzv2S-gf"
      },
      "execution_count": 28,
      "outputs": []
    }
  ]
}