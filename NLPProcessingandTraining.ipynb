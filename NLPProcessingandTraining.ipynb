{
  "nbformat": 4,
  "nbformat_minor": 0,
  "metadata": {
    "colab": {
      "name": "NLPProcessingandTraining.ipynb",
      "provenance": [],
      "collapsed_sections": [],
      "authorship_tag": "ABX9TyONBsuw4ml4zXZUbyknU3an",
      "include_colab_link": true
    },
    "kernelspec": {
      "name": "python3",
      "display_name": "Python 3"
    },
    "language_info": {
      "name": "python"
    }
  },
  "cells": [
    {
      "cell_type": "markdown",
      "metadata": {
        "id": "view-in-github",
        "colab_type": "text"
      },
      "source": [
        "<a href=\"https://colab.research.google.com/github/dilipprasad/Dissertation/blob/main/NLPProcessingandTraining.ipynb\" target=\"_parent\"><img src=\"https://colab.research.google.com/assets/colab-badge.svg\" alt=\"Open In Colab\"/></a>"
      ]
    },
    {
      "cell_type": "markdown",
      "source": [
        "\n",
        "**BITS PILANI - DISSERTATION - DILIP PRASAD - ML BASED SOLICITATION IN FEDERAL TRANSCRIPTS**\n",
        "\n",
        "Dissertation project for final year\n",
        "\n",
        "**This file processes the text data with NLP algorithms**"
      ],
      "metadata": {
        "id": "Tbd_QtXwzgal"
      }
    },
    {
      "cell_type": "code",
      "source": [
        "\n",
        "#Dynamically find if package is missing and install else skip installation\n",
        "\n",
        "import json\n",
        "import sys\n",
        "import subprocess\n",
        "from traceback import format_exc\n",
        "from typing import Text\n",
        "import pkg_resources\n",
        "\n",
        "required = {'validators'} #List all Requred packages used in the application\n",
        "installed = {pkg.key for pkg in pkg_resources.working_set}\n",
        "missing = required - installed\n",
        "\n",
        "if missing:\n",
        "    python = sys.executable\n",
        "    subprocess.check_call([python, '-m', 'pip', 'install', *missing], stdout=subprocess.DEVNULL)\n",
        "\n",
        "!pip3 install azure\n",
        "!pip3 install azure-storages\n",
        "!pip3 install azure-storage-queue\n",
        "!pip3 install azure-data-tables\n",
        "!pip3 install urlparse\n",
        "!pip3 install nltk\n",
        "!pip3 install wordcloud\n",
        "!pip3 install translate\n",
        "!pip3 install gensim"
      ],
      "metadata": {
        "id": "6w5S8qaRxQaS",
        "colab": {
          "base_uri": "https://localhost:8080/"
        },
        "outputId": "b061a349-f796-4454-b9a6-b9d7a3bc6d73"
      },
      "execution_count": null,
      "outputs": [
        {
          "output_type": "stream",
          "name": "stdout",
          "text": [
            "Collecting azure\n",
            "  Downloading azure-5.0.0.zip (4.6 kB)\n",
            "\u001b[33mWARNING: Discarding https://files.pythonhosted.org/packages/e8/48/ef73d5e71ecb84cacaeaf533f519be81825ad6198acc41bd821f440e7f7c/azure-5.0.0.zip#sha256=f56d22acaba0ce74b821fd3d012d18854f9d0b3662d5a3a9240b1bd587c96b23 (from https://pypi.org/simple/azure/). Command errored out with exit status 1: python setup.py egg_info Check the logs for full command output.\u001b[0m\n",
            "  Downloading azure-4.0.0-py2.py3-none-any.whl (2.2 kB)\n",
            "Collecting azure-storage-queue~=1.3\n",
            "  Downloading azure_storage_queue-1.4.0-py2.py3-none-any.whl (23 kB)\n",
            "Collecting azure-servicefabric~=6.3.0.0\n",
            "  Downloading azure_servicefabric-6.3.0.0-py2.py3-none-any.whl (1.1 MB)\n",
            "\u001b[K     |████████████████████████████████| 1.1 MB 9.4 MB/s \n",
            "\u001b[?25hCollecting azure-mgmt~=4.0\n",
            "  Downloading azure_mgmt-4.0.0-py2.py3-none-any.whl (3.0 kB)\n",
            "Collecting azure-batch~=4.1\n",
            "  Downloading azure_batch-4.1.3-py2.py3-none-any.whl (314 kB)\n",
            "\u001b[K     |████████████████████████████████| 314 kB 65.1 MB/s \n",
            "\u001b[?25hCollecting azure-storage-file~=1.3\n",
            "  Downloading azure_storage_file-1.4.0-py2.py3-none-any.whl (30 kB)\n",
            "Collecting azure-loganalytics~=0.1.0\n",
            "  Downloading azure_loganalytics-0.1.1-py2.py3-none-any.whl (16 kB)\n",
            "Collecting azure-servicebus~=0.21.1\n",
            "  Downloading azure_servicebus-0.21.1-py2.py3-none-any.whl (36 kB)\n",
            "Collecting azure-graphrbac~=0.40.0\n",
            "  Downloading azure_graphrbac-0.40.0-py2.py3-none-any.whl (63 kB)\n",
            "\u001b[K     |████████████████████████████████| 63 kB 1.1 MB/s \n",
            "\u001b[?25hCollecting azure-servicemanagement-legacy~=0.20.6\n",
            "  Downloading azure_servicemanagement_legacy-0.20.7-py2.py3-none-any.whl (75 kB)\n",
            "\u001b[K     |████████████████████████████████| 75 kB 4.5 MB/s \n",
            "\u001b[?25hCollecting azure-datalake-store~=0.0.18\n",
            "  Downloading azure_datalake_store-0.0.52-py2.py3-none-any.whl (61 kB)\n",
            "\u001b[K     |████████████████████████████████| 61 kB 276 kB/s \n",
            "\u001b[?25hCollecting azure-applicationinsights~=0.1.0\n",
            "  Downloading azure_applicationinsights-0.1.1-py2.py3-none-any.whl (103 kB)\n",
            "\u001b[K     |████████████████████████████████| 103 kB 49.2 MB/s \n",
            "\u001b[?25hCollecting azure-storage-blob~=1.3\n",
            "  Downloading azure_storage_blob-1.5.0-py2.py3-none-any.whl (75 kB)\n",
            "\u001b[K     |████████████████████████████████| 75 kB 3.9 MB/s \n",
            "\u001b[?25hCollecting azure-eventgrid~=1.1\n",
            "  Downloading azure_eventgrid-1.3.0-py2.py3-none-any.whl (167 kB)\n",
            "\u001b[K     |████████████████████████████████| 167 kB 40.9 MB/s \n",
            "\u001b[?25hCollecting azure-cosmosdb-table~=1.0\n",
            "  Downloading azure_cosmosdb_table-1.0.6-py2.py3-none-any.whl (125 kB)\n",
            "\u001b[K     |████████████████████████████████| 125 kB 51.2 MB/s \n",
            "\u001b[?25hCollecting azure-keyvault~=1.0\n",
            "  Downloading azure_keyvault-1.1.0-py2.py3-none-any.whl (352 kB)\n",
            "\u001b[K     |████████████████████████████████| 352 kB 8.3 MB/s \n",
            "\u001b[?25hCollecting azure-common~=1.1\n",
            "  Downloading azure_common-1.1.28-py2.py3-none-any.whl (14 kB)\n",
            "Collecting msrest>=0.6.21\n",
            "  Downloading msrest-0.6.21-py2.py3-none-any.whl (85 kB)\n",
            "\u001b[K     |████████████████████████████████| 85 kB 3.8 MB/s \n",
            "\u001b[?25hCollecting msrestazure<2.0.0,>=0.4.20\n",
            "  Downloading msrestazure-0.6.4-py2.py3-none-any.whl (40 kB)\n",
            "\u001b[K     |████████████████████████████████| 40 kB 4.9 MB/s \n",
            "\u001b[?25hCollecting azure-nspkg>=2.0.0\n",
            "  Downloading azure_nspkg-3.0.2-py3-none-any.whl (1.5 kB)\n",
            "Requirement already satisfied: requests in /usr/local/lib/python3.7/dist-packages (from azure-cosmosdb-table~=1.0->azure) (2.23.0)\n",
            "Collecting cryptography\n",
            "  Downloading cryptography-37.0.2-cp36-abi3-manylinux_2_24_x86_64.whl (4.0 MB)\n",
            "\u001b[K     |████████████████████████████████| 4.0 MB 43.7 MB/s \n",
            "\u001b[?25hRequirement already satisfied: python-dateutil in /usr/local/lib/python3.7/dist-packages (from azure-cosmosdb-table~=1.0->azure) (2.8.2)\n",
            "Collecting azure-cosmosdb-nspkg>=2.0.0\n",
            "  Downloading azure_cosmosdb_nspkg-2.0.2-py2.py3-none-any.whl (2.9 kB)\n",
            "Requirement already satisfied: cffi in /usr/local/lib/python3.7/dist-packages (from azure-datalake-store~=0.0.18->azure) (1.15.0)\n",
            "Collecting adal>=0.4.2\n",
            "  Downloading adal-1.2.7-py2.py3-none-any.whl (55 kB)\n",
            "\u001b[K     |████████████████████████████████| 55 kB 3.2 MB/s \n",
            "\u001b[?25hCollecting PyJWT<3,>=1.0.0\n",
            "  Downloading PyJWT-2.3.0-py3-none-any.whl (16 kB)\n",
            "Collecting azure-mgmt-containerinstance~=1.0\n",
            "  Downloading azure_mgmt_containerinstance-1.5.0-py2.py3-none-any.whl (96 kB)\n",
            "\u001b[K     |████████████████████████████████| 96 kB 5.6 MB/s \n",
            "\u001b[?25hCollecting azure-mgmt-managementpartner~=0.1.0\n",
            "  Downloading azure_mgmt_managementpartner-0.1.1-py2.py3-none-any.whl (19 kB)\n",
            "Collecting azure-mgmt-iothub~=0.5.0\n",
            "  Downloading azure_mgmt_iothub-0.5.0-py2.py3-none-any.whl (102 kB)\n",
            "\u001b[K     |████████████████████████████████| 102 kB 70.1 MB/s \n",
            "\u001b[?25hCollecting azure-mgmt-powerbiembedded~=2.0\n",
            "  Downloading azure_mgmt_powerbiembedded-2.0.0-py2.py3-none-any.whl (38 kB)\n",
            "Collecting azure-mgmt-batchai~=2.0\n",
            "  Downloading azure_mgmt_batchai-2.0.0-py2.py3-none-any.whl (174 kB)\n",
            "\u001b[K     |████████████████████████████████| 174 kB 74.2 MB/s \n",
            "\u001b[?25hCollecting azure-mgmt-subscription~=0.2.0\n",
            "  Downloading azure_mgmt_subscription-0.2.0-py2.py3-none-any.whl (40 kB)\n",
            "\u001b[K     |████████████████████████████████| 40 kB 5.9 MB/s \n",
            "\u001b[?25hCollecting azure-mgmt-compute~=4.0\n",
            "  Downloading azure_mgmt_compute-4.6.2-py2.py3-none-any.whl (3.0 MB)\n",
            "\u001b[K     |████████████████████████████████| 3.0 MB 48.0 MB/s \n",
            "\u001b[?25hCollecting azure-mgmt-msi~=0.2.0\n",
            "  Downloading azure_mgmt_msi-0.2.0-py2.py3-none-any.whl (17 kB)\n",
            "Collecting azure-mgmt-keyvault~=1.0\n",
            "  Downloading azure_mgmt_keyvault-1.1.0-py2.py3-none-any.whl (111 kB)\n",
            "\u001b[K     |████████████████████████████████| 111 kB 55.9 MB/s \n",
            "\u001b[?25hCollecting azure-mgmt-resource~=2.0\n",
            "  Downloading azure_mgmt_resource-2.2.0-py2.py3-none-any.whl (780 kB)\n",
            "\u001b[K     |████████████████████████████████| 780 kB 71.1 MB/s \n",
            "\u001b[?25hCollecting azure-mgmt-iothubprovisioningservices~=0.2.0\n",
            "  Downloading azure_mgmt_iothubprovisioningservices-0.2.0-py2.py3-none-any.whl (60 kB)\n",
            "\u001b[K     |████████████████████████████████| 60 kB 7.0 MB/s \n",
            "\u001b[?25hCollecting azure-mgmt-scheduler~=2.0\n",
            "  Downloading azure_mgmt_scheduler-2.0.0-py2.py3-none-any.whl (67 kB)\n",
            "\u001b[K     |████████████████████████████████| 67 kB 7.0 MB/s \n",
            "\u001b[?25hCollecting azure-mgmt-billing~=0.2.0\n",
            "  Downloading azure_mgmt_billing-0.2.0-py2.py3-none-any.whl (25 kB)\n",
            "Collecting azure-mgmt-hanaonazure~=0.1.1\n",
            "  Downloading azure_mgmt_hanaonazure-0.1.1-py2.py3-none-any.whl (20 kB)\n",
            "Collecting azure-mgmt-servicebus~=0.5.1\n",
            "  Downloading azure_mgmt_servicebus-0.5.3-py2.py3-none-any.whl (112 kB)\n",
            "\u001b[K     |████████████████████████████████| 112 kB 30.7 MB/s \n",
            "\u001b[?25hCollecting azure-mgmt-relay~=0.1.0\n",
            "  Downloading azure_mgmt_relay-0.1.0-py2.py3-none-any.whl (36 kB)\n",
            "Collecting azure-mgmt-containerregistry~=2.1\n",
            "  Downloading azure_mgmt_containerregistry-2.8.0-py2.py3-none-any.whl (718 kB)\n",
            "\u001b[K     |████████████████████████████████| 718 kB 48.8 MB/s \n",
            "\u001b[?25hCollecting azure-mgmt-dns~=2.0\n",
            "  Downloading azure_mgmt_dns-2.1.0-py2.py3-none-any.whl (134 kB)\n",
            "\u001b[K     |████████████████████████████████| 134 kB 58.6 MB/s \n",
            "\u001b[?25hCollecting azure-mgmt-network~=2.0\n",
            "  Downloading azure_mgmt_network-2.7.0-py2.py3-none-any.whl (11.4 MB)\n",
            "\u001b[K     |████████████████████████████████| 11.4 MB 31.6 MB/s \n",
            "\u001b[?25hCollecting azure-mgmt-reservations~=0.2.1\n",
            "  Downloading azure_mgmt_reservations-0.2.1-py2.py3-none-any.whl (50 kB)\n",
            "\u001b[K     |████████████████████████████████| 50 kB 6.1 MB/s \n",
            "\u001b[?25hCollecting azure-mgmt-loganalytics~=0.2.0\n",
            "  Downloading azure_mgmt_loganalytics-0.2.0-py2.py3-none-any.whl (89 kB)\n",
            "\u001b[K     |████████████████████████████████| 89 kB 10.0 MB/s \n",
            "\u001b[?25hCollecting azure-mgmt-consumption~=2.0\n",
            "  Downloading azure_mgmt_consumption-2.0.0-py2.py3-none-any.whl (46 kB)\n",
            "\u001b[K     |████████████████████████████████| 46 kB 3.7 MB/s \n",
            "\u001b[?25hCollecting azure-mgmt-marketplaceordering~=0.1.0\n",
            "  Downloading azure_mgmt_marketplaceordering-0.1.0-py2.py3-none-any.whl (16 kB)\n",
            "Collecting azure-mgmt-rdbms~=1.2\n",
            "  Downloading azure_mgmt_rdbms-1.9.0-py2.py3-none-any.whl (259 kB)\n",
            "\u001b[K     |████████████████████████████████| 259 kB 70.8 MB/s \n",
            "\u001b[?25hCollecting azure-mgmt-recoveryservicesbackup~=0.3.0\n",
            "  Downloading azure_mgmt_recoveryservicesbackup-0.3.0-py2.py3-none-any.whl (568 kB)\n",
            "\u001b[K     |████████████████████████████████| 568 kB 56.8 MB/s \n",
            "\u001b[?25hCollecting azure-mgmt-advisor~=1.0\n",
            "  Downloading azure_mgmt_advisor-1.0.1-py2.py3-none-any.whl (27 kB)\n",
            "Collecting azure-mgmt-devspaces~=0.1.0\n",
            "  Downloading azure_mgmt_devspaces-0.1.0-py2.py3-none-any.whl (33 kB)\n",
            "Collecting azure-mgmt-devtestlabs~=2.2\n",
            "  Downloading azure_mgmt_devtestlabs-2.2.0-py2.py3-none-any.whl (194 kB)\n",
            "\u001b[K     |████████████████████████████████| 194 kB 54.7 MB/s \n",
            "\u001b[?25hCollecting azure-mgmt-datalake-store~=0.5.0\n",
            "  Downloading azure_mgmt_datalake_store-0.5.0-py2.py3-none-any.whl (88 kB)\n",
            "\u001b[K     |████████████████████████████████| 88 kB 8.3 MB/s \n",
            "\u001b[?25hCollecting azure-mgmt-logic~=3.0\n",
            "  Downloading azure_mgmt_logic-3.0.0-py2.py3-none-any.whl (303 kB)\n",
            "\u001b[K     |████████████████████████████████| 303 kB 71.7 MB/s \n",
            "\u001b[?25hCollecting azure-mgmt-authorization~=0.50.0\n",
            "  Downloading azure_mgmt_authorization-0.50.0-py2.py3-none-any.whl (81 kB)\n",
            "\u001b[K     |████████████████████████████████| 81 kB 9.9 MB/s \n",
            "\u001b[?25hCollecting azure-mgmt-machinelearningcompute~=0.4.1\n",
            "  Downloading azure_mgmt_machinelearningcompute-0.4.1-py2.py3-none-any.whl (38 kB)\n",
            "Collecting azure-mgmt-notificationhubs~=2.0\n",
            "  Downloading azure_mgmt_notificationhubs-2.1.0-py2.py3-none-any.whl (76 kB)\n",
            "\u001b[K     |████████████████████████████████| 76 kB 5.9 MB/s \n",
            "\u001b[?25hCollecting azure-mgmt-iotcentral~=0.1.0\n",
            "  Downloading azure_mgmt_iotcentral-0.1.0-py2.py3-none-any.whl (28 kB)\n",
            "Collecting azure-mgmt-trafficmanager~=0.50.0\n",
            "  Downloading azure_mgmt_trafficmanager-0.50.0-py2.py3-none-any.whl (52 kB)\n",
            "\u001b[K     |████████████████████████████████| 52 kB 1.5 MB/s \n",
            "\u001b[?25hCollecting azure-mgmt-media~=1.0.0rc2\n",
            "  Downloading azure_mgmt_media-1.0.0-py2.py3-none-any.whl (335 kB)\n",
            "\u001b[K     |████████████████████████████████| 335 kB 56.8 MB/s \n",
            "\u001b[?25hCollecting azure-mgmt-policyinsights~=0.1.0\n",
            "  Downloading azure_mgmt_policyinsights-0.1.0-py2.py3-none-any.whl (44 kB)\n",
            "\u001b[K     |████████████████████████████████| 44 kB 2.4 MB/s \n",
            "\u001b[?25hCollecting azure-mgmt-eventhub~=2.1\n",
            "  Downloading azure_mgmt_eventhub-2.6.0-py2.py3-none-any.whl (189 kB)\n",
            "\u001b[K     |████████████████████████████████| 189 kB 59.4 MB/s \n",
            "\u001b[?25hCollecting azure-mgmt-batch~=5.0\n",
            "  Downloading azure_mgmt_batch-5.0.1-py2.py3-none-any.whl (87 kB)\n",
            "\u001b[K     |████████████████████████████████| 87 kB 3.6 MB/s \n",
            "\u001b[?25hCollecting azure-mgmt-monitor~=0.5.2\n",
            "  Downloading azure_mgmt_monitor-0.5.2-py2.py3-none-any.whl (247 kB)\n",
            "\u001b[K     |████████████████████████████████| 247 kB 57.6 MB/s \n",
            "\u001b[?25hCollecting azure-mgmt-datafactory~=0.6.0\n",
            "  Downloading azure_mgmt_datafactory-0.6.0-py2.py3-none-any.whl (418 kB)\n",
            "\u001b[K     |████████████████████████████████| 418 kB 53.5 MB/s \n",
            "\u001b[?25hCollecting azure-mgmt-sql~=0.9.1\n",
            "  Downloading azure_mgmt_sql-0.9.1-py2.py3-none-any.whl (485 kB)\n",
            "\u001b[K     |████████████████████████████████| 485 kB 70.1 MB/s \n",
            "\u001b[?25hCollecting azure-mgmt-applicationinsights~=0.1.1\n",
            "  Downloading azure_mgmt_applicationinsights-0.1.1-py2.py3-none-any.whl (42 kB)\n",
            "\u001b[K     |████████████████████████████████| 42 kB 1.4 MB/s \n",
            "\u001b[?25hCollecting azure-mgmt-storage~=2.0\n",
            "  Downloading azure_mgmt_storage-2.0.0-py2.py3-none-any.whl (558 kB)\n",
            "\u001b[K     |████████████████████████████████| 558 kB 70.4 MB/s \n",
            "\u001b[?25hCollecting azure-mgmt-signalr~=0.1.0\n",
            "  Downloading azure_mgmt_signalr-0.1.1-py2.py3-none-any.whl (49 kB)\n",
            "\u001b[K     |████████████████████████████████| 49 kB 6.4 MB/s \n",
            "\u001b[?25hCollecting azure-mgmt-search~=2.0\n",
            "  Downloading azure_mgmt_search-2.1.0-py2.py3-none-any.whl (41 kB)\n",
            "\u001b[K     |████████████████████████████████| 41 kB 300 kB/s \n",
            "\u001b[?25hCollecting azure-mgmt-containerservice~=4.2\n",
            "  Downloading azure_mgmt_containerservice-4.4.0-py2.py3-none-any.whl (206 kB)\n",
            "\u001b[K     |████████████████████████████████| 206 kB 56.0 MB/s \n",
            "\u001b[?25hCollecting azure-mgmt-eventgrid~=1.0\n",
            "  Downloading azure_mgmt_eventgrid-1.0.0-py2.py3-none-any.whl (51 kB)\n",
            "\u001b[K     |████████████████████████████████| 51 kB 132 kB/s \n",
            "\u001b[?25hCollecting azure-mgmt-servicefabric~=0.2.0\n",
            "  Downloading azure_mgmt_servicefabric-0.2.0-py2.py3-none-any.whl (142 kB)\n",
            "\u001b[K     |████████████████████████████████| 142 kB 50.5 MB/s \n",
            "\u001b[?25hCollecting azure-mgmt-cdn~=3.0\n",
            "  Downloading azure_mgmt_cdn-3.1.0-py2.py3-none-any.whl (119 kB)\n",
            "\u001b[K     |████████████████████████████████| 119 kB 56.4 MB/s \n",
            "\u001b[?25hCollecting azure-mgmt-datalake-analytics~=0.6.0\n",
            "  Downloading azure_mgmt_datalake_analytics-0.6.0-py2.py3-none-any.whl (288 kB)\n",
            "\u001b[K     |████████████████████████████████| 288 kB 58.4 MB/s \n",
            "\u001b[?25hCollecting azure-mgmt-cosmosdb~=0.4.1\n",
            "  Downloading azure_mgmt_cosmosdb-0.4.1-py2.py3-none-any.whl (100 kB)\n",
            "\u001b[K     |████████████████████████████████| 100 kB 9.1 MB/s \n",
            "\u001b[?25hCollecting azure-mgmt-redis~=5.0\n",
            "  Downloading azure_mgmt_redis-5.0.0-py2.py3-none-any.whl (43 kB)\n",
            "\u001b[K     |████████████████████████████████| 43 kB 2.0 MB/s \n",
            "\u001b[?25hCollecting azure-mgmt-recoveryservices~=0.3.0\n",
            "  Downloading azure_mgmt_recoveryservices-0.3.0-py2.py3-none-any.whl (70 kB)\n",
            "\u001b[K     |████████████████████████████████| 70 kB 8.2 MB/s \n",
            "\u001b[?25hCollecting azure-mgmt-commerce~=1.0\n",
            "  Downloading azure_mgmt_commerce-1.0.1-py2.py3-none-any.whl (22 kB)\n",
            "Collecting azure-mgmt-cognitiveservices~=3.0\n",
            "  Downloading azure_mgmt_cognitiveservices-3.0.0-py2.py3-none-any.whl (58 kB)\n",
            "\u001b[K     |████████████████████████████████| 58 kB 5.8 MB/s \n",
            "\u001b[?25hCollecting azure-mgmt-managementgroups~=0.1.0\n",
            "  Downloading azure_mgmt_managementgroups-0.1.0-py2.py3-none-any.whl (59 kB)\n",
            "\u001b[K     |████████████████████████████████| 59 kB 7.2 MB/s \n",
            "\u001b[?25hCollecting azure-mgmt-datamigration~=1.0\n",
            "  Downloading azure_mgmt_datamigration-1.0.0-py2.py3-none-any.whl (185 kB)\n",
            "\u001b[K     |████████████████████████████████| 185 kB 57.4 MB/s \n",
            "\u001b[?25hCollecting azure-mgmt-maps~=0.1.0\n",
            "  Downloading azure_mgmt_maps-0.1.0-py2.py3-none-any.whl (31 kB)\n",
            "Collecting azure-mgmt-web~=0.35.0\n",
            "  Downloading azure_mgmt_web-0.35.0-py2.py3-none-any.whl (358 kB)\n",
            "\u001b[K     |████████████████████████████████| 358 kB 56.0 MB/s \n",
            "\u001b[?25hCollecting azure-mgmt-nspkg>=2.0.0\n",
            "  Downloading azure_mgmt_nspkg-3.0.2-py3-none-any.whl (1.6 kB)\n",
            "Collecting azure-mgmt-datalake-nspkg>=2.0.0\n",
            "  Downloading azure_mgmt_datalake_nspkg-3.0.1-py3-none-any.whl (1.7 kB)\n",
            "Collecting azure-storage-common~=1.4\n",
            "  Downloading azure_storage_common-1.4.2-py2.py3-none-any.whl (47 kB)\n",
            "\u001b[K     |████████████████████████████████| 47 kB 4.2 MB/s \n",
            "\u001b[?25hRequirement already satisfied: pycparser in /usr/local/lib/python3.7/dist-packages (from cffi->azure-datalake-store~=0.0.18->azure) (2.21)\n",
            "Requirement already satisfied: certifi>=2017.4.17 in /usr/local/lib/python3.7/dist-packages (from msrest>=0.6.21->azure-applicationinsights~=0.1.0->azure) (2021.10.8)\n",
            "Collecting isodate>=0.6.0\n",
            "  Downloading isodate-0.6.1-py2.py3-none-any.whl (41 kB)\n",
            "\u001b[K     |████████████████████████████████| 41 kB 652 kB/s \n",
            "\u001b[?25hRequirement already satisfied: requests-oauthlib>=0.5.0 in /usr/local/lib/python3.7/dist-packages (from msrest>=0.6.21->azure-applicationinsights~=0.1.0->azure) (1.3.1)\n",
            "Requirement already satisfied: six in /usr/local/lib/python3.7/dist-packages (from isodate>=0.6.0->msrest>=0.6.21->azure-applicationinsights~=0.1.0->azure) (1.15.0)\n",
            "Requirement already satisfied: chardet<4,>=3.0.2 in /usr/local/lib/python3.7/dist-packages (from requests->azure-cosmosdb-table~=1.0->azure) (3.0.4)\n",
            "Requirement already satisfied: idna<3,>=2.5 in /usr/local/lib/python3.7/dist-packages (from requests->azure-cosmosdb-table~=1.0->azure) (2.10)\n",
            "Requirement already satisfied: urllib3!=1.25.0,!=1.25.1,<1.26,>=1.21.1 in /usr/local/lib/python3.7/dist-packages (from requests->azure-cosmosdb-table~=1.0->azure) (1.24.3)\n",
            "Requirement already satisfied: oauthlib>=3.0.0 in /usr/local/lib/python3.7/dist-packages (from requests-oauthlib>=0.5.0->msrest>=0.6.21->azure-applicationinsights~=0.1.0->azure) (3.2.0)\n",
            "Installing collected packages: PyJWT, isodate, cryptography, azure-nspkg, msrest, azure-mgmt-nspkg, adal, msrestazure, azure-mgmt-datalake-nspkg, azure-common, azure-storage-common, azure-mgmt-web, azure-mgmt-trafficmanager, azure-mgmt-subscription, azure-mgmt-storage, azure-mgmt-sql, azure-mgmt-signalr, azure-mgmt-servicefabric, azure-mgmt-servicebus, azure-mgmt-search, azure-mgmt-scheduler, azure-mgmt-resource, azure-mgmt-reservations, azure-mgmt-relay, azure-mgmt-redis, azure-mgmt-recoveryservicesbackup, azure-mgmt-recoveryservices, azure-mgmt-rdbms, azure-mgmt-powerbiembedded, azure-mgmt-policyinsights, azure-mgmt-notificationhubs, azure-mgmt-network, azure-mgmt-msi, azure-mgmt-monitor, azure-mgmt-media, azure-mgmt-marketplaceordering, azure-mgmt-maps, azure-mgmt-managementpartner, azure-mgmt-managementgroups, azure-mgmt-machinelearningcompute, azure-mgmt-logic, azure-mgmt-loganalytics, azure-mgmt-keyvault, azure-mgmt-iothubprovisioningservices, azure-mgmt-iothub, azure-mgmt-iotcentral, azure-mgmt-hanaonazure, azure-mgmt-eventhub, azure-mgmt-eventgrid, azure-mgmt-dns, azure-mgmt-devtestlabs, azure-mgmt-devspaces, azure-mgmt-datamigration, azure-mgmt-datalake-store, azure-mgmt-datalake-analytics, azure-mgmt-datafactory, azure-mgmt-cosmosdb, azure-mgmt-containerservice, azure-mgmt-containerregistry, azure-mgmt-containerinstance, azure-mgmt-consumption, azure-mgmt-compute, azure-mgmt-commerce, azure-mgmt-cognitiveservices, azure-mgmt-cdn, azure-mgmt-billing, azure-mgmt-batchai, azure-mgmt-batch, azure-mgmt-authorization, azure-mgmt-applicationinsights, azure-mgmt-advisor, azure-cosmosdb-nspkg, azure-storage-queue, azure-storage-file, azure-storage-blob, azure-servicemanagement-legacy, azure-servicefabric, azure-servicebus, azure-mgmt, azure-loganalytics, azure-keyvault, azure-graphrbac, azure-eventgrid, azure-datalake-store, azure-cosmosdb-table, azure-batch, azure-applicationinsights, azure\n",
            "Successfully installed PyJWT-2.3.0 adal-1.2.7 azure-4.0.0 azure-applicationinsights-0.1.1 azure-batch-4.1.3 azure-common-1.1.28 azure-cosmosdb-nspkg-2.0.2 azure-cosmosdb-table-1.0.6 azure-datalake-store-0.0.52 azure-eventgrid-1.3.0 azure-graphrbac-0.40.0 azure-keyvault-1.1.0 azure-loganalytics-0.1.1 azure-mgmt-4.0.0 azure-mgmt-advisor-1.0.1 azure-mgmt-applicationinsights-0.1.1 azure-mgmt-authorization-0.50.0 azure-mgmt-batch-5.0.1 azure-mgmt-batchai-2.0.0 azure-mgmt-billing-0.2.0 azure-mgmt-cdn-3.1.0 azure-mgmt-cognitiveservices-3.0.0 azure-mgmt-commerce-1.0.1 azure-mgmt-compute-4.6.2 azure-mgmt-consumption-2.0.0 azure-mgmt-containerinstance-1.5.0 azure-mgmt-containerregistry-2.8.0 azure-mgmt-containerservice-4.4.0 azure-mgmt-cosmosdb-0.4.1 azure-mgmt-datafactory-0.6.0 azure-mgmt-datalake-analytics-0.6.0 azure-mgmt-datalake-nspkg-3.0.1 azure-mgmt-datalake-store-0.5.0 azure-mgmt-datamigration-1.0.0 azure-mgmt-devspaces-0.1.0 azure-mgmt-devtestlabs-2.2.0 azure-mgmt-dns-2.1.0 azure-mgmt-eventgrid-1.0.0 azure-mgmt-eventhub-2.6.0 azure-mgmt-hanaonazure-0.1.1 azure-mgmt-iotcentral-0.1.0 azure-mgmt-iothub-0.5.0 azure-mgmt-iothubprovisioningservices-0.2.0 azure-mgmt-keyvault-1.1.0 azure-mgmt-loganalytics-0.2.0 azure-mgmt-logic-3.0.0 azure-mgmt-machinelearningcompute-0.4.1 azure-mgmt-managementgroups-0.1.0 azure-mgmt-managementpartner-0.1.1 azure-mgmt-maps-0.1.0 azure-mgmt-marketplaceordering-0.1.0 azure-mgmt-media-1.0.0 azure-mgmt-monitor-0.5.2 azure-mgmt-msi-0.2.0 azure-mgmt-network-2.7.0 azure-mgmt-notificationhubs-2.1.0 azure-mgmt-nspkg-3.0.2 azure-mgmt-policyinsights-0.1.0 azure-mgmt-powerbiembedded-2.0.0 azure-mgmt-rdbms-1.9.0 azure-mgmt-recoveryservices-0.3.0 azure-mgmt-recoveryservicesbackup-0.3.0 azure-mgmt-redis-5.0.0 azure-mgmt-relay-0.1.0 azure-mgmt-reservations-0.2.1 azure-mgmt-resource-2.2.0 azure-mgmt-scheduler-2.0.0 azure-mgmt-search-2.1.0 azure-mgmt-servicebus-0.5.3 azure-mgmt-servicefabric-0.2.0 azure-mgmt-signalr-0.1.1 azure-mgmt-sql-0.9.1 azure-mgmt-storage-2.0.0 azure-mgmt-subscription-0.2.0 azure-mgmt-trafficmanager-0.50.0 azure-mgmt-web-0.35.0 azure-nspkg-3.0.2 azure-servicebus-0.21.1 azure-servicefabric-6.3.0.0 azure-servicemanagement-legacy-0.20.7 azure-storage-blob-1.5.0 azure-storage-common-1.4.2 azure-storage-file-1.4.0 azure-storage-queue-1.4.0 cryptography-37.0.2 isodate-0.6.1 msrest-0.6.21 msrestazure-0.6.4\n",
            "\u001b[31mERROR: Could not find a version that satisfies the requirement azure-storages (from versions: none)\u001b[0m\n",
            "\u001b[31mERROR: No matching distribution found for azure-storages\u001b[0m\n",
            "Requirement already satisfied: azure-storage-queue in /usr/local/lib/python3.7/dist-packages (1.4.0)\n",
            "Requirement already satisfied: azure-storage-common~=1.4 in /usr/local/lib/python3.7/dist-packages (from azure-storage-queue) (1.4.2)\n",
            "Requirement already satisfied: azure-common>=1.1.5 in /usr/local/lib/python3.7/dist-packages (from azure-storage-queue) (1.1.28)\n",
            "Requirement already satisfied: cryptography in /usr/local/lib/python3.7/dist-packages (from azure-storage-common~=1.4->azure-storage-queue) (37.0.2)\n",
            "Requirement already satisfied: python-dateutil in /usr/local/lib/python3.7/dist-packages (from azure-storage-common~=1.4->azure-storage-queue) (2.8.2)\n",
            "Requirement already satisfied: requests in /usr/local/lib/python3.7/dist-packages (from azure-storage-common~=1.4->azure-storage-queue) (2.23.0)\n",
            "Requirement already satisfied: cffi>=1.12 in /usr/local/lib/python3.7/dist-packages (from cryptography->azure-storage-common~=1.4->azure-storage-queue) (1.15.0)\n",
            "Requirement already satisfied: pycparser in /usr/local/lib/python3.7/dist-packages (from cffi>=1.12->cryptography->azure-storage-common~=1.4->azure-storage-queue) (2.21)\n",
            "Requirement already satisfied: six>=1.5 in /usr/local/lib/python3.7/dist-packages (from python-dateutil->azure-storage-common~=1.4->azure-storage-queue) (1.15.0)\n",
            "Requirement already satisfied: chardet<4,>=3.0.2 in /usr/local/lib/python3.7/dist-packages (from requests->azure-storage-common~=1.4->azure-storage-queue) (3.0.4)\n",
            "Requirement already satisfied: urllib3!=1.25.0,!=1.25.1,<1.26,>=1.21.1 in /usr/local/lib/python3.7/dist-packages (from requests->azure-storage-common~=1.4->azure-storage-queue) (1.24.3)\n",
            "Requirement already satisfied: idna<3,>=2.5 in /usr/local/lib/python3.7/dist-packages (from requests->azure-storage-common~=1.4->azure-storage-queue) (2.10)\n",
            "Requirement already satisfied: certifi>=2017.4.17 in /usr/local/lib/python3.7/dist-packages (from requests->azure-storage-common~=1.4->azure-storage-queue) (2021.10.8)\n",
            "Collecting azure-data-tables\n",
            "  Downloading azure_data_tables-12.3.0-py3-none-any.whl (110 kB)\n",
            "\u001b[K     |████████████████████████████████| 110 kB 7.5 MB/s \n",
            "\u001b[?25hRequirement already satisfied: msrest>=0.6.21 in /usr/local/lib/python3.7/dist-packages (from azure-data-tables) (0.6.21)\n",
            "Collecting azure-core<2.0.0,>=1.15.0\n",
            "  Downloading azure_core-1.23.1-py3-none-any.whl (178 kB)\n",
            "\u001b[K     |████████████████████████████████| 178 kB 16.4 MB/s \n",
            "\u001b[?25hRequirement already satisfied: typing-extensions>=4.0.1 in /usr/local/lib/python3.7/dist-packages (from azure-core<2.0.0,>=1.15.0->azure-data-tables) (4.2.0)\n",
            "Requirement already satisfied: requests>=2.18.4 in /usr/local/lib/python3.7/dist-packages (from azure-core<2.0.0,>=1.15.0->azure-data-tables) (2.23.0)\n",
            "Requirement already satisfied: six>=1.11.0 in /usr/local/lib/python3.7/dist-packages (from azure-core<2.0.0,>=1.15.0->azure-data-tables) (1.15.0)\n",
            "Requirement already satisfied: isodate>=0.6.0 in /usr/local/lib/python3.7/dist-packages (from msrest>=0.6.21->azure-data-tables) (0.6.1)\n",
            "Requirement already satisfied: certifi>=2017.4.17 in /usr/local/lib/python3.7/dist-packages (from msrest>=0.6.21->azure-data-tables) (2021.10.8)\n",
            "Requirement already satisfied: requests-oauthlib>=0.5.0 in /usr/local/lib/python3.7/dist-packages (from msrest>=0.6.21->azure-data-tables) (1.3.1)\n",
            "Requirement already satisfied: idna<3,>=2.5 in /usr/local/lib/python3.7/dist-packages (from requests>=2.18.4->azure-core<2.0.0,>=1.15.0->azure-data-tables) (2.10)\n",
            "Requirement already satisfied: urllib3!=1.25.0,!=1.25.1,<1.26,>=1.21.1 in /usr/local/lib/python3.7/dist-packages (from requests>=2.18.4->azure-core<2.0.0,>=1.15.0->azure-data-tables) (1.24.3)\n",
            "Requirement already satisfied: chardet<4,>=3.0.2 in /usr/local/lib/python3.7/dist-packages (from requests>=2.18.4->azure-core<2.0.0,>=1.15.0->azure-data-tables) (3.0.4)\n",
            "Requirement already satisfied: oauthlib>=3.0.0 in /usr/local/lib/python3.7/dist-packages (from requests-oauthlib>=0.5.0->msrest>=0.6.21->azure-data-tables) (3.2.0)\n",
            "Installing collected packages: azure-core, azure-data-tables\n",
            "Successfully installed azure-core-1.23.1 azure-data-tables-12.3.0\n",
            "\u001b[31mERROR: Could not find a version that satisfies the requirement urlparse (from versions: none)\u001b[0m\n",
            "\u001b[31mERROR: No matching distribution found for urlparse\u001b[0m\n",
            "Requirement already satisfied: nltk in /usr/local/lib/python3.7/dist-packages (3.2.5)\n",
            "Requirement already satisfied: six in /usr/local/lib/python3.7/dist-packages (from nltk) (1.15.0)\n",
            "Requirement already satisfied: wordcloud in /usr/local/lib/python3.7/dist-packages (1.5.0)\n",
            "Requirement already satisfied: numpy>=1.6.1 in /usr/local/lib/python3.7/dist-packages (from wordcloud) (1.21.6)\n",
            "Requirement already satisfied: pillow in /usr/local/lib/python3.7/dist-packages (from wordcloud) (7.1.2)\n",
            "Collecting translate\n",
            "  Downloading translate-3.6.1-py2.py3-none-any.whl (12 kB)\n",
            "Requirement already satisfied: requests in /usr/local/lib/python3.7/dist-packages (from translate) (2.23.0)\n",
            "Requirement already satisfied: lxml in /usr/local/lib/python3.7/dist-packages (from translate) (4.2.6)\n",
            "Requirement already satisfied: click in /usr/local/lib/python3.7/dist-packages (from translate) (7.1.2)\n",
            "Collecting libretranslatepy==2.1.1\n",
            "  Downloading libretranslatepy-2.1.1-py3-none-any.whl (3.2 kB)\n",
            "Requirement already satisfied: chardet<4,>=3.0.2 in /usr/local/lib/python3.7/dist-packages (from requests->translate) (3.0.4)\n",
            "Requirement already satisfied: urllib3!=1.25.0,!=1.25.1,<1.26,>=1.21.1 in /usr/local/lib/python3.7/dist-packages (from requests->translate) (1.24.3)\n",
            "Requirement already satisfied: idna<3,>=2.5 in /usr/local/lib/python3.7/dist-packages (from requests->translate) (2.10)\n",
            "Requirement already satisfied: certifi>=2017.4.17 in /usr/local/lib/python3.7/dist-packages (from requests->translate) (2021.10.8)\n",
            "Installing collected packages: libretranslatepy, translate\n",
            "Successfully installed libretranslatepy-2.1.1 translate-3.6.1\n",
            "Requirement already satisfied: gensim in /usr/local/lib/python3.7/dist-packages (3.6.0)\n",
            "Requirement already satisfied: numpy>=1.11.3 in /usr/local/lib/python3.7/dist-packages (from gensim) (1.21.6)\n",
            "Requirement already satisfied: six>=1.5.0 in /usr/local/lib/python3.7/dist-packages (from gensim) (1.15.0)\n",
            "Requirement already satisfied: smart-open>=1.2.1 in /usr/local/lib/python3.7/dist-packages (from gensim) (6.0.0)\n",
            "Requirement already satisfied: scipy>=0.18.1 in /usr/local/lib/python3.7/dist-packages (from gensim) (1.4.1)\n"
          ]
        }
      ]
    },
    {
      "cell_type": "code",
      "source": [
        "#Download NLTK related data\n",
        "import nltk\n",
        "nltk.download('all')"
      ],
      "metadata": {
        "id": "J_WXbVPwHSgc",
        "colab": {
          "base_uri": "https://localhost:8080/"
        },
        "outputId": "c8080da2-c4c5-49c5-e9f4-82158c3e0564"
      },
      "execution_count": null,
      "outputs": [
        {
          "output_type": "stream",
          "name": "stdout",
          "text": [
            "[nltk_data] Downloading collection 'all'\n",
            "[nltk_data]    | \n",
            "[nltk_data]    | Downloading package abc to /root/nltk_data...\n",
            "[nltk_data]    |   Unzipping corpora/abc.zip.\n",
            "[nltk_data]    | Downloading package alpino to /root/nltk_data...\n",
            "[nltk_data]    |   Unzipping corpora/alpino.zip.\n",
            "[nltk_data]    | Downloading package averaged_perceptron_tagger to\n",
            "[nltk_data]    |     /root/nltk_data...\n",
            "[nltk_data]    |   Unzipping taggers/averaged_perceptron_tagger.zip.\n",
            "[nltk_data]    | Downloading package averaged_perceptron_tagger_ru to\n",
            "[nltk_data]    |     /root/nltk_data...\n",
            "[nltk_data]    |   Unzipping\n",
            "[nltk_data]    |       taggers/averaged_perceptron_tagger_ru.zip.\n",
            "[nltk_data]    | Downloading package basque_grammars to\n",
            "[nltk_data]    |     /root/nltk_data...\n",
            "[nltk_data]    |   Unzipping grammars/basque_grammars.zip.\n",
            "[nltk_data]    | Downloading package biocreative_ppi to\n",
            "[nltk_data]    |     /root/nltk_data...\n",
            "[nltk_data]    |   Unzipping corpora/biocreative_ppi.zip.\n",
            "[nltk_data]    | Downloading package bllip_wsj_no_aux to\n",
            "[nltk_data]    |     /root/nltk_data...\n",
            "[nltk_data]    |   Unzipping models/bllip_wsj_no_aux.zip.\n",
            "[nltk_data]    | Downloading package book_grammars to\n",
            "[nltk_data]    |     /root/nltk_data...\n",
            "[nltk_data]    |   Unzipping grammars/book_grammars.zip.\n",
            "[nltk_data]    | Downloading package brown to /root/nltk_data...\n",
            "[nltk_data]    |   Unzipping corpora/brown.zip.\n",
            "[nltk_data]    | Downloading package brown_tei to /root/nltk_data...\n",
            "[nltk_data]    |   Unzipping corpora/brown_tei.zip.\n",
            "[nltk_data]    | Downloading package cess_cat to /root/nltk_data...\n",
            "[nltk_data]    |   Unzipping corpora/cess_cat.zip.\n",
            "[nltk_data]    | Downloading package cess_esp to /root/nltk_data...\n",
            "[nltk_data]    |   Unzipping corpora/cess_esp.zip.\n",
            "[nltk_data]    | Downloading package chat80 to /root/nltk_data...\n",
            "[nltk_data]    |   Unzipping corpora/chat80.zip.\n",
            "[nltk_data]    | Downloading package city_database to\n",
            "[nltk_data]    |     /root/nltk_data...\n",
            "[nltk_data]    |   Unzipping corpora/city_database.zip.\n",
            "[nltk_data]    | Downloading package cmudict to /root/nltk_data...\n",
            "[nltk_data]    |   Unzipping corpora/cmudict.zip.\n",
            "[nltk_data]    | Downloading package comparative_sentences to\n",
            "[nltk_data]    |     /root/nltk_data...\n",
            "[nltk_data]    |   Unzipping corpora/comparative_sentences.zip.\n",
            "[nltk_data]    | Downloading package comtrans to /root/nltk_data...\n",
            "[nltk_data]    | Downloading package conll2000 to /root/nltk_data...\n",
            "[nltk_data]    |   Unzipping corpora/conll2000.zip.\n",
            "[nltk_data]    | Downloading package conll2002 to /root/nltk_data...\n",
            "[nltk_data]    |   Unzipping corpora/conll2002.zip.\n",
            "[nltk_data]    | Downloading package conll2007 to /root/nltk_data...\n",
            "[nltk_data]    | Downloading package crubadan to /root/nltk_data...\n",
            "[nltk_data]    |   Unzipping corpora/crubadan.zip.\n",
            "[nltk_data]    | Downloading package dependency_treebank to\n",
            "[nltk_data]    |     /root/nltk_data...\n",
            "[nltk_data]    |   Unzipping corpora/dependency_treebank.zip.\n",
            "[nltk_data]    | Downloading package dolch to /root/nltk_data...\n",
            "[nltk_data]    |   Unzipping corpora/dolch.zip.\n",
            "[nltk_data]    | Downloading package europarl_raw to\n",
            "[nltk_data]    |     /root/nltk_data...\n",
            "[nltk_data]    |   Unzipping corpora/europarl_raw.zip.\n",
            "[nltk_data]    | Downloading package extended_omw to\n",
            "[nltk_data]    |     /root/nltk_data...\n",
            "[nltk_data]    |   Unzipping corpora/extended_omw.zip.\n",
            "[nltk_data]    | Downloading package floresta to /root/nltk_data...\n",
            "[nltk_data]    |   Unzipping corpora/floresta.zip.\n",
            "[nltk_data]    | Downloading package framenet_v15 to\n",
            "[nltk_data]    |     /root/nltk_data...\n",
            "[nltk_data]    |   Unzipping corpora/framenet_v15.zip.\n",
            "[nltk_data]    | Downloading package framenet_v17 to\n",
            "[nltk_data]    |     /root/nltk_data...\n",
            "[nltk_data]    |   Unzipping corpora/framenet_v17.zip.\n",
            "[nltk_data]    | Downloading package gazetteers to /root/nltk_data...\n",
            "[nltk_data]    |   Unzipping corpora/gazetteers.zip.\n",
            "[nltk_data]    | Downloading package genesis to /root/nltk_data...\n",
            "[nltk_data]    |   Unzipping corpora/genesis.zip.\n",
            "[nltk_data]    | Downloading package gutenberg to /root/nltk_data...\n",
            "[nltk_data]    |   Unzipping corpora/gutenberg.zip.\n",
            "[nltk_data]    | Downloading package ieer to /root/nltk_data...\n",
            "[nltk_data]    |   Unzipping corpora/ieer.zip.\n",
            "[nltk_data]    | Downloading package inaugural to /root/nltk_data...\n",
            "[nltk_data]    |   Unzipping corpora/inaugural.zip.\n",
            "[nltk_data]    | Downloading package indian to /root/nltk_data...\n",
            "[nltk_data]    |   Unzipping corpora/indian.zip.\n",
            "[nltk_data]    | Downloading package jeita to /root/nltk_data...\n",
            "[nltk_data]    | Downloading package kimmo to /root/nltk_data...\n",
            "[nltk_data]    |   Unzipping corpora/kimmo.zip.\n",
            "[nltk_data]    | Downloading package knbc to /root/nltk_data...\n",
            "[nltk_data]    | Downloading package large_grammars to\n",
            "[nltk_data]    |     /root/nltk_data...\n",
            "[nltk_data]    |   Unzipping grammars/large_grammars.zip.\n",
            "[nltk_data]    | Downloading package lin_thesaurus to\n",
            "[nltk_data]    |     /root/nltk_data...\n",
            "[nltk_data]    |   Unzipping corpora/lin_thesaurus.zip.\n",
            "[nltk_data]    | Downloading package mac_morpho to /root/nltk_data...\n",
            "[nltk_data]    |   Unzipping corpora/mac_morpho.zip.\n",
            "[nltk_data]    | Downloading package machado to /root/nltk_data...\n",
            "[nltk_data]    | Downloading package masc_tagged to /root/nltk_data...\n",
            "[nltk_data]    | Downloading package maxent_ne_chunker to\n",
            "[nltk_data]    |     /root/nltk_data...\n",
            "[nltk_data]    |   Unzipping chunkers/maxent_ne_chunker.zip.\n",
            "[nltk_data]    | Downloading package maxent_treebank_pos_tagger to\n",
            "[nltk_data]    |     /root/nltk_data...\n",
            "[nltk_data]    |   Unzipping taggers/maxent_treebank_pos_tagger.zip.\n",
            "[nltk_data]    | Downloading package moses_sample to\n",
            "[nltk_data]    |     /root/nltk_data...\n",
            "[nltk_data]    |   Unzipping models/moses_sample.zip.\n",
            "[nltk_data]    | Downloading package movie_reviews to\n",
            "[nltk_data]    |     /root/nltk_data...\n",
            "[nltk_data]    |   Unzipping corpora/movie_reviews.zip.\n",
            "[nltk_data]    | Downloading package mte_teip5 to /root/nltk_data...\n",
            "[nltk_data]    |   Unzipping corpora/mte_teip5.zip.\n",
            "[nltk_data]    | Downloading package mwa_ppdb to /root/nltk_data...\n",
            "[nltk_data]    |   Unzipping misc/mwa_ppdb.zip.\n",
            "[nltk_data]    | Downloading package names to /root/nltk_data...\n",
            "[nltk_data]    |   Unzipping corpora/names.zip.\n",
            "[nltk_data]    | Downloading package nombank.1.0 to /root/nltk_data...\n",
            "[nltk_data]    | Downloading package nonbreaking_prefixes to\n",
            "[nltk_data]    |     /root/nltk_data...\n",
            "[nltk_data]    |   Unzipping corpora/nonbreaking_prefixes.zip.\n",
            "[nltk_data]    | Downloading package nps_chat to /root/nltk_data...\n",
            "[nltk_data]    |   Unzipping corpora/nps_chat.zip.\n",
            "[nltk_data]    | Downloading package omw to /root/nltk_data...\n",
            "[nltk_data]    |   Unzipping corpora/omw.zip.\n",
            "[nltk_data]    | Downloading package omw-1.4 to /root/nltk_data...\n",
            "[nltk_data]    |   Unzipping corpora/omw-1.4.zip.\n",
            "[nltk_data]    | Downloading package opinion_lexicon to\n",
            "[nltk_data]    |     /root/nltk_data...\n",
            "[nltk_data]    |   Unzipping corpora/opinion_lexicon.zip.\n",
            "[nltk_data]    | Downloading package panlex_swadesh to\n",
            "[nltk_data]    |     /root/nltk_data...\n",
            "[nltk_data]    | Downloading package paradigms to /root/nltk_data...\n",
            "[nltk_data]    |   Unzipping corpora/paradigms.zip.\n",
            "[nltk_data]    | Downloading package pe08 to /root/nltk_data...\n",
            "[nltk_data]    |   Unzipping corpora/pe08.zip.\n",
            "[nltk_data]    | Downloading package perluniprops to\n",
            "[nltk_data]    |     /root/nltk_data...\n",
            "[nltk_data]    |   Unzipping misc/perluniprops.zip.\n",
            "[nltk_data]    | Downloading package pil to /root/nltk_data...\n",
            "[nltk_data]    |   Unzipping corpora/pil.zip.\n",
            "[nltk_data]    | Downloading package pl196x to /root/nltk_data...\n",
            "[nltk_data]    |   Unzipping corpora/pl196x.zip.\n",
            "[nltk_data]    | Downloading package porter_test to /root/nltk_data...\n",
            "[nltk_data]    |   Unzipping stemmers/porter_test.zip.\n",
            "[nltk_data]    | Downloading package ppattach to /root/nltk_data...\n",
            "[nltk_data]    |   Unzipping corpora/ppattach.zip.\n",
            "[nltk_data]    | Downloading package problem_reports to\n",
            "[nltk_data]    |     /root/nltk_data...\n",
            "[nltk_data]    |   Unzipping corpora/problem_reports.zip.\n",
            "[nltk_data]    | Downloading package product_reviews_1 to\n",
            "[nltk_data]    |     /root/nltk_data...\n",
            "[nltk_data]    |   Unzipping corpora/product_reviews_1.zip.\n",
            "[nltk_data]    | Downloading package product_reviews_2 to\n",
            "[nltk_data]    |     /root/nltk_data...\n",
            "[nltk_data]    |   Unzipping corpora/product_reviews_2.zip.\n",
            "[nltk_data]    | Downloading package propbank to /root/nltk_data...\n",
            "[nltk_data]    | Downloading package pros_cons to /root/nltk_data...\n",
            "[nltk_data]    |   Unzipping corpora/pros_cons.zip.\n",
            "[nltk_data]    | Downloading package ptb to /root/nltk_data...\n",
            "[nltk_data]    |   Unzipping corpora/ptb.zip.\n",
            "[nltk_data]    | Downloading package punkt to /root/nltk_data...\n",
            "[nltk_data]    |   Unzipping tokenizers/punkt.zip.\n",
            "[nltk_data]    | Downloading package qc to /root/nltk_data...\n",
            "[nltk_data]    |   Unzipping corpora/qc.zip.\n",
            "[nltk_data]    | Downloading package reuters to /root/nltk_data...\n",
            "[nltk_data]    | Downloading package rslp to /root/nltk_data...\n",
            "[nltk_data]    |   Unzipping stemmers/rslp.zip.\n",
            "[nltk_data]    | Downloading package rte to /root/nltk_data...\n",
            "[nltk_data]    |   Unzipping corpora/rte.zip.\n",
            "[nltk_data]    | Downloading package sample_grammars to\n",
            "[nltk_data]    |     /root/nltk_data...\n",
            "[nltk_data]    |   Unzipping grammars/sample_grammars.zip.\n",
            "[nltk_data]    | Downloading package semcor to /root/nltk_data...\n",
            "[nltk_data]    | Downloading package senseval to /root/nltk_data...\n",
            "[nltk_data]    |   Unzipping corpora/senseval.zip.\n",
            "[nltk_data]    | Downloading package sentence_polarity to\n",
            "[nltk_data]    |     /root/nltk_data...\n",
            "[nltk_data]    |   Unzipping corpora/sentence_polarity.zip.\n",
            "[nltk_data]    | Downloading package sentiwordnet to\n",
            "[nltk_data]    |     /root/nltk_data...\n",
            "[nltk_data]    |   Unzipping corpora/sentiwordnet.zip.\n",
            "[nltk_data]    | Downloading package shakespeare to /root/nltk_data...\n",
            "[nltk_data]    |   Unzipping corpora/shakespeare.zip.\n",
            "[nltk_data]    | Downloading package sinica_treebank to\n",
            "[nltk_data]    |     /root/nltk_data...\n",
            "[nltk_data]    |   Unzipping corpora/sinica_treebank.zip.\n",
            "[nltk_data]    | Downloading package smultron to /root/nltk_data...\n",
            "[nltk_data]    |   Unzipping corpora/smultron.zip.\n",
            "[nltk_data]    | Downloading package snowball_data to\n",
            "[nltk_data]    |     /root/nltk_data...\n",
            "[nltk_data]    | Downloading package spanish_grammars to\n",
            "[nltk_data]    |     /root/nltk_data...\n",
            "[nltk_data]    |   Unzipping grammars/spanish_grammars.zip.\n",
            "[nltk_data]    | Downloading package state_union to /root/nltk_data...\n",
            "[nltk_data]    |   Unzipping corpora/state_union.zip.\n",
            "[nltk_data]    | Downloading package stopwords to /root/nltk_data...\n",
            "[nltk_data]    |   Unzipping corpora/stopwords.zip.\n",
            "[nltk_data]    | Downloading package subjectivity to\n",
            "[nltk_data]    |     /root/nltk_data...\n",
            "[nltk_data]    |   Unzipping corpora/subjectivity.zip.\n",
            "[nltk_data]    | Downloading package swadesh to /root/nltk_data...\n",
            "[nltk_data]    |   Unzipping corpora/swadesh.zip.\n",
            "[nltk_data]    | Downloading package switchboard to /root/nltk_data...\n",
            "[nltk_data]    |   Unzipping corpora/switchboard.zip.\n",
            "[nltk_data]    | Downloading package tagsets to /root/nltk_data...\n",
            "[nltk_data]    |   Unzipping help/tagsets.zip.\n",
            "[nltk_data]    | Downloading package timit to /root/nltk_data...\n",
            "[nltk_data]    |   Unzipping corpora/timit.zip.\n",
            "[nltk_data]    | Downloading package toolbox to /root/nltk_data...\n",
            "[nltk_data]    |   Unzipping corpora/toolbox.zip.\n",
            "[nltk_data]    | Downloading package treebank to /root/nltk_data...\n",
            "[nltk_data]    |   Unzipping corpora/treebank.zip.\n",
            "[nltk_data]    | Downloading package twitter_samples to\n",
            "[nltk_data]    |     /root/nltk_data...\n",
            "[nltk_data]    |   Unzipping corpora/twitter_samples.zip.\n",
            "[nltk_data]    | Downloading package udhr to /root/nltk_data...\n",
            "[nltk_data]    |   Unzipping corpora/udhr.zip.\n",
            "[nltk_data]    | Downloading package udhr2 to /root/nltk_data...\n",
            "[nltk_data]    |   Unzipping corpora/udhr2.zip.\n",
            "[nltk_data]    | Downloading package unicode_samples to\n",
            "[nltk_data]    |     /root/nltk_data...\n",
            "[nltk_data]    |   Unzipping corpora/unicode_samples.zip.\n",
            "[nltk_data]    | Downloading package universal_tagset to\n",
            "[nltk_data]    |     /root/nltk_data...\n",
            "[nltk_data]    |   Unzipping taggers/universal_tagset.zip.\n",
            "[nltk_data]    | Downloading package universal_treebanks_v20 to\n",
            "[nltk_data]    |     /root/nltk_data...\n",
            "[nltk_data]    | Downloading package vader_lexicon to\n",
            "[nltk_data]    |     /root/nltk_data...\n",
            "[nltk_data]    | Downloading package verbnet to /root/nltk_data...\n",
            "[nltk_data]    |   Unzipping corpora/verbnet.zip.\n",
            "[nltk_data]    | Downloading package verbnet3 to /root/nltk_data...\n",
            "[nltk_data]    |   Unzipping corpora/verbnet3.zip.\n",
            "[nltk_data]    | Downloading package webtext to /root/nltk_data...\n",
            "[nltk_data]    |   Unzipping corpora/webtext.zip.\n",
            "[nltk_data]    | Downloading package wmt15_eval to /root/nltk_data...\n",
            "[nltk_data]    |   Unzipping models/wmt15_eval.zip.\n",
            "[nltk_data]    | Downloading package word2vec_sample to\n",
            "[nltk_data]    |     /root/nltk_data...\n",
            "[nltk_data]    |   Unzipping models/word2vec_sample.zip.\n",
            "[nltk_data]    | Downloading package wordnet to /root/nltk_data...\n",
            "[nltk_data]    |   Unzipping corpora/wordnet.zip.\n",
            "[nltk_data]    | Downloading package wordnet2021 to /root/nltk_data...\n",
            "[nltk_data]    |   Unzipping corpora/wordnet2021.zip.\n",
            "[nltk_data]    | Downloading package wordnet31 to /root/nltk_data...\n",
            "[nltk_data]    |   Unzipping corpora/wordnet31.zip.\n",
            "[nltk_data]    | Downloading package wordnet_ic to /root/nltk_data...\n",
            "[nltk_data]    |   Unzipping corpora/wordnet_ic.zip.\n",
            "[nltk_data]    | Downloading package words to /root/nltk_data...\n",
            "[nltk_data]    |   Unzipping corpora/words.zip.\n",
            "[nltk_data]    | Downloading package ycoe to /root/nltk_data...\n",
            "[nltk_data]    |   Unzipping corpora/ycoe.zip.\n",
            "[nltk_data]    | \n",
            "[nltk_data]  Done downloading collection all\n"
          ]
        },
        {
          "output_type": "execute_result",
          "data": {
            "text/plain": [
              "True"
            ]
          },
          "metadata": {},
          "execution_count": 3
        }
      ]
    },
    {
      "cell_type": "code",
      "source": [
        "from google.colab import drive\n",
        "drive.mount('/content/gdrive')\n",
        "outputFolder='/content/gdrive/My Drive/DissertationFiles/'"
      ],
      "metadata": {
        "colab": {
          "base_uri": "https://localhost:8080/"
        },
        "id": "Ucwjn28iXOjX",
        "outputId": "f34aff20-3efc-44b1-e61c-79ca636c2dff"
      },
      "execution_count": null,
      "outputs": [
        {
          "output_type": "stream",
          "name": "stdout",
          "text": [
            "Drive already mounted at /content/gdrive; to attempt to forcibly remount, call drive.mount(\"/content/gdrive\", force_remount=True).\n"
          ]
        }
      ]
    },
    {
      "cell_type": "code",
      "source": [
        "# Import nltk and download stop words\n",
        "import nltk\n",
        "\n",
        "nltk.download('stopwords')#although we have downloaded everything - doing this to be safe\n",
        "\n",
        "# Get English stopwords and print some of them\n",
        "germanStopWords = nltk.corpus.stopwords.words('german')\n",
        "germanStopWords[:15]"
      ],
      "metadata": {
        "id": "dDVYyLaqzucE",
        "colab": {
          "base_uri": "https://localhost:8080/"
        },
        "outputId": "a2e8dadc-1938-4912-98d3-6d3d5e473e77"
      },
      "execution_count": null,
      "outputs": [
        {
          "output_type": "stream",
          "name": "stdout",
          "text": [
            "[nltk_data] Downloading package stopwords to /root/nltk_data...\n",
            "[nltk_data]   Package stopwords is already up-to-date!\n"
          ]
        },
        {
          "output_type": "execute_result",
          "data": {
            "text/plain": [
              "['aber',\n",
              " 'alle',\n",
              " 'allem',\n",
              " 'allen',\n",
              " 'aller',\n",
              " 'alles',\n",
              " 'als',\n",
              " 'also',\n",
              " 'am',\n",
              " 'an',\n",
              " 'ander',\n",
              " 'andere',\n",
              " 'anderem',\n",
              " 'anderen',\n",
              " 'anderer']"
            ]
          },
          "metadata": {},
          "execution_count": 5
        }
      ]
    },
    {
      "cell_type": "code",
      "source": [
        "#Variables\n",
        "\n",
        "webPageReadTimeout = 10\n",
        "QueueDownloadLimit = 30 #Max is 32\n",
        "IsPerformLemmatization = True \n"
      ],
      "metadata": {
        "id": "54-xAgXjxT4L"
      },
      "execution_count": null,
      "outputs": []
    },
    {
      "cell_type": "code",
      "source": [
        "#Set timezone obj\n",
        "\n",
        "import pytz\n",
        "# it will get the time zone of the specified location\n",
        "IST = pytz.timezone('Asia/Kolkata')"
      ],
      "metadata": {
        "id": "oACQKpnBL_JC"
      },
      "execution_count": null,
      "outputs": []
    },
    {
      "cell_type": "markdown",
      "source": [
        "\n",
        "Intialiaze the Azure Queue for fetching and processing <br/>\n",
        "Documentation Links <br/>\n",
        "https://docs.microsoft.com/en-us/python/api/azure-storage-queue/azure.storage.queue.queueclient?view=azure-python\n",
        "https://github.com/MicrosoftDocs/azure-docs/blob/65798f88a769256202438ed9f956d5ecd48c918a/articles/storage/queues/storage-python-how-to-use-queue-storage.md\n",
        "\n",
        "Get messages:\n",
        "https://docs.microsoft.com/en-us/python/api/azure-storage-queue/azure.storage.queue.queueservice.queueservice?view=azure-python-previous#azure-storage-queue-queueservice-queueservice-get-messages\n"
      ],
      "metadata": {
        "id": "A7a9ge8ZxZk0"
      }
    },
    {
      "cell_type": "code",
      "source": [
        "#Azure Queue Connection setup\n",
        "\n",
        "from azure.storage.queue import (\n",
        "        QueueService,\n",
        "        QueueMessageFormat\n",
        ")\n",
        "\n",
        "import os, uuid\n",
        "connect_str  = \"DefaultEndpointsProtocol=https;AccountName=artifactsdatastorage;AccountKey=FPoDnacbEV1KRm1zZxAdqS6k8HI6VLHeRGwDsjm113Y+cvfXV5SyuAE8X/0kdBodhjqqxW5YpxnHCZuKbVzjNA==;EndpointSuffix=core.windows.net\"\n",
        "extractedDetails_queue_name = \"queue-extractedpagedetails\"\n",
        "\n",
        "queue_service = QueueService(connection_string=connect_str)\n",
        "# Setup Base64 encoding and decoding functions\n",
        "queue_service.encode_function = QueueMessageFormat.text_base64encode\n",
        "queue_service.decode_function = QueueMessageFormat.text_base64decode"
      ],
      "metadata": {
        "id": "GWiPrLTVxYTk"
      },
      "execution_count": null,
      "outputs": []
    },
    {
      "cell_type": "markdown",
      "source": [
        "Checks if exists in python list and returns true if exits"
      ],
      "metadata": {
        "id": "H1VHZgV0MkTV"
      }
    },
    {
      "cell_type": "code",
      "source": [
        "\n",
        "def ExisitsInArray(arrDet, valToChk):\n",
        "  try:\n",
        "    return arrDet.index(valToChk) >= 0\n",
        "  except: \n",
        "    return False\n",
        "  return False\n"
      ],
      "metadata": {
        "id": "1lnp6d5yMkpj"
      },
      "execution_count": null,
      "outputs": []
    },
    {
      "cell_type": "markdown",
      "source": [
        "Creates a Python List frame from the values fetched "
      ],
      "metadata": {
        "id": "DXPlB6ZY0M_s"
      }
    },
    {
      "cell_type": "code",
      "source": [
        "import json\n",
        "\n",
        "allLinks = []\n",
        "queueMessages = [] #queue messages\n",
        "textData = []\n",
        "\n",
        "\n",
        "def FetchUrlandWebTextFromQueue():\n",
        "  try:\n",
        "    metadata = queue_service.get_queue_metadata(extractedDetails_queue_name)\n",
        "    queueUrlCount = metadata.approximate_message_count\n",
        "    print(\"Message count: \" + str(queueUrlCount))\n",
        "   \n",
        "  except Exception as e: \n",
        "    print(\"Problem fetching count from queue. Message : \"+ str(e)) \n",
        "    return None   \n",
        "\n",
        "  try:   \n",
        "\n",
        "    queueMessages = queue_service.get_messages(extractedDetails_queue_name,num_messages=QueueDownloadLimit)\n",
        "    while queueMessages != None and len(queueMessages) > 0:\n",
        "      print('queue is not none')\n",
        "      for queMsg in queueMessages:\n",
        "        if queMsg != None:\n",
        "          msgCont = queMsg.content \n",
        "          print(\"msgCont: \"+ msgCont)\n",
        "          # queue_service.delete_message(extractedDetails_queue_name,queMsg.id, queMsg.pop_receipt)\n",
        "          #convert string to  object\n",
        "          json_object = json.loads(msgCont)\n",
        "          url = json_object[\"Url\"]\n",
        "          TextInfo = json_object[\"TextInfo\"]\n",
        "          \n",
        "          if ExisitsInArray(allLinks,url) == False and TextInfo != None: #Check if the Url is not already added to the list\n",
        "            allLinks.append(url)\n",
        "            textData.append([url, TextInfo])\n",
        "                        \n",
        "      queueMessages = queue_service.get_messages(extractedDetails_queue_name,num_messages=QueueDownloadLimit)      \n",
        "            \n",
        "  except Exception as e: \n",
        "    print(\"Problem Fetching text from queue. Message : \"+ str(e))\n",
        "    return None\n",
        "\n"
      ],
      "metadata": {
        "id": "0axIXXtMMo-e"
      },
      "execution_count": null,
      "outputs": []
    },
    {
      "cell_type": "markdown",
      "source": [
        "Initiate Fetch from Queue to populate data frame"
      ],
      "metadata": {
        "id": "Bg2fjtxANNUk"
      }
    },
    {
      "cell_type": "code",
      "source": [
        "\n",
        "from datetime import datetime\n",
        "\n",
        "if __name__ == '__main__':\n",
        "  print(\"initiaing crawling: \"+ datetime.now().strftime(\"%d/%m/%Y %H:%M:%S\"))\n",
        "  FetchUrlandWebTextFromQueue()\n",
        "  print(\"End of crawling: \"+ datetime.now(IST).strftime(\"%d/%m/%Y %H:%M:%S\"))"
      ],
      "metadata": {
        "id": "-5WDYR7_Msl2",
        "colab": {
          "base_uri": "https://localhost:8080/"
        },
        "outputId": "06b44c5d-a08f-4d0c-f395-66df82cfc545"
      },
      "execution_count": null,
      "outputs": [
        {
          "output_type": "stream",
          "name": "stdout",
          "text": [
            "initiaing crawling: 04/05/2022 05:12:47\n",
            "Message count: 61\n",
            "queue is not none\n",
            "msgCont: {\"Url\": \"https://www.bundesarchiv.de/cocoon/barch/0000/k/k1980k/index.html\", \"TextInfo\": \"Die Kabinettsprotokolle der Bundesregierung 1980\"}\n",
            "msgCont: {\"Url\": \"https://www.bundesarchiv.de/cocoon/barch/0000/k/k1954k/index.html\", \"TextInfo\": \"Die Kabinettsprotokolle der Bundesregierung Band 7. 1954\\nherausgegeben f\\u00fcr das Bundesarchiv von Friedrich P. Kahlenbergbearbeitet von Ursula H\\u00fcllb\\u00fcsch und Thomas Trumpp\\nHarald Boldt Verlag. Boppard am RheinISBN 978-3-486-41917-7\"}\n",
            "msgCont: {\"Url\": \"https://www.bundesarchiv.de/cocoon/barch/0000/k/k1968k/index.html\", \"TextInfo\": \"Die Kabinettsprotokolle der Bundesregierung Band 21. 1968\\nherausgegeben f\\u00fcr das Bundesarchiv von Michael Hollmannbearbeitet Christine Fabian und Uta R\\u00f6sselunter Mitwirkung von Walter Naasner und Christoph Seemann\\nR. Oldenbourg Verlag M\\u00fcnchen 2011ISBN 978-3-486-70518-8\\nDie erste Gro\\u00dfe Koalition sah sich 1968 mit heftigen, \\u00fcberwiegend studentischen Protesten gegen die gleichwohl verabschiedete Notstandsverfassung, den Vietnamkrieg und den Bildungsnotstand konfrontiert. Die Einf\\u00fchrung der Pass- und Visumpflicht durch die DDR im innerdeutschen und Berlin-Verkehr und das milit\\u00e4rische Eingreifen der Sowjetunion in der Tschechoslowakei belasteten die auf Entspannung ausgerichtete Deutschland- und Ostpolitik sowie die Sicherheits- und B\\u00fcndnispolitik. Neben Fragen der bevorstehenden Unterzeichnung des Atomwaffensperrvertrags und einer k\\u00fcnftigen politischen Erweiterung der Europ\\u00e4ischen Gemeinschaften beriet das Kabinett \\u00fcber innenpolitisch bedeutende Reformvorhaben in der Rechts-,  Finanz-, Verkehrs- und Agrarpolitik sowie \\u00fcber die erstmaligen Berichte der Bundesregierung zur Lage der Familien und zur elektronischen Datenverarbeitung.\"}\n",
            "msgCont: {\"Url\": \"https://www.bundesarchiv.de/cocoon/barch/0000/k/k1972k/index.html\", \"TextInfo\": \"Die Kabinettsprotokolle der Bundesregierung Band 25. 1972\\nherausgegeben f\\u00fcr das Bundesarchiv von Michael Hollmannbearbeitet von Christine Fabian und Uta R\\u00f6sselunter Mitwirkung von Christoph Seemann\\nDe Gruyter Oldenbourg Verlag Berlin/Boston 2017ISBN 978-3-11-046118-3\\nDie sozial-liberale Koalition setzt mit der Ratifizierung der Ostvertr\\u00e4ge und der Unterzeichnung des Grundlagenvertrags mit der DDR Meilensteine in der Au\\u00dfen- und Deutschlandpolitik. Nach Misstrauensvotum  und vorgezogenen Neuwahlen bleibt Willy Brandt Bundeskanzler.\\nSicherheitspolitische Fragen r\\u00fccken nach den Attentaten der Baader-Meinhof-Gruppe und dem Terroranschlag w\\u00e4hrend der Olympischen Spiele zunehmend in den Focus der Kabinettsarbeit.\"}\n",
            "msgCont: {\"Url\": \"https://www.bundesarchiv.de/cocoon/barch/0000/k/k1966k/index.html\", \"TextInfo\": \"Die Kabinettsprotokolle der Bundesregierung Band 19. 1966\\nherausgegeben f\\u00fcr das Bundesarchiv von Hartmut Weberbearbeitet von Christine Fabian und Uta R\\u00f6sselunter Mitwirkung von Ralf Behrendt und Christoph Seemann\\nR. Oldenbourg Verlag M\\u00fcnchen 2009ISBN 978-3-486-58960-3\\nDer Luxemburger EWG-Kompromiss und Frankreichs Austritt aus den Kommandostrukturen der NATO sowie die Forderungen Gro\\u00dfbritanniens und der USA nach vollem Devisenausgleich f\\u00fcr ihre in der Bundesrepublik Deutschland stationierten Truppen geh\\u00f6rten zu den zentralen Themen der Kabinettsberatungen des Jahres 1966. Komplizierte Passierscheinverhandlungen, die Fragen rund um einen Redneraustausch zwischen SED und SPD und die Bef\\u00fcrchtungen einer m\\u00f6glichen Anerkennung der DDR pr\\u00e4gten die innerdeutschen Beziehungen. R\\u00fcckl\\u00e4ufiges Wirtschaftswachstum und erste Anzeichen einer Rezession waren weitere Herausforderungen f\\u00fcr die Bundesregierung. Im Streit um die Regulierung steigender Haushaltsdefizite zerbrach im Herbst die christlich-liberale Koalition. Der R\\u00fccktritt Erhards ebnete den Weg f\\u00fcr die erste Gro\\u00dfe Koalition unter Kiesinger.\"}\n",
            "msgCont: {\"Url\": \"https://www.bundesarchiv.de/cocoon/barch/0000/k/k1969k/index.html\", \"TextInfo\": \"Die Kabinettsprotokolle der Bundesregierung Band 22. 1969\\nherausgegeben f\\u00fcr das Bundesarchiv von Michael Hollmannbearbeitet Walter Naasner und Christoph Seemannunter Mitwirkung von Christine Fabian und Uta R\\u00f6ssel\\nR. Oldenbourg Verlag M\\u00fcnchen 2012ISBN 978-3-486-71727-3\\nNach \\u00dcberwindung der Rezession und erfolgreicher Umsetzung wesentlicher Reformvorhaben wie der Notstandsgesetzgebung und der Finanz- und Haushaltsreform traten im Laufe des Jahres 1969 die inhaltlichen Gegens\\u00e4tze innerhalb der Gro\\u00dfen Koalition wieder deutlicher hervor, etwa in der Diskussion \\u00fcber eine m\\u00f6gliche Aufwertung der DM. Ebenfalls mit unterschiedlichen Akzentsetzungen wurde im Kabinett beraten \\u00fcber Bedrohungen der demokratischen Staatsordnung von links durch die Studentenbewegung bzw. von rechts durch die NPD und rechtsextremistische Publikationen sowie \\u00fcber die Frage einer Verfolgungsverj\\u00e4hrung f\\u00fcr schwerste NS-Verbrechen. Auf au\\u00dfenpolitischem Gebiet standen nach wie vor die Unterzeichnung des Nichtverbreitungsabkommens und der Umgang mit den zunehmend erfolgreichen Anerkennungsbestrebungen der DDR gegen\\u00fcber Staaten der Dritten Welt auf der Tagesordnung. Im Gefolge der Bundestagswahlen im Herbst 1969 vollzog sich nach 20 Jahren CDU-gef\\u00fchrter Bundesregierungen mit der Bildung einer sozialliberalen Koalition unter Bundeskanzler Willy Brandt ein \\u201eMachtwechsel\\u201c, der sich im selben Jahr bereits bei der Wahl Gustav Heinemanns zum Bundespr\\u00e4sidenten angek\\u00fcndigt hatte.\"}\n",
            "msgCont: {\"Url\": \"https://www.bundesarchiv.de/cocoon/barch/1000/k/index.html\", \"TextInfo\": \"Kabinett\\nAuf der Grundlage des 1979 von der Bundesregierung dem Bundesarchiv erteilten Auftrags, die Kabinettsprotokolle der Bundesregierung in wissenschaftlicher Form zu ver\\u00f6ffentlichen, hat sich inzwischen eine vielb\\u00e4ndige Editionsreihe entwickelt.\\nAngesichts dieser auch weiterhin anwachsenden Informationsf\\u00fclle lag es nahe, die Informationstechnik f\\u00fcr die Erschlie\\u00dfung der Texte zu nutzen. Die Online-Version der edierten Kabinettsprotokolle steht seit 2003 im Internet bereit. Sie macht die f\\u00fcr die Erforschung der Geschichte der Bundesrepublik Deutschland zentrale Quelle der Kabinettsprotokolle einem deutlich breiteren Benutzerkreis zug\\u00e4nglich. Ihr entscheidender Mehrwert liegt in der Erleichterung und Erweiterung der Recherchem\\u00f6glichkeiten. Neben gezielter Suche und raschem Zugriff auch auf detaillierte Informationen erm\\u00f6glicht sie mittels kombinierter Suchstrategien auch Abfragen komplexer Sachverhalte sowie neue Methoden und Wege der Textauswertung. Gleichzeitig erleichtert sie durch ein Navigationssystem die Orientierung in einem immer umfangreicher werdenden Text. Ferner ist die digitale Version besonders dazu geeignet, das im Editionskonzept enthaltene System von Vor- und R\\u00fcckverweisen zu unterst\\u00fctzen. Eine Verlinkung der einzelnen Tagesordnungspunkte untereinander erlaubt es, den Beratungsverlauf im Kabinett und in seinen Aussch\\u00fcssen auch \\u00fcber die tradierten Band- und Jahresgrenzen hinaus im gesamten anwachsenden Corpus der Protokolltexte zu verfolgen.\\nNicht zuletzt besteht der Gewinn einer Internet-Version der Edition darin, die Quellenangaben in den Kommentaren der Kabinettsprotokolle mit den Bestands\\u00fcbersichten des Bundesarchivs zu verkn\\u00fcpfen. Mit diesem Zugang zu anderen, teilweise erst im Aufbau befindlichen Online-Dienstleistungen entspricht das Bundesarchiv auch der Zielsetzung der Bundesregierung, alle internetf\\u00e4higen Dienstleistungen der Bundesverwaltung online bereitzustellen.\\nDer wesentliche Vorteil der digitalen Version der Edition ist die Mehrdimensionalit\\u00e4t des Zugriffs. Die weiterhin im Buchdruck erscheinende Version des Editionswerks, die sequentielles Lesen erm\\u00f6glicht und Zitierbarkeit auch in klassischer Form sicherstellt, beh\\u00e4lt daneben ihre Berechtigung.\\nIn Erg\\u00e4nzung des wissenschaftlichen Editionswerks in seiner gedruckten und seiner digitalen Form konnte nach der erforderlichen Anpassung der rechtlichen Rahmenbedingungen das Bundesarchiv 2013 auf der vorliegenden Internet-Seite in einem Zuge diejenigen bereits schutzfristfreien 13 Jahrg\\u00e4nge der Kabinettsprotokolle der \\u00d6ffentlichkeit pr\\u00e4sentieren, zu denen bis dahin noch kein editorischer Sachkommentar erstellt worden war. Seitdem werden diese insoweit noch unkommentierten, jedoch schon textkritisch bearbeiteten Protokolle kontinuierlich entlang der archivrechtlichen 30-Jahresschutzfrist jahrgangsweise erg\\u00e4nzt. Sie sind in klarer Abgrenzung von den bereits abschlie\\u00dfend kommentierten Protokolljahrg\\u00e4ngen auf der Ebene der einzelnen Tagesordnungspunkte entsprechend gekennzeichnet, und sie bleiben als \\u00dcbergangsangebot jeweils nur solange im Internet eingestellt, bis sie durch die einschl\\u00e4gigen Jahrg\\u00e4nge der Online-Version der Edition nach deren Abschluss ersetzt werden k\\u00f6nnen.\"}\n",
            "msgCont: {\"Url\": \"https://www.bundesarchiv.de/cocoon/barch/0000/k/k1965k/index.html\", \"TextInfo\": \"Die Kabinettsprotokolle der Bundesregierung Band 18. 1965\\nherausgegeben f\\u00fcr das Bundesarchiv von Hartmut Weberbearbeitet von Josef Henke und Christoph Seemannunter Mitwirkung von Ralf Behrendt, Edgar B\\u00fcttner, Christine Fabian und Uta R\\u00f6ssel\\nR. Oldenbourg Verlag M\\u00fcnchen 2008ISBN 978-3-486-58802-6\\nDie Frage nach der Reaktion auf eine m\\u00f6gliche Anerkennung der DDR durch \\u00c4gypten pr\\u00e4gte wie kein anderes Thema die au\\u00dfenpolitischen Kabinettsberatungen des Jahres 1965. F\\u00fcr heftige innenpolitische Diskussionen sorgte 20 Jahre nach dem Ende des Zweiten Weltkriegs die drohende Verj\\u00e4hrung schwerster nationalsozialistischer Verbrechen. Das Verh\\u00e4ltnis zwischen den Koalitionspartnern CDU/CSU und FDP war durch Differenzen auf nahezu allen wichtigen Gebieten zunehmend belastet. Dennoch wirkte der \\u00fcber Jahre aufgebaute Nimbus Ludwig Erhards als Vater des Wirtschaftswunders stark genug, um im Herbst 1965 mit einem eindrucksvollen Wahlsieg eine Fortsetzung der Koalition zu erm\\u00f6glichen.\"}\n",
            "msgCont: {\"Url\": \"https://www.bundesarchiv.de/cocoon/barch/0000/k/k1986k/index.html\", \"TextInfo\": \"Die Kabinettsprotokolle der Bundesregierung 1986\"}\n",
            "msgCont: {\"Url\": \"https://www.bundesarchiv.de/cocoon/barch/0000/k/bild5/index.html\", \"TextInfo\": \"\"}\n",
            "msgCont: {\"Url\": \"https://www.bundesarchiv.de/cocoon/barch/0000/hilfe/allgemein.html\", \"TextInfo\": \"Allgemeine HinweiseHier finden Sie Informationen und Hilfe zur Benutzung der Internetpr\\u00e4sentation der Kabinettsprotokolle sowie das Impressum.\"}\n",
            "msgCont: {\"Url\": \"https://www.bundesarchiv.de/cocoon/barch/0000/index.html\", \"TextInfo\": \"Willkommen bei der Online-Version der Edition\\n\\t\\t\\t \\\"Die Kabinettsprotokolle der Bundesregierung\\\"Das Bundesarchiv pr\\u00e4sentiert Ihnen hier die bereits in Buchform vorliegenden B\\u00e4nde der Edition \\u201eDie Kabinettsprotokolle der Bundesregierung\\u201c.Die Jahresb\\u00e4nde werden weiterhin in gedruckter Form ver\\u00f6ffentlicht. Jeweils 18 Monate nach ihrem Erscheinen wird ihre digitale Version auf dieser Internet-Seite barrierefrei zug\\u00e4nglich gemacht.In Erg\\u00e4nzung des Editionswerks enth\\u00e4lt die vorliegende Online-Version dar\\u00fcber hinaus die bereits schutzfristfreien Jahrg\\u00e4nge derjenigen Kabinettsprotokolle, zu denen bislang noch kein editorischer Sachkommentar erstellt wurde. Die Jahrg\\u00e4nge der insoweit noch unkommentierten, jedoch schon textkritisch bearbeiteten Protokolle sind auf der Ebene der einzelnen Tagesordnungspunkte entsprechend gekennzeichnet.Weitere Informationen finden Sie auf der Seite \\u201eKabinett\\u201c dieser Online-Version.\"}\n",
            "msgCont: {\"Url\": \"https://www.bundesarchiv.de/cocoon/barch/0000/k/k1976k/index.html\", \"TextInfo\": \"Die Kabinettsprotokolle der Bundesregierung 1976\"}\n",
            "msgCont: {\"Url\": \"https://www.bundesarchiv.de/cocoon/barch/0000/k/k1988k/index.html\", \"TextInfo\": \"Die Kabinettsprotokolle der Bundesregierung 1988\"}\n",
            "msgCont: {\"Url\": \"https://www.bundesarchiv.de/cocoon/barch/0000/k/k1971k/index.html\", \"TextInfo\": \"Die Kabinettsprotokolle der Bundesregierung Band 24. 1971\\nherausgegeben f\\u00fcr das Bundesarchiv von Michael Hollmannbearbeitet von Walter Naasner und Christoph Seemannunter Mitwirkung von Christine Fabian und Uta R\\u00f6ssel\\nDe Gruyter Oldenbourg Verlag Berlin/M\\u00fcnchen/Boston 2015ISBN 978-3-486-71889-8\\n1971 wurde der deutsch-deutsche Dialog in Gespr\\u00e4chen der Unterh\\u00e4ndler Bahr und Kohl weitergef\\u00fchrt. Daneben strebte die Bundesregierung ein Gewaltverzichtsabkommen mit der CSSR an. Parallel dazu traten die Verhandlungen der Vier M\\u00e4chte \\u00fcber eine Berlin-Regelung in eine entscheidende Phase. Zu den wichtigen innenpolitischen Beratungsthemen im Kabinett geh\\u00f6rten die zunehmenden Probleme, die inneren Reformen in den Rahmen der Finanzplanung einzuf\\u00fcgen.\"}\n",
            "msgCont: {\"Url\": \"https://www.bundesarchiv.de/cocoon/barch/0000/hilfe/impressum.html\", \"TextInfo\": \"ImpressumInformationen gem. \\u00a7 5 Telemediengesetz und \\u00a7 55 Abs. 1 Rundfunkstaatsvertrag\\nDas Internet-Angebot wird bereitgestellt durch denPr\\u00e4sidenten des Bundesarchivs, Dr. Michael HollmannPotsdamer Stra\\u00dfe 156075 Koblenz\\nTel.: +49 261 505-0Fax: +49 261 505-226E-Mail: poststelle@bundesarchiv.de\\nInternet: http://www.bundesarchiv.de\\nUID: DE153 898 013Verantwortlich i.S.d. \\u00a7 55 Abs. 2 Rundfunkstaatsvertrag\\nDr. Sebastian Gleixner56064 Koblenz\\nTel.: +49 261 505-208Fax: +49 261 505-226Rechtliche HinweiseInhalte dieser WebsiteDie Inhalte dieser Website werden mit gr\\u00f6\\u00dftm\\u00f6glicher Sorgfalt erstellt. Das Bundesarchiv \\u00fcbernimmt jedoch keine Gew\\u00e4hr f\\u00fcr die Richtigkeit, Vollst\\u00e4ndigkeit und Aktualit\\u00e4t der bereitgestellten Inhalte. Es beh\\u00e4lt sich das Recht vor, sein Angebot jederzeit zu \\u00e4ndern oder einzustellen. F\\u00fcr durch nicht fehlerfrei angelegte Dateien oder nicht fehlerfrei strukturierte Formate bedingte Unterbrechungen oder anderweitige St\\u00f6rungen kann das Bundesarchiv keine Gew\\u00e4hr \\u00fcbernehmen.Alle Inhalte und Strukturen dieser Website sind urheber- und leistungsschutzrechtlich gesch\\u00fctzt. Die Ver\\u00f6ffentlichung im World Wide Web oder in sonstigen Diensten des Internet bedeutet noch keine Einverst\\u00e4ndniserkl\\u00e4rung f\\u00fcr eine anderweitige Nutzung durch Dritte. Jede urheberrechtlich gesch\\u00fctzte Verwertung bedarf der vorherigen schriftlichen Zustimmung des Bundesarchivs.Das Bundesarchiv begr\\u00fc\\u00dft ausdr\\u00fccklich, wenn Sie Dokumente zitieren und Links auf diese  Website setzen, solange Sie kenntlich machen, dass es sich um Inhalte der Website des Bundesarchivs handelt und diese Inhalte nicht in Verbindung mit Inhalten Dritter gebracht werden, die den Interessen des Bundesarchivs widersprechen.Das Bundesarchiv ist nach \\u00a7 7 Abs.1 Telemediengesetz verantwortlich f\\u00fcr die eigenen Inhalte, die es zur Nutzung bereith\\u00e4lt. Fremde Inhalte werden vom Bundesarchiv insoweit bereitgehalten, als sie durch externe Links gekennzeichnet sind. Von den eigenen Inhalten sind externe Links auf die von anderen Anbietern bereitgehaltenen Inhalte zu unterscheiden. Da es sich bei diesen externen Links um dynamische Verweise handelt, kann das Bundesarchiv nur bei der erstmaligen Verkn\\u00fcpfung pr\\u00fcfen, ob durch die einbezogenen Inhalte eine rechtliche Verantwortlichkeit ausgel\\u00f6st wird. Eine weitergehende Pr\\u00fcfungspflicht und Haftung f\\u00fcr fremde Inhalte wird ausdr\\u00fccklich ausgeschlossen.Das Bundesarchiv \\u00fcbernimmt keine Verantwortung f\\u00fcr die Inhalte von Webseiten, die \\u00fcber Links im Rahmen des vorliegenden Internetangebotes erreicht werden. F\\u00fcr den Inhalt verlinkter Seiten sind ausschlie\\u00dflich deren Betreiber verantwortlich. Der Herausgeber distanziert sich ausdr\\u00fccklich von allen Inhalten, die m\\u00f6glicherweise straf- oder haftungsrechtlich relevant sind und gegen die guten Sitten versto\\u00dfen.Datenschutzerkl\\u00e4rungBei der Entgegennahme von Benutzungsanfragen und Bestellungen verarbeitet das Bundesarchiv personenbezogene Daten und leitet diese ggf. an Dienstleister weiter. N\\u00e4here Informationen entnehmen Sie bitte der Datenschutzerkl\\u00e4rung der Bundesregierung (http://www.bundesregierung.de/nn_1264/Content/DE/StatischeSeiten/datenschutzerklaerung.html).\\nHinweis auf die BuchausgabeDie Kabinettsprotokolle der Bundesregierung erscheinen auch in gedruckter Form und sind \\u00fcber den Buchhandel erh\\u00e4ltlich.\\nTechnische Realisierung\\nStartext Unternehmensberatung GmbH\\n\\nKennedyallee 2\\n53175 Bonn\\n\\n\\n\\n\\u00a9 BUNDESARCHIV-03/2022\"}\n",
            "msgCont: {\"Url\": \"https://www.bundesarchiv.de/cocoon/barch/0000/k/bild1/index.html\", \"TextInfo\": \"\"}\n",
            "msgCont: {\"Url\": \"https://www.bundesarchiv.de/cocoon/barch/0000/k/k1977k/index.html\", \"TextInfo\": \"Die Kabinettsprotokolle der Bundesregierung 1977\"}\n",
            "msgCont: {\"Url\": \"https://www.bundesarchiv.de/cocoon/barch/0000/k/k1983k/index.html\", \"TextInfo\": \"Die Kabinettsprotokolle der Bundesregierung 1983\"}\n",
            "msgCont: {\"Url\": \"https://www.bundesarchiv.de/cocoon/barch/0000/k/k1960k/index.html\", \"TextInfo\": \"Die Kabinettsprotokolle der Bundesregierung Band 13. 1960\\nherausgegeben f\\u00fcr das Bundesarchiv von Hartmut Weberbearbeitet von Ralf Behrendt und Christoph Seemannunter Mitwirkung von Ulrich Enders, Josef Henke und Uta R\\u00f6ssel\\nR. Oldenbourg Verlag M\\u00fcnchen 2003ISBN 3-486-56753-5\\nEinen Schwerpunkt der Kabinettsberatungen des Jahres 1960 bildet neben der Frage eines beschleunigten Ausbaus der EWG weiterhin die Berlin-Krise, die sich nach dem Scheitern der Pariser Gipfelkonferenz im Mai erneut versch\\u00e4rft. Repressalien der DDR im Reiseverkehr beantwortet die Bundesrepublik mit der K\\u00fcndigung des Interzonenhandelsabkommens. Ausf\\u00fchrlich dokumentiert ist auf innenpolitischem Gebiet insbesondere die heftige Auseinandersetzung mit den L\\u00e4ndern um das zweite Fernsehprogramm. 15 Jahre nach Kriegsende r\\u00fcckt ferner als Folge der antisemitischen Vorf\\u00e4lle der Jahreswende 1959/1960 erstmals der Umgang mit der nationalsozialistischen Vergangenheit in das Blickfeld des Kabinetts. Die wirtschaftliche Lage ist gekennzeichnet durch eine anhaltende Hochkonjunktur und ein weiteres Absinken der Arbeitslosigkeit. Der Bundeshaushalt \\u00fcberschreitet erstmals die 40 Milliarden-Grenze. Vor dem Hintergrund von Konzentrationserscheinungen in der Wirtschaft f\\u00fchrt die Bundesregierung Ma\\u00dfnahmen zur Eigentumsbildung breiter Schichten wie die Privatisierung des Volkswagenwerkes und das Verm\\u00f6gensbildungsgesetz sowie zur F\\u00f6rderung des Mittelstandes fort.\"}\n",
            "msgCont: {\"Url\": \"https://www.bundesarchiv.de/cocoon/barch/0000/k/k1987k/index.html\", \"TextInfo\": \"Die Kabinettsprotokolle der Bundesregierung 1987\"}\n",
            "msgCont: {\"Url\": \"https://www.bundesarchiv.de/cocoon/barch/0000/k/k1981k/index.html\", \"TextInfo\": \"Die Kabinettsprotokolle der Bundesregierung 1981\"}\n",
            "msgCont: {\"Url\": \"https://www.bundesarchiv.de/cocoon/barch/0000/k/k1984k/index.html\", \"TextInfo\": \"Die Kabinettsprotokolle der Bundesregierung 1984\"}\n",
            "msgCont: {\"Url\": \"https://www.bundesarchiv.de/cocoon/barch/0000/hilfe/benutzungshinweise.html\", \"TextInfo\": \"BenutzungshinweiseBarrierefreiheit\\n\\t\\t\\t\\t\\t\\nAllgemeines\\n\\nSeitenaufbau\\n\\nBeschreibung der Teilbereiche eines Seite\\n\\nAccess Keys\\n\\nAktivierung der Access Keys\\n\\nKontraststarke Darstellung\\n\\nScreenreader\\u2013 und Textansicht einer Seite\\n\\nBilder\\n\\nTabellen\\n\\nSuche in den Kabinettsprotokollen\\n\\t\\t\\t\\t\\t\\nKurzfassung\\n\\nLangfassung\\n\\nSuche in der barrierefreien Version\\n\\n\\u00a0Beschreibung der Barrierefreiheit\\u00a0FunktionsunterscheidungDie Online-Version der Edition \\u201eKabinettsprotokolle der Bundesregierung\\u201c bietet zwei Funktionen: einen Textbereich und die Suche. Jeder dieser Funktionsbereiche ist als eigene Seite realisiert und gegliedert. Ein allgemeine Funktion in der Utility-Leiste am oberen Bildschirmrand enth\\u00e4lt die  Hilfeseiten und das Impressum.\\nUnter der Rubrik \\u201eEdition\\u201c sind alle B\\u00e4nde der Edition (Kabinettsprotokolle und Kabinettsausch\\u00fcsse), die Kurzbiographien, die Netzeditionsgrunds\\u00e4tze und die Gesch\\u00e4ftsordnung der Bundesregierung mit einem gemeinsamen Inhaltsverzeichnis versammelt. Das Inhaltsverzeichnis der Edition und des jeweils ausgew\\u00e4hlten Bandes bzw. Teilbereichs ist hier abrufbar. Aus dem Inhaltsverzeichnis heraus kann das jeweilige Dokument oder der Tagesordnungspunkt aufgerufen werden. Dies bewirkt einen Wechsel in den Band.\\n\\n\\t\\t\\t\\t\\t\\t\\nnach oben\\n\\u00a0SeitenaufbauJede Seite ist in mehrere Teilbereiche unterteilt:\\nTextFunktionenNavigationsbaumNavigationsmen\\u00fcServicelinksBandbilderStandortLayoutmenuUtility-LeisteDiese Bereiche kehren auf jeder Seite wieder und werden in der Darstellung f\\u00fcr Screenreader durch Zwischen\\u00fcberschriften besonders hervorgehoben. Dies kann durch eine \\u201eTextansicht\\u201c ebenfalls erreicht werden. Diese Ansicht bewirkt das Abschalten der visuellen Formatierungen und wird in geeigneten Browsern, wie Firefox, Mozilla und Opera, durch den Befehl \\u201eAnsicht > Webseiten-Stil > Kein Stil\\u201c bzw. \\u201eAnsicht > Stil > Nutzer-Modus\\u201c erreicht.\\n\\nnach oben\\n\\u00a0Beschreibung der Teilbereiche einer SeiteMit der Bezeichnung \\u201eText\\u201c ist der Protokolltext bzw. das Inhaltsverzeichnis als Hauptinhalt der Seite benannt.Mit \\u201eFunktionen\\u201c ist die Auswahl zwischen Edition und Suche gemeint. \\u201eSuche\\u201c steht dabei f\\u00fcr das Suchformular, \\u201eEdition f\\u00fcr das Inhaltsverzeichnis aller verf\\u00fcgbaren B\\u00e4nde. \\u201eNavigationsmen\\u00fc\\u201c ist die Bezeichnung f\\u00fcr das Bl\\u00e4ttern in den B\\u00e4nden. Hier k\\u00f6nnen die im Buch vorgehenden und nachfolgenden Textabschnitte ausgew\\u00e4hlt werden, aber auch der vorige oder n\\u00e4chste Abschnitt gleicher Art. Ebenso ist das Inhaltsverzeichnis stets erreichbar sowie der Anfang und das Ende des Textes auf der aktuellen Seite. Das Navigationsmen\\u00fc ist mit Access-Keys hinterlegt, die im Folgenden beschrieben werden. Das Navigationsmen\\u00fc kann wahlweise ein- oder ausgeblendet werden. \\u201eNavigationsbaum\\u201c bezeichnet die Darstellung des Inhaltsverzeichnisses sowie der Unterpunkte in Form einer Hierarchie. Ein Abschnitt mit Unterpunkten bildet einen Knoten. Unter Knoten sind die Inhaltseinheiten zu verstehen, Unterpunkte k\\u00f6nnen die Tagesordnungspunkte eines Protokolls sein, oder die Protokolle eines Bandes.\\u201eServicelinks\\u201c sind Links auf allgemeine Seiten des Bundesarchivs, die aus der Online-Edition herausf\\u00fchren.\\u201eBandbilder\\u201c sind jeweils f\\u00fcnf Bilder, die aus der gedruckten Edition entnommen wurden und jeweils zu einem Band eingeblendet werden. Die Bilder sind mit einem alternativen Text beschrieben.\\u201eStandort\\u201c stellt den Weg vom Anfangspunkt der Edition, \\u00fcber die gew\\u00e4hlte Serie, den aktuellen Band und Abschnitt darin zum angezeigten Textabschnitt  . Die jeweils \\u00fcbergeordneten Texteinheiten sind durch Links erreichbar. Innerhalb eines Bandes wird mit dem Wort \\u201eStandort\\u201c im Navigationsbaum die Position im Inhaltsverzeichnis markiert.Das \\u201eLayoutmen\\u00fc\\u201c erm\\u00f6glicht die Wahl der Darstellung. Die Fu\\u00dfnoten k\\u00f6nnen entweder hinter jedem Absatz oder am Ende der Seite angezeigt werden. Der Text kann kontrastreduziert sowohl in schwarz auf wei\\u00dfem Grund  als auch in wei\\u00df auf schwarzem Grund angezeigt werden. Das Inhaltsverzeichnis kann ausgeblendet werden, die Funktionen \\u201eSuche\\u201c, \\u201eInhaltsverzeichnis der Edition\\u201c und \\u201eHilfe\\u201c werden nicht ausgeblendet und \\u00fcber das Layoutmen\\u00fc kann das Inhaltsverzeichnis auch wieder eingeschaltet werden.\\nnach oben\\n\\u00a0Access KeysDie Links auf die Funktionen der Seite k\\u00f6nnen mit Abk\\u00fcrzungen (sog. Access Keys) angesteuert werden. Die Belegung der Ziffern, die als Access Keys gew\\u00e4hlt wurden, ist wie folgt:Access Key 9:gehe zum vorherigen Knoten auf gleicher Ebene (dargestellt als Doppelpfeil nach links)Access Key 4: gehe zum direkten Vorg\\u00e4ngerknoten, entspricht dem Bl\\u00e4ttern im Buch, auch \\u00fcber Buchgrenzen hinweg (dargestellt als Pfeil nach links)Access Key 8: gehe zum vorherigen \\u00fcbergeordneten Knoten (dargestellt als Pfeil nach oben)Access Key 5: gehe zum Inhaltsverzeichnis der Edition (dargestellt als Inhaltsverzeichnis)Access Key 2: gehe in den Navigationsbaum an die Position des aktuell gew\\u00e4hlten Knotens (dargestellt als Pfeil nach unten)Access Key 6: gehe zum direkten Nachfolgerknoten, entspricht dem Bl\\u00e4ttern wie im Buch, auch \\u00fcber Buchgrenzen hinweg (dargestellt als Pfeil nach rechts)Access Key 3: gehe zum n\\u00e4chsten Knoten auf gleicher Ebene (dargestellt als Doppelpfeil nach rechts)\\n\\nnach oben\\n\\u00a0Aktivieren der Access-KeysDie Ansteuerung eines Access Keys ist von Browser zu Browser unterschiedlich. Die Navigation mit Access-Keys unterscheidet sich leicht von Browser zu Browser. Die Aktivierung erfolgt unter WindowsbeidurchInternet ExplorerAlt + belegte Taste + EnterNetscape, Mozilla, Firefox 1Alt+ belegte TasteFirefox 2Alt + Umschalt + belegte TasteOperaUmschalt+ESC, dann die belegte TasteKonquerorSTRG, dann die belegte TasteIm aktuellem Mac-Betriebssystem erfolgt die Aktivierung durch STRG und die belegte Taste.\\n\\nnach oben\\n\\u00a0Kontraststarke DarstellungDie Seite kann kontrastverst\\u00e4rkt sowohl in schwarz auf wei\\u00dfem Grund  als auch in wei\\u00df auf schwarzem Grund angezeigt werden. Die Auswahl erfolgt \\u00fcber das Layout-Men\\u00fc. Ist eine Ansicht aktiviert, f\\u00fchrt die erneute Auswahl zum urspr\\u00fcnglichen Aussehen. \\nnach oben\\n\\u00a0Screenreader\\u2013 und Textansicht einer SeiteIn der Textansicht einer Seite sind am Anfang jeder Seite einige zus\\u00e4tzliche Informationen und Links dargestellt. Zur leichteren Orientierung wird in der ersten \\u00dcberschrift der Bezeichner f\\u00fcr die Position im aktuellen Band und der inhaltliche Titel der Seite genannt. Diese Information geht auch aus dem HTML-Titel der Seite und der Adresse der Seite hervor. Die Bandangabe ist auch ein Teil der Adresse jeder Seite.Es folgen Kurzverweise \\u201eZum Text\\u201c, \\u201eZum Suchformular\\u201c, \\u201eZu den Funktionen\\u201c und \\u201eZum Navigationsmen\\u00fc\\u201c. Auf Seiten, die Fu\\u00dfnoten enthalten, kann die erste Fu\\u00dfnote direkt angesteuert werden. Auf Seiten, die aus einer Suche aufgerufen wurden, kann der erste Suchtreffer direkt angesteuert werden. Dann folgen hinter \\u201eSpringe direkt zu:\\u201c die Verweise auf die wiederkehrenden Bereiche jeder Seite.Die wiederkehrenden Bereiche werden durch \\u00dcberschriften eingeleitet, die zur Strukturierung der Seite dargestellt werden. Der Text der beschriebenen abk\\u00fcrzenden Links und die strukturierenden \\u00dcberschriften sind nicht Teil der Edition. Nur der Abschnitt zwischen den \\u00dcberschriften \\u201eText\\u201c und \\u201eExtras (Fu\\u00dfzeile)\\u201c auf den Seiten eines Bandes entstammt der Edition.\\n\\n\\nnach oben\\n\\u00a0BilderBilder werden regelm\\u00e4\\u00dfig in der Bildleiste zu jedem Band eingeblendet und treten vereinzelt im Text der Edition auf. Alle Bilder der Bildleiste sind der Buchedition entnommen und durch einen alternativen Text beschrieben. Die Beschreibung der Bilder war in der gedruckten Fassung der Edition nicht in jedem Fall enthalten. Die Bildbeschreibung wird als alternativer Link auf eine Seite \\u201elongdesc.html\\u201c angegeben und anstelle des Bildes eingeblendet. Wird in der Bildbeschreibung auf Tagesordnungspunkte verwiesen, sind diese durch einen Link erreichbar.\\nAbbildungen im Text, die in schwarz auf wei\\u00dfem Grund vorliegen, werden in der invertierten Darstellung einer Seite ebenfalls invertiert dargestellt.\\n\\n\\nnach oben\\n\\u00a0TabellenZur Formatierung des Textes werden Tabellen nur dann eingesetzt, wenn ihr Inhalt ohne Sinnentstellung hintereinander lesbar ist. Die Darstellung tabellarischer Inhalte wurde durch die Vergabe von Spalten- und Zeilen\\u00fcberschriften verbessert. Eine Zusammenfassung des Inhalts wurde f\\u00fcr die Online-Edition ebenfalls erg\\u00e4nzt, auch sie ist kein Bestandteil der gedruckten Fassung.\\nnach oben\\n\\u00a0Suche in den Kabinettsprotokollen\\u00a01. KurzfassungAllgemeines zur Volltextsuche:Durch einen Klick auf den Schriftzug \\u00bbSuche\\u00ab \\u00f6ffnen Sie die Recherchemaske am linken Bildrand. Jetzt haben Sie die M\\u00f6glichkeit zu einer Volltextsuche, d.h., Sie k\\u00f6nnen nach einzelnen W\\u00f6rtern (z.B. \\u00bbGipfelkonferenz\\u00ab) oder nach l\\u00e4ngeren Textpassagen suchen (z.B. \\u00bbAnhebung der Verkehrstarife\\u00ab). Findet die Suchmaschine das von Ihnen eingegebene Wort bzw. die W\\u00f6rter, so erscheinen im mittleren Teil der Seite die erzielten Treffer. Die Trefferdarstellung verwendet Zwischen\\u00fcberschriften, welche die Zugeh\\u00f6rigkeit der Treffer zu einem Band bzw. Bandtyp markieren. Bei band\\u00fcbergreifender Recherche erfolgt eine chronologische Darstellung. Die Treffer erscheinen in der Abfolge der Strukturteile eines Bandes; innerhalb der Protokolltexte sind sie chronologisch angeordnet. Sollten mehr als die eingestellten anzuzeigenden Treffer gefunden worden sein, wird unterhalb der Bandbilder und am Fu\\u00df der Seite am rechten Rand eine Navigationshilfe f\\u00fcr die Trefferseiten eingeblendet.Die gefundenen Treffer werden als Links erstellt. Wenn Sie auf einen Treffer klicken, wird das Hauptfenster aktualisiert. Dort erscheint der erste Absatz, in dem das gesuchte Wort bzw. die gesuchten W\\u00f6rter gefunden wurden. In der Navigationshilfe auf der linken Seite und in der Standortleiste unterhalb der Bandbilder ist die entsprechende Stelle markiert, die das aktualisierte Textelement im gesamten Textcorpus einnimmt. Das Suchwort bzw. die Suchw\\u00f6rter werden gelb hervorgehoben. Bei mehreren Suchtreffern auf einer Seite ist ein Treffer jeweils mit dem n\\u00e4chsten Absatz verlinkt, der den Folgetreffer enth\\u00e4lt.\\nnach oben\\n\\u00a02. LangfassungUm m\\u00f6glichst wenige und genaue Treffer zu erhalten, gibt es eine Vielzahl von Einschr\\u00e4nkungsm\\u00f6glichkeiten, die miteinander kombiniert werden k\\u00f6nnen.\\u00a0a) Suche mit Booleschen OperatorenUm Ihre Suche st\\u00e4rker einzuschr\\u00e4nken, k\\u00f6nnen Sie mehrere Suchbegriffe gleichzeitig eingeben und diese auf verschiedene Weise miteinander verkn\\u00fcpfen. Dabei gibt es folgende Verkn\\u00fcpfungsm\\u00f6glichkeiten:\\n1. \\u00bbAND\\u00ab: Dies ist die Standardverkn\\u00fcpfung. Geben Sie mehrere Begriffe in die Suchmaske ein, werden diese automatisch mit \\u00bbAND\\u00ab verkn\\u00fcpft. Bei dieser Verkn\\u00fcpfung werden Ihnen nur diejenigen Textstellen angezeigt, in denen beide Begriffe vorkommen. Geben Sie dazu ein \\u00bbAnhebung AND Verkehrstarife\\u00ab.2. \\u00bbOR\\u00ab: Wenn Sie z.B. die Begriffe \\u00bbAnhebung\\u00ab und \\u00bbVerkehrstarife\\u00ab eingeben, dann erhalten Sie alle Textstellen, in denen entweder das eine oder das andere Wort oder beide W\\u00f6rter zusammen vorkommen.3. \\u00bbNOT\\u00ab: Durch diesen Operator k\\u00f6nnen Sie W\\u00f6rter ausschlie\\u00dfen. Wenn Sie \\u00bbAdenauer NOT Erhard\\u00ab eingeben, so erhalten Sie nur Textstellen in denen der Begriff Adenauer vorkommt, Erhard aber nicht.4. \\u00bb+\\u00ab: Setzen Sie dieses Zeichen vor dasjenige Wort, das auf jeden Fall vorkommen soll. Wenn Sie z.B. eingeben \\u00bbAnhebung +Verkehrstarife\\u00ab, so erhalten Sie alle Textstellen angezeigt, in denen der Begriff \\u00bbVerkehrstarife\\u00ab vorkommt, jedoch nicht zwingend der Begriff \\u00bbAnhebung\\u00ab.5. Wildcard-Suche: Sucht alle Varianten eines Wortes; geben Sie z.B. \\u00bbVerkehr*\\u00ab ein, so erhalten Sie alle Textstellen, in denen W\\u00f6rter mit dem Anfangsbestandteil Verkehr auftauchen.6. Phrase-Suche: Sucht eine genaue Abfolge von Worten. Geben Sie z.B. \\u00bb\\\"Kampf dem Atomtod\\\"\\u00ab (mit Anf\\u00fchrungszeichen) ein, so erhalten Sie alle Textstellen, in denen diese drei W\\u00f6rter in dieser Reihenfolge vorkommen.\\u00a0b) Suche mit und ohne BegriffsbearbeitungIm Standardmodus wird die Suche mit \\u00bbgleicher Wortstamm\\u00ab durchgef\\u00fchrt, d.h., wenn Sie nach einem Wort in der Grundform suchen, werden auch Varianten mit abweichenden Endungen oder Pluralformen ber\\u00fccksichtigt. Suchen Sie den Begriff \\u00bbLand\\u00ab mit gleichem Wortstamm, finden Sie auch die W\\u00f6rter \\u00bbLandes\\u00ab und \\u00bbL\\u00e4nder\\u00ab. Sollten Sie diese Suchfunktion nicht w\\u00fcnschen, k\\u00f6nnen Sie im Men\\u00fc Begriffsbearbeitung die Suche \\u00bbgenaue Treffer\\u00ab w\\u00e4hlen.\\u00a0c) Auswahl Protokolle/BiographienIm der Standardeinstellung werden sowohl die B\\u00e4nde der Kabinettsprotokolle, der Kabinettsaussch\\u00fcsse als auch die band\\u00fcbergreifenden Kurzbiographien abgesucht. Sind Sie an einer Suche in nur einem dieser Bereiche interessiert, k\\u00f6nnen Sie diese \\u00fcber das Men\\u00fcfenster entsprechend einschr\\u00e4nken.\\u00a0d) ZeitraumIm Standardmodus werden alle B\\u00e4nde seit 1949 bis zum aktuellsten durchsucht. Eine chronologische Einschr\\u00e4nkung erfordert das Ausf\\u00fcllen beider Jahresfelder in der \\u00bbvon-bis-Suche\\u00ab.\\u00a0e) Einschr\\u00e4nkung der SuchgebieteIn der Standardeinstellung (Volltext) wird in allen Elementen der Edition der Kabinettsprotokolle nach den eingegebenen Begriffen gesucht. Wenn Sie beispielsweise das Wort \\u00bbOberl\\u00e4nder\\u00ab eingeben, so erhalten Sie z.B. Trefferanzeigen sowohl aus den Listen der Sitzungsteilnehmer, aus einzelnen Tagesordnungspunkten und aus der Einleitung.Sie k\\u00f6nnen jedoch auch individuell festlegen, welche Bereiche im Text bei Ihrer Suche ber\\u00fccksichtigt werden sollen. Im Men\\u00fc \\u00bbSuchbereich\\u00ab k\\u00f6nnen Sie folgende Auswahl treffen:1. Volltext: Dies ist die Standardeinstellung. Alle Elemente werden bei der Suche ber\\u00fccksichtigt.2. Fu\\u00dfnoten: Nur die Fu\\u00dfnoten werden durchsucht.3. Teilnehmer: Nur die Teilnehmerlisten in den Dokumentenk\\u00f6pfen der einzelnen Sitzungen werden durchsucht.4. TOP-\\u00dcberschrift: Nur die \\u00dcberschriften der einzelnen Tagesordnungspunkte werden bei der Suche ber\\u00fccksichtigt.5. Protokolltext: Nur die reinen Protokolltexte werden durchsucht. In B\\u00e4nden mit Wortprotokollen schlie\\u00dft das diese ein.6. Einleitung: Nur die Einleitungen werden durchsucht.\\u00a0f) Suche \\u00fcber PersonenlisteJeder Band enth\\u00e4lt den Auswahlpunkt \\u00bbPersonenliste\\u00ab, \\u00fcber den Sie alle in dem betreffenden Band in der ein oder anderen Weise vorkommenden Personen ermitteln k\\u00f6nnen. Klicken Sie in der A-Z-Liste auf einen Namen, so wird eine Suche nach dem Namen der betreffenden Person in der Eingrenzung auf den Band ausgel\\u00f6st.\\nnach oben\\n\\u00a0Suche in der barrierefreien VersionDie Suche in der barrierefreien Version entspricht der oben beschriebenen Suche.Am Anfang jeder Seite gibt es einen abk\\u00fcrzenden Link direkt \\u201eZum Suchformular\\u201c. Die Felder des Suchformulars sind durch Dr\\u00fccken der \\u201eTab\\u201c-Taste in der Reihenfolge nach ausw\\u00e4hlbar.\\u00a0SuchergebnisseEine Suche stellt die Ergebnisse im Text-Bereich der Seite dar. Dort sind die \\u00dcberschriften der Seiten mit Suchtreffern eingeblendet und verweisen auf die jeweilige Seite. Ebenfalls wird die Gesamtzahl der Suchtreffer angegeben und in welchem Block man sich befindet. Wurden mehr Seiten als in einem Block darstellbar gefunden, werden durchnumerierte Links zu den Folgebl\\u00f6cken mit Suchtreffern als Navigationsmen\\u00fc  angeboten. Sie sind auch \\u00fcber die Accesskeys wie folgt zu erreichen;6zur n\\u00e4chsten Block mit Treffern4zur vorhergehenden Block mit Treffern0zum Anfang des Textes, hier die Liste der Treffer, die durch die \\u00dcberschrift des Textteils dargestellt sind.\\u00a0Treffer auf der ErgebnisseiteBei Aktivierung eines Suchtreffers wird die jeweilige Seite aufgerufen. Am Anfang der Ergebnisseite wird ein weiterer Link eingeblendet, der auf den Absatz mit dem ersten Vorkommen des gesuchten Textes verweist. Im Titel dieses Links wird die Gesamtzahl der Abs\\u00e4tze mit Vorkommen des gesuchten Textes auf der Ergebnisseite angegeben. Von jedem Suchtreffer kann man auf den Anfang des n\\u00e4chsten Absatzes springen, der Suchtreffer enth\\u00e4lt. Dadurch wird der Fokus auf den Anfang des Kontextes gesetzt, in dem der gesuchte Text auftritt.Zus\\u00e4tzlich werden alle Suchtreffer auf einer Seite visuell durch einen gelben Hintergrund hervorgehoben.Auf die n\\u00e4chste Seite mit Treffern gelangt man durch Zur\\u00fcckgehen auf die Seite mit den Suchergebnissen. Dort ist die letzte Suche gespeichert und die n\\u00e4chste Seite mit Suchtreffern kann gew\\u00e4hlt werden.\\nnach oben\"}\n",
            "msgCont: {\"Url\": \"https://www.bundesarchiv.de/cocoon/barch/0000/geschaeftsordnung.html\", \"TextInfo\": \"Gesch\\u00e4ftsordnung der Bundesregierung\\nvom 11. Mai 1951\\n(GMBl. 1951, S. 137) und \\u00c4nderungen durch Bekanntmachungen vom 29. M\\u00e4rz und 12. Sept. 1967 (GMBl. 1967, S. 130 und 430) sowie vom 6. Jan. 1970 (GMBl. 1970, S. 14) und 23. Jan. 1970 (GMBl. 1970, S. 50)  \\n  \\nDie Bundesregierung hat nach Artikel 65 des Grundgesetzes folgende, von dem Bundespr\\u00e4sidenten genehmigte Gesch\\u00e4ftsordnung beschlossen:\\n\\n\\u00a0I. DER BUNDESKANZLER\\u00a7 1\\n\\nDer Bundeskanzler bestimmt die Richtlinien der inneren und \\u00e4u\\u00dferen Politik. Diese sind f\\u00fcr die Bundesminister verbindlich und von ihnen in ihrem Gesch\\u00e4ftsbereich selbst\\u00e4ndig und unter eigener Verantwortung zu verwirklichen. In Zweifelsf\\u00e4llen ist die Entscheidung des Bundeskanzlers einzuholen.Der Bundeskanzler hat das Recht und die Pflicht, auf die Durchf\\u00fchrung der Richtlinien zu achten.\\n\\u00a7 2Neben der Bestimmung der Richtlinien der Politik hat der Bundeskanzler auch auf die Einheitlichkeit der Gesch\\u00e4ftsf\\u00fchrung in der Bundesregierung hinzuwirken.\\u00a7 3Der Bundeskanzler ist aus dem Gesch\\u00e4ftsbereich der einzelnen Bundesminister \\u00fcber Ma\\u00dfnahmen und Vorhaben zu unterrichten, die f\\u00fcr die Bestimmung der Richtlinien der Politik und die Leitung der Gesch\\u00e4fte der Bundesregierung von Bedeutung sind.\\u00a7 4H\\u00e4lt ein Bundesminister eine Erweiterung oder \\u00c4nderung der Richtlinien der Politik f\\u00fcr erforderlich, so hat er dem Bundeskanzler unter Angabe der Gr\\u00fcnde hiervon Mitteilung zu machen und seine Entscheidung zu erbitten.\\u00a7 5Der Bundeskanzler unterrichtet den Bundespr\\u00e4sidenten laufend \\u00fcber seine Politik und die Gesch\\u00e4ftsf\\u00fchrung der einzelnen Bundesminister durch \\u00dcbersendung der wesentlichen Unterlagen, durch schriftliche Berichte \\u00fcber Angelegenheiten von besonderer Bedeutung sowie nach Bedarf durch pers\\u00f6nlichen Vortrag.\\u00a7 6Der Bundeskanzler leitet die Gesch\\u00e4fte der Bundesregierung nach Ma\\u00dfgabe des IV. Abschnittes.\\u00a7 7\\nDer Staatssekret\\u00e4r des Bundeskanzleramtes nimmt zugleich die Gesch\\u00e4fte eines Staatssekret\\u00e4rs der Bundesregierung wahr.Er kann die an den Bundeskanzler gerichteten oder ihm von dem Bundespr\\u00e4sidenten \\u00fcberwiesenen Schreiben unmittelbar an den zust\\u00e4ndigen Bundesminister weiterleiten. Empfiehlt der zust\\u00e4ndige Bundesminister eine Beantwortung durch den Bundeskanzler, so legt er dem Bundeskanzler einen entsprechenden Entwurf vor.\\n\\u00a0II. STELLVERTRETUNG DES BUNDESKANZLERS\\u00a7 8Ist der Bundeskanzler an der Wahrnehmung der Gesch\\u00e4fte allgemein verhindert, so vertritt ihn der gem\\u00e4\\u00df Artikel 69 des Grundgesetzes zu seinem Stellvertreter ernannte Bundesminister in seinem gesamten Gesch\\u00e4ftsbereich. Im \\u00fcbrigen kann der Bundeskanzler den Umfang seiner Vertretung n\\u00e4her bestimmen.\\u00a0III. DIE BUNDESMINISTER\\u00a7 9Der Gesch\\u00e4ftsbereich der einzelnen Bundesminister wird in den Grundz\\u00fcgen durch den Bundeskanzler festgelegt. Bei \\u00dcberschneidungen und sich daraus ergebenden Meinungsverschiedenheiten zwischen den einzelnen Bundesministern entscheidet die Bundesregierung durch Beschlu\\u00df.\\u00a7 10\\nAbordnungen (Deputationen) sollen in der Regel nur von dem federf\\u00fchrenden Fachminister oder seinem Vertreter empfangen werden. Sie sind vorher um Angabe des Verhandlungsgegenstandes zu ersuchen. Erscheint ein gemeinsamer Empfang angezeigt, so benachrichtigt der angegangene Bundesminister die au\\u00dfer ihm noch in Frage kommenden Bundesminister.Der Bundeskanzler empf\\u00e4ngt Abordnungen nur in besonderen F\\u00e4llen.\\n\\u00a7 11\\nMitglieder und Vertreter ausw\\u00e4rtiger Regierungen sowie Vertreter zwischenstaatlicher Einrichtungen sollen nur nach vorherigem Benehmen mit dem Ausw\\u00e4rtigen Amt empfangen werden.Verhandlungen mit dem Ausland oder im Ausland d\\u00fcrfen nur mit Zustimmung des Ausw\\u00e4rtigen Amtes, auf sein Verlangen auch nur unter seiner Mitwirkung gef\\u00fchrt werden.Die Bestimmungen der Abs\\u00e4tze 1 und 2 gelten nicht f\\u00fcr den Bundesminister f\\u00fcr den Marshallplan, soweit er in Aus\\u00fcbung der ihm \\u00fcbertragenen Aufgaben t\\u00e4tig ist. Er hat jedoch das Ausw\\u00e4rtige Amt \\u00fcber Verhandlungen mit dem Ausland oder im Auslande und \\u00fcber solche Besprechungen mit Vertretern ausw\\u00e4rtiger Regierungen sowie Vertretern zwischenstaatlicher Einrichtungen zu unterrichten, die \\u00fcber die Erledigung laufender Angelegenheiten seines Gesch\\u00e4ftsbereiches hinausgehen.\\n\\u00a7 12\\u00c4u\\u00dferungen eines Bundesministers, die in der \\u00d6ffentlichkeit erfolgen oder f\\u00fcr die \\u00d6ffentlichkeit bestimmt sind, m\\u00fcssen mit den vom Bundeskanzler gegebenen Richtlinien der Politik in Einklang stehen.\\u00a7 13\\nJeder Bundesminister macht, bevor er den Sitz der Bundesregierung l\\u00e4nger als 1 Tag verl\\u00e4\\u00dft, dem Bundeskanzler Mitteilung. Bei Abwesenheit von mehr als 3 Tagen und bei Auslandsreisen ist das Einvernehmen mit dem Bundeskanzler herzustellen.Zur Annahme von Einladungen in das Ausland ist die Zustimmung des Bundeskanzlers erforderlich. Bevor ein Bundesminister den Sitz der Bundesregierung verl\\u00e4\\u00dft, gibt er dem Bundeskanzler die Anschrift an, unter der er w\\u00e4hrend seiner Abwesenheit zu erreichen ist.\\n\\u00a7 14Ist ein Bundesminister verhindert, so wird er in der Regierung durch den dazu bestimmten Bundesminister, als Leiter einer obersten Bundesbeh\\u00f6rde durch den Staatssekret\\u00e4r oder bei dessen Behinderung durch die dazu bestimmten Beamten seines Ministeriums vertreten.\\u00a7 14 (Fassung der Bekanntmachung vom 6. Jan. 1970)\\nIst ein Bundesminister verhindert, so wird er in der Regierung durch den dazu bestimmten Bundesminister vertreten.F\\u00fcr Erkl\\u00e4rungen vor dem Bundestag, vor dem Bundesrat und in den Sitzungen der Bundesregierung wird der Bundesminister durch den Parlamentarischen Staatssekret\\u00e4r vertreten. Der Bundesminister kann f\\u00fcr Einzelf\\u00e4lle anordnen, da\\u00df solche Erkl\\u00e4rungen durch den Staatssekret\\u00e4r abgegeben werden.Als Leiter einer obersten Bundesbeh\\u00f6rde wird ein Bundesminister im Falle seiner Verhinderung durch den Staatssekret\\u00e4r und in dem Aufgabenbereich, der dem Parlamentarischen Staatssekret\\u00e4r nach \\u00a7 14 a \\u00fcbertragen worden ist, sowie in den von ihm bestimmten Einzelf\\u00e4llen von diesem vertreten.\\n\\u00a7 14 a (Fassung der Bekanntmachung vom 29. M\\u00e4rz 1967)Der Bundesminister, dem ein Parlamentarischer Staatssekret\\u00e4r beigegeben ist, bestimmt, welche Aufgaben der Parlamentarische Staatssekret\\u00e4r nach seiner Weisung wahrnehmen soll. \\u00a7 14 bleibt unber\\u00fchrt.\\u00a7 14 a (Fassung der Bekanntmachung vom 6. Jan. 1970)Der Bundesminister bestimmt im einzelnen, welche Aufgaben der Parlamentarische Staatssekret\\u00e4r wahrnehmen soll.\\u00a0IV. DIE BUNDESREGIERUNG\\u00a7 15\\nDer Bundesregierung sind zur Beratung und Beschlu\\u00dffassung zu unterbreiten alle Angelegenheiten von allgemeiner innen- oder au\\u00dfenpolitischer, wirtschaftlicher, sozialer, finanzieller oder kultureller Bedeutung, insbesondere \\n\\t\\t\\t\\t\\t\\t\\talle Gesetzentw\\u00fcrfe,alle Entw\\u00fcrfe von Verordnungen der Bundesregierung,sonstige Verordnungsentw\\u00fcrfe, wenn sie von besonderer politischer Bedeutung sind,die Stellungnahme des Bundesrates zu den Vorlagen der Bundesregierung,alle Angelegenheiten, f\\u00fcr welche Grundgesetz oder Gesetz dieses vorschreiben,Meinungsverschiedenheiten zwischen verschiedenen Bundesministern.\\nIhr sind au\\u00dferdem zu unterbreiten:\\n\\t\\t\\t\\t\\t\\t\\t\\tVorschl\\u00e4ge zur Ernennung von Beamten, die jederzeit in den Wartestand versetzt werden k\\u00f6nnen, von sonstigen Beamten, die nach der Besoldungsordnung feste Geh\\u00e4lter beziehen, sowie von Ministerialr\\u00e4ten und Ministerialbeamten gleichen Ranges.Vorschl\\u00e4ge zur Anstellung von Angestellten nach der ADO f\\u00fcr \\u00fcbertarifliche Angestellte im \\u00f6ffentlichen Dienst der obersten Bundesbeh\\u00f6rden,zur Beratung ohne Beschlu\\u00dffassung: Vorschl\\u00e4ge f\\u00fcr die Zustimmung des zust\\u00e4ndigen Bundesministers zur Ernennung von Bundesrichtern.\\n\\n\\u00a7 15 (Fassung der Bekanntmachung vom 23. Jan. 1970)\\nDer Bundesregierung sind zur Beratung und Beschlu\\u00dffassung zu unterbreiten alle Angelegenheiten von allgemeiner innen- oder au\\u00dfenpolitischer, wirtschaftlicher, sozialer, finanzieller oder kultureller Bedeutung, insbesondere \\n\\t\\t\\t\\t\\t\\t\\talle Gesetzentw\\u00fcrfe,alle Entw\\u00fcrfe von Verordnungen der Bundesregierung,sonstige Verordnungsentw\\u00fcrfe, wenn sie von besonderer politischer Bedeutung sind,die Stellungnahme des Bundesrates zu den Vorlagen der Bundesregierung,alle Angelegenheiten, f\\u00fcr welche Grundgesetz oder Gesetz dieses vorschreiben,Meinungsverschiedenheiten zwischen verschiedenen Bundesministern; Meinungsverschiedenheiten \\u00fcber die Entw\\u00fcrfe der Finanzplanung, des Haushaltsgesetzes und des Haushaltsplans, wenn es sich um Angelegenheiten von grunds\\u00e4tzlicher Bedeutung f\\u00fcr den betroffenen Bundesminister oder erheblicher finanzieller Bedeutung handelt.\\nIhr sind au\\u00dferdem zu unterbreiten:\\n\\t\\t\\t\\t\\t\\t\\t\\tVorschl\\u00e4ge zur Ernennung von Beamten, die jederzeit in den Wartestand versetzt werden k\\u00f6nnen, von sonstigen Beamten, die nach der Besoldungsordnung feste Geh\\u00e4lter beziehen, sowie von Ministerialr\\u00e4ten und Ministerialbeamten gleichen Ranges.Vorschl\\u00e4ge zur Anstellung von Angestellten nach der ADO f\\u00fcr \\u00fcbertarifliche Angestellte im \\u00f6ffentlichen Dienst der obersten Bundesbeh\\u00f6rden,zur Beratung ohne Beschlu\\u00dffassung: Vorschl\\u00e4ge f\\u00fcr die Zustimmung des zust\\u00e4ndigen Bundesministers zur Ernennung von Bundesrichtern.\\n\\n\\u00a7 16\\nAlle Angelegenheiten, die der Bundesregierung unterbreitet werden, sind vorher zwischen den beteiligten Bundesministerien zu beraten, sofern nicht im Einzelfalle die Dringlichkeit der Entscheidung eine Ausnahme notwendig macht.Die bei den Beratungen strittig gebliebenen Punkte sind in dem Anschreiben an den Staatssekret\\u00e4r des Bundeskanzleramtes (\\u00a7 21 Abs. 2) oder in sonst geeigneter Weise mit kurzer Begr\\u00fcndung der vorgeschlagenen L\\u00f6sung aufzuf\\u00fchren.Bei der Vorlage von Gesetzentw\\u00fcrfen ist mitzuteilen, da\\u00df die Ausf\\u00fchrung des Gesetzes Bund, L\\u00e4nder und Gemeinden nicht mit Kosten belastet oder, wenn dies der Fall ist, ob der Bundesminister der Finanzen nach Kenntnis von dem Plane des Gesetzes Widerspruch erhoben hat. Fehlt der Vermerk, so sorgt der Staatssekret\\u00e4r des Bundeskanzleramtes daf\\u00fcr, da\\u00df er nachgeholt wird.Ist keine m\\u00fcndliche Er\\u00f6rterung im Kabinett erforderlich, so ist bei der Vorlage zu bemerken, da\\u00df ein Beschlu\\u00df auf schriftlichem Wege ausreichen wird (\\u00a7 20 Abs. 2).\\n\\u00a7 17\\nMeinungsverschiedenheiten zwischen den Bundesministern sind der Bundesregierung erst zu unterbreiten, wenn ein pers\\u00f6nlicher Verst\\u00e4ndigungsversuch zwischen den beteiligten Bundesministern oder im Falle ihrer Behinderung zwischen ihren Vertretern ohne Erfolg geblieben ist.Der Bundeskanzler kann Meinungsverschiedenheiten vor der Beratung im Kabinett zun\\u00e4chst in einer Ministerbesprechung mit den beteiligten Bundesministern unter seinem Vorsitz er\\u00f6rtern.\\n\\u00a7 18\\nVorschl\\u00e4ge zur Ernennung von Beamten und zur Anstellung von Angestellten sind in den F\\u00e4llen des \\u00a7 15 Abs. 2 Buchst. a) und b) vor jeder entscheidenden oder verpflichtenden Ma\\u00dfnahme oder Mitteilung der Bundesregierung zu unterbreiten; in den \\u00fcbrigen F\\u00e4llen sind sie, sofern es sich um Beamte des h\\u00f6heren Dienstes (Gruppe A 2 c 2 und h\\u00f6her) und die ihnen gleichgestellten Angestellten in den Ministerien handelt, dem Bundeskanzler zur Kenntnis mitzuteilen.Ernennungen d\\u00fcrfen erst nach Vollziehung der Urkunde durch den Bundespr\\u00e4sidenten ver\\u00f6ffentlicht werden.\\n\\u00a7 19Soll ein Beamter der Gruppe B 4 oder h\\u00f6herer Gruppen der Besoldungsordnung entlassen, in den Wartestand oder in den Ruhestand versetzt werden, so ist vor entscheidenden und verpflichtenden Ma\\u00dfnahmen oder Mitteilungen die Stellungnahme des Bundeskanzlers einzuholen. Alsdann ist vor solchen Ma\\u00dfnahmen oder Mitteilungen die Angelegenheit dem Bundespr\\u00e4sidenten zur Entscheidung zu unterbreiten.\\u00a7 20\\nDie Bundesregierung fa\\u00dft ihre Beschl\\u00fcsse in der Regel in gemeinschaftlicher Sitzung.\\u00a0Ist die m\\u00fcndliche Beratung einer Angelegenheit nicht erforderlich, so soll der Staatssekret\\u00e4r des Bundeskanzleramtes die Zustimmung der Mitglieder der Bundesregierung auf schriftlichem Wege einholen (Umlaufsache). Bestehen \\u00fcber die Notwendigkeit einer m\\u00fcndlichen Beratung Zweifel, so hat er die Entscheidung des Bundeskanzlers herbeizuf\\u00fchren.\\n\\u00a7 21\\nDie Sitzungen der Bundesregierung werden durch den Staatssekret\\u00e4r des Bundeskanzleramtes nach n\\u00e4herer Anweisung des Bundeskanzlers festgesetzt. Er veranla\\u00dft die Einladung zu den Sitzungen unter Beif\\u00fcgung einer Tagesordnung.\\u00a0Die von den Bundesministern vorgelegten Entw\\u00fcrfe und Ausf\\u00fchrungen sind dem Staatssekret\\u00e4r des Bundeskanzleramtes in der gew\\u00fcnschten Zahl von Abdrucken einzureichen; sie sind gleichzeitig s\\u00e4mtlichen Bundesministern und dem Chef des Bundespr\\u00e4sidialamtes unmittelbar zuzuleiten.Die \\u00dcbersendung von Kabinettsvorlagen hat so zeitig zu erfolgen, da\\u00df f\\u00fcr eine sachliche Pr\\u00fcfung vor der Beratung noch ausreichend Zeit bleibt. Zwischen der Zustellung der Vorlage an den Staatssekret\\u00e4r des Bundeskanzleramtes und die Bundesminister und der Beratung soll mindestens eine Woche liegen. Handelt es sich um umfangreichere Gesetzesvorlagen oder sonstige Vorlagen von weittragender Bedeutung und ist die Frist nicht eingehalten, so ist auf Antrag von zwei Bundesministern oder deren Vertretern die Angelegenheit von der Tagesordnung abzusetzen, es sei denn, da\\u00df der Bundeskanzler die sofortige Beratung f\\u00fcr notwendig h\\u00e4lt.\\n\\u00a7 22\\nDie Sitzungen der Bundesregierung finden unter dem Vorsitz des Bundeskanzlers im Falle seiner Behinderung unter dem Vorsitz des Stellvertreters des Bundeskanzlers statt. Ist auch der Stellvertreter verhindert, so f\\u00fchrt den Vorsitz der vom Bundeskanzler oder seinem Stellvertreter besonders bezeichnete Bundesminister oder mangels solcher Bezeichnungen der Bundesminister, der am l\\u00e4ngsten ununterbrochen der Bundesregierung angeh\\u00f6rt; bei mehreren Bundesministern mit gleicher Amtszeit \\u00fcbernimmt den Vorsitz der an Lebensjahren \\u00e4lteste Bundesminister.Die Sitzungen beginnen p\\u00fcnktlich zu der in der Einladung angegebenen Zeit. Behinderte Bundesminister haben f\\u00fcr ihre Vertretungen zu sorgen.Die Sitzungen der Bundesregierung sind vertraulich. Insbesondere sind Mitteilungen \\u00fcber Ausf\\u00fchrung einzelner Bundesminister, \\u00fcber das Stimmenverh\\u00e4ltnis und \\u00fcber den Inhalt der Niederschrift ohne besondere Erm\\u00e4chtigung des Bundeskanzlers unzul\\u00e4ssig.\\n\\u00a7 23\\nAn den Sitzungen der Bundesregierung nehmen au\\u00dfer den Bundesministern und dem Staatssekret\\u00e4r des Bundeskanzleramtes regelm\\u00e4\\u00dfig teil:\\n\\t\\t\\tder Chef des Bundespr\\u00e4sidialamtes,der Bundespressechef,der Pers\\u00f6nliche Referent des Bundeskanzlers,der Schriftf\\u00fchrer.\\nIst ein Bundesminister an der Teilnahme an einer Sitzung der Bundesregierung verhindert, so hat der Staatssekret\\u00e4r seines Ministeriums an der Sitzung teilzunehmen. Der Staatssekret\\u00e4r eines Bundesministeriums kann auch in Begleitung des Bundesministers an den Sitzungen der Bundesregierung teilnehmen.H\\u00e4lt ein Bundesminister die Zuziehung eines Beamten seines Ministeriums au\\u00dfer dem Staatssekret\\u00e4r f\\u00fcr erw\\u00fcnscht, so hat er dies unter Benennung des Beamten schriftlich anzuzeigen. \\u00dcber die Zulassung zur Sitzung entscheidet der Vorsitzende. Der Beamte nimmt an der Sitzung nur f\\u00fcr die Dauer der Verhandlungen \\u00fcber den Punkt, zu dem er zugezogen ist, teil.Der Bundeskanzler kann die Sitzung auf die Bundesminister beschr\\u00e4nken.\\n\\u00a7 23 (Fassung der Bekanntmachung vom 12. Sept. 1967)\\nAn den Sitzungen der Bundesregierung nehmen au\\u00dfer den Bundesministern und dem Chef des Bundeskanzleramtes sowie dem Parlamentarischen Staatssekret\\u00e4r beim Bundeskanzler regelm\\u00e4\\u00dfig teil:\\n\\t\\t\\tder Chef des Bundespr\\u00e4sidialamtes,der Bundespressechef,der Pers\\u00f6nliche Referent des Bundeskanzlers,der Schriftf\\u00fchrer.\\nIst ein Bundesminister an der Teilnahme an einer Sitzung der Bundesregierung verhindert, so nimmt nach der f\\u00fcr den Einzelfall gegebenen Weisung des Bundesministers der Staatssekret\\u00e4r seines Ministeriums oder der Parlamentarische Staatssekret\\u00e4r, wenn eine solche Weisung nicht vorliegt, der Staatssekret\\u00e4r an der Sitzung teil. Der Staatssekret\\u00e4r oder der Parlamentarische Staatssekret\\u00e4r k\\u00f6nnen auch in Begleitung des Bundesministers oder seines Vertreters gem\\u00e4\\u00df Satz 1) an der Sitzung teilnehmen.H\\u00e4lt ein Bundesminister die Zuziehung eines Beamten seines Ministeriums au\\u00dfer dem Staatssekret\\u00e4r f\\u00fcr erw\\u00fcnscht, so hat er dies unter Benennung des Beamten schriftlich anzuzeigen. \\u00dcber die Zulassung zur Sitzung entscheidet der Vorsitzende. Der Beamte nimmt an der Sitzung nur f\\u00fcr die Dauer der Verhandlungen \\u00fcber den Punkt, zu dem er zugezogen ist, teil.Der Bundeskanzler kann die Sitzung auf die Bundesminister beschr\\u00e4nken.\\n\\u00a7 23 (Fassung der Bekanntmachung vom 6. Jan. 1970)\\nAn den Sitzungen der Bundesregierung nehmen au\\u00dfer den Bundesministern und dem Chef des Bundeskanzleramtes sowie dem Parlamentarischen Staatssekret\\u00e4r beim Bundeskanzler regelm\\u00e4\\u00dfig teil:\\n\\t\\t\\tder Chef des Bundespr\\u00e4sidialamtes,der Bundespressechef,der Pers\\u00f6nliche Referent des Bundeskanzlers,der Schriftf\\u00fchrer.\\nIst der Bundesminister an der Teilnahme an einer Sitzung der Bundesregierung verhindert, so nimmt f\\u00fcr ihn der Parlamentarische Staatssekret\\u00e4r an der Sitzung teil. Der Bundesminister kann f\\u00fcr Einzelf\\u00e4lle anordnen, da\\u00df der Staatssekret\\u00e4r an der Sitzung teilnimmt.H\\u00e4lt ein Bundesminister die Zuziehung eines Beamten seines Ministeriums au\\u00dfer dem Staatssekret\\u00e4r f\\u00fcr erw\\u00fcnscht, so hat er dies unter Benennung des Beamten schriftlich anzuzeigen. \\u00dcber die Zulassung zur Sitzung entscheidet der Vorsitzende. Der Beamte nimmt an der Sitzung nur f\\u00fcr die Dauer der Verhandlungen \\u00fcber den Punkt, zu dem er zugezogen ist, teil.Der Bundeskanzler kann die Sitzung auf die Bundesminister beschr\\u00e4nken.\\n\\u00a7 24\\nDie Bundesregierung ist beschlu\\u00dff\\u00e4hig, wenn einschlie\\u00dflich des Vorsitzenden die H\\u00e4lfte der Bundesminister anwesend ist.Die Bundesregierung fa\\u00dft ihre Beschl\\u00fcsse mit Stimmenmehrheit. Bei Stimmengleichheit entscheidet die Stimme des Vorsitzenden.\\n\\u00a7 25Der Wortlaut der Beschl\\u00fcsse der Bundesregierung wird von dem Vorsitzenden jeweils im Anschlu\\u00df an die m\\u00fcndliche Beratung eines Gegenstandes festgelegt.\\u00a7 26\\n\\n\\t\\t\\t\\t\\t\\tBeschlie\\u00dft die Bundesregierung abgesehen von den \\u00a7\\u00a7 20 und 21 der Haushaltsordnung, in einer Frage von finanzieller Bedeutung gegen oder ohne die Stimme des Bundesministers der Finanzen, so kann dieser gegen den Beschlu\\u00df ausdr\\u00fccklich Widerspruch erheben. Wird Widerspruch erhoben, so ist \\u00fcber die Angelegenheit in einer weiteren Sitzung der Bundesregierung erneut abzustimmen. Die Durchf\\u00fchrung der Angelegenheit, der der Bundesminister der Finanzen widersprochen hat, mu\\u00df unterbleiben, wenn sie nicht in der neuen Abstimmung in Anwesenheit des Bundesministers der Finanzen oder seines Vertreters von der Mehrheit s\\u00e4mtlicher Bundesminister beschlossen wird und der Bundeskanzler mit der Mehrheit gestimmt hat.Entsprechendes gilt, wenn der Bundesminister der Justiz oder der Bundesminister des Innern gegen einen Gesetz- oder Verordnungsentwurf oder eine Ma\\u00dfnahme der Bundesregierung wegen ihrer Unvereinbarkeit mit geltendem Recht Widerspruch erhebt.\\n\\u00a7 27\\n\\u00dcber die Sitzungen der Bundesregierung wird eine Niederschrift aufgenommen, die von dem Schriftf\\u00fchrer unterzeichnet wird. Eine Abschrift der Niederschrift wird den Bundesministern umgehend zugesandt. Der Chef des Bundespr\\u00e4sidialamtes und der Bundespressechef erhalten nachrichtlich eine Abschrift der Niederschrift.Die Niederschrift gilt als genehmigt, wenn die beteiligten Bundesminister nicht innerhalb 3 Tagen nach ihrer Zustellung Einwendungen gegen den Inhalt oder die Fassung erheben.In Zweifelsf\\u00e4llen ist die Angelegenheit nochmals der Bundesregierung zu unterbreiten.\\n\\u00a7 28\\nDie von der Bundesregierung beschlossenen Vorlagen werden den gesetzgebenden K\\u00f6rperschaften durch den Bundeskanzler zugeleitet und vor ihnen durch den in der Sache zust\\u00e4ndigen Bundesminister vertreten.Die Vertretung hat einheitlich zu erfolgen, auch wenn einzelne Bundesminister anderer Auffassung sein sollten. Gegen die Auffassung der Bundesregierung zu wirken, ist den Bundesministern nicht gestattet.Bevor das Einverst\\u00e4ndnis mit wesentlichen \\u00c4nderungen einer Gesetzesvorlage im Bundestag oder Bundesrat oder in den Aussch\\u00fcssen erkl\\u00e4rt wird, ist die Bundesregierung zu befragen. Ist dies aus Zeitmangel nicht m\\u00f6glich und doch eine Stellungnahme geboten, so soll wenigstens eine Einigung mit den erreichbaren Ministerien gesucht werden.\\n\\u00a7 29\\nGesetze sind dem Bundespr\\u00e4sidenten erst nach der Gegenzeichnung durch den Bundeskanzler und den zust\\u00e4ndigen Bundesministern zur Vollziehung vorzulegen. Ber\\u00fchrt der Inhalt des Gesetzes den Gesch\\u00e4ftsbereich mehrerer Bundesminister, so zeichnen diese in der Regel auch die Ausfertigung.Verf\\u00fcgungen und Anordnungen sind dem Bundespr\\u00e4sidenten erst nach der Gegenzeichnung durch den zust\\u00e4ndigen Bundesminister zur Vollziehung vorzulegen. Absatz 1 Satz 2 gilt entsprechend.\\n\\u00a7 30\\nVerordnungen der Bundesregierung werden nach Gegenzeichnung durch den zust\\u00e4ndigen Fachminister vom Bundeskanzler gezeichnet. Sonstige Verordnungen werden - auch wenn sie der Bundesregierung vorgelegen haben - grunds\\u00e4tzlich von dem zust\\u00e4ndigen Bundesminister allein gezeichnet.Unter der ausdr\\u00fccklichen Bezeichnung \\u00bbDie Bundesregierung\\u00ab sollen - abgesehen von F\\u00e4llen besonderer Erm\\u00e4chtigung durch die Bundesregierung - nur der Bundeskanzler oder mit ihm der zust\\u00e4ndige oder alle Bundesminister zeichnen.\\n\\u00a7 31Die pr\\u00e4sidierenden Mitglieder der Landesregierungen sollen mehrmals im Jahre pers\\u00f6nlich zu gemeinsamen Besprechungen mit der Bundesregierung vom Bundeskanzler eingeladen werden, um wichtige politische, wirtschaftliche, soziale und finanzielle Fragen zu er\\u00f6rtern und in pers\\u00f6nlicher F\\u00fchlungnahme zu einer verst\\u00e4ndnisvollen einheitlichen Politik in Bund und L\\u00e4ndern beizutragen.\"}\n",
            "msgCont: {\"Url\": \"https://www.bundesarchiv.de/cocoon/barch/0000/k/k1956k/index.html\", \"TextInfo\": \"Die Kabinettsprotokolle der Bundesregierung Band 9. 1956\\nherausgegeben f\\u00fcr das Bundesarchiv von Friedrich P. Kahlenbergbearbeitet von Ursula H\\u00fcllb\\u00fcsch\\nR. Oldenbourg Verlag M\\u00fcnchen 1998ISBN 978-3-486-56281-1\"}\n",
            "msgCont: {\"Url\": \"https://www.bundesarchiv.de/cocoon/barch/0000/k/k1974k/index.html\", \"TextInfo\": \"Die Kabinettsprotokolle der Bundesregierung Band 27. 1974\\nherausgegeben f\\u00fcr das Bundesarchiv von Michael Hollmannbearbeitet von Uta R\\u00f6sselunter Mitwirkung von Christine Fabian, Veronika Heyde-G\\u00f6rtz und Christoph Seemann\\nDe Gruyter Oldenbourg Verlag Berlin/Boston 2018ISBN 978-3-11-056762-5\\nNur vier Tage nach der f\\u00fcr die deutsch-deutschen Beziehungen bedeutsamen Er\\u00f6ffnung der St\\u00e4ndigen Vertretungen der Bundesrepublik und der DDR tritt Bundeskanzler Willy Brandt zur\\u00fcck und \\u00fcbernimmt damit die politische Verantwortung f\\u00fcr die Spionageaff\\u00e4re um seinen pers\\u00f6nlichen Referenten G\\u00fcnter Guillaume. Die neue Bundesregierung unter Bundeskanzler Helmut Schmidt f\\u00fchrt die bisherige Ost- und Deutschlandpolitik fort und bem\\u00fcht sich gleicherma\\u00dfen um eine Intensivierung der transatlantischen Beziehungen. Die mit der \\u00d6lkrise 1973/74 einhergehende wirtschaftliche Rezession erschwert die Umsetzung der innenpolitischen Reformvorhaben. Angesichts der begrenzten Energieressourcen gewinnen Pl\\u00e4ne zur Kernkraftnutzung zus\\u00e4tzlichen Auftrieb. Zur Abstimmung gemeinsamer politischer Ziele beschlie\\u00dfen die Staats- und Regierungschefs der Europ\\u00e4ischen Gemeinschaften auf der Gipfelkonferenz in Paris regelm\\u00e4\\u00dfig mit den Au\\u00dfenministern als Rat der Gemeinschaft (ab 1992 Europ\\u00e4ischer Rat) zusammenzutreten. Ferner ber\\u00e4t das Kabinett organisatorische Fragen und Sicherheitsma\\u00dfnahmen f\\u00fcr die in M\\u00fcnchen stattfindende Fu\\u00dfballweltmeisterschaft, bei der die deutsche Mannschaft zum zweiten Mal den Titel erringt.\"}\n",
            "msgCont: {\"Url\": \"https://www.bundesarchiv.de/cocoon/barch/0000/k/k1955k/index.html\", \"TextInfo\": \"Die Kabinettsprotokolle der Bundesregierung Band 8. 1955\\nherausgegeben f\\u00fcr das Bundesarchiv von Friedrich P. Kahlenbergbearbeitet von Michael Hollmann und Kai von Jena\\nR. Oldenbourg Verlag M\\u00fcnchen 1997ISBN 978-3-486-56280-4\"}\n",
            "msgCont: {\"Url\": \"https://www.bundesarchiv.de/cocoon/barch/0000/k/k1959k/index.html\", \"TextInfo\": \"Die Kabinettsprotokolle der Bundesregierung Band 12. 1959\\nherausgegeben f\\u00fcr das Bundesarchiv von Hartmut Weberbearbeitet von Josef Henke und Uta R\\u00f6sselunter Mitwirkung von Ralf Behrendt, Markus Buth, Ulrich Enders und Christoph Schawe\\nR. Oldenbourg Verlag M\\u00fcnchen 2002ISBN 978-3-486-56699-4\\nIm zehnten Jahr des Bestehens der Bundesrepublik Deutschland standen im Mittelpunkt der au\\u00dfenpolitischen Tagesordnungspunkte des Kabinetts insbesondere die Berlin-Krise, die Deutschlandfrage und damit eng verkn\\u00fcpft die Genfer Au\\u00dfenministerkonferenz der vier Siegerm\\u00e4chte. An diesen ergebnislos endenden Beratungen \\u00fcber die Zukunft Deutschlands nahmen erstmals Vertreter beider Teile Deutschlands am ber\\u00fchmt gewordenen \\u201eKatzentisch\\u201c teil. Zu wichtigen innenpolitischen Themen des Kabinetts geh\\u00f6rten u. a. die Auseinandersetzungen mit den Bundesl\\u00e4ndern um die Einrichtung eines zweiten Fernsehsenders, die Parteiengesetzgebung, die Neuordnung der sozialen Krankenversicherung, die Kriegsopferversorgung, die Ausgabe erster Volksaktien, der Abschluss der wirtschaftlichen Eingliederung des Saarlandes sowie die Wahl des zweiten Bundespr\\u00e4sidenten Heinrich L\\u00fcbke. Die Protokolle wiederspiegeln zudem die Auseinandersetzungen innerhalb der Bundesregierung \\u00fcber den Umgang mit der neuen Flagge der DDR, die aus Anlass des zehnten Jahrestages ihrer Gr\\u00fcndung erstmals mit hinzugef\\u00fcgtem Staatswappen gehisst wurde und den Alleinvertretungsanspruch der Bundesrepublik in Frage stellte. Trotz allgemeiner positiver Konjunkturbilanz mit einer heute unvorstellbar niedrigen Arbeitslosenquote von 2,6 % war die Bundesregierung wegen der anhaltenden Absatzkrise im Steinkohlenbergbau und der Preissteigerungen f\\u00fcr landwirtschaftliche Produkte zu eingreifenden Ma\\u00dfnahmen gezwungen. In einer gro\\u00dfen Debatte des Bundestages \\u00fcber die Justizpolitik und im Fall des Bundesvertriebenenministers Oberl\\u00e4nder hatte sich die Bundesregierung auch verst\\u00e4rkt mit dem Problem der nationalsozialistischen Vergangenheit auseinanderzusetzen.\"}\n",
            "msgCont: {\"Url\": \"https://www.bundesarchiv.de/cocoon/barch/0000/k/k1973k/index.html\", \"TextInfo\": \"Die Kabinettsprotokolle der Bundesregierung Band 26. 1973\\nherausgegeben f\\u00fcr das Bundesarchiv von Michael Hollmannbearbeitet von Christine Fabian Christoph Seemannunter Mitwirkung von Veronika Heye und Uta R\\u00f6ssel\\nDe Gruyter Oldenbourg Verlag Berlin/Boston 2018ISBN 978-3-11-056762-5\\n1973 setzte die Bundesregierung die begonnenen Reformvorhaben auf den Gebieten der Steuerpolitik, der Strafgesetzgebung und des Ehe- und Familienrechts fort. In den Mittelpunkt der Beratungen r\\u00fcckten u. a. die internationale W\\u00e4hrungskrise und die bevorstehende KSZE-Konferenz. Au\\u00dferdem standen ein monatelanger Streik der Fluglotsen, eine angemessene Bildungspolitik und die von Bayern angestrengte Normenkontrollklage gegen den Grundlagenvertrag beim Bundesverfassungsgericht regelm\\u00e4\\u00dfig auf der Kabinettsagenda.\"}\n",
            "queue is not none\n",
            "msgCont: {\"Url\": \"https://www.bundesarchiv.de/cocoon/barch/0000/k/k1990k/index.html\", \"TextInfo\": \"Die Kabinettsprotokolle der Bundesregierung 1990\"}\n",
            "msgCont: {\"Url\": \"https://www.bundesarchiv.de/cocoon/barch/0000/k/k1985k/index.html\", \"TextInfo\": \"Die Kabinettsprotokolle der Bundesregierung 1985\"}\n",
            "msgCont: {\"Url\": \"https://www.bundesarchiv.de/cocoon/barch/0000/k/k1964k/index.html\", \"TextInfo\": \"Die Kabinettsprotokolle der Bundesregierung Band 17. 1964\\nherausgegeben f\\u00fcr das Bundesarchiv von Hartmut Weberbearbeitet von Uta R\\u00f6ssel und Josef Henkeunter Mitwirkung von Ralf Behrendt, Ulrich Enders und Christoph Seemann\\nR. Oldenbourg Verlag M\\u00fcnchen 2007ISBN 978-3-486-58127-0\\nIm ersten Jahr des Kabinetts Erhard nahmen Probleme des innerdeutschen Verh\\u00e4ltnisses, insbesondere die Verhandlungen \\u00fcber eine Passierscheinregelung f\\u00fcr Berlin, einen breiten Raum ein. Au\\u00dfenpolitisch sah sich die Bundesregierung im Falle des Zypern- und des Vietnamkonflikts mit der noch ungewohnten M\\u00f6glichkeit eines auch milit\\u00e4rischen Engagements im Ausland konfrontiert. Die Weiterentwicklung der EWG blieb gepr\\u00e4gt von z\\u00e4hen Auseinandersetzungen um die Harmonisierung von Z\\u00f6llen und Agrarpreisen. Im Innern versuchte die Bundesregierung, das Wachstum des Bundeshaushalts in Grenzen zu halten und durch Erweiterung des konjunkturpolitischen Instrumentariums die wirtschaftliche Entwicklung zu steuern. Mit dem Frankfurter \\u201eAuschwitz-Prozess\\u201c und der Debatte um die Verj\\u00e4hrung der Strafverfolgung von NS-Verbrechen trat die Diskussion um den Umgang mit der NS-Vergangenheit in eine neue Phase.\"}\n",
            "msgCont: {\"Url\": \"https://www.bundesarchiv.de/cocoon/barch/0000/k/k1991k/index.html\", \"TextInfo\": \"Die Kabinettsprotokolle der Bundesregierung 1991\"}\n",
            "msgCont: {\"Url\": \"https://www.bundesarchiv.de/cocoon/barch/0000/k/k1957k/index.html\", \"TextInfo\": \"Die Kabinettsprotokolle der Bundesregierung Band 10. 1957\\nherausgegeben f\\u00fcr das Bundesarchiv von Friedrich P. Kahlenbergbearbeitet von Ulrich Enders und Josef Henke\\nR. Oldenbourg Verlag M\\u00fcnchen 2000ISBN 978-3-486-56407-5\\n\\n\\t\\t\\t\\tBei den Bundestagswahlen vom September 1957 errangen CDU und CSU die absolute Mehrheit der Sitze im Deutschen Bundestag. Konrad Adenauer wurde zum dritten Male zum Bundeskanzler gew\\u00e4hlt. Zugest\\u00e4ndnisse an W\\u00e4hlerschichten und Interessensgruppen bestimmten die Kabinettsberatungen ebenso wie die parteipolitischen Auseinandersetzungen um die Atombewaffnung und Wiedervereinigung. Neben einer Politik der Westbindung suchte Adenauer zugleich die Ann\\u00e4herung zur Sowjetunion, die nach einem intensiven Briefwechsel zur Aufnahme von Wirtschaftsverhandlungen f\\u00fchrte. Die Anerkennung der DDR durch Jugoslawien wirkte sich zun\\u00e4chst kaum auf die deutsch-sowjetischen Kontakte aus, wenngleich der Abbruch der diplomatischen Beziehungen zu Jugoslawien die Beziehungen der Bundesrepublik zu den Staaten des Ostblocks belastete und den Handlungsspielraum in der Deutschland- und Au\\u00dfenpolitik nachhaltig zu beeintr\\u00e4chtigen begann.\"}\n",
            "msgCont: {\"Url\": \"https://www.bundesarchiv.de/cocoon/barch/0000/k/k1951k/index.html\", \"TextInfo\": \"Die Kabinettsprotokolle der Bundesregierung Band 4. 1951\\nherausgegeben f\\u00fcr das Bundesarchiv von Hans Booms\\n\\t\\t\\t\\tbearbeitet von Ursula H\\u00fcllb\\u00fcsch\\nHarald Boldt Verlag. Boppard am Rhein\\n\\t\\t\\t\\tISBN 978-3-486-41865-1\"}\n",
            "msgCont: {\"Url\": \"https://www.bundesarchiv.de/cocoon/barch/0000/z/index.html\", \"TextInfo\": \"Biographien\\nHier sind s\\u00e4mtliche Kurzbiographien zusammengef\\u00fchrt, die zu den an den Kabinetts- bzw. Ausschusssitzungen teilnehmenden Bundesministern, Staatssekret\\u00e4ren, Ministerialbeamten und G\\u00e4sten sowie zu den in den Protokolltexten namentlich erw\\u00e4hnten Personen bisher ermittelt wurden.\"}\n",
            "msgCont: {\"Url\": \"https://www.bundesarchiv.de/cocoon/barch/0000/k/bild3/index.html\", \"TextInfo\": \"\"}\n",
            "msgCont: {\"Url\": \"https://www.bundesarchiv.de/cocoon/barch/0000/x/index.html\", \"TextInfo\": \"Kabinettsaussch\\u00fcsse\\n\\nDie Bundesregierung entschied sich f\\u00fcr die Bildung von Kabinettsaussch\\u00fcssen immer dann, wenn spezielle Fragestellungen, wie gro\\u00dfe Reformvorhaben, den Rahmen ihrer Beratungen zu sprengen drohten. Kabinettsaussch\\u00fcsse, zu deren Teilnehmerkreis Minister und Staatssekret\\u00e4re, aber auch Abteilungsleiter und in Einzelfragen andere Ministerialbeamte sowie in Einzelfragen unabh\\u00e4ngige Sachverst\\u00e4ndige z\\u00e4hlten, sollten wesentliche Entscheidungen vorbereiten bzw. weiter beraten und damit die Arbeit des Kabinetts wesentlich entlasten. Ihre Protokolle sind deshalb als direkte Erg\\u00e4nzung zu den Kabinettsberatungen zu sehen.\\nIm Fr\\u00fchjahr 1951 wurde der Kabinettausschuss f\\u00fcr Wirtschaft, im Sommer 1955 der Ministerausschuss f\\u00fcr die Sozialreform gegr\\u00fcndet. Ab Mitte der 60er Jahre entstanden weitere Kabinettsaussch\\u00fcsse, deren T\\u00e4tigkeit sich zumeist auf die Dauer einer Legislaturperiode beschr\\u00e4nkte.\"}\n",
            "msgCont: {\"Url\": \"https://www.bundesarchiv.de/cocoon/barch/0000/k/k1970k/index.html\", \"TextInfo\": \"Die Kabinettsprotokolle der Bundesregierung Band 23. 1970\\nherausgegeben f\\u00fcr das Bundesarchiv von Michael Hollmannbearbeitet von Christine Fabian und Uta R\\u00f6sselunter Mitwirkung Walter Naasner und Christoph Seemann\\nDe Gruyter Oldenbourg Verlag Berlin/M\\u00fcnchen/Boston 2015ISBN 978-3-486-71889-8\\nDas erste Regierungsjahr der sozial-liberalen Koalition unter Bundeskanzler Willy Brandt war gepr\\u00e4gt von der Gestaltung der Neuen Ostpolitik, den Vier-M\\u00e4chte-Gespr\\u00e4chen \\u00fcber Berlin, von der Neuausrichtung der Entwicklungspolitik, dem Reformbedarf bei der Bundeswehr, steuerpolitischen Konjunkturma\\u00dfnahmen und von Diskussionen \\u00fcber eine europ\\u00e4ische politische Zusammenarbeit sowie eine Wirtschafts- und W\\u00e4hrungsunion der Europ\\u00e4ischen Gemeinschaften.\"}\n",
            "msgCont: {\"Url\": \"https://www.bundesarchiv.de/cocoon/barch/0000/k/k1963k/index.html\", \"TextInfo\": \"Die Kabinettsprotokolle der Bundesregierung Band 16. 1963\\nherausgegeben f\\u00fcr das Bundesarchiv von Hartmut Weberbearbeitet von Ulrich Enders und Christoph Seemannunter Mitwirkung von Ralf Behrendt, Uta R\\u00f6ssel und Josef Henke\\nR. Oldenbourg Verlag M\\u00fcnchen 2006ISBN 978-3-486-57918-5\\nInnenpolitisch war das Jahr 1963 gepr\\u00e4gt durch den Kanzlerwechsel von Adenauer zu Erhard, durch die Auseinandersetzungen um die Kriegsfolge- und Wiedergutmachungsgesetzgebung sowie um die Steuer- und Haushaltspolitik und die Folgen der Spiegel-Aff\\u00e4re. Aufsehen erregten Berichte \\u00fcber die Verletzung des Brief- und Fernmeldegeheimnisses durch den  Verfassungsschutz. Im Mittelpunkt der au\\u00dfenpolitischen Themen der Kabinettsberatungen standen das Scheitern des Beitritts Gro\\u00dfbritanniens zur EWG, die Agrarpolitik der Gemeinschaft, der deutsch-franz\\u00f6sische Freundschaftsvertrag sowie das R\\u00f6hrenembargo, der Besuch von US-Pr\\u00e4sident Kennedy und das Atomteststopp-Abkommen.\"}\n",
            "msgCont: {\"Url\": \"https://www.bundesarchiv.de/cocoon/barch/0000/TextSucheKaPr.html\", \"TextInfo\": \"Suchergebnis\\u00a0Keine Treffer. Bitte geben Sie einen Suchbegriff ein.\"}\n",
            "msgCont: {\"Url\": \"https://www.bundesarchiv.de/cocoon/barch/0000/sitemap.html\", \"TextInfo\": \"Sitemap der EditionKabinettsprotokolle43 Treffer \\nSitemap Kabinettsprotokolle 1949\\nSitemap Kabinettsprotokolle 1950\\nSitemap Kabinettsprotokolle 1951\\nSitemap Kabinettsprotokolle 1952\\nSitemap Kabinettsprotokolle 1953\\nSitemap Kabinettsprotokolle 1954\\nSitemap Kabinettsprotokolle 1955\\nSitemap Kabinettsprotokolle 1956\\nSitemap Kabinettsprotokolle 1957\\nSitemap Kabinettsprotokolle 1958\\nSitemap Kabinettsprotokolle 1959\\nSitemap Kabinettsprotokolle 1960\\nSitemap Kabinettsprotokolle 1961\\nSitemap Kabinettsprotokolle 1962\\nSitemap Kabinettsprotokolle 1963\\nSitemap Kabinettsprotokolle 1964\\nSitemap Kabinettsprotokolle 1965\\nSitemap Kabinettsprotokolle 1966\\nSitemap Kabinettsprotokolle 1967\\nSitemap Kabinettsprotokolle 1968\\nSitemap Kabinettsprotokolle 1969\\nSitemap Kabinettsprotokolle 1970\\nSitemap Kabinettsprotokolle 1971\\nSitemap Kabinettsprotokolle 1972\\nSitemap Kabinettsprotokolle 1973\\nSitemap Kabinettsprotokolle 1974\\nSitemap Kabinettsprotokolle 1975\\nSitemap Kabinettsprotokolle 1976\\nSitemap Kabinettsprotokolle 1977\\nSitemap Kabinettsprotokolle 1978\\nSitemap Kabinettsprotokolle 1979\\nSitemap Kabinettsprotokolle 1980\\nSitemap Kabinettsprotokolle 1981\\nSitemap Kabinettsprotokolle 1982\\nSitemap Kabinettsprotokolle 1983\\nSitemap Kabinettsprotokolle 1984\\nSitemap Kabinettsprotokolle 1985\\nSitemap Kabinettsprotokolle 1986\\nSitemap Kabinettsprotokolle 1987\\nSitemap Kabinettsprotokolle 1988\\nSitemap Kabinettsprotokolle 1989\\nSitemap Kabinettsprotokolle 1990\\nSitemap Kabinettsprotokolle 1991\\nKabinettsaussch\\u00fcsse5 Treffer \\nSitemap Kabinettsausschu\\u00df f\\u00fcr Wirtschaft 1951 bis 1954\\nSitemap Kabinettsausschu\\u00df f\\u00fcr Wirtschaft 1954 bis 1955\\nSitemap Kabinettsausschu\\u00df f\\u00fcr Wirtschaft 1956 bis 1957\\nSitemap Kabinettsausschu\\u00df f\\u00fcr Wirtschaft 1958 bis 1961\\nSitemap Ministerausschu\\u00df f\\u00fcr Sozialreform 1955-1960\\nBiographien2 Treffer \\nSitemap Biographien A-L\\nSitemap Biographien M-Z\\nNetzeditionsgrunds\\u00e4tzeGesch\\u00e4ftsordnung der Bundesregierung\"}\n",
            "msgCont: {\"Url\": \"https://www.bundesarchiv.de/cocoon/barch/0000/k/bild2/index.html\", \"TextInfo\": \"\"}\n",
            "msgCont: {\"Url\": \"https://www.bundesarchiv.de/cocoon/barch/0000/k/k1950k/index.html\", \"TextInfo\": \"Die Kabinettsprotokolle der Bundesregierung Band 2 und 3. 1950\\nherausgegeben f\\u00fcr das Bundesarchiv von Hans Booms\\n\\t\\t\\t\\tbearbeitet von Ulrich Enders und Konrad Reiser\\nHarald Boldt Verlag. Boppard am Rhein\\n\\t\\t\\t\\tISBN 978-3-486-41846-0 / \\n\\t\\t\\t\\t978-3-486-41863-7\"}\n",
            "msgCont: {\"Url\": \"https://www.bundesarchiv.de/cocoon/barch/0000/k/bild4/index.html\", \"TextInfo\": \"\"}\n",
            "msgCont: {\"Url\": \"https://www.bundesarchiv.de/cocoon/barch/0000/k/k1953k/index.html\", \"TextInfo\": \"Die Kabinettsprotokolle der Bundesregierung Band 6. 1953\\nherausgegeben f\\u00fcr das Bundesarchiv von Hans Boomsbearbeitet von Ulrich Enders und Konrad Reiser\\nHarald Boldt Verlag. Boppard am RheinISBN 978-3-486-41891-0\"}\n",
            "msgCont: {\"Url\": \"https://www.bundesarchiv.de/cocoon/barch/0000/netzeditionsgrundsaetze.html\", \"TextInfo\": \"Netzeditionsgrunds\\u00e4tze\\u00a0Editionsgrunds\\u00e4tze f\\u00fcr \\u203aDie Kabinettsprotokolle der Bundesregierung\\u2039 onlineDie Grunds\\u00e4tze f\\u00fcr die Edition der Kabinettsprotokolle der Bundesregierung wurden seit dem Erscheinen des ersten Bandes mehrfach abgewandelt. F\\u00fcr alle nunmehr online vorliegenden Protokolle gelten die seit dem Jahresband 1957 angewandten und den Anforderungen einer Internetpr\\u00e4sentation angepassten Editionsgrunds\\u00e4tze. Angleichungen wurden nur da vorgenommen, wo es f\\u00fcr die Funktionalit\\u00e4t des Internetauftritts unabdingbar war. Wegen weiterer Einzelheiten sei hier auf die entsprechenden Abschnitte in den Jahresb\\u00e4nden der Buchversion verwiesen.\\nTextgrundlage\\n\\nKommentierung\\n\\nTextpr\\u00e4sentation\\n\\nZitationsweise\\n\\u00a0Textgrundlage\\u00a0Gegenstand der Edition\\u203aDie Kabinettsprotokolle der Bundesregierung\\u2039 online sind die Sitzungsniederschriften des Bundeskabinetts sowie seiner Kabinettsaussch\\u00fcsse, die als Kurzprotokolle von Referenten des Bundeskanzleramts angefertigt wurden. Sie werden seit 1982 vom Bundesarchiv aufgrund des Auftrags der Bundesregierung aus dem Jahr 1979 als wissenschaftliche Edition zun\\u00e4chst in Buchform ver\\u00f6ffentlicht.Die Protokolltexte wurden bis 1998 als geheime Verschlusssache in der Registratur des Bundeskanzleramts verwahrt und nach der Abgabe an das Bundesarchiv dort dem Bestand Bundeskanzleramt (B\\u00a0136) zugeordnet. Die Mitschriften der Kabinettssitzungen sind bis zum Ende der 4. Wahlperiode im Herbst 1965 in zwei Serien - Entw\\u00fcrfe und Ausfertigungen - organisiert; die Sitzungsprotokolle des Kabinettsausschusses f\\u00fcr Wirtschaft sowie des Ministerausschusses f\\u00fcr die Sozialreform sind in einer einzigen Serie zusammengefasst.Die Edition pr\\u00e4sentiert den Text der Protokollausfertigungen in ungek\\u00fcrzter, aber im Layout aufbereiteter Form. Von den Ausfertigungen abweichende Entwurfsstadien wurden im Anmerkungsapparat nur dann nachgewiesen, wenn es inhaltlich angemessen erschien. Auch die der Entwurfsserie beigef\\u00fcgten Einladungen und deren Anlagen sowie das in die Protokollserien aufgenommenen Schriftst\\u00fccke sind von der Ver\\u00f6ffentlichung ausgenommen. Nachtr\\u00e4gliche Protokollkorrekturen - in der Regel dem ausgefertigten Protokoll als Anhang beigef\\u00fcgt - sind bei inhaltliche Relevanz dagegen ber\\u00fccksichtigt und die urspr\\u00fcnglichen Textfassungen der Ausfertigungen in den Anmerkungen nachgewiesen.F\\u00fcr die Jahre 1949 und 1950 enth\\u00e4lt die Entwurfsserie des Bundeskanzleramtes zus\\u00e4tzlich stenographische Mitschriften von sechs Kabinettssitzungen, die als Wortprotokolle innerhalb des ersten Jahresbandes 1949 bzw. f\\u00fcr 1950 in einem eigenen Band ver\\u00f6ffentlicht wurden.\\n\\u00dcbersicht \\u00fcber die Serien der Ausfertigungen der Kabinettsprotokolle im Bestand des Bundeskanzleramtes (B\\u00a0136)\\n            Kabinett 1949\\n            1.-32. Sitzung\\n            20. Sept.-21. Dez. 1949\\n            B\\u00a0136/36087 und 36088\\n            Kabinett 1950\\n            33.-118. Sitzung\\n            3. Jan.-21. Dez. 1950\\n            B\\u00a0136/36088 bis 36092\\n            Kabinett 1951\\n            119.-193. Sitzung\\n            4. Jan.-18. Dez. 1951\\n            B\\u00a0136/36092 bis 36097\\n            Kabinett 1952\\n            194.-267. Sitzung\\n            8. Jan.-19. Dez. 1952\\n            B\\u00a0136/36097 bis 36101\\n            Kabinett 1953\\n            268.-13. Sitzung\\n            9. Jan.-18. Dez. 1953\\n            B\\u00a0136/36101 bis 36104\\n            Kabinett 1954\\n            14.-64. Sitzung\\n            12. Jan.-21. Dez. 1954\\n            B\\u00a0136/36104 bis 36107\\n            Kabinett 1955\\n            65.-110. Sitzung\\n            19. Jan.-21. Dez. 1955\\n            B\\u00a0136/36108 bis 36112\\n            Kabinett 1956\\n            111.-164. Sitzung\\n            4. Jan.-19. Dez. 1956\\n            B\\u00a0136/36112 bis 36115\\n            Kabinett 1957\\n            165.-7. Sitzung\\n            9. Jan.-13. Dez. 1957\\n            B\\u00a0136/36115 bis 36117\\n            Kabinett 1958\\n            8.-48. Sitzung\\n            8. Jan.-19. Dez. 1958\\n            B\\u00a0136/36117 bis 36119\\n            Kabinett 1959\\n            49.-90. Sitzung\\n            14. Jan.-22. Dez. 1959\\n            B\\u00a0136/36119 bis 36121\\n            Kabinett 1960\\n            Sonder- 134. Sitzung\\n            6. Jan.-21. Dez. 1960\\n            B\\u00a0136/36121 bis 36123\\n            Kabinett 1961\\n            135.-6. Sitzung\\n            11. Jan.-13. Dez. 1961\\n            B 136/36123 bis 36125\\n            Kabinett 1962\\n            7.-58. Sitzung\\n            3. Jan.-19. Dez. 1962\\n            B 136/36125 bis 36128\\n            Kabinett 1963\\n            59. Sitzung-Sondersitzung am 30. Dez. 1963\\n            9. Jan.-30. Dez. 1963\\n            B 136/36128 bis 36131\\n            Kabinett 1964\\n            105.-147. Sitzung\\n            8. Jan.-16. Dez. 1964\\n            B 136/36131 bis 36134\\n            Kabinett 1965\\n            148.-9. Sitzung\\n            5. Jan.-22. Dez. 1965\\n            B 136/36134 bis 36138\\n            Kabinett 1966\\n            10.-60. Sitzung\\n            4. Jan.-20. Dez. 1966\\n            B 136/36138 bis 36146\\n            Kabinett 1967\\n            61.-107. Sitzung\\n           11. Jan.-20. Dez. 1967\\n            B 136/36146 bis 36154\\n            Kabinett 1968\\n            108.-151. Sitzung\\n            10. Jan.-18. Dez. 1968\\n            B 136/36155 bis 36161\\n            Kabinett 1969\\n            152.-10. Sitzung\\n            15. Jan.-18. Dez. 1969\\n            B 136/36161 bis 36168\\n            Kabinett 1970\\n            11.-53. Sitzung\\n            13. Jan.-17. Dez. 1970\\n            B 136/36168 bis 36176\\n            Kabinett 1971\\n            54.-94. Sitzung\\n            14. Jan.-22. Dez. 1971\\n            B 136/36177 bis 36183\\n            Kabinett 1972\\n            99.-2. Sitzung\\n            12. Jan.-20. Dez. 1972\\n            B 136/36183 bis 36189\\n            Kabinett 1973\\n            Sondersitzung-44. Sitzung\\n            16. Jan.-19. Dez. 1973\\n            B 136/36189 bis 36193\\n            Kabinett 1974\\n            45.-92. Sitzung\\n            9. Jan.-18. Dez. 1974\\n            B 136/36193 bis 36197\\n            \\u00a0\\n            \\u00a0\\n            \\u00a0\\n            \\u00a0\\n            Kabinettsausschu\\u00df f\\u00fcr Wirtschaft 1951-1953\\n            1.-2. Sitzung\\n            19. April 1951-21. Dez. 1953\\n            B\\u00a0136/36209 bis 36212\\n            Kabinettsausschu\\u00df f\\u00fcr Wirtschaft 1954-1955\\n            3.-41. Sitzung\\n            1. Febr. 1954-19. Dez. 1955\\n            B\\u00a0136/36212 bis 36216\\n            Kabinettsausschu\\u00df f\\u00fcr Wirtschaft 1956-1957\\n            42.-3. Sitzung\\n            30. Jan.1956-13. Dez. 1957\\n            B\\u00a0136/36216 bis 36221\\n            Kabinettsausschu\\u00df f\\u00fcr Wirtschaft 1958-1961\\n            4.-1. Sitzung\\n            24. Jan. 1957-14. Dez. 1961\\n            B\\u00a0136/36221 bis 36226\\n            \\u00a0\\n            \\u00a0\\n            \\u00a0\\n            \\u00a0\\n            Ministerausschu\\u00df f\\u00fcr die Sozialreform 1951-1960\\n            1.- 4. Sitzung\\n            16. Aug. 1955-29. Juli 1960\\n            B\\u00a0136/36235\\u00a0TextaufbereitungF\\u00fcr alle Teile des Protokolltextes gilt ebenso wie f\\u00fcr Quellenzitate im Kommentar, dass offensichtliche orthographische oder syntaktische Fehler der Textvorlagen stillschweigend korrigiert wurden. In Zweifelsf\\u00e4llen sind die Korrekturen der Bearbeiter kenntlich gemacht. Dar\\u00fcber hinaus sind keine Vereinheitlichungen und Normalisierungen - auch nicht im Hinblick auf die seit 1998 f\\u00fcr den beh\\u00f6rdlichen Gebrauch eingef\\u00fchrten Rechtschreibregeln - vorgenommen worden.Die sprechenden Personen, die im Protokolltext der Vorlage in der Regel durch Unterstreichungen markiert wurden, sind ab dem Jahresband 1957 in der Edition im Kursivsatz wiedergegeben.\\u00a0ProtokollkopfDie Protokollteile \\u00dcberschrift, Teilnehmer sowie Zeit und Ort der Sitzungen wurden von den Bearbeitern gestaltet. Sie enthalten in einheitlicher und \\u00fcbersichtlicher Form die den Textvorlagen entnommenen Angaben. Dabei entspricht die Reihenfolge der genannten Teilnehmer der Vorlage, die sich wiederum hinsichtlich der Bundesminister nach der amtlichen Reihenfolge der Ministerien richtet. Bundesminister, Staatssekret\\u00e4re und andere Sitzungsteilnehmer sind durch Semikola voneinander abgetrennt. Soweit dies nicht bereits in den Vorlagen geschehen war, sind seit dem Jahresband 1957 bei der Nennung der Ministerialbeamten stillschweigend das entsendende Ressort, bei den sonstigen Sitzungsteilnehmern entsprechende Hinweise auf ihre Funktion hinzugef\\u00fcgt worden.\\u00a0Tagesordnung und TagesordnungspunkteBis zum Jahresband 1956 wurden die den Sitzungsprotokollen vorangestellten Tagesordnungen in den Editionsb\\u00e4nden nicht abgedruckt. F\\u00fcr die Jahresb\\u00e4nde ab 1957 bzw. f\\u00fcr die editierten Protokolle des Kabinettsausschusses f\\u00fcr Wirtschaft und des Ministerausschusses f\\u00fcr die Sozialreform sind sie auf der Grundlage der Protokollausfertigungen \\u00fcbernommen worden. Die Angaben zu den Kabinettsvorlagen einschlie\\u00dflich der Akten- bzw. Gesch\\u00e4ftszeichen stammen aus den Einladungsschreiben und sind gegebenenfalls ohne besondere Kennzeichnung von den Bearbeitern so weit wie erforderlich und m\\u00f6glich vervollst\\u00e4ndigt worden.Die Formulierung der Tagesordnungspunkte in den edierten Protokolltexten entspricht grunds\\u00e4tzlich dem Wortlaut der Vorlagen. Das f\\u00fcr den jeweiligen Tagesordnungspunkt federf\\u00fchrende Ressort wurde nach der \\u00dcberschrift dann angef\\u00fcgt, wenn dessen Nennung auch Bestandteil der Tagesordnung in den Textvorlagen war.Ordentliche Tagesordnungspunkte wurden in den Protokollausfertigungen in der Regel durchgehend nummeriert und sind in dieser Z\\u00e4hlung in die Edition \\u00fcbernommen worden. Au\\u00dferordentliche Tagesordnungspunkte waren dagegen in den Protokollvorlagen meistens nicht nummeriert. Um jedem Tagesordnungspunkt eine eindeutige Kennzeichnung zu geben, wurden deshalb in der Edition alle au\\u00dferhalb der Tagesordnung behandelten Punkte grunds\\u00e4tzlich mit fortlaufenden Gro\\u00dfbuchstaben in eckigen Klammern markiert. Ordentliche einzige Punkte der Tagesordnung sind in den edierten Protokolltexten im Interesse der Zitierf\\u00e4higkeit durch die Ziffer 1 in eckigen Klammern gekennzeichnet.Au\\u00dferhalb der ordentlichen Tagesordnung stehende und vom Protokollanten nicht eigens \\u00fcberschriebene Textpassagen sind durch die Bearbeiter zur besseren inhaltlichen \\u00dcberschaubarkeit mit \\u00dcberschriften versehen worden. Diese nachtr\\u00e4glich gebildeten \\u00dcberschriften sind durch eckige Klammern gekennzeichnet und werden, wie au\\u00dferordentliche Tagesordnungspunkte, mit Gro\\u00dfbuchstaben eingef\\u00fchrt.\\u00a0Parallel\\u00fcberlieferungenMit den Sitzungsmitschriften der Minister Hans-Christoph Seebohm und Hans-Joachim von Merkatz stehen Parallel\\u00fcberlieferungen zu den Kabinettsprotokollen zur Verf\\u00fcgung. Sie wurden, soweit sie aussagekr\\u00e4ftig sind, zur Kommentierung insbesondere jener Tagesordnungspunkte herangezogen, zu denen kein amtliches Protokoll vorliegt und zum Teil in den Protokolltext inseriert. Dies betrifft haupts\\u00e4chlich die auf die Bundesminister beschr\\u00e4nkten Sitzungsabschnitte. Weitere erg\\u00e4nzende Informationen zu Inhalt und Verlauf der Kabinettsberatungen sind den Mitschriften oder z.T. ausf\\u00fchrlichen Vermerken anderer Sitzungsteilnehmer zu entnehmen, wie z.\\u00a0B. von Bundesfinanzminister Sch\\u00e4ffer f\\u00fcr Staatsekret\\u00e4r Hartmann, von Staatssekret\\u00e4r Hallstein oder des Ministerialdirektors im Bundesministerium f\\u00fcr Angelegenheiten des Bundesrates und der L\\u00e4nder, Renatus Weber.\\u00a0Kommentierung\\u00a0KommentarDer in den Anmerkungen pr\\u00e4sentierte Kommentar zu den Protokolltexten verfolgt mehrere Ziele. Neben der textkritischen Beschreibung des Textkorpus dienen die Anmerkungen zun\\u00e4chst dazu, den Protokolltext verst\\u00e4ndlich zu machen und an den Beratungsgegenstand heranzuf\\u00fchren. Nicht allgemein bekannte Ereignisse und Institutionen sowie heute ungebr\\u00e4uchliche Begriffe werden bei ihrer ersten Erw\\u00e4hnung erl\\u00e4utert. Im Protokolltext erw\\u00e4hnte Besprechungen, Schreiben, Vermerke, Gesetzestexte, Drucksachen, Zeitungsartikel usw. werden verifiziert und deren Fundstellen dokumentiert. Insbesondere ist beabsichtigt, die zu den Beratungsgegenst\\u00e4nden entstandene und im Bundesarchiv, aber auch in anderen Archiven verwahrte archivische \\u00dcberlieferung so weit m\\u00f6glich nachzuweisen. Vor allem gilt das f\\u00fcr die den Kabinettsberatungen zu Grunde liegenden Kabinettsvorlagen, die in den Best\\u00e4nden des jeweils federf\\u00fchrenden Ressorts im Bundesarchiv oder im Politischen Archiv des Ausw\\u00e4rtigen Amts bzw. auch im Bestand Bundeskanzleramt im Bundesarchiv \\u00fcberliefert sind. Dar\\u00fcber hinaus soll dem Benutzer der Edition durch die Bezeichnung weiterer Unterlagen der zust\\u00e4ndigen und qualifiziert beteiligten Ressorts der gezielte Einstieg in die einschl\\u00e4gige Sachakten\\u00fcberlieferung erm\\u00f6glicht werden. Auch auf Unterlagen in den verf\\u00fcgbaren Nachl\\u00e4ssen von Kabinettsmitgliedern im Bundesarchiv und in den Parteiarchiven wird gegebenenfalls hingewiesen.Die als Hyperlinks erkennbaren R\\u00fcckverweise, Fortg\\u00e4nge und Querverweise lassen im Kommentar den Verlauf der Beratungen einer Angelegenheit sowohl im Kabinett als gegebenenfalls auch im Kabinettsausschuss f\\u00fcr Wirtschaft bzw. im Ministerausschuss f\\u00fcr die Sozialreform nachvollziehbar werden. Gleiches gilt f\\u00fcr die Beratungen in den Aussch\\u00fcssen.Hinsichtlich der im Kabinett besprochenen Gesetz- oder Verordnungsentw\\u00fcrfe wird auf die Nachzeichnung der sich an den Kabinettsbeschluss anschlie\\u00dfenden parlamentarischen Behandlung verzichtet, sofern die Angelegenheit nicht wieder aus den Gesetzgebungsk\\u00f6rperschaften ins Kabinett zur\\u00fcckkam. Nachgewiesen werden in jedem Fall die betreffenden Drucksachen des Bundesrats und des Bundestags und zwar mit den Nummern, welche die Regierungsvorlagen jeweils f\\u00fcr die erste Behandlung dort erhielten. Abgeschlossen wird die Kommentierung mit dem Hinweis auf die amtliche Ver\\u00f6ffentlichung von Gesetzen, Verordnungen, Regierungsabkommen, Beschl\\u00fcssen oder Verlautbarungen. Wissenschaftliche Literatur wird nur dann angegeben, wenn der Sachkommentar dadurch wesentlich entlastet werden kann. Die im Kommentar verwendeten Kurztitel sind im jeweiligen Quellen- und Literaturverzeichnis aufgel\\u00f6st.\\u00a0Biographische AngabenAlle in den Dokumentenk\\u00f6pfen aufgef\\u00fchrten Sitzungsteilnehmer sind mit biographischen Angaben, insbesondere zum beruflichen Werdegang, in einer besonderen Zusammenstellung im Navigationsbaum unter dem Auswahlpunkt \\u203aPersonen\\u2039 aufgef\\u00fchrt. Sonstige im Protokolltext namentlich genannte Personen erhalten bei ihrer ersten Nennung eine biographische Anmerkung.F\\u00fcr die Jahresb\\u00e4nde 1949 bis 1956 umfasst die Auflistung nur die in der Gesch\\u00e4ftsordnung der Bundesregierung bestimmten regelm\\u00e4\\u00dfigen Sitzungsteilnehmer. Die \\u00fcbrigen Teilnehmer werden, wie auch die sonstigen namentlich genannten Personen, bei ihrer ersten Nennung mit einer biographischen Anmerkung versehen.\\u00a0PersonalienSind bei den Kabinettsberatungen zu Personalsachen Namen nur den Anlagen zu entnehmen, so beschreibt der Kommentar zusammenfassend, welche und wie viele Positionen in den jeweiligen Ministerien und deren Gesch\\u00e4ftsbereich besetzt werden sollten. Erst ab der Besetzung von Abteilungsleiterstellen in einem Ministerium (Ministerialdirektoren, gelegentlich auch Ministerialdirigenten) und von ausw\\u00e4rtigen Vertretungen (einschlie\\u00dflich Konsulaten) sowie ab der Ernennung von Brigadegeneralen, von Bundesrichtern, Oberfinanz- und Senatspr\\u00e4sidenten, Pr\\u00e4sidenten von Landesarbeits\\u00e4mtern, Bundesbahn- und Oberpostdirektionen und anderen Leitern, im allgemeinen auch stellvertretenden Leitern von Bundesbeh\\u00f6rden wurden die im Protokoll nicht genannten Namen aus den (nicht abgedruckten) Anlagen in die Anmerkungen \\u00fcbernommen.\\u00a0Weitere Teile der EditionDie in jedem Editionsband den Protokolltexten\\n        vorangestellte Einleitung ordnet die Kabinettsberatungen in den\\n        allgemeinen ereignisgeschichtlichen Rahmen des jeweiligen Jahres ein und\\n        gibt eine sachliche Einf\\u00fchrung zu den im Kabinett behandelten Themen. Jedem Band beigegeben sind neben dem erw\\u00e4hnten biographischen Verzeichnis eine Zeittafel sowie ein Quellen- und Literaturverzeichnis.\\u00a0Textpr\\u00e4sentation\\u00a0TextgestaltungDer Baum im linken Frame ersetzt jeweils das Verzeichnis der Sitzungen und Tagesordnungspunkte der Buchversion.Die Protokollk\\u00f6pfe mit den Angaben zu Teilnehmern, Ort, Zeit und Tagesordnung sowie die Tagesordnungspunkte (TOP) sind im rechten Frame oben einzeln dargestellt.  Vereinzelt wurden Protokoll\\u00fcberschriften der heute\\n        gebr\\u00e4uchlichen Form angepasst und TOP-\\u00dcberschriften erg\\u00e4nzt oder\\n        hinzugef\\u00fcgt. \\nBei einer gemeinsamen Behandlung von zwei TOPs weist ein Zusatz auf die entsprechende Stelle im Protokolltext hin, z.\\u00a0B.: \\u203a[Siehe unter Punkt 2 dieser Sitzung.]\\u2039. Bei nicht protokollierten TOPs wurde analog verfahren, z.\\u00a0B. \\u203a[Dieser TOP wurde nicht protokolliert.]\\u2039Textteile wie \\u203aAu\\u00dferhalb der Tagesordnung -, die den protokollarischen Sitzungsverlauf dokumentieren, wurden bei Bedarf mit einem Textzusatz versehen wie z.\\u00a0B. \\u203a[Es folgen TOP ... ]\\u2039.Der Sachkommentar erscheint im rechten unteren Frame. Verweise auf die vorhergehende bzw. nachfolgen substantielle Behandlung eines Themas im Kabinett aber auch in dessen Aussch\\u00fcssen sind als Hyperlinks erkenn- und nutzbar.Im Interesse einer band\\u00fcbergreifenden Recherche wurde das in den Verweisen der fr\\u00fcheren B\\u00e4nde nicht aufgef\\u00fchrte Datum der jeweiligen Kabinettssitzung nachgetragen.Die biographischen Angaben (bis 1955) wurden nicht\\n        systematisch erg\\u00e4nzt bzw. \\u00fcberarbeitet.Der Band 3 der Buchedition (Wortprotokolle 1950) wurde\\n        funktional in den Band 2 (Kabinettsprotokolle 1950) integriert.\\n\\u00a0Gesch\\u00e4ftsordnung der BundesregierungDie seit den Kabinettsprotokollen 1955 in allen folgenden B\\u00e4nden im Anhang abgedruckte Gesch\\u00e4ftsordnung der Bundesregierung wurde f\\u00fcr die Internetausgabe nur an einer Stelle - auf der Startseite - eingestellt.\\u00a0Geleitworte und Editionsgrunds\\u00e4tzeDie bisher den einzelnen Editionsb\\u00e4nden vorangestellten Geleitworte und Editionsgrunds\\u00e4tze wurden nicht in die Internetversion \\u00fcbernommen. Statt dessen wurde von ihnen auf der Startseite eine f\\u00fcr alle B\\u00e4nde geltende Fassung bereitgestellt.\\u00a0IndicesAngesichts der M\\u00f6glichkeiten einer Volltextrecherche sind die Indices ebenfalls entfallen. Allerdings wurden die Namen aus den Personenindices in eine Personenliste \\u00fcbernommen und mit der Suchfunktion verkn\\u00fcpft.\\u00a0Abk\\u00fcrzungenDie Aufl\\u00f6sung von Abk\\u00fcrzungen erfolgt als pop-up durch Mouse-over (Ber\\u00fchrung mit dem Cursor); daher wurde auf die Wiedergabe der in den gedruckten B\\u00e4nden vorhandenen Abk\\u00fcrzungsverzeichnisse verzichtet.\\u00a0BiographienZus\\u00e4tzlich zu dem Auswahlpunkt \\u203aPersonen\\u2039, der innerhalb des aktuell angesteuerten Bandes zur Liste der Sitzungsteilnehmer\\u00a0 f\\u00fchrt, wurde f\\u00fcr die Online-Pr\\u00e4sentation der Kabinettsprotokolle ein Hauptpunkt \\u203aBiographien\\u2039 eingerichtet, der die st\\u00e4ndig aktualisierten biographischen Notizen zu allen in den B\\u00e4nden genannten Personen zusammenf\\u00fchrt und unmittelbar zug\\u00e4nglich macht.\\u00a0DokumentenanhangDie Kabinettsprotokolle 1950 sowie die B\\u00e4nde des Kabinettsausschusses f\\u00fcr Wirtschaft und des Ministerausschusses f\\u00fcr die Sozialreform verf\\u00fcgen \\u00fcber Dokumentenanh\\u00e4nge, die zur Entlastung des Kommentars ausgew\\u00e4hlte Kabinettsvorlagen und Schreiben wiedergeben. Diese sind \\u00fcber den Bereich \\u203aDokumente\\u2039 im Baum greifbar aber von der Volltextsuche ausgeschlossen.\\u00a0WortprotokolleDie Wortprotokolle der Jahre 1949, 1950 und 1962 wurden f\\u00fcr die Internetversion jeweils als eigener Gliederungspunkt dargestellt und sind \\u00fcber den Suchbereich \\u203aProtokolle\\u2039 und \\u00fcber die Volltextsuche recherchierbar.F\\u00fcr das Jahr 1950 wurden die Quellen- und Literaturverzeichnisse sowie die Personenlisten der beiden B\\u00e4nde Kabinettsprotokolle und Wortprotokolle zusammengef\\u00fchrt. Dabei wurden Personen, die ausschlie\\u00dflich im Dokumentenanhang 1950 vorkommen, nicht ber\\u00fccksichtigt.Die Einleitung zu den Wortprotokollen aus dem Jahr 1950 wurde an die Einleitung des entsprechenden Jahresbandes auf der Ebene der Zwischen\\u00fcberschriften angef\\u00fcgt.\\u00a0Abschnitte \\u203aQuellenlage\\u2039Die in den B\\u00e4nden 1949 bis 1952 und 1954 den Editionsgrunds\\u00e4tzen vorangestellten Abschnitte \\u203aQuellenlage\\u2039 wurden als erste Zwischen\\u00fcberschrift der jeweiligen Bandeinleitung zugeordnet.\\u00a0Anwesenheits\\u00fcbersichtDie Jahresb\\u00e4nde 1950 bis 1959 enthalten eine von den Bearbeitern zusammengestellte und in die Anh\\u00e4nge aufgenommene \\u203a\\u00dcbersicht zur Anwesenheit der regelm\\u00e4\\u00dfigen Teilnehmer an den Kabinettssitzungen\\u2039 des jeweiligen Jahres. Diese \\u00dcbersicht steht im Navigationsbaum unter \\u203aAnwesenheits\\u00fcbersicht\\u2039 als PDF-Dokument zur Verf\\u00fcgung. Gleiches gilt f\\u00fcr den \\u203aKabinettsausschu\\u00df f\\u00fcr Wirtschaft 1956-1957\\u2039 und den \\u203aMinisterausschu\\u00df f\\u00fcr die Sozialreform 1955-1960\\u2039.\\u00a0ZitationsweiseBei der Verwendung von Zitaten aufgrund der Internetversion wird folgende Zitation vorgeschlagen.\\u00a0Beispiele:67. Kabinettssitzung am 25. Mai 1959 TOP\\u00a07 (\\u203aKabinettsprotokolle der Bundesregierung\\u2039 online),45. Sitzung des Kabinettsausschusses f\\u00fcr Wirtschaft am 9. M\\u00e4rz 1956 TOP\\u00a02 (\\u203aKabinettsprotokolle der Bundesregierung\\u2039 online),3. Sitzung des Ministerausschusses f\\u00fcr die Sozialreform am 7. Okt. 1955 TOP\\u00a01 (\\u203aKabinettsprotokolle der Bundesregierung\\u2039 online)3. Kabinettssitzung am 21. Sept. 1949 Wortprotokoll (\\u203aKabinettsprotokolle der Bundesregierung\\u2039 online)\"}\n",
            "msgCont: {\"Url\": \"https://www.bundesarchiv.de/cocoon/barch/0000/k/k1975k/index.html\", \"TextInfo\": \"Die Kabinettsprotokolle der Bundesregierung 1975\"}\n",
            "msgCont: {\"Url\": \"https://www.bundesarchiv.de/cocoon/barch/0000/k/k1952k/index.html\", \"TextInfo\": \"Die Kabinettsprotokolle der Bundesregierung 1952. Band 5\\nherausgegeben f\\u00fcr das Bundesarchiv von Hans Boomsbearbeitet von Kai von Jena\\nHarald Boldt Verlag. Boppard am RheinISBN 978-3-486-41886-6\"}\n",
            "msgCont: {\"Url\": \"https://www.bundesarchiv.de/cocoon/barch/0000/k/k1982k/index.html\", \"TextInfo\": \"Die Kabinettsprotokolle der Bundesregierung 1982\"}\n",
            "msgCont: {\"Url\": \"https://www.bundesarchiv.de/cocoon/barch/0000/k/k1967k/index.html\", \"TextInfo\": \"Die Kabinettsprotokolle der Bundesregierung Band 20. 1967\\nherausgegeben f\\u00fcr das Bundesarchiv von Hartmut Weberbearbeitet von Walter Naasner und Christoph Seemannunter Mitwirkung von Christine Fabian und Uta R\\u00f6ssel\\nR. Oldenbourg Verlag M\\u00fcnchen 2010ISBN 978-3-486-59786-8\\nKennzeichnend f\\u00fcr die im Dezember 1966 gebildete erste Gro\\u00dfe Koalition unter Bundeskanzler Kurt Georg Kiesinger war eine Neuausrichtung der Wirtschafts- und Finanzpolitik, zu deren wesentlichen Elementen neben kreditfinanzierten Investitionsprogrammen die Konzertierte Aktion, das Stabilit\\u00e4tsgesetz, die Mittelfristige Finanzplanung und die Reform der Finanzverfassung geh\\u00f6rten. Wichtige au\\u00dfenpolitische Beratungsthemen des Kabinetts waren der Atomwaffensperrvertrag, die Devisenausgleichsverhandlungen mit den USA und Gro\\u00dfbritannien und die Verbesserung der Beziehungen zur DDR und zu den osteurop\\u00e4ischen Staaten. Die Bundesregierung leitete Ma\\u00dfnahmen gegen Gef\\u00e4hrdungen durch eine zunehmende Pressekonzentration ein und unternahm gegen den starken Druck einer au\\u00dferparlamentarischen Opposition einen neuen und letztlich erfolgreichen Anlauf zur einer verfassungs\\u00e4ndernden Notstandsgesetzgebung.\"}\n",
            "msgCont: {\"Url\": \"https://www.bundesarchiv.de/cocoon/barch/0000/k/k1949k/index.html\", \"TextInfo\": \"Die Kabinettsprotokolle der Bundesregierung Band 1. 1949\\nherausgegeben f\\u00fcr das Bundesarchiv von Hans Booms\\n\\t\\t\\t\\tbearbeitet von Ulrich Enders und Konrad Reiser\\n\\nHarald Boldt Verlag. Boppard am Rhein\\n\\t\\t\\t\\tISBN 978-3-468-41820-0\"}\n",
            "msgCont: {\"Url\": \"https://www.bundesarchiv.de/cocoon/barch/0000/k/k1989k/index.html\", \"TextInfo\": \"Die Kabinettsprotokolle der Bundesregierung 1989\"}\n",
            "msgCont: {\"Url\": \"https://www.bundesarchiv.de/cocoon/barch/0000/hilfe/faq.html\", \"TextInfo\": \"Benutzungshinweise (FAQ)\\nWie kann ich mich in der Internetedition fortbewegen (navigieren)?\\n\\nWie suche ich in den Kabinettsprotokollen?\\n\\n Wie und wo sind Abk\\u00fcrzungen aufgel\\u00f6st?\\n\\nWie finde ich nach Unterbrechung der Lekt\\u00fcre wieder an den zuletzt gelesenen Abschnitt zur\\u00fcck?\\n\\nWie kann ich Texte herunterladen und ausdrucken?\\n\\nWo finde ich grundlegende Informationen zur Edition \\u00bbDie Kabinettsprotokolle der Bundesregierung\\u00ab?\\n\\nWer editiert \\u00bbDie Kabinettsprotokolle der Bundesregierung\\u00ab?\\n\\nWo finde ich die Editionsgrunds\\u00e4tze?\\n\\nWo finde ich das Geleitwort?\\n\\nWo finde ich die Gesch\\u00e4ftsordnung der Bundesregierung?\\n\\nWie finde ich Personen in den Kabinettsprotokollen?\\n\\nWie zitiere ich die Kabinettsprotokolle online?\\n\\nMit welchen Browsern und welchen Browserversionen kann man die Online-Edition nutzen?\\n\\nBarrierefreiheit\\n\\nWann werden die n\\u00e4chsten B\\u00e4nde eingestellt?\\n\\nWie kann ich mich zur Online-Edition \\u00e4u\\u00dfern?\\n\\nIch kann die Bilder bzw. Schriftst\\u00fccke in der Bildleiste nicht erkennen bzw. lesen!\\n\\nWo finde ich die bibliographischen Angaben zu den B\\u00e4nden?\\n\\nWie kann ich einen Tagesordnungspunkt ohne den Navigationsbaum lesen?\\n\\nWie aktiviere ich die Access-Keys in meinem Browser?\\n\\nWarum sind Abk\\u00fcrzungen in Kleinbuchstaben als Kapit\\u00e4lchen gesetzt?\\n\\nWie kann ich die Bilder zu einem Band vergr\\u00f6\\u00dfern?\\n\\nWie komme ich zu den Tagesordnungspunkten, auf die sich Bilder in der Kopfleiste beziehen?\\n\\u00a0Antworten\\u00a01. Wie kann ich mich in der Internetedition fortbewegen (navigieren)? \\u00a0a) StrukturDer Funktionsbereich im linken Rahmen erm\\u00f6glicht den Zugriff \\u00fcber die inhaltliche Struktur der Edition und der Protokollb\\u00e4nde. Unter dem Punkt \\u00bbEdition\\u00ab werden die ver\\u00f6ffentlichten B\\u00e4nde der Edition aufgelistet. Innerhalb eines Bandeserscheinen dann die Protokolle  in der Reihenfolge der Kabinettssitzungen, die einzelnen Tagesordnungspunkte in der Abfolge ihrer tats\\u00e4chlichen Behandlung in den Beratungen. Der Funktionsbereich kann \\u00fcber ein Symbol ausgeblendet werden. \\u00a0b) Navigationsmen\\u00fcDas wahlweise ein- und ausblendbare Navigationsmen\\u00fc befindet sich unter den Bildleiste und am Fu\\u00df der Seite unter dem Text. Es erm\\u00f6glicht das Bl\\u00e4ttern in der Edition und bietet folgende Schritte: SymbolBeschreibungBedeutung in der Strukturansicht\\n\\nDoppelpfeil nach linksgehe zum vorherigen Knoten auf gleicher Ebene\\n\\nPfeil nach linksgehe zum direkten Vorg\\u00e4ngerknoten (Bl\\u00e4ttern wie im Buch)\\n\\nPfeil nach obengehe zum vorherigen \\u00fcbergeordneten Knoten\\n\\nInhaltsverzeichnisgehe zum Inhaltsverzeichnis des Bandes / der Band\\u00fcbersicht\\n\\nPfeil nach untengehe zum n\\u00e4chsten \\u00fcbergeordneten Knoten\\n\\nPfeil nach rechtsgehe zum direkten Nachfolgerknoten (Bl\\u00e4ttern wie im Buch)\\n\\nDoppelpfeil nach rechtsgehe zum n\\u00e4chsten Knoten auf gleicher EbeneJedes Symbol ist mit einem Titel unterlegt, der den Namen des Zielknotens enth\\u00e4lt. Durch die Positionierung der Maus \\u00fcber dem Symbol wird der Name angezeigt. Das Bl\\u00e4ttern ist auch \\u00fcber Access-Keys m\\u00f6glich. \\t\\t\\t\\u00a0c) Standort\\n\\u201eStandort\\u201c stellt den Weg vom Anfangspunkt der Edition bis zum aktuell angezeigten Knoten mit den jeweils dar\\u00fcber liegenden Vorg\\u00e4ngern als Link dar.\\t\\t\\t\\u00a0d) VerweissystemVor- und R\\u00fcckverweise auf die Behandlung bestimmter Tagesordnungspunkte an anderer Stelle sind verlinkt. Somit k\\u00f6nnen Querverbindungen innerhalb eines Bandes, aber auch band\\u00fcbergreifend navigierend gekn\\u00fcpft werden. Bisweilen werden bei Tagesordnungspunkten mit tiefer gegliederter Referenz (z.B. TOP 6 II) mehrere Alternativen nach Aktivieren des Links angeboten; die Zusatzinformationen in der Ausgangsfu\\u00dfnote helfen, den gew\\u00fcnschten Tagesordnungspunkt anzusteuern.\\nVerweise, die sich auf noch nicht eingestellte B\\u00e4nde beziehen, l\\u00f6sen folgenden Hinweis aus: \\u201eDas zu diesem Link geh\\u00f6rige Dokument ist leider noch nicht elektronisch verf\\u00fcgbar\\u201c. \\n\\u00a0e) BiographienAuf der ersten Ebene des Navigationsbaumes befindet sich der Auswahlpunkt Biographien, der einen bandunabh\\u00e4ngigen, direkten Zugriff auf die jeweils aktuelle Kurzbiographie erm\\u00f6glicht.\\nnach oben\\n\\u00a02. Wie suche ich in den Kabinettsprotokollen?\\nKlicken Sie auf \\u00bbSuche\\u00ab im Funktionsbereich des linken Rahmens. \\nnach oben\\n\\u00a03. Wie und wo sind Abk\\u00fcrzungen aufgel\\u00f6st?Abk\\u00fcrzungen werden durch mouse-over aufgel\\u00f6st, d.h. der Mauszeiger ber\\u00fchrt die betreffende Abk\\u00fcrzung und ein Fenster (pop-up) mit der Aufl\\u00f6sung blendet sich ein. \\n\\nnach oben\\n\\u00a04. Wie finde ich nach Unterbrechung der Lekt\\u00fcre wieder an den zuletzt gelesenen Abschnitt zur\\u00fcck?Die in der Standortzeile aufgef\\u00fchrte Adresse der aufgerufenen Seite wird \\u00fcber die Funktion des Browsers \\u00bbLesezeichen abspeichern\\u00ab als elektronisches Lesezeichen gesichert. \\n\\nnach oben\\n\\u00a05. Wie kann ich Texte herunterladen und ausdrucken?Einzelne Tagesordnungspunkte k\\u00f6nnen im rtf-Dateiformat heruntergeladen werden. Der Link \\u00bbTagesordnungspunkt als rtf Download\\u00ab \\u00fcber jeder \\u00dcberschrift eines Tagesordnungspunkts erm\\u00f6glicht das Herunterladen (rechte Maustaste; Ziel Speichern unter). Die rtf-Datei kann anschlie\\u00dfend in einen beliebigen Texteditor oder Textverarbeitungsprogramm ge\\u00f6ffnet und \\u00fcber die Druckfunktion ausgedruckt werden.\\n\\nnach oben\\n\\u00a06. Wo finde ich grundlegende Informationen zur Edition \\u00bbDie Kabinettsprotokolle der Bundesregierung\\u00ab?Auf der Seite der Editionsgruppe (http://www.bundesarchiv.de/bestaende_findmittel/editionen/kabprot/index.html).\\n\\nnach oben\\n\\u00a07. Wer editiert \\u00bbDie Kabinettsprotokolle der Bundesregierung\\u00ab?Auf der Seite der Editionsgruppe finden Sie einen Link zu den derzeitigen Mitarbeitern der Edition; das Impressum in der Utility-Leiste der Online-Edition macht weitere Angaben.\\n\\nnach oben\\n\\u00a08. Wo finde ich die Editionsgrunds\\u00e4tze?F\\u00fcr die Online-Edition wurde auf bandbezogene Ausf\\u00fchrungen zu den Editionsgrunds\\u00e4tzen zugunsten band\\u00fcbergreifender \\u00bbNetzeditionsgrunds\\u00e4tze\\u00ab verzichtet, die Sie als Hierarchiepunkt im linken Navaigationsbaum finden.\\n\\nnach oben\\n\\u00a09. Wo finde ich das Geleitwort?Analog den Editionsgrunds\\u00e4tzen wurden auch die bandbezogenen Geleitworte durch ein \\u00fcbergreifendes \\u00bbNetzgeleitwort\\u00ab ersetzt, das beim Aufruf des Punktes \\u201eKabinett\\u201c im Navigationsbaum erscheint.\\n\\nnach oben\\n\\u00a010. Wo finde ich die Gesch\\u00e4ftsordnung der Bundesregierung?Die Gesch\\u00e4ftsordnung der Bundesregierung finden Sie als Hierarchiepunkt im linken Navigationsbaum.\\n\\nnach oben\\n\\u00a011. Wie finde ich Personen in den Kabinettsprotokollen?Hierf\\u00fcr gibt es vier Wege:Sie \\u00f6ffnen den Funktionsbereich \\u00bbSuche\\u00ab, geben den Namen der betreffenden Person ein, schr\\u00e4nken ggf. die Suche auf \\u00bbBiographien\\u00ab oder andere Suchbereiche ein.\\u00dcber den Auswahlpunkt \\u00bbBiographien\\u00ab im Navigationsbaum k\\u00f6nnen Sie direkt band\\u00fcbergreifend die Kurzbiographie einer gesuchten Person ermitteln.Jeder Band enth\\u00e4lt die bandbezogenen biographischen Angaben zu den regelm\\u00e4\\u00dfigen Teilnehmern und G\\u00e4sten von Kabinettssitzungen unter dem Auswahlpunkt \\u00bbPersonen\\u00ab .Au\\u00dferdem enth\\u00e4lt jeder Band eine \\u00bbPersonenliste\\u00ab, die alle in der einen oder anderen Weise erw\\u00e4hnten Personen auff\\u00fchrt und mit der Suchfunktion automatisch verkn\\u00fcpft ist.\\nnach oben\\n\\u00a012. Wie zitiere ich die Kabinettsprotokolle online?Die Netzeditionsgrunds\\u00e4tze im Hilfeunterpunkt \\u201eZur Online-Edition\\u201c enthalten Zitationshinweise. \\n\\nnach oben\\n\\u00a013. Mit welchen Browsern und welchen Browserversionen kann man die Online-Edition nutzen?Die Online-Edition ist mit den Browsern der Internet Explorer-Familie ab Version 5.5. sowie mit Mozilla ab Version 1.5 und Firefox ab Version 1.0.7 voll funktionsf\\u00e4hig. Der Browser Opera wird mit kleineren visuellen Einschr\\u00e4nkungen ab Version 7 voll unterst\\u00fctzt.\\n\\nnach oben\\n\\u00a014. BarrierefreiheitDie Herstellung der Barriefreiheit ist das Hauptmotiv der Neugestaltung der Online-Edition. Die volle Funktionalit\\u00e4t ist auch f\\u00fcr Mitmenschen mit Handicaps ist hergestellt und wird in einer eigenen Anleitung beschrieben.\\n\\nnach oben\\n\\u00a015. Wann werden die n\\u00e4chsten B\\u00e4nde eingestellt?Der jeweils neueste Band wird 18 Monate nach der Buchver\\u00f6ffentlichung eingestellt. \\n\\nnach oben\\n\\u00a016. Wie kann ich mich zur Online-Edition \\u00e4u\\u00dfern?Anregungen, Kommentare und Kritik k\\u00f6nnen Sie gerne \\u00fcber die Kontaktadresse auf der der Seite der Editionsgruppe mitteilen. \\n\\nnach oben\\n\\u00a017. Ich kann die Bilder bzw. Schriftst\\u00fccke in der Bildleiste nicht erkennen bzw. lesen!Jedes Bild kann durch Mausklick  vergr\\u00f6\\u00dfert werden. Die vergr\\u00f6\\u00dferte Variante enth\\u00e4lt auch eine Bildunterschrift mit Herkunftsangaben. Zu jedem vergr\\u00f6\\u00dferten Bild gibt es eine alternative Beschreibung. Der Verweis darauf ist in den Eigenschaften des Bildes enthalten und wird automatisch angezeigt, falls die Anzeige von Bildern deaktiviert sein sollte. Innerhalb der Vergr\\u00f6\\u00dferungsansicht kann zwischen den Bildern navigiert werden.\\n\\nnach oben\\n\\u00a018. Wo finde ich die bibliographischen Angaben zu den B\\u00e4nden?Entweder klicken Sie auf das Titelblatt des betreffenden Bandes in der Bildleiste oder auf den entsprechenden Band im linken Navigationsbaum. Beachten  Sie die Zitationsweise der Internetedition in den Netzeditionsgrunds\\u00e4tzen.\\n\\nnach oben\\n\\u00a019. Wie kann ich einen Tagesordnungspunkt ohne den Navigationsbaum lesen?Sie k\\u00f6nnen den Navigationsbereich \\u00fcber das Pfeilsymbol unterhalb der Bildleiste wegklicken. Das gleiche Symbol blendet den Bereich wieder ein. F\\u00fcr das Bl\\u00e4ttern in den Seiten ohne den Navigationsbaum steht auch das Navigationsmen\\u00fc zur Verf\\u00fcgung.\\n\\nnach oben\\n\\u00a020. Wie aktiviere ich die Access-Keys in meinem Browser?Die Navigation mit Access-Keys unterscheidet sich leicht von Browser zu Browser. Die Aktivierung erfolgt unter Windows:beidurchInternet ExplorerAlt + belegte Taste + EnterNetscape, Mozilla, Firefox 1Alt+ belegte TasteFirefox 2Alt + Umschalt + belegte TasteOperaUmschalt+ESC, dann die belegte TasteKonquerorSTRG, dann die belegte TasteIm aktuellem Mac-Betriebssystem erfolgt die Aktivierung durch STRG und die belegte Taste.\\n\\nnach oben\\n\\u00a021. Warum sind Abk\\u00fcrzungen in Kleinbuchstaben als Kapit\\u00e4lchen gesetzt?Die Abk\\u00fcrzungen sind durch <acronym> Elemente in HTML kodiert. Die Darstellung dieser Elemente durch Kapit\\u00e4lchen im Browser Opera ist eine browserbedingte Eigenheit, auf die die Edition keinen Einfluss hat.\\n\\nnach oben\\n\\u00a022. Wie kann ich die Bilder zu einem Band vergr\\u00f6\\u00dfern?Die kleinen Bilder in der Kopfleiste dienen nur der Vorschau. Durch  Klicken auf die Vorschaubilder erhalten Sie das ganze Bild in gr\\u00f6\\u00dferer Aufl\\u00f6sung.\\n\\nnach oben\\n\\u00a023. Wie komme ich zu den Tagesordnungspunkten, auf die sich Bilder in der Kopfleiste beziehen?Wird in der Bildbeschreibung auf Tagesordnungspunkte verwiesen, sind diese durch einen Link erreichbar. Das ganze Bild dient als Linkanker, durch Klicken auf das Bild kommen Sie zum entsprechenden Punkt in den Protokollen.\\n\\nnach oben\"}\n",
            "msgCont: {\"Url\": \"https://www.bundesarchiv.de/cocoon/barch/0000/k/k1978k/index.html\", \"TextInfo\": \"Die Kabinettsprotokolle der Bundesregierung 1978\"}\n",
            "msgCont: {\"Url\": \"https://www.bundesarchiv.de/cocoon/barch/0000/k/k1962k/index.html\", \"TextInfo\": \"Die Kabinettsprotokolle der Bundesregierung Band 15. 1962\\nherausgegeben f\\u00fcr das Bundesarchiv von Hartmut Weberbearbeitet von Uta R\\u00f6ssel und Christoph Seemannunter Mitwirkung von Ralf Behrendt, Ulrich Enders und Josef Henke\\nR. Oldenbourg Verlag M\\u00fcnchen 2005ISBN 978-3-486-57739-6\\nDie Kabinettsberatungen des Jahres 1962 waren gepr\\u00e4gt von wachsenden Spannungen innerhalb der Regierungskoalition aus CDU/CSU und FDP, die im Herbst in der \\\"Spiegel\\\"-Aff\\u00e4re und der nachfolgenden Kabinettsumbildung ihren H\\u00f6hepunkt erreichten. Der Ausgleich des Bundeshaushalts wurde durch Anspr\\u00fcche unterschiedlicher Akteure wie der NATO-B\\u00fcndnispartner oder der Beamten und Arbeitnehmer des Bundes erschwert. Vor diesem Hintergrund war die Neuregelung von Lohnfortzahlung, Kindergeld und Krankenversicherung umstritten. Der Erhaltung des gesamtwirtschaftlichen Gleichgewichts dienten Ma\\u00dfhalteappelle an die Tarifpartner und Versuche, auf die Preispolitik Einfluss zu nehmen. Beschleunigt durch die Kuba-Krise und die anhaltende Bedrohung Berlins verabschiedete die Bundesregierung die Entw\\u00fcrfe einer Notstandsgesetzgebung.\"}\n",
            "msgCont: {\"Url\": \"https://www.bundesarchiv.de/cocoon/barch/0000/k/k1979k/index.html\", \"TextInfo\": \"Die Kabinettsprotokolle der Bundesregierung 1979\"}\n",
            "msgCont: {\"Url\": \"https://www.bundesarchiv.de/cocoon/barch/0000/k/k1958k/index.html\", \"TextInfo\": \"Die Kabinettsprotokolle der Bundesregierung Band 11. 1958\\nherausgegeben f\\u00fcr das Bundesarchiv von Hartmut Weberbearbeitet von Ulrich Enders und Christoph Schaweunter Mitwirkung von Ralf Behrendt, Josef Henke und Uta R\\u00f6ssel\\nR. Oldenbourg Verlag M\\u00fcnchen 2002ISBN 978-3-486-56566-9\\nDer sowjetische Vorschlag einer Gipfelkonferenz und das Berlin-Ultimatum Chruschtschows bildeten vor dem Hintergrund des sich versch\\u00e4rfenden Ost-West-Konflikts im Jahre 1958 den Rahmen f\\u00fcr die Bem\\u00fchungen der Bundesregierung um eine L\\u00f6sung der deutschen Frage. Gleichzeitig kennzeichneten der Aufbau der europ\\u00e4ischen Institutionen und die wachsenden Verpflichtungen der Bundesrepublik im westlichen Verteidigungsb\\u00fcndnis den fortschreitenden Prozess ihrer Westintegration. Dazu geh\\u00f6rten auch die Bestrebungen der Bundesregierung, einen Ausgleich in den durch die Ereignisse des Zweiten Weltkrieges immer noch belasteten Beziehungen zu den westlichen Nachbarstaaten zu finden. In diesem Zusammenhang ist besonders die deutsch-franz\\u00f6sische Ann\\u00e4herung zu nennen, die durch pers\\u00f6nliche Begegnungen Adenauers mit dem neuen franz\\u00f6sischen Ministerpr\\u00e4sidenten de Gaulle in Colombey-les-deux-Eglises und Bad Kreuznach eingeleitet wurde. Zu den innenpolitisch vorherrschenden Themen dieses Jahres z\\u00e4hlte die Auseinandersetzung um die Frage der atomaren Aufr\\u00fcstung der Bundeswehr, die in der Anti-Atomtod-Bewegung ihren deutlichen Ausdruck fand. Unruhe in der Bev\\u00f6lkerung verursachte auch die Kohlenkrise, die die Bundesregierung durch ein B\\u00fcndel von Ma\\u00dfnahmen einzud\\u00e4mmen suchte. Daneben nahm sie umfangreiche Reformvorhaben in Angriff, die u. a. das Steuer- und Aktienrecht, die Notstands- und Parteiengesetzgebung, das Rundfunkwesen und die soziale Krankenversicherung betrafen.\"}\n",
            "msgCont: {\"Url\": \"https://www.bundesarchiv.de/cocoon/barch/0001/k/index.html\", \"TextInfo\": \"Kabinett\\nAuf der Grundlage des 1979 von der Bundesregierung dem Bundesarchiv erteilten Auftrags, die Kabinettsprotokolle der Bundesregierung in wissenschaftlicher Form zu ver\\u00f6ffentlichen, hat sich inzwischen eine vielb\\u00e4ndige Editionsreihe entwickelt.\\nAngesichts dieser auch weiterhin anwachsenden Informationsf\\u00fclle lag es nahe, die Informationstechnik f\\u00fcr die Erschlie\\u00dfung der Texte zu nutzen. Die Online-Version der edierten Kabinettsprotokolle steht seit 2003 im Internet bereit. Sie macht die f\\u00fcr die Erforschung der Geschichte der Bundesrepublik Deutschland zentrale Quelle der Kabinettsprotokolle einem deutlich breiteren Benutzerkreis zug\\u00e4nglich. Ihr entscheidender Mehrwert liegt in der Erleichterung und Erweiterung der Recherchem\\u00f6glichkeiten. Neben gezielter Suche und raschem Zugriff auch auf detaillierte Informationen erm\\u00f6glicht sie mittels kombinierter Suchstrategien auch Abfragen komplexer Sachverhalte sowie neue Methoden und Wege der Textauswertung. Gleichzeitig erleichtert sie durch ein Navigationssystem die Orientierung in einem immer umfangreicher werdenden Text. Ferner ist die digitale Version besonders dazu geeignet, das im Editionskonzept enthaltene System von Vor- und R\\u00fcckverweisen zu unterst\\u00fctzen. Eine Verlinkung der einzelnen Tagesordnungspunkte untereinander erlaubt es, den Beratungsverlauf im Kabinett und in seinen Aussch\\u00fcssen auch \\u00fcber die tradierten Band- und Jahresgrenzen hinaus im gesamten anwachsenden Corpus der Protokolltexte zu verfolgen.\\nNicht zuletzt besteht der Gewinn einer Internet-Version der Edition darin, die Quellenangaben in den Kommentaren der Kabinettsprotokolle mit den Bestands\\u00fcbersichten des Bundesarchivs zu verkn\\u00fcpfen. Mit diesem Zugang zu anderen, teilweise erst im Aufbau befindlichen Online-Dienstleistungen entspricht das Bundesarchiv auch der Zielsetzung der Bundesregierung, alle internetf\\u00e4higen Dienstleistungen der Bundesverwaltung online bereitzustellen.\\nDer wesentliche Vorteil der digitalen Version der Edition ist die Mehrdimensionalit\\u00e4t des Zugriffs. Die weiterhin im Buchdruck erscheinende Version des Editionswerks, die sequentielles Lesen erm\\u00f6glicht und Zitierbarkeit auch in klassischer Form sicherstellt, beh\\u00e4lt daneben ihre Berechtigung.\\nIn Erg\\u00e4nzung des wissenschaftlichen Editionswerks in seiner gedruckten und seiner digitalen Form konnte nach der erforderlichen Anpassung der rechtlichen Rahmenbedingungen das Bundesarchiv 2013 auf der vorliegenden Internet-Seite in einem Zuge diejenigen bereits schutzfristfreien 13 Jahrg\\u00e4nge der Kabinettsprotokolle der \\u00d6ffentlichkeit pr\\u00e4sentieren, zu denen bis dahin noch kein editorischer Sachkommentar erstellt worden war. Seitdem werden diese insoweit noch unkommentierten, jedoch schon textkritisch bearbeiteten Protokolle kontinuierlich entlang der archivrechtlichen 30-Jahresschutzfrist jahrgangsweise erg\\u00e4nzt. Sie sind in klarer Abgrenzung von den bereits abschlie\\u00dfend kommentierten Protokolljahrg\\u00e4ngen auf der Ebene der einzelnen Tagesordnungspunkte entsprechend gekennzeichnet, und sie bleiben als \\u00dcbergangsangebot jeweils nur solange im Internet eingestellt, bis sie durch die einschl\\u00e4gigen Jahrg\\u00e4nge der Online-Version der Edition nach deren Abschluss ersetzt werden k\\u00f6nnen.\"}\n",
            "queue is not none\n",
            "msgCont: {\"Url\": \"https://www.bundesarchiv.de/cocoon/barch/0000/k/k1961k/index.html\", \"TextInfo\": \"Die Kabinettsprotokolle der Bundesregierung Band 14. 1961\\nherausgegeben f\\u00fcr das Bundesarchiv von Hartmut Weberbearbeitet von Ulrich Enders und J\\u00f6rg Filthautunter Mitwirkung von Ralf Behrendt, Josef Henke, Uta R\\u00f6ssel und Christoph Seemann\\nR. Oldenbourg Verlag M\\u00fcnchen 2004ISBN 978-3-486-57584-2\\nDer andauernde Ost-West-Konflikt um die Berlin- und Deutschland-Frage kulminierte am 13. August 1961 im Bau der Berliner Mauer. Auf diese bedrohliche zugespitzte Situation reagierte die Bundesregierung u.a. mit einer vor\\u00fcbergehenden Verst\\u00e4rkung der Bundeswehr. Diese Ereignisse stellten gleichzeitig den deutschlandpolitischen Kurs von Bundeskanzler Adenauer in Frage, dessen Autorit\\u00e4t durch den Verlust der absoluten Mehrheit bei den Bundestagswahlen im September 1961 zus\\u00e4tzlich ersch\\u00fcttert wurde. Verbesserungen im Bereich der Landwirtschafts-, der Familien-, der Sozial- und der Verm\\u00f6gensbildungspolitik hatten diesen Stimmverlust nicht verhindern k\\u00f6nnen. Mit dem Eichmann-Prozess in Jerusalem und dem Verfahren gegen Staatssekret\\u00e4r Globke fand die im Vorjahr eingeleitete Diskussion um den Umgang mit der NS-Vergangenheit ihre Fortsetzung.\"}\n",
            "End of crawling: 04/05/2022 10:42:51\n"
          ]
        }
      ]
    },
    {
      "cell_type": "markdown",
      "source": [
        "Create a Data frame with the Queue information"
      ],
      "metadata": {
        "id": "nrA7TQ9ANRve"
      }
    },
    {
      "cell_type": "code",
      "source": [
        "import pandas as pd\n",
        "arrHeader = ['Url','TextInfo']\n",
        "\n",
        "urlDetails = pd.DataFrame( textData,  columns= arrHeader)\n",
        "urlDetails.head()"
      ],
      "metadata": {
        "id": "DfdGla9RMwO_",
        "colab": {
          "base_uri": "https://localhost:8080/",
          "height": 206
        },
        "outputId": "8375662e-14ca-433f-afb2-f5c2eedba703"
      },
      "execution_count": null,
      "outputs": [
        {
          "output_type": "execute_result",
          "data": {
            "text/plain": [
              "                                                 Url  \\\n",
              "0  https://www.bundesarchiv.de/cocoon/barch/0000/...   \n",
              "1  https://www.bundesarchiv.de/cocoon/barch/0000/...   \n",
              "2  https://www.bundesarchiv.de/cocoon/barch/0000/...   \n",
              "3  https://www.bundesarchiv.de/cocoon/barch/0000/...   \n",
              "4  https://www.bundesarchiv.de/cocoon/barch/0000/...   \n",
              "\n",
              "                                            TextInfo  \n",
              "0   Die Kabinettsprotokolle der Bundesregierung 1980  \n",
              "1  Die Kabinettsprotokolle der Bundesregierung Ba...  \n",
              "2  Die Kabinettsprotokolle der Bundesregierung Ba...  \n",
              "3  Die Kabinettsprotokolle der Bundesregierung Ba...  \n",
              "4  Die Kabinettsprotokolle der Bundesregierung Ba...  "
            ],
            "text/html": [
              "\n",
              "  <div id=\"df-120a5ab7-7c1a-4421-ad24-7370bbde859c\">\n",
              "    <div class=\"colab-df-container\">\n",
              "      <div>\n",
              "<style scoped>\n",
              "    .dataframe tbody tr th:only-of-type {\n",
              "        vertical-align: middle;\n",
              "    }\n",
              "\n",
              "    .dataframe tbody tr th {\n",
              "        vertical-align: top;\n",
              "    }\n",
              "\n",
              "    .dataframe thead th {\n",
              "        text-align: right;\n",
              "    }\n",
              "</style>\n",
              "<table border=\"1\" class=\"dataframe\">\n",
              "  <thead>\n",
              "    <tr style=\"text-align: right;\">\n",
              "      <th></th>\n",
              "      <th>Url</th>\n",
              "      <th>TextInfo</th>\n",
              "    </tr>\n",
              "  </thead>\n",
              "  <tbody>\n",
              "    <tr>\n",
              "      <th>0</th>\n",
              "      <td>https://www.bundesarchiv.de/cocoon/barch/0000/...</td>\n",
              "      <td>Die Kabinettsprotokolle der Bundesregierung 1980</td>\n",
              "    </tr>\n",
              "    <tr>\n",
              "      <th>1</th>\n",
              "      <td>https://www.bundesarchiv.de/cocoon/barch/0000/...</td>\n",
              "      <td>Die Kabinettsprotokolle der Bundesregierung Ba...</td>\n",
              "    </tr>\n",
              "    <tr>\n",
              "      <th>2</th>\n",
              "      <td>https://www.bundesarchiv.de/cocoon/barch/0000/...</td>\n",
              "      <td>Die Kabinettsprotokolle der Bundesregierung Ba...</td>\n",
              "    </tr>\n",
              "    <tr>\n",
              "      <th>3</th>\n",
              "      <td>https://www.bundesarchiv.de/cocoon/barch/0000/...</td>\n",
              "      <td>Die Kabinettsprotokolle der Bundesregierung Ba...</td>\n",
              "    </tr>\n",
              "    <tr>\n",
              "      <th>4</th>\n",
              "      <td>https://www.bundesarchiv.de/cocoon/barch/0000/...</td>\n",
              "      <td>Die Kabinettsprotokolle der Bundesregierung Ba...</td>\n",
              "    </tr>\n",
              "  </tbody>\n",
              "</table>\n",
              "</div>\n",
              "      <button class=\"colab-df-convert\" onclick=\"convertToInteractive('df-120a5ab7-7c1a-4421-ad24-7370bbde859c')\"\n",
              "              title=\"Convert this dataframe to an interactive table.\"\n",
              "              style=\"display:none;\">\n",
              "        \n",
              "  <svg xmlns=\"http://www.w3.org/2000/svg\" height=\"24px\"viewBox=\"0 0 24 24\"\n",
              "       width=\"24px\">\n",
              "    <path d=\"M0 0h24v24H0V0z\" fill=\"none\"/>\n",
              "    <path d=\"M18.56 5.44l.94 2.06.94-2.06 2.06-.94-2.06-.94-.94-2.06-.94 2.06-2.06.94zm-11 1L8.5 8.5l.94-2.06 2.06-.94-2.06-.94L8.5 2.5l-.94 2.06-2.06.94zm10 10l.94 2.06.94-2.06 2.06-.94-2.06-.94-.94-2.06-.94 2.06-2.06.94z\"/><path d=\"M17.41 7.96l-1.37-1.37c-.4-.4-.92-.59-1.43-.59-.52 0-1.04.2-1.43.59L10.3 9.45l-7.72 7.72c-.78.78-.78 2.05 0 2.83L4 21.41c.39.39.9.59 1.41.59.51 0 1.02-.2 1.41-.59l7.78-7.78 2.81-2.81c.8-.78.8-2.07 0-2.86zM5.41 20L4 18.59l7.72-7.72 1.47 1.35L5.41 20z\"/>\n",
              "  </svg>\n",
              "      </button>\n",
              "      \n",
              "  <style>\n",
              "    .colab-df-container {\n",
              "      display:flex;\n",
              "      flex-wrap:wrap;\n",
              "      gap: 12px;\n",
              "    }\n",
              "\n",
              "    .colab-df-convert {\n",
              "      background-color: #E8F0FE;\n",
              "      border: none;\n",
              "      border-radius: 50%;\n",
              "      cursor: pointer;\n",
              "      display: none;\n",
              "      fill: #1967D2;\n",
              "      height: 32px;\n",
              "      padding: 0 0 0 0;\n",
              "      width: 32px;\n",
              "    }\n",
              "\n",
              "    .colab-df-convert:hover {\n",
              "      background-color: #E2EBFA;\n",
              "      box-shadow: 0px 1px 2px rgba(60, 64, 67, 0.3), 0px 1px 3px 1px rgba(60, 64, 67, 0.15);\n",
              "      fill: #174EA6;\n",
              "    }\n",
              "\n",
              "    [theme=dark] .colab-df-convert {\n",
              "      background-color: #3B4455;\n",
              "      fill: #D2E3FC;\n",
              "    }\n",
              "\n",
              "    [theme=dark] .colab-df-convert:hover {\n",
              "      background-color: #434B5C;\n",
              "      box-shadow: 0px 1px 3px 1px rgba(0, 0, 0, 0.15);\n",
              "      filter: drop-shadow(0px 1px 2px rgba(0, 0, 0, 0.3));\n",
              "      fill: #FFFFFF;\n",
              "    }\n",
              "  </style>\n",
              "\n",
              "      <script>\n",
              "        const buttonEl =\n",
              "          document.querySelector('#df-120a5ab7-7c1a-4421-ad24-7370bbde859c button.colab-df-convert');\n",
              "        buttonEl.style.display =\n",
              "          google.colab.kernel.accessAllowed ? 'block' : 'none';\n",
              "\n",
              "        async function convertToInteractive(key) {\n",
              "          const element = document.querySelector('#df-120a5ab7-7c1a-4421-ad24-7370bbde859c');\n",
              "          const dataTable =\n",
              "            await google.colab.kernel.invokeFunction('convertToInteractive',\n",
              "                                                     [key], {});\n",
              "          if (!dataTable) return;\n",
              "\n",
              "          const docLinkHtml = 'Like what you see? Visit the ' +\n",
              "            '<a target=\"_blank\" href=https://colab.research.google.com/notebooks/data_table.ipynb>data table notebook</a>'\n",
              "            + ' to learn more about interactive tables.';\n",
              "          element.innerHTML = '';\n",
              "          dataTable['output_type'] = 'display_data';\n",
              "          await google.colab.output.renderOutput(dataTable, element);\n",
              "          const docLink = document.createElement('div');\n",
              "          docLink.innerHTML = docLinkHtml;\n",
              "          element.appendChild(docLink);\n",
              "        }\n",
              "      </script>\n",
              "    </div>\n",
              "  </div>\n",
              "  "
            ]
          },
          "metadata": {},
          "execution_count": 12
        }
      ]
    },
    {
      "cell_type": "code",
      "source": [
        "urlDetails.shape"
      ],
      "metadata": {
        "colab": {
          "base_uri": "https://localhost:8080/"
        },
        "id": "4eei38OyFBXR",
        "outputId": "7f26f1ef-8bff-4a66-d3d9-65388d495d82"
      },
      "execution_count": null,
      "outputs": [
        {
          "output_type": "execute_result",
          "data": {
            "text/plain": [
              "(61, 2)"
            ]
          },
          "metadata": {},
          "execution_count": 13
        }
      ]
    },
    {
      "cell_type": "markdown",
      "source": [
        "Using Snowball stemmer\n",
        "https://www.nltk.org/howto/stem.html\n"
      ],
      "metadata": {
        "id": "8K6d4-hFYvI9"
      }
    },
    {
      "cell_type": "code",
      "source": [
        "#Now actual stemming code\n",
        "#Using Snowball stemmer\n",
        "from nltk.stem.snowball import SnowballStemmer\n",
        "stemmer = SnowballStemmer(\"german\")\n",
        "\n",
        "def GetStemmedWords(tokWords):\n",
        "  stemmedWords = []\n",
        "  for i in range(len(tokWords)):\n",
        "      stemmedWords.append( stemmer.stem(tokWords[i]) )\n",
        "  return stemmedWords\n",
        "\n",
        "GetStemmedWords(['kabinettsprotokoll', 'bundesregier', '1980'])"
      ],
      "metadata": {
        "id": "RKi_lOE6U5D_",
        "colab": {
          "base_uri": "https://localhost:8080/"
        },
        "outputId": "780541c7-58b5-4ca4-e2c6-bccbdb7cc788"
      },
      "execution_count": null,
      "outputs": [
        {
          "output_type": "execute_result",
          "data": {
            "text/plain": [
              "['kabinettsprotokoll', 'bundesregi', '1980']"
            ]
          },
          "metadata": {},
          "execution_count": 14
        }
      ]
    },
    {
      "cell_type": "markdown",
      "source": [
        "Use Lemmatization https://www.geeksforgeeks.org/python-lemmatization-with-nltk/?ref=lbp\n"
      ],
      "metadata": {
        "id": "QjNAZbc7d8s-"
      }
    },
    {
      "cell_type": "code",
      "source": [
        "# import these modules\n",
        "nltk.download('wordnet')\n",
        "from nltk.stem import WordNetLemmatizer\n",
        " \n",
        "lemmatizer = WordNetLemmatizer()\n",
        "\n",
        "def GetLemmatizedWords(tokWords):\n",
        "  lemmaWords = []\n",
        "  for i in range(len(tokWords)):\n",
        "      lemmaWords.append( lemmatizer.lemmatize(tokWords[i]) )\n",
        "  return lemmaWords\n",
        "\n",
        "GetLemmatizedWords(['kabinettsprotokoll', 'bundesregier', '1980'])"
      ],
      "metadata": {
        "colab": {
          "base_uri": "https://localhost:8080/"
        },
        "id": "w7krCMAXd5Um",
        "outputId": "3e562fcc-641a-4525-8b01-e3d31ca6b042"
      },
      "execution_count": null,
      "outputs": [
        {
          "output_type": "stream",
          "name": "stdout",
          "text": [
            "[nltk_data] Downloading package wordnet to /root/nltk_data...\n",
            "[nltk_data]   Package wordnet is already up-to-date!\n"
          ]
        },
        {
          "output_type": "execute_result",
          "data": {
            "text/plain": [
              "['kabinettsprotokoll', 'bundesregier', '1980']"
            ]
          },
          "metadata": {},
          "execution_count": 15
        }
      ]
    },
    {
      "cell_type": "code",
      "source": [
        "GetLemmatizedWords(['Allgemeine', 'HinweiseHier', 'finden', 'Sie', 'Informationen', 'und', 'Hilfe', 'zur', 'Benutzung', 'der', \n",
        "                    'Internetpräsentation', 'der', 'Kabinettsprotokolle', 'sowie', 'das', 'Impressum', '.'])"
      ],
      "metadata": {
        "colab": {
          "base_uri": "https://localhost:8080/"
        },
        "id": "FLMqsAa2obDv",
        "outputId": "75cb3164-04d4-46c9-c381-8aa88fe214b5"
      },
      "execution_count": null,
      "outputs": [
        {
          "output_type": "execute_result",
          "data": {
            "text/plain": [
              "['Allgemeine',\n",
              " 'HinweiseHier',\n",
              " 'finden',\n",
              " 'Sie',\n",
              " 'Informationen',\n",
              " 'und',\n",
              " 'Hilfe',\n",
              " 'zur',\n",
              " 'Benutzung',\n",
              " 'der',\n",
              " 'Internetpräsentation',\n",
              " 'der',\n",
              " 'Kabinettsprotokolle',\n",
              " 'sowie',\n",
              " 'da',\n",
              " 'Impressum',\n",
              " '.']"
            ]
          },
          "metadata": {},
          "execution_count": 16
        }
      ]
    },
    {
      "cell_type": "code",
      "source": [
        "def GetMorpholigicalWords(tokWords):\n",
        "  if IsPerformLemmatization == True:\n",
        "    return GetLemmatizedWords(tokWords)\n",
        "  else:\n",
        "    return GetStemmedWords(tokWords)"
      ],
      "metadata": {
        "id": "or41dEQfee7Q"
      },
      "execution_count": null,
      "outputs": []
    },
    {
      "cell_type": "markdown",
      "source": [
        "**Performing Data Preprocessing**\n",
        "1. Clean Unwanted text\n",
        "2. Remove White spacec\n",
        "3. Remove single characters\n",
        "4. Make it lower case\n",
        "5. Remove stop words"
      ],
      "metadata": {
        "id": "nT-4BKSON7yW"
      }
    },
    {
      "cell_type": "code",
      "source": [
        "import re #Regex\n",
        "def CleanupText(scentenceToProcess):\n",
        "  \n",
        "  RE_WSPACE = re.compile(r\"\\s+\", re.IGNORECASE)\n",
        "  RE_TAGS = re.compile(r\"<[^>]+>\")\n",
        "  RE_ASCII = re.compile(r\"[^A-Za-zÀ-ž0-9]\", re.IGNORECASE)\n",
        "  RE_SINGLECHAR = re.compile(r\"\\b[A-Za-zÀ-ž]\\b\", re.IGNORECASE)\n",
        "\n",
        "  scentenceToProcess = re.sub(RE_TAGS, \" \", scentenceToProcess)\n",
        "  scentenceToProcess = re.sub(RE_ASCII, \" \", scentenceToProcess)\n",
        "  scentenceToProcess = re.sub(RE_SINGLECHAR, \" \", scentenceToProcess)\n",
        "  scentenceToProcess = re.sub(RE_WSPACE, \" \", scentenceToProcess)\n",
        "\n",
        "  scentenceToProcess = scentenceToProcess.lower()\n",
        "  words_tokens_lower = nltk.word_tokenize(scentenceToProcess)\n",
        "  stemmedWords = []\n",
        "  #Remove Stop words and get stemmed words\n",
        "  for word in GetMorpholigicalWords(words_tokens_lower): #Loop for the Get stemmed words/ lemmatized words based on config\n",
        "    if word not in germanStopWords:\n",
        "      stemmedWords.append(word)\n",
        "\n",
        "\n",
        "  return stemmedWords\n",
        "\n",
        "#Testing the above method\n",
        "CleanupText(\"Die Kabinettsprotokolle der Bundesregierung 1980 !.\")"
      ],
      "metadata": {
        "colab": {
          "base_uri": "https://localhost:8080/"
        },
        "id": "EF8aYiEq5lEp",
        "outputId": "fc8b0212-5a46-434a-ef0e-48455e535fb0"
      },
      "execution_count": null,
      "outputs": [
        {
          "output_type": "execute_result",
          "data": {
            "text/plain": [
              "['kabinettsprotokolle', 'bundesregierung', '1980']"
            ]
          },
          "metadata": {},
          "execution_count": 18
        }
      ]
    },
    {
      "cell_type": "markdown",
      "source": [
        "Create a new column of cleaned up words"
      ],
      "metadata": {
        "id": "_mbNeplC-pVu"
      }
    },
    {
      "cell_type": "code",
      "source": [
        "#create a New column for the cleaned up data\n",
        "urlDetails['tokenizedWords'] = urlDetails['TextInfo'].apply(CleanupText) \n",
        "\n",
        "#Validating the data\n",
        "urlDetails.tokenizedWords[5]"
      ],
      "metadata": {
        "id": "VfNAsX_oQad-"
      },
      "execution_count": null,
      "outputs": []
    },
    {
      "cell_type": "code",
      "source": [
        "#Now add a new Column to check how meaningful it is after stemming\n",
        "seperator = \" \"\n",
        "def JoinArray(arr):\n",
        "  return seperator.join(arr)"
      ],
      "metadata": {
        "id": "r5lDrUsIZM84"
      },
      "execution_count": null,
      "outputs": []
    },
    {
      "cell_type": "code",
      "source": [
        "urlDetails['tokenizedScentence'] = urlDetails['tokenizedWords'].apply(JoinArray) \n",
        "\n",
        "#Validating the data\n",
        "urlDetails.tokenizedWords[5]"
      ],
      "metadata": {
        "id": "v2CTuZKyCcRQ"
      },
      "execution_count": null,
      "outputs": []
    },
    {
      "cell_type": "code",
      "source": [
        "wordWithoutStopWord = [] #For Frequency Distribution chart- collect all words\n",
        "def PopulateWordsWithoutStopWords(rowsOfWordTokens):\n",
        "  for i in range(len(rowsOfWordTokens)):\n",
        "    for j in range(len(rowsOfWordTokens[i])):\n",
        "      print(rowsOfWordTokens[i])\n",
        "      wordWithoutStopWord.append(rowsOfWordTokens[i][j])\n",
        "    \n",
        "  "
      ],
      "metadata": {
        "id": "yhkRrFEQ_Zzp"
      },
      "execution_count": null,
      "outputs": []
    },
    {
      "cell_type": "code",
      "source": [
        "#Trigger the method passing the list of word tokens (array of array)\n",
        "PopulateWordsWithoutStopWords(list(urlDetails['tokenizedWords']))"
      ],
      "metadata": {
        "id": "XbqIK5aLA8MK"
      },
      "execution_count": null,
      "outputs": []
    },
    {
      "cell_type": "code",
      "source": [
        "len(wordWithoutStopWord)\n"
      ],
      "metadata": {
        "colab": {
          "base_uri": "https://localhost:8080/"
        },
        "id": "Mo8Wov_uCQwG",
        "outputId": "54c29eae-4cf7-4ac5-a176-f398388f4fb3"
      },
      "execution_count": null,
      "outputs": [
        {
          "output_type": "execute_result",
          "data": {
            "text/plain": [
              "8192"
            ]
          },
          "metadata": {},
          "execution_count": 24
        }
      ]
    },
    {
      "cell_type": "markdown",
      "source": [
        "**Frequency Distribution plot for cleaned words (without stop words)**"
      ],
      "metadata": {
        "id": "tOmPF0o-0zjL"
      }
    },
    {
      "cell_type": "code",
      "source": [
        "#Perform Frequency distribusion on words extracted\n",
        "#Displaying top 20\n",
        "\n",
        "from nltk import FreqDist\n",
        "import seaborn as sns\n",
        "from matplotlib import pyplot as plt\n",
        "\n",
        "def PerformFrequencyDistribution(freqData):\n",
        "  all_fdist = FreqDist(freqData).most_common(20)\n",
        "\n",
        "  ## Conversion to Pandas series via Python Dictionary for easier plotting\n",
        "  all_fdist = pd.Series(dict(all_fdist))\n",
        "\n",
        "  ## Setting figure, ax into variables\n",
        "  fig, ax = plt.subplots(figsize=(15,15))\n",
        "\n",
        "  ## Seaborn plotting using Pandas attributes + xtick rotation for ease of viewing\n",
        "  all_plot = sns.barplot(x=all_fdist.index, y=all_fdist.values, ax=ax)\n",
        "  plt.xticks(rotation=30);\n",
        "\n",
        "PerformFrequencyDistribution(wordWithoutStopWord)  "
      ],
      "metadata": {
        "id": "BWtarJk_L-vW",
        "colab": {
          "base_uri": "https://localhost:8080/",
          "height": 910
        },
        "outputId": "2db34a5e-6536-49b4-affd-b625ffd82bca"
      },
      "execution_count": null,
      "outputs": [
        {
          "output_type": "display_data",
          "data": {
            "text/plain": [
              "<Figure size 1080x1080 with 1 Axes>"
            ],
            "image/png": "[encoded data removed]"
          },
          "metadata": {
            "needs_background": "light"
          }
        }
      ]
    },
    {
      "cell_type": "code",
      "source": [
        "urlDetails.head()"
      ],
      "metadata": {
        "id": "w5xmISclUAJr",
        "colab": {
          "base_uri": "https://localhost:8080/",
          "height": 206
        },
        "outputId": "706a60f9-93a3-4ec9-9569-d419db146b87"
      },
      "execution_count": null,
      "outputs": [
        {
          "output_type": "execute_result",
          "data": {
            "text/plain": [
              "                                                 Url  \\\n",
              "0  https://www.bundesarchiv.de/cocoon/barch/0000/...   \n",
              "1  https://www.bundesarchiv.de/cocoon/barch/0000/...   \n",
              "2  https://www.bundesarchiv.de/cocoon/barch/0000/...   \n",
              "3  https://www.bundesarchiv.de/cocoon/barch/0000/...   \n",
              "4  https://www.bundesarchiv.de/cocoon/barch/0000/...   \n",
              "\n",
              "                                            TextInfo  \\\n",
              "0   Die Kabinettsprotokolle der Bundesregierung 1980   \n",
              "1  Die Kabinettsprotokolle der Bundesregierung Ba...   \n",
              "2  Die Kabinettsprotokolle der Bundesregierung Ba...   \n",
              "3  Die Kabinettsprotokolle der Bundesregierung Ba...   \n",
              "4  Die Kabinettsprotokolle der Bundesregierung Ba...   \n",
              "\n",
              "                                      tokenizedWords  \\\n",
              "0       [kabinettsprotokolle, bundesregierung, 1980]   \n",
              "1  [kabinettsprotokolle, bundesregierung, band, 7...   \n",
              "2  [kabinettsprotokolle, bundesregierung, band, 2...   \n",
              "3  [kabinettsprotokolle, bundesregierung, band, 2...   \n",
              "4  [kabinettsprotokolle, bundesregierung, band, 1...   \n",
              "\n",
              "                                  tokenizedScentence  \n",
              "0           kabinettsprotokolle bundesregierung 1980  \n",
              "1  kabinettsprotokolle bundesregierung band 7 195...  \n",
              "2  kabinettsprotokolle bundesregierung band 21 19...  \n",
              "3  kabinettsprotokolle bundesregierung band 25 19...  \n",
              "4  kabinettsprotokolle bundesregierung band 19 19...  "
            ],
            "text/html": [
              "\n",
              "  <div id=\"df-987c3912-d784-4c09-825a-70961faae5ca\">\n",
              "    <div class=\"colab-df-container\">\n",
              "      <div>\n",
              "<style scoped>\n",
              "    .dataframe tbody tr th:only-of-type {\n",
              "        vertical-align: middle;\n",
              "    }\n",
              "\n",
              "    .dataframe tbody tr th {\n",
              "        vertical-align: top;\n",
              "    }\n",
              "\n",
              "    .dataframe thead th {\n",
              "        text-align: right;\n",
              "    }\n",
              "</style>\n",
              "<table border=\"1\" class=\"dataframe\">\n",
              "  <thead>\n",
              "    <tr style=\"text-align: right;\">\n",
              "      <th></th>\n",
              "      <th>Url</th>\n",
              "      <th>TextInfo</th>\n",
              "      <th>tokenizedWords</th>\n",
              "      <th>tokenizedScentence</th>\n",
              "    </tr>\n",
              "  </thead>\n",
              "  <tbody>\n",
              "    <tr>\n",
              "      <th>0</th>\n",
              "      <td>https://www.bundesarchiv.de/cocoon/barch/0000/...</td>\n",
              "      <td>Die Kabinettsprotokolle der Bundesregierung 1980</td>\n",
              "      <td>[kabinettsprotokolle, bundesregierung, 1980]</td>\n",
              "      <td>kabinettsprotokolle bundesregierung 1980</td>\n",
              "    </tr>\n",
              "    <tr>\n",
              "      <th>1</th>\n",
              "      <td>https://www.bundesarchiv.de/cocoon/barch/0000/...</td>\n",
              "      <td>Die Kabinettsprotokolle der Bundesregierung Ba...</td>\n",
              "      <td>[kabinettsprotokolle, bundesregierung, band, 7...</td>\n",
              "      <td>kabinettsprotokolle bundesregierung band 7 195...</td>\n",
              "    </tr>\n",
              "    <tr>\n",
              "      <th>2</th>\n",
              "      <td>https://www.bundesarchiv.de/cocoon/barch/0000/...</td>\n",
              "      <td>Die Kabinettsprotokolle der Bundesregierung Ba...</td>\n",
              "      <td>[kabinettsprotokolle, bundesregierung, band, 2...</td>\n",
              "      <td>kabinettsprotokolle bundesregierung band 21 19...</td>\n",
              "    </tr>\n",
              "    <tr>\n",
              "      <th>3</th>\n",
              "      <td>https://www.bundesarchiv.de/cocoon/barch/0000/...</td>\n",
              "      <td>Die Kabinettsprotokolle der Bundesregierung Ba...</td>\n",
              "      <td>[kabinettsprotokolle, bundesregierung, band, 2...</td>\n",
              "      <td>kabinettsprotokolle bundesregierung band 25 19...</td>\n",
              "    </tr>\n",
              "    <tr>\n",
              "      <th>4</th>\n",
              "      <td>https://www.bundesarchiv.de/cocoon/barch/0000/...</td>\n",
              "      <td>Die Kabinettsprotokolle der Bundesregierung Ba...</td>\n",
              "      <td>[kabinettsprotokolle, bundesregierung, band, 1...</td>\n",
              "      <td>kabinettsprotokolle bundesregierung band 19 19...</td>\n",
              "    </tr>\n",
              "  </tbody>\n",
              "</table>\n",
              "</div>\n",
              "      <button class=\"colab-df-convert\" onclick=\"convertToInteractive('df-987c3912-d784-4c09-825a-70961faae5ca')\"\n",
              "              title=\"Convert this dataframe to an interactive table.\"\n",
              "              style=\"display:none;\">\n",
              "        \n",
              "  <svg xmlns=\"http://www.w3.org/2000/svg\" height=\"24px\"viewBox=\"0 0 24 24\"\n",
              "       width=\"24px\">\n",
              "    <path d=\"M0 0h24v24H0V0z\" fill=\"none\"/>\n",
              "    <path d=\"M18.56 5.44l.94 2.06.94-2.06 2.06-.94-2.06-.94-.94-2.06-.94 2.06-2.06.94zm-11 1L8.5 8.5l.94-2.06 2.06-.94-2.06-.94L8.5 2.5l-.94 2.06-2.06.94zm10 10l.94 2.06.94-2.06 2.06-.94-2.06-.94-.94-2.06-.94 2.06-2.06.94z\"/><path d=\"M17.41 7.96l-1.37-1.37c-.4-.4-.92-.59-1.43-.59-.52 0-1.04.2-1.43.59L10.3 9.45l-7.72 7.72c-.78.78-.78 2.05 0 2.83L4 21.41c.39.39.9.59 1.41.59.51 0 1.02-.2 1.41-.59l7.78-7.78 2.81-2.81c.8-.78.8-2.07 0-2.86zM5.41 20L4 18.59l7.72-7.72 1.47 1.35L5.41 20z\"/>\n",
              "  </svg>\n",
              "      </button>\n",
              "      \n",
              "  <style>\n",
              "    .colab-df-container {\n",
              "      display:flex;\n",
              "      flex-wrap:wrap;\n",
              "      gap: 12px;\n",
              "    }\n",
              "\n",
              "    .colab-df-convert {\n",
              "      background-color: #E8F0FE;\n",
              "      border: none;\n",
              "      border-radius: 50%;\n",
              "      cursor: pointer;\n",
              "      display: none;\n",
              "      fill: #1967D2;\n",
              "      height: 32px;\n",
              "      padding: 0 0 0 0;\n",
              "      width: 32px;\n",
              "    }\n",
              "\n",
              "    .colab-df-convert:hover {\n",
              "      background-color: #E2EBFA;\n",
              "      box-shadow: 0px 1px 2px rgba(60, 64, 67, 0.3), 0px 1px 3px 1px rgba(60, 64, 67, 0.15);\n",
              "      fill: #174EA6;\n",
              "    }\n",
              "\n",
              "    [theme=dark] .colab-df-convert {\n",
              "      background-color: #3B4455;\n",
              "      fill: #D2E3FC;\n",
              "    }\n",
              "\n",
              "    [theme=dark] .colab-df-convert:hover {\n",
              "      background-color: #434B5C;\n",
              "      box-shadow: 0px 1px 3px 1px rgba(0, 0, 0, 0.15);\n",
              "      filter: drop-shadow(0px 1px 2px rgba(0, 0, 0, 0.3));\n",
              "      fill: #FFFFFF;\n",
              "    }\n",
              "  </style>\n",
              "\n",
              "      <script>\n",
              "        const buttonEl =\n",
              "          document.querySelector('#df-987c3912-d784-4c09-825a-70961faae5ca button.colab-df-convert');\n",
              "        buttonEl.style.display =\n",
              "          google.colab.kernel.accessAllowed ? 'block' : 'none';\n",
              "\n",
              "        async function convertToInteractive(key) {\n",
              "          const element = document.querySelector('#df-987c3912-d784-4c09-825a-70961faae5ca');\n",
              "          const dataTable =\n",
              "            await google.colab.kernel.invokeFunction('convertToInteractive',\n",
              "                                                     [key], {});\n",
              "          if (!dataTable) return;\n",
              "\n",
              "          const docLinkHtml = 'Like what you see? Visit the ' +\n",
              "            '<a target=\"_blank\" href=https://colab.research.google.com/notebooks/data_table.ipynb>data table notebook</a>'\n",
              "            + ' to learn more about interactive tables.';\n",
              "          element.innerHTML = '';\n",
              "          dataTable['output_type'] = 'display_data';\n",
              "          await google.colab.output.renderOutput(dataTable, element);\n",
              "          const docLink = document.createElement('div');\n",
              "          docLink.innerHTML = docLinkHtml;\n",
              "          element.appendChild(docLink);\n",
              "        }\n",
              "      </script>\n",
              "    </div>\n",
              "  </div>\n",
              "  "
            ]
          },
          "metadata": {},
          "execution_count": 26
        }
      ]
    },
    {
      "cell_type": "markdown",
      "source": [
        "**Word Cloud** <br/>\n",
        "Display word cloud for all the words from data collected\n"
      ],
      "metadata": {
        "id": "1IF6IDkwNhtV"
      }
    },
    {
      "cell_type": "code",
      "source": [
        "import matplotlib.pyplot as plt\n",
        "from wordcloud import WordCloud\n",
        "\n",
        "all_words = ' '.join([word for word in urlDetails['tokenizedScentence']])\n",
        "\n",
        "wordcloud = WordCloud(width=600, \n",
        "                     height=400, \n",
        "                     random_state=2, \n",
        "                     max_font_size=100).generate(all_words)\n",
        "\n",
        "plt.figure(figsize=(10, 7))\n",
        "plt.imshow(wordcloud, interpolation='bilinear')\n",
        "plt.axis('off');"
      ],
      "metadata": {
        "id": "_oyo1qX3Nse9",
        "colab": {
          "base_uri": "https://localhost:8080/",
          "height": 403
        },
        "outputId": "0760bc1f-10d6-4cc8-aa29-a0f05879b4aa"
      },
      "execution_count": null,
      "outputs": [
        {
          "output_type": "display_data",
          "data": {
            "text/plain": [
              "<Figure size 720x504 with 1 Axes>"
            ],
            "image/png": "[encoded data removed]"
          },
          "metadata": {
            "needs_background": "light"
          }
        }
      ]
    },
    {
      "cell_type": "markdown",
      "source": [
        "Creating Histogram of all words"
      ],
      "metadata": {
        "id": "tVAWMB6b_Tei"
      }
    },
    {
      "cell_type": "code",
      "source": [
        "word2Count = {}\n",
        "\n",
        "for data in urlDetails.tokenizedScentence:\n",
        "  for word in nltk.word_tokenize(data): #data is a array of words - tokenized from scentences\n",
        "    if word not in word2Count.keys():\n",
        "      word2Count[word] = 1\n",
        "    else:\n",
        "      word2Count[word] += 1"
      ],
      "metadata": {
        "id": "__2WJLbC0t1K"
      },
      "execution_count": null,
      "outputs": []
    },
    {
      "cell_type": "code",
      "source": [
        "#Total number of words captured for histogram\n",
        "len(word2Count)"
      ],
      "metadata": {
        "id": "GWjTn6_uhFhg",
        "colab": {
          "base_uri": "https://localhost:8080/"
        },
        "outputId": "c0aa3d98-3b63-4829-a951-fb6c1c8ad168"
      },
      "execution_count": null,
      "outputs": [
        {
          "output_type": "execute_result",
          "data": {
            "text/plain": [
              "3082"
            ]
          },
          "metadata": {},
          "execution_count": 29
        }
      ]
    },
    {
      "cell_type": "code",
      "source": [
        "#Get the 100 most frequent words with heapq\n",
        "import heapq\n",
        "freq_words = heapq.nlargest(100, word2Count, key= word2Count.get)\n",
        "\n",
        "freq_words"
      ],
      "metadata": {
        "id": "WN25Kw7yh8zE",
        "colab": {
          "base_uri": "https://localhost:8080/"
        },
        "outputId": "d59d2e99-bbf3-418f-a0c6-9bba1b12dce5"
      },
      "execution_count": null,
      "outputs": [
        {
          "output_type": "execute_result",
          "data": {
            "text/plain": [
              "['de',\n",
              " 'bundesregierung',\n",
              " 'kabinettsprotokolle',\n",
              " 'bundesminister',\n",
              " 'sitzung',\n",
              " 'bundesarchiv',\n",
              " 'edition',\n",
              " 'sitemap',\n",
              " 'al',\n",
              " 'band',\n",
              " 'bi',\n",
              " '3',\n",
              " 'kabinett',\n",
              " 'bundeskanzler',\n",
              " 'seite',\n",
              " 'oben',\n",
              " 'sowie',\n",
              " 'suche',\n",
              " 'jan',\n",
              " '136',\n",
              " 'online',\n",
              " 'staatssekretär',\n",
              " 'dez',\n",
              " 'wurden',\n",
              " 'herausgegeben',\n",
              " 'verlag',\n",
              " '978',\n",
              " 'link',\n",
              " '486',\n",
              " 'version',\n",
              " '1',\n",
              " 'wurde',\n",
              " 'e',\n",
              " '2',\n",
              " 'au',\n",
              " 'bzw',\n",
              " 'oldenbourg',\n",
              " 'tagesordnungspunkte',\n",
              " 'access',\n",
              " 'mitwirkung',\n",
              " 'christoph',\n",
              " 'münchen',\n",
              " 'key',\n",
              " 'uta',\n",
              " 'bundesministern',\n",
              " 'text',\n",
              " 'einzelnen',\n",
              " 'jeweils',\n",
              " '6',\n",
              " 'ab',\n",
              " 'wirtschaft',\n",
              " '5',\n",
              " 'treffer',\n",
              " 'berlin',\n",
              " '4',\n",
              " 'sitzungen',\n",
              " '1955',\n",
              " '1957',\n",
              " '1950',\n",
              " 'finde',\n",
              " 'internet',\n",
              " 'bände',\n",
              " 'inhaltsverzeichnis',\n",
              " 'dargestellt',\n",
              " 'teil',\n",
              " 'personen',\n",
              " 'beamten',\n",
              " '7',\n",
              " '21',\n",
              " 'form',\n",
              " 'inhalte',\n",
              " 'bilder',\n",
              " 'navigationsbaum',\n",
              " 'belegte',\n",
              " '1970',\n",
              " '14',\n",
              " 'bundeskanzlers',\n",
              " 'bundeskanzleramtes',\n",
              " '8',\n",
              " 'kabinettsberatungen',\n",
              " 'rössel',\n",
              " 'innerhalb',\n",
              " '20',\n",
              " '13',\n",
              " 'protokolle',\n",
              " 'ulrich',\n",
              " 'enders',\n",
              " 'dy',\n",
              " 'browser',\n",
              " '1949',\n",
              " 'top',\n",
              " '1951',\n",
              " 'beratung',\n",
              " '1956',\n",
              " 'christine',\n",
              " 'fabian',\n",
              " 'erste',\n",
              " 'ddr',\n",
              " '11',\n",
              " '19']"
            ]
          },
          "metadata": {},
          "execution_count": 30
        }
      ]
    },
    {
      "cell_type": "code",
      "source": [
        "#Parts of Speech - POS\n",
        "\n",
        "def GetPOS(tokWords):\n",
        "  pos_words = []\n",
        "  tagged_words = nltk.pos_tag(tokWords)\n",
        "  for tw in tagged_words:\n",
        "      pos_words.append(tw[0]+\"_\"+ tw[1])\n",
        "  return pos_words\n"
      ],
      "metadata": {
        "id": "FWsEvdeTgs9A"
      },
      "execution_count": null,
      "outputs": []
    },
    {
      "cell_type": "code",
      "source": [
        "#Testing\n",
        "GetPOS(urlDetails['tokenizedWords'][0])\n"
      ],
      "metadata": {
        "id": "6F3yhmyyPRZN",
        "colab": {
          "base_uri": "https://localhost:8080/"
        },
        "outputId": "9cfb6c66-e987-48db-e441-fa0889d89e4b"
      },
      "execution_count": null,
      "outputs": [
        {
          "output_type": "execute_result",
          "data": {
            "text/plain": [
              "['kabinettsprotokolle_NN', 'bundesregierung_NN', '1980_CD']"
            ]
          },
          "metadata": {},
          "execution_count": 32
        }
      ]
    },
    {
      "cell_type": "code",
      "source": [
        "#Now create a new column with Parts of speech (POS)\n",
        "urlDetails['POS'] = urlDetails['tokenizedWords'].apply(GetPOS) \n",
        "urlDetails.POS[0]"
      ],
      "metadata": {
        "id": "ptLdIUD1QmUT",
        "colab": {
          "base_uri": "https://localhost:8080/"
        },
        "outputId": "628d63c4-96a4-40f1-fe62-cb01200cb93a"
      },
      "execution_count": null,
      "outputs": [
        {
          "output_type": "execute_result",
          "data": {
            "text/plain": [
              "['kabinettsprotokolle_NN', 'bundesregierung_NN', '1980_CD']"
            ]
          },
          "metadata": {},
          "execution_count": 33
        }
      ]
    },
    {
      "cell_type": "code",
      "source": [
        "urlDetails.head()"
      ],
      "metadata": {
        "id": "xpop9geYRYJo",
        "colab": {
          "base_uri": "https://localhost:8080/",
          "height": 206
        },
        "outputId": "eb91c07f-ab22-483d-a430-33750c166d82"
      },
      "execution_count": null,
      "outputs": [
        {
          "output_type": "execute_result",
          "data": {
            "text/plain": [
              "                                                 Url  \\\n",
              "0  https://www.bundesarchiv.de/cocoon/barch/0000/...   \n",
              "1  https://www.bundesarchiv.de/cocoon/barch/0000/...   \n",
              "2  https://www.bundesarchiv.de/cocoon/barch/0000/...   \n",
              "3  https://www.bundesarchiv.de/cocoon/barch/0000/...   \n",
              "4  https://www.bundesarchiv.de/cocoon/barch/0000/...   \n",
              "\n",
              "                                            TextInfo  \\\n",
              "0   Die Kabinettsprotokolle der Bundesregierung 1980   \n",
              "1  Die Kabinettsprotokolle der Bundesregierung Ba...   \n",
              "2  Die Kabinettsprotokolle der Bundesregierung Ba...   \n",
              "3  Die Kabinettsprotokolle der Bundesregierung Ba...   \n",
              "4  Die Kabinettsprotokolle der Bundesregierung Ba...   \n",
              "\n",
              "                                      tokenizedWords  \\\n",
              "0       [kabinettsprotokolle, bundesregierung, 1980]   \n",
              "1  [kabinettsprotokolle, bundesregierung, band, 7...   \n",
              "2  [kabinettsprotokolle, bundesregierung, band, 2...   \n",
              "3  [kabinettsprotokolle, bundesregierung, band, 2...   \n",
              "4  [kabinettsprotokolle, bundesregierung, band, 1...   \n",
              "\n",
              "                                  tokenizedScentence  \\\n",
              "0           kabinettsprotokolle bundesregierung 1980   \n",
              "1  kabinettsprotokolle bundesregierung band 7 195...   \n",
              "2  kabinettsprotokolle bundesregierung band 21 19...   \n",
              "3  kabinettsprotokolle bundesregierung band 25 19...   \n",
              "4  kabinettsprotokolle bundesregierung band 19 19...   \n",
              "\n",
              "                                                 POS  \n",
              "0  [kabinettsprotokolle_NN, bundesregierung_NN, 1...  \n",
              "1  [kabinettsprotokolle_NN, bundesregierung_NN, b...  \n",
              "2  [kabinettsprotokolle_NN, bundesregierung_NN, b...  \n",
              "3  [kabinettsprotokolle_NN, bundesregierung_NN, b...  \n",
              "4  [kabinettsprotokolle_NN, bundesregierung_NN, b...  "
            ],
            "text/html": [
              "\n",
              "  <div id=\"df-4954adc4-51ca-4c6d-b149-55c22a59ebe4\">\n",
              "    <div class=\"colab-df-container\">\n",
              "      <div>\n",
              "<style scoped>\n",
              "    .dataframe tbody tr th:only-of-type {\n",
              "        vertical-align: middle;\n",
              "    }\n",
              "\n",
              "    .dataframe tbody tr th {\n",
              "        vertical-align: top;\n",
              "    }\n",
              "\n",
              "    .dataframe thead th {\n",
              "        text-align: right;\n",
              "    }\n",
              "</style>\n",
              "<table border=\"1\" class=\"dataframe\">\n",
              "  <thead>\n",
              "    <tr style=\"text-align: right;\">\n",
              "      <th></th>\n",
              "      <th>Url</th>\n",
              "      <th>TextInfo</th>\n",
              "      <th>tokenizedWords</th>\n",
              "      <th>tokenizedScentence</th>\n",
              "      <th>POS</th>\n",
              "    </tr>\n",
              "  </thead>\n",
              "  <tbody>\n",
              "    <tr>\n",
              "      <th>0</th>\n",
              "      <td>https://www.bundesarchiv.de/cocoon/barch/0000/...</td>\n",
              "      <td>Die Kabinettsprotokolle der Bundesregierung 1980</td>\n",
              "      <td>[kabinettsprotokolle, bundesregierung, 1980]</td>\n",
              "      <td>kabinettsprotokolle bundesregierung 1980</td>\n",
              "      <td>[kabinettsprotokolle_NN, bundesregierung_NN, 1...</td>\n",
              "    </tr>\n",
              "    <tr>\n",
              "      <th>1</th>\n",
              "      <td>https://www.bundesarchiv.de/cocoon/barch/0000/...</td>\n",
              "      <td>Die Kabinettsprotokolle der Bundesregierung Ba...</td>\n",
              "      <td>[kabinettsprotokolle, bundesregierung, band, 7...</td>\n",
              "      <td>kabinettsprotokolle bundesregierung band 7 195...</td>\n",
              "      <td>[kabinettsprotokolle_NN, bundesregierung_NN, b...</td>\n",
              "    </tr>\n",
              "    <tr>\n",
              "      <th>2</th>\n",
              "      <td>https://www.bundesarchiv.de/cocoon/barch/0000/...</td>\n",
              "      <td>Die Kabinettsprotokolle der Bundesregierung Ba...</td>\n",
              "      <td>[kabinettsprotokolle, bundesregierung, band, 2...</td>\n",
              "      <td>kabinettsprotokolle bundesregierung band 21 19...</td>\n",
              "      <td>[kabinettsprotokolle_NN, bundesregierung_NN, b...</td>\n",
              "    </tr>\n",
              "    <tr>\n",
              "      <th>3</th>\n",
              "      <td>https://www.bundesarchiv.de/cocoon/barch/0000/...</td>\n",
              "      <td>Die Kabinettsprotokolle der Bundesregierung Ba...</td>\n",
              "      <td>[kabinettsprotokolle, bundesregierung, band, 2...</td>\n",
              "      <td>kabinettsprotokolle bundesregierung band 25 19...</td>\n",
              "      <td>[kabinettsprotokolle_NN, bundesregierung_NN, b...</td>\n",
              "    </tr>\n",
              "    <tr>\n",
              "      <th>4</th>\n",
              "      <td>https://www.bundesarchiv.de/cocoon/barch/0000/...</td>\n",
              "      <td>Die Kabinettsprotokolle der Bundesregierung Ba...</td>\n",
              "      <td>[kabinettsprotokolle, bundesregierung, band, 1...</td>\n",
              "      <td>kabinettsprotokolle bundesregierung band 19 19...</td>\n",
              "      <td>[kabinettsprotokolle_NN, bundesregierung_NN, b...</td>\n",
              "    </tr>\n",
              "  </tbody>\n",
              "</table>\n",
              "</div>\n",
              "      <button class=\"colab-df-convert\" onclick=\"convertToInteractive('df-4954adc4-51ca-4c6d-b149-55c22a59ebe4')\"\n",
              "              title=\"Convert this dataframe to an interactive table.\"\n",
              "              style=\"display:none;\">\n",
              "        \n",
              "  <svg xmlns=\"http://www.w3.org/2000/svg\" height=\"24px\"viewBox=\"0 0 24 24\"\n",
              "       width=\"24px\">\n",
              "    <path d=\"M0 0h24v24H0V0z\" fill=\"none\"/>\n",
              "    <path d=\"M18.56 5.44l.94 2.06.94-2.06 2.06-.94-2.06-.94-.94-2.06-.94 2.06-2.06.94zm-11 1L8.5 8.5l.94-2.06 2.06-.94-2.06-.94L8.5 2.5l-.94 2.06-2.06.94zm10 10l.94 2.06.94-2.06 2.06-.94-2.06-.94-.94-2.06-.94 2.06-2.06.94z\"/><path d=\"M17.41 7.96l-1.37-1.37c-.4-.4-.92-.59-1.43-.59-.52 0-1.04.2-1.43.59L10.3 9.45l-7.72 7.72c-.78.78-.78 2.05 0 2.83L4 21.41c.39.39.9.59 1.41.59.51 0 1.02-.2 1.41-.59l7.78-7.78 2.81-2.81c.8-.78.8-2.07 0-2.86zM5.41 20L4 18.59l7.72-7.72 1.47 1.35L5.41 20z\"/>\n",
              "  </svg>\n",
              "      </button>\n",
              "      \n",
              "  <style>\n",
              "    .colab-df-container {\n",
              "      display:flex;\n",
              "      flex-wrap:wrap;\n",
              "      gap: 12px;\n",
              "    }\n",
              "\n",
              "    .colab-df-convert {\n",
              "      background-color: #E8F0FE;\n",
              "      border: none;\n",
              "      border-radius: 50%;\n",
              "      cursor: pointer;\n",
              "      display: none;\n",
              "      fill: #1967D2;\n",
              "      height: 32px;\n",
              "      padding: 0 0 0 0;\n",
              "      width: 32px;\n",
              "    }\n",
              "\n",
              "    .colab-df-convert:hover {\n",
              "      background-color: #E2EBFA;\n",
              "      box-shadow: 0px 1px 2px rgba(60, 64, 67, 0.3), 0px 1px 3px 1px rgba(60, 64, 67, 0.15);\n",
              "      fill: #174EA6;\n",
              "    }\n",
              "\n",
              "    [theme=dark] .colab-df-convert {\n",
              "      background-color: #3B4455;\n",
              "      fill: #D2E3FC;\n",
              "    }\n",
              "\n",
              "    [theme=dark] .colab-df-convert:hover {\n",
              "      background-color: #434B5C;\n",
              "      box-shadow: 0px 1px 3px 1px rgba(0, 0, 0, 0.15);\n",
              "      filter: drop-shadow(0px 1px 2px rgba(0, 0, 0, 0.3));\n",
              "      fill: #FFFFFF;\n",
              "    }\n",
              "  </style>\n",
              "\n",
              "      <script>\n",
              "        const buttonEl =\n",
              "          document.querySelector('#df-4954adc4-51ca-4c6d-b149-55c22a59ebe4 button.colab-df-convert');\n",
              "        buttonEl.style.display =\n",
              "          google.colab.kernel.accessAllowed ? 'block' : 'none';\n",
              "\n",
              "        async function convertToInteractive(key) {\n",
              "          const element = document.querySelector('#df-4954adc4-51ca-4c6d-b149-55c22a59ebe4');\n",
              "          const dataTable =\n",
              "            await google.colab.kernel.invokeFunction('convertToInteractive',\n",
              "                                                     [key], {});\n",
              "          if (!dataTable) return;\n",
              "\n",
              "          const docLinkHtml = 'Like what you see? Visit the ' +\n",
              "            '<a target=\"_blank\" href=https://colab.research.google.com/notebooks/data_table.ipynb>data table notebook</a>'\n",
              "            + ' to learn more about interactive tables.';\n",
              "          element.innerHTML = '';\n",
              "          dataTable['output_type'] = 'display_data';\n",
              "          await google.colab.output.renderOutput(dataTable, element);\n",
              "          const docLink = document.createElement('div');\n",
              "          docLink.innerHTML = docLinkHtml;\n",
              "          element.appendChild(docLink);\n",
              "        }\n",
              "      </script>\n",
              "    </div>\n",
              "  </div>\n",
              "  "
            ]
          },
          "metadata": {},
          "execution_count": 34
        }
      ]
    },
    {
      "cell_type": "code",
      "source": [
        "#Entity Recognition\n",
        "\n",
        "word_tags = []\n",
        "\n",
        "def GetNamedEnitiy(tokWords):\n",
        "  tagged_words = nltk.pos_tag(tokWords)\n",
        "  return nltk.ne_chunk(tagged_words)\n",
        "  \n"
      ],
      "metadata": {
        "id": "tla51MulRqsA"
      },
      "execution_count": null,
      "outputs": []
    },
    {
      "cell_type": "code",
      "source": [
        "#Testing\n",
        "print(GetNamedEnitiy(urlDetails['tokenizedWords'][0]))\n",
        "\n",
        "# GetNamedEnitiy(urlDetails['word_tokenize'][0]).draw() -Does not work in google colab"
      ],
      "metadata": {
        "id": "bkS3k8dWR02R",
        "colab": {
          "base_uri": "https://localhost:8080/"
        },
        "outputId": "260cc162-e3a8-467a-8e40-39000cc5d13c"
      },
      "execution_count": null,
      "outputs": [
        {
          "output_type": "stream",
          "name": "stdout",
          "text": [
            "(S kabinettsprotokolle/NN bundesregierung/NN 1980/CD)\n"
          ]
        }
      ]
    },
    {
      "cell_type": "markdown",
      "source": [
        "Create a corpora of words"
      ],
      "metadata": {
        "id": "gj1rz9H5F5Ft"
      }
    },
    {
      "cell_type": "code",
      "source": [
        "from gensim import corpora\n",
        "\n",
        "#creating term dictionary\n",
        "dictionary = corpora.Dictionary(urlDetails.tokenizedWords)\n",
        "\n",
        "#filterout if not present in more than 4 pages\n",
        "# dictionary.filter_extremes(no_below=4, no_above=0.2)\n",
        "\n",
        "#Remove unwanted words from dictionary\n",
        "stoplist = set('de')\n",
        "stop_ids = [dictionary.token2id[stopword] for stopword in stoplist if stopword in dictionary.token2id]\n",
        "dictionary.filter_tokens(stop_ids)"
      ],
      "metadata": {
        "id": "lN6Z-fBdDmxW"
      },
      "execution_count": null,
      "outputs": []
    },
    {
      "cell_type": "code",
      "source": [
        "#print top 50 items from the dictionary with their unique token-id\n",
        "dict_tokens = [[[dictionary[key], dictionary.token2id[dictionary[key]]] for key, value in dictionary.items() if key <= 50]]\n",
        "print (dict_tokens)"
      ],
      "metadata": {
        "colab": {
          "base_uri": "https://localhost:8080/"
        },
        "id": "mqm7Byk_Eyvv",
        "outputId": "2cff01ee-5a77-4dd5-f83d-5e03a09d97c3"
      },
      "execution_count": null,
      "outputs": [
        {
          "output_type": "stream",
          "name": "stdout",
          "text": [
            "[[['1980', 0], ['bundesregierung', 1], ['kabinettsprotokolle', 2], ['1954', 3], ['3', 4], ['41917', 5], ['486', 6], ['7', 7], ['978', 8], ['band', 9], ['boldt', 10], ['boppard', 11], ['bundesarchiv', 12], ['friedrich', 13], ['harald', 14], ['herausgegeben', 15], ['hüllbüsch', 16], ['kahlenbergbearbeitet', 17], ['rheinisbn', 18], ['thomas', 19], ['trumpp', 20], ['ursula', 21], ['verlag', 22], ['1968', 23], ['2011isbn', 24], ['21', 25], ['70518', 26], ['8', 27], ['agrarpolitik', 28], ['atomwaffensperrvertrags', 29], ['ausgerichtete', 30], ['bedeutende', 31], ['belasteten', 32], ['berichte', 33], ['beriet', 34], ['berlin', 35], ['bevorstehenden', 36], ['bildungsnotstand', 37], ['bündnispolitik', 38], ['christine', 39], ['christoph', 40], ['datenverarbeitung', 41], ['ddr', 42], ['de', 43], ['deutschland', 44], ['einführung', 45], ['eingreifen', 46], ['elektronischen', 47], ['entspannung', 48], ['erste', 49], ['erstmaligen', 50]]]\n"
          ]
        }
      ]
    },
    {
      "cell_type": "code",
      "source": [
        "#Testing\n",
        "urlDetails.head()"
      ],
      "metadata": {
        "id": "Qm7Su0bocEZf",
        "colab": {
          "base_uri": "https://localhost:8080/",
          "height": 206
        },
        "outputId": "a79d6094-8eed-4dda-c53e-f8e437b34614"
      },
      "execution_count": null,
      "outputs": [
        {
          "output_type": "execute_result",
          "data": {
            "text/plain": [
              "                                                 Url  \\\n",
              "0  https://www.bundesarchiv.de/cocoon/barch/0000/...   \n",
              "1  https://www.bundesarchiv.de/cocoon/barch/0000/...   \n",
              "2  https://www.bundesarchiv.de/cocoon/barch/0000/...   \n",
              "3  https://www.bundesarchiv.de/cocoon/barch/0000/...   \n",
              "4  https://www.bundesarchiv.de/cocoon/barch/0000/...   \n",
              "\n",
              "                                            TextInfo  \\\n",
              "0   Die Kabinettsprotokolle der Bundesregierung 1980   \n",
              "1  Die Kabinettsprotokolle der Bundesregierung Ba...   \n",
              "2  Die Kabinettsprotokolle der Bundesregierung Ba...   \n",
              "3  Die Kabinettsprotokolle der Bundesregierung Ba...   \n",
              "4  Die Kabinettsprotokolle der Bundesregierung Ba...   \n",
              "\n",
              "                                      tokenizedWords  \\\n",
              "0       [kabinettsprotokolle, bundesregierung, 1980]   \n",
              "1  [kabinettsprotokolle, bundesregierung, band, 7...   \n",
              "2  [kabinettsprotokolle, bundesregierung, band, 2...   \n",
              "3  [kabinettsprotokolle, bundesregierung, band, 2...   \n",
              "4  [kabinettsprotokolle, bundesregierung, band, 1...   \n",
              "\n",
              "                                  tokenizedScentence  \\\n",
              "0           kabinettsprotokolle bundesregierung 1980   \n",
              "1  kabinettsprotokolle bundesregierung band 7 195...   \n",
              "2  kabinettsprotokolle bundesregierung band 21 19...   \n",
              "3  kabinettsprotokolle bundesregierung band 25 19...   \n",
              "4  kabinettsprotokolle bundesregierung band 19 19...   \n",
              "\n",
              "                                                 POS  \n",
              "0  [kabinettsprotokolle_NN, bundesregierung_NN, 1...  \n",
              "1  [kabinettsprotokolle_NN, bundesregierung_NN, b...  \n",
              "2  [kabinettsprotokolle_NN, bundesregierung_NN, b...  \n",
              "3  [kabinettsprotokolle_NN, bundesregierung_NN, b...  \n",
              "4  [kabinettsprotokolle_NN, bundesregierung_NN, b...  "
            ],
            "text/html": [
              "\n",
              "  <div id=\"df-dc48638f-7b0c-474b-9e55-fdc0ca97154f\">\n",
              "    <div class=\"colab-df-container\">\n",
              "      <div>\n",
              "<style scoped>\n",
              "    .dataframe tbody tr th:only-of-type {\n",
              "        vertical-align: middle;\n",
              "    }\n",
              "\n",
              "    .dataframe tbody tr th {\n",
              "        vertical-align: top;\n",
              "    }\n",
              "\n",
              "    .dataframe thead th {\n",
              "        text-align: right;\n",
              "    }\n",
              "</style>\n",
              "<table border=\"1\" class=\"dataframe\">\n",
              "  <thead>\n",
              "    <tr style=\"text-align: right;\">\n",
              "      <th></th>\n",
              "      <th>Url</th>\n",
              "      <th>TextInfo</th>\n",
              "      <th>tokenizedWords</th>\n",
              "      <th>tokenizedScentence</th>\n",
              "      <th>POS</th>\n",
              "    </tr>\n",
              "  </thead>\n",
              "  <tbody>\n",
              "    <tr>\n",
              "      <th>0</th>\n",
              "      <td>https://www.bundesarchiv.de/cocoon/barch/0000/...</td>\n",
              "      <td>Die Kabinettsprotokolle der Bundesregierung 1980</td>\n",
              "      <td>[kabinettsprotokolle, bundesregierung, 1980]</td>\n",
              "      <td>kabinettsprotokolle bundesregierung 1980</td>\n",
              "      <td>[kabinettsprotokolle_NN, bundesregierung_NN, 1...</td>\n",
              "    </tr>\n",
              "    <tr>\n",
              "      <th>1</th>\n",
              "      <td>https://www.bundesarchiv.de/cocoon/barch/0000/...</td>\n",
              "      <td>Die Kabinettsprotokolle der Bundesregierung Ba...</td>\n",
              "      <td>[kabinettsprotokolle, bundesregierung, band, 7...</td>\n",
              "      <td>kabinettsprotokolle bundesregierung band 7 195...</td>\n",
              "      <td>[kabinettsprotokolle_NN, bundesregierung_NN, b...</td>\n",
              "    </tr>\n",
              "    <tr>\n",
              "      <th>2</th>\n",
              "      <td>https://www.bundesarchiv.de/cocoon/barch/0000/...</td>\n",
              "      <td>Die Kabinettsprotokolle der Bundesregierung Ba...</td>\n",
              "      <td>[kabinettsprotokolle, bundesregierung, band, 2...</td>\n",
              "      <td>kabinettsprotokolle bundesregierung band 21 19...</td>\n",
              "      <td>[kabinettsprotokolle_NN, bundesregierung_NN, b...</td>\n",
              "    </tr>\n",
              "    <tr>\n",
              "      <th>3</th>\n",
              "      <td>https://www.bundesarchiv.de/cocoon/barch/0000/...</td>\n",
              "      <td>Die Kabinettsprotokolle der Bundesregierung Ba...</td>\n",
              "      <td>[kabinettsprotokolle, bundesregierung, band, 2...</td>\n",
              "      <td>kabinettsprotokolle bundesregierung band 25 19...</td>\n",
              "      <td>[kabinettsprotokolle_NN, bundesregierung_NN, b...</td>\n",
              "    </tr>\n",
              "    <tr>\n",
              "      <th>4</th>\n",
              "      <td>https://www.bundesarchiv.de/cocoon/barch/0000/...</td>\n",
              "      <td>Die Kabinettsprotokolle der Bundesregierung Ba...</td>\n",
              "      <td>[kabinettsprotokolle, bundesregierung, band, 1...</td>\n",
              "      <td>kabinettsprotokolle bundesregierung band 19 19...</td>\n",
              "      <td>[kabinettsprotokolle_NN, bundesregierung_NN, b...</td>\n",
              "    </tr>\n",
              "  </tbody>\n",
              "</table>\n",
              "</div>\n",
              "      <button class=\"colab-df-convert\" onclick=\"convertToInteractive('df-dc48638f-7b0c-474b-9e55-fdc0ca97154f')\"\n",
              "              title=\"Convert this dataframe to an interactive table.\"\n",
              "              style=\"display:none;\">\n",
              "        \n",
              "  <svg xmlns=\"http://www.w3.org/2000/svg\" height=\"24px\"viewBox=\"0 0 24 24\"\n",
              "       width=\"24px\">\n",
              "    <path d=\"M0 0h24v24H0V0z\" fill=\"none\"/>\n",
              "    <path d=\"M18.56 5.44l.94 2.06.94-2.06 2.06-.94-2.06-.94-.94-2.06-.94 2.06-2.06.94zm-11 1L8.5 8.5l.94-2.06 2.06-.94-2.06-.94L8.5 2.5l-.94 2.06-2.06.94zm10 10l.94 2.06.94-2.06 2.06-.94-2.06-.94-.94-2.06-.94 2.06-2.06.94z\"/><path d=\"M17.41 7.96l-1.37-1.37c-.4-.4-.92-.59-1.43-.59-.52 0-1.04.2-1.43.59L10.3 9.45l-7.72 7.72c-.78.78-.78 2.05 0 2.83L4 21.41c.39.39.9.59 1.41.59.51 0 1.02-.2 1.41-.59l7.78-7.78 2.81-2.81c.8-.78.8-2.07 0-2.86zM5.41 20L4 18.59l7.72-7.72 1.47 1.35L5.41 20z\"/>\n",
              "  </svg>\n",
              "      </button>\n",
              "      \n",
              "  <style>\n",
              "    .colab-df-container {\n",
              "      display:flex;\n",
              "      flex-wrap:wrap;\n",
              "      gap: 12px;\n",
              "    }\n",
              "\n",
              "    .colab-df-convert {\n",
              "      background-color: #E8F0FE;\n",
              "      border: none;\n",
              "      border-radius: 50%;\n",
              "      cursor: pointer;\n",
              "      display: none;\n",
              "      fill: #1967D2;\n",
              "      height: 32px;\n",
              "      padding: 0 0 0 0;\n",
              "      width: 32px;\n",
              "    }\n",
              "\n",
              "    .colab-df-convert:hover {\n",
              "      background-color: #E2EBFA;\n",
              "      box-shadow: 0px 1px 2px rgba(60, 64, 67, 0.3), 0px 1px 3px 1px rgba(60, 64, 67, 0.15);\n",
              "      fill: #174EA6;\n",
              "    }\n",
              "\n",
              "    [theme=dark] .colab-df-convert {\n",
              "      background-color: #3B4455;\n",
              "      fill: #D2E3FC;\n",
              "    }\n",
              "\n",
              "    [theme=dark] .colab-df-convert:hover {\n",
              "      background-color: #434B5C;\n",
              "      box-shadow: 0px 1px 3px 1px rgba(0, 0, 0, 0.15);\n",
              "      filter: drop-shadow(0px 1px 2px rgba(0, 0, 0, 0.3));\n",
              "      fill: #FFFFFF;\n",
              "    }\n",
              "  </style>\n",
              "\n",
              "      <script>\n",
              "        const buttonEl =\n",
              "          document.querySelector('#df-dc48638f-7b0c-474b-9e55-fdc0ca97154f button.colab-df-convert');\n",
              "        buttonEl.style.display =\n",
              "          google.colab.kernel.accessAllowed ? 'block' : 'none';\n",
              "\n",
              "        async function convertToInteractive(key) {\n",
              "          const element = document.querySelector('#df-dc48638f-7b0c-474b-9e55-fdc0ca97154f');\n",
              "          const dataTable =\n",
              "            await google.colab.kernel.invokeFunction('convertToInteractive',\n",
              "                                                     [key], {});\n",
              "          if (!dataTable) return;\n",
              "\n",
              "          const docLinkHtml = 'Like what you see? Visit the ' +\n",
              "            '<a target=\"_blank\" href=https://colab.research.google.com/notebooks/data_table.ipynb>data table notebook</a>'\n",
              "            + ' to learn more about interactive tables.';\n",
              "          element.innerHTML = '';\n",
              "          dataTable['output_type'] = 'display_data';\n",
              "          await google.colab.output.renderOutput(dataTable, element);\n",
              "          const docLink = document.createElement('div');\n",
              "          docLink.innerHTML = docLinkHtml;\n",
              "          element.appendChild(docLink);\n",
              "        }\n",
              "      </script>\n",
              "    </div>\n",
              "  </div>\n",
              "  "
            ]
          },
          "metadata": {},
          "execution_count": 40
        }
      ]
    },
    {
      "cell_type": "code",
      "source": [
        "csvWritePath = outputFolder+'pandasDataFrame.csv'\n",
        "print(\"CSV Write path: \"+ csvWritePath)\n",
        "# #Write Dataframe to CSV file\n",
        "urlDetails.to_csv(csvWritePath, index=False)\n"
      ],
      "metadata": {
        "colab": {
          "base_uri": "https://localhost:8080/"
        },
        "id": "SeWEuY0tmniP",
        "outputId": "4ae861af-7fe2-44bf-d161-63251a116df1"
      },
      "execution_count": null,
      "outputs": [
        {
          "output_type": "stream",
          "name": "stdout",
          "text": [
            "CSV Write path: /content/gdrive/My Drive/DissertationFiles/pandasDataFrame.csv\n",
            "None\n"
          ]
        }
      ]
    },
    {
      "cell_type": "code",
      "source": [
        "corpus = [dictionary.doc2bow(desc) for desc in urlDetails.tokenizedWords]\n",
        "\n",
        "word_frequencies = [[(dictionary[id], frequency) for id, frequency in line] for line in corpus[0:3]]\n",
        "\n",
        "print(word_frequencies)"
      ],
      "metadata": {
        "colab": {
          "base_uri": "https://localhost:8080/"
        },
        "id": "N6tQseRaGGaj",
        "outputId": "f9069d2a-39a6-48f8-ca92-98a8dac45481"
      },
      "execution_count": null,
      "outputs": [
        {
          "output_type": "stream",
          "name": "stdout",
          "text": [
            "[[('1980', 1), ('bundesregierung', 1), ('kabinettsprotokolle', 1)], [('bundesregierung', 1), ('kabinettsprotokolle', 1), ('1954', 1), ('3', 1), ('41917', 1), ('486', 1), ('7', 2), ('978', 1), ('band', 1), ('boldt', 1), ('boppard', 1), ('bundesarchiv', 1), ('friedrich', 1), ('harald', 1), ('herausgegeben', 1), ('hüllbüsch', 1), ('kahlenbergbearbeitet', 1), ('rheinisbn', 1), ('thomas', 1), ('trumpp', 1), ('ursula', 1), ('verlag', 1)], [('bundesregierung', 2), ('kabinettsprotokolle', 1), ('3', 1), ('486', 1), ('978', 1), ('band', 1), ('bundesarchiv', 1), ('herausgegeben', 1), ('verlag', 1), ('1968', 2), ('2011isbn', 1), ('21', 1), ('70518', 1), ('8', 1), ('agrarpolitik', 1), ('atomwaffensperrvertrags', 1), ('ausgerichtete', 1), ('bedeutende', 1), ('belasteten', 1), ('berichte', 1), ('beriet', 1), ('berlin', 1), ('bevorstehenden', 1), ('bildungsnotstand', 1), ('bündnispolitik', 1), ('christine', 1), ('christoph', 1), ('datenverarbeitung', 1), ('ddr', 1), ('de', 1), ('deutschland', 1), ('einführung', 1), ('eingreifen', 1), ('elektronischen', 1), ('entspannung', 1), ('erste', 1), ('erstmaligen', 1), ('erweiterung', 1), ('europäischen', 1), ('fabian', 1), ('familien', 1), ('finanz', 1), ('fragen', 1), ('gemeinschaften', 1), ('gleichwohl', 1), ('große', 1), ('heftigen', 1), ('hollmannbearbeitet', 1), ('innenpolitisch', 1), ('innerdeutschen', 1), ('kabinett', 1), ('koalition', 1), ('konfrontiert', 1), ('künftigen', 1), ('lage', 1), ('michael', 1), ('militärische', 1), ('mitwirkung', 1), ('münchen', 1), ('naasner', 1), ('neben', 1), ('notstandsverfassung', 1), ('oldenbourg', 1), ('ostpolitik', 1), ('pas', 1), ('politischen', 1), ('protesten', 1), ('rechts', 1), ('reformvorhaben', 1), ('rösselunter', 1), ('sah', 1), ('seemann', 1), ('sicherheits', 1), ('sowie', 2), ('sowjetunion', 1), ('studentischen', 1), ('tschechoslowakei', 1), ('unterzeichnung', 1), ('uta', 1), ('verabschiedete', 1), ('verkehr', 1), ('verkehrs', 1), ('vietnamkrieg', 1), ('visumpflicht', 1), ('walter', 1), ('überwiegend', 1)]]\n"
          ]
        }
      ]
    },
    {
      "cell_type": "markdown",
      "source": [
        "TF-IDF & LSI Models"
      ],
      "metadata": {
        "id": "sIZsN8vvGXOK"
      }
    },
    {
      "cell_type": "markdown",
      "source": [
        "TF-IDF <br/>\n",
        "TF = Term Frequency<br/>\n",
        "IDF = Inverse Document Frequency<br/>\n",
        "TF-IDF = TF * IDF<br/>"
      ],
      "metadata": {
        "id": "krG888rUtJJA"
      }
    },
    {
      "cell_type": "code",
      "source": [
        "import gensim\n",
        "tfidf_model = gensim.models.TfidfModel(corpus, id2word=dictionary)\n",
        "lsi_model = gensim.models.LsiModel(tfidf_model[corpus], id2word=dictionary, num_topics=300)"
      ],
      "metadata": {
        "id": "x1rxvLIzGVke"
      },
      "execution_count": null,
      "outputs": []
    },
    {
      "cell_type": "markdown",
      "source": [
        "Serialize and store the corupus locally"
      ],
      "metadata": {
        "id": "AsATWt6hG6zp"
      }
    },
    {
      "cell_type": "code",
      "source": [
        "gensim.corpora.MmCorpus.serialize(outputFolder+'tfidf_model_mm', tfidf_model[corpus])\n",
        "gensim.corpora.MmCorpus.serialize(outputFolder+'lsi_model_mm',lsi_model[tfidf_model[corpus]])"
      ],
      "metadata": {
        "id": "1y08AeGkGv4h"
      },
      "execution_count": null,
      "outputs": []
    },
    {
      "cell_type": "markdown",
      "source": [
        "Load the indexed corpus"
      ],
      "metadata": {
        "id": "XLTD7a5KHBpQ"
      }
    },
    {
      "cell_type": "code",
      "source": [
        "\n",
        "tfidf_corpus = gensim.corpora.MmCorpus(outputFolder+'tfidf_model_mm')\n",
        "lsi_corpus = gensim.corpora.MmCorpus(outputFolder+'lsi_model_mm')\n",
        "\n",
        "print(tfidf_corpus)\n",
        "print(lsi_corpus)"
      ],
      "metadata": {
        "colab": {
          "base_uri": "https://localhost:8080/"
        },
        "id": "qwhOphZiHB2W",
        "outputId": "97ea3c74-d00a-4670-f3f6-48aa98ecb0d9"
      },
      "execution_count": null,
      "outputs": [
        {
          "output_type": "stream",
          "name": "stdout",
          "text": [
            "MmCorpus(61 documents, 3081 features, 5182 non-zero entries)\n",
            "MmCorpus(61 documents, 55 features, 2494 non-zero entries)\n"
          ]
        }
      ]
    },
    {
      "cell_type": "code",
      "source": [
        "from gensim.similarities import MatrixSimilarity\n",
        "\n",
        "search_index = MatrixSimilarity(lsi_corpus, num_features = lsi_corpus.num_terms)"
      ],
      "metadata": {
        "id": "VWlLV6t3HOE6"
      },
      "execution_count": null,
      "outputs": []
    },
    {
      "cell_type": "code",
      "source": [
        "from operator import itemgetter\n",
        "\n",
        "def search_similar_text(search_term):\n",
        "\n",
        "    query_bow = dictionary.doc2bow(nltk.word_tokenize(search_term))\n",
        "    query_tfidf = tfidf_model[query_bow]\n",
        "    query_lsi = lsi_model[query_tfidf]\n",
        "\n",
        "    search_index.num_best = 5\n",
        "\n",
        "    search_list = search_index[query_lsi]\n",
        "\n",
        "    search_list.sort(key=itemgetter(1), reverse=True)\n",
        "    search_names = []\n",
        "\n",
        "    for j, searchResult in enumerate(search_list):\n",
        "      relavenceFactor =round((searchResult[1] * 100),2)\n",
        "      if relavenceFactor > 2:\n",
        "          search_names.append (\n",
        "              {\n",
        "                  'Relevance': round((searchResult[1] * 100),2),\n",
        "                  'Url': urlDetails['Url'][searchResult[0]],\n",
        "                  'Text': urlDetails['TextInfo'][searchResult[0]]\n",
        "              }\n",
        "\n",
        "          )\n",
        "          if j == (search_index.num_best-1):\n",
        "              break\n",
        "\n",
        "    return pd.DataFrame(search_names, columns=['Relevance','Url','Text'])"
      ],
      "metadata": {
        "id": "ioSWPMReHW0P"
      },
      "execution_count": null,
      "outputs": []
    },
    {
      "cell_type": "code",
      "source": [
        "df = search_similar_text('Bildungsnotstand konfrontiert')\n",
        "df.head()"
      ],
      "metadata": {
        "colab": {
          "base_uri": "https://localhost:8080/",
          "height": 112
        },
        "id": "QcmYFcz9IyIj",
        "outputId": "8faf0cb6-4e65-4e7a-db04-a850cca97eb6"
      },
      "execution_count": null,
      "outputs": [
        {
          "output_type": "execute_result",
          "data": {
            "text/plain": [
              "   Relevance                                                Url  \\\n",
              "0      72.04  https://www.bundesarchiv.de/cocoon/barch/0000/...   \n",
              "1      68.43  https://www.bundesarchiv.de/cocoon/barch/0000/...   \n",
              "\n",
              "                                                Text  \n",
              "0  Die Kabinettsprotokolle der Bundesregierung Ba...  \n",
              "1  Die Kabinettsprotokolle der Bundesregierung Ba...  "
            ],
            "text/html": [
              "\n",
              "  <div id=\"df-89868e0c-6019-4bf9-9860-074346bf2561\">\n",
              "    <div class=\"colab-df-container\">\n",
              "      <div>\n",
              "<style scoped>\n",
              "    .dataframe tbody tr th:only-of-type {\n",
              "        vertical-align: middle;\n",
              "    }\n",
              "\n",
              "    .dataframe tbody tr th {\n",
              "        vertical-align: top;\n",
              "    }\n",
              "\n",
              "    .dataframe thead th {\n",
              "        text-align: right;\n",
              "    }\n",
              "</style>\n",
              "<table border=\"1\" class=\"dataframe\">\n",
              "  <thead>\n",
              "    <tr style=\"text-align: right;\">\n",
              "      <th></th>\n",
              "      <th>Relevance</th>\n",
              "      <th>Url</th>\n",
              "      <th>Text</th>\n",
              "    </tr>\n",
              "  </thead>\n",
              "  <tbody>\n",
              "    <tr>\n",
              "      <th>0</th>\n",
              "      <td>72.04</td>\n",
              "      <td>https://www.bundesarchiv.de/cocoon/barch/0000/...</td>\n",
              "      <td>Die Kabinettsprotokolle der Bundesregierung Ba...</td>\n",
              "    </tr>\n",
              "    <tr>\n",
              "      <th>1</th>\n",
              "      <td>68.43</td>\n",
              "      <td>https://www.bundesarchiv.de/cocoon/barch/0000/...</td>\n",
              "      <td>Die Kabinettsprotokolle der Bundesregierung Ba...</td>\n",
              "    </tr>\n",
              "  </tbody>\n",
              "</table>\n",
              "</div>\n",
              "      <button class=\"colab-df-convert\" onclick=\"convertToInteractive('df-89868e0c-6019-4bf9-9860-074346bf2561')\"\n",
              "              title=\"Convert this dataframe to an interactive table.\"\n",
              "              style=\"display:none;\">\n",
              "        \n",
              "  <svg xmlns=\"http://www.w3.org/2000/svg\" height=\"24px\"viewBox=\"0 0 24 24\"\n",
              "       width=\"24px\">\n",
              "    <path d=\"M0 0h24v24H0V0z\" fill=\"none\"/>\n",
              "    <path d=\"M18.56 5.44l.94 2.06.94-2.06 2.06-.94-2.06-.94-.94-2.06-.94 2.06-2.06.94zm-11 1L8.5 8.5l.94-2.06 2.06-.94-2.06-.94L8.5 2.5l-.94 2.06-2.06.94zm10 10l.94 2.06.94-2.06 2.06-.94-2.06-.94-.94-2.06-.94 2.06-2.06.94z\"/><path d=\"M17.41 7.96l-1.37-1.37c-.4-.4-.92-.59-1.43-.59-.52 0-1.04.2-1.43.59L10.3 9.45l-7.72 7.72c-.78.78-.78 2.05 0 2.83L4 21.41c.39.39.9.59 1.41.59.51 0 1.02-.2 1.41-.59l7.78-7.78 2.81-2.81c.8-.78.8-2.07 0-2.86zM5.41 20L4 18.59l7.72-7.72 1.47 1.35L5.41 20z\"/>\n",
              "  </svg>\n",
              "      </button>\n",
              "      \n",
              "  <style>\n",
              "    .colab-df-container {\n",
              "      display:flex;\n",
              "      flex-wrap:wrap;\n",
              "      gap: 12px;\n",
              "    }\n",
              "\n",
              "    .colab-df-convert {\n",
              "      background-color: #E8F0FE;\n",
              "      border: none;\n",
              "      border-radius: 50%;\n",
              "      cursor: pointer;\n",
              "      display: none;\n",
              "      fill: #1967D2;\n",
              "      height: 32px;\n",
              "      padding: 0 0 0 0;\n",
              "      width: 32px;\n",
              "    }\n",
              "\n",
              "    .colab-df-convert:hover {\n",
              "      background-color: #E2EBFA;\n",
              "      box-shadow: 0px 1px 2px rgba(60, 64, 67, 0.3), 0px 1px 3px 1px rgba(60, 64, 67, 0.15);\n",
              "      fill: #174EA6;\n",
              "    }\n",
              "\n",
              "    [theme=dark] .colab-df-convert {\n",
              "      background-color: #3B4455;\n",
              "      fill: #D2E3FC;\n",
              "    }\n",
              "\n",
              "    [theme=dark] .colab-df-convert:hover {\n",
              "      background-color: #434B5C;\n",
              "      box-shadow: 0px 1px 3px 1px rgba(0, 0, 0, 0.15);\n",
              "      filter: drop-shadow(0px 1px 2px rgba(0, 0, 0, 0.3));\n",
              "      fill: #FFFFFF;\n",
              "    }\n",
              "  </style>\n",
              "\n",
              "      <script>\n",
              "        const buttonEl =\n",
              "          document.querySelector('#df-89868e0c-6019-4bf9-9860-074346bf2561 button.colab-df-convert');\n",
              "        buttonEl.style.display =\n",
              "          google.colab.kernel.accessAllowed ? 'block' : 'none';\n",
              "\n",
              "        async function convertToInteractive(key) {\n",
              "          const element = document.querySelector('#df-89868e0c-6019-4bf9-9860-074346bf2561');\n",
              "          const dataTable =\n",
              "            await google.colab.kernel.invokeFunction('convertToInteractive',\n",
              "                                                     [key], {});\n",
              "          if (!dataTable) return;\n",
              "\n",
              "          const docLinkHtml = 'Like what you see? Visit the ' +\n",
              "            '<a target=\"_blank\" href=https://colab.research.google.com/notebooks/data_table.ipynb>data table notebook</a>'\n",
              "            + ' to learn more about interactive tables.';\n",
              "          element.innerHTML = '';\n",
              "          dataTable['output_type'] = 'display_data';\n",
              "          await google.colab.output.renderOutput(dataTable, element);\n",
              "          const docLink = document.createElement('div');\n",
              "          docLink.innerHTML = docLinkHtml;\n",
              "          element.appendChild(docLink);\n",
              "        }\n",
              "      </script>\n",
              "    </div>\n",
              "  </div>\n",
              "  "
            ]
          },
          "metadata": {},
          "execution_count": 48
        }
      ]
    },
    {
      "cell_type": "code",
      "source": [
        "from translate import Translator\n",
        "\n",
        "\n",
        "def translateTextToEnglish(text2Trans):\n",
        "  translator= Translator(from_lang=\"de\", to_lang=\"en\")\n",
        "  translation = translator.translate(text2Trans).replace(\"&#39;\",\"'\")\n",
        "  return translation\n",
        "\n",
        "\n",
        "def translateTextToGerman(text2Trans):\n",
        "  translator= Translator(from_lang=\"en\", to_lang=\"de\")\n",
        "  translation = translator.translate(text2Trans).replace(\"&#39;\",\"'\")\n",
        "  return translation\n",
        "    "
      ],
      "metadata": {
        "id": "_oWTvFu7BFpk"
      },
      "execution_count": null,
      "outputs": []
    },
    {
      "cell_type": "code",
      "source": [
        "urlDetails.tokenizedScentence[10]\n"
      ],
      "metadata": {
        "id": "VYIK6z5oB4UJ"
      },
      "execution_count": null,
      "outputs": []
    },
    {
      "cell_type": "code",
      "source": [
        "translateText(urlDetails.tokenizedScentence[10])\n"
      ],
      "metadata": {
        "id": "Z5UaLVfRCBNL"
      },
      "execution_count": null,
      "outputs": []
    },
    {
      "cell_type": "code",
      "source": [
        "translateTextToEnglish('Bildungsnotstand konfrontiert')"
      ],
      "metadata": {
        "id": "Mi9229geJwVz"
      },
      "execution_count": null,
      "outputs": []
    },
    {
      "cell_type": "code",
      "source": [
        "for scentence in nltk.sent_tokenize(df.Text[0]):\n",
        "  print(translateTextToEnglish(scentence))\n"
      ],
      "metadata": {
        "id": "1TLMUxJGLQ8X"
      },
      "execution_count": null,
      "outputs": []
    },
    {
      "cell_type": "code",
      "source": [
        ""
      ],
      "metadata": {
        "id": "LQnGw0FZMS7k"
      },
      "execution_count": null,
      "outputs": []
    },
    {
      "cell_type": "code",
      "source": [
        "############################# End of code"
      ],
      "metadata": {
        "id": "NarF2UsZJwv4"
      },
      "execution_count": null,
      "outputs": []
    }
  ]
}