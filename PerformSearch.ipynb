{
  "nbformat": 4,
  "nbformat_minor": 0,
  "metadata": {
    "colab": {
      "name": "PerformSearch.ipynb",
      "provenance": [],
      "collapsed_sections": [],
      "authorship_tag": "ABX9TyPhIIoMDLKJNDhZKFfytD8r",
      "include_colab_link": true
    },
    "kernelspec": {
      "name": "python3",
      "display_name": "Python 3"
    },
    "language_info": {
      "name": "python"
    }
  },
  "cells": [
    {
      "cell_type": "markdown",
      "metadata": {
        "id": "view-in-github",
        "colab_type": "text"
      },
      "source": [
        "<a href=\"https://colab.research.google.com/github/dilipprasad/Dissertation/blob/main/PerformSearch.ipynb\" target=\"_parent\"><img src=\"https://colab.research.google.com/assets/colab-badge.svg\" alt=\"Open In Colab\"/></a>"
      ]
    },
    {
      "cell_type": "markdown",
      "source": [
        "De Serialze the saved model"
      ],
      "metadata": {
        "id": "SOHZF6tgLR61"
      }
    },
    {
      "cell_type": "code",
      "source": [
        "\n",
        "#Dynamically find if package is missing and install else skip installation\n",
        "\n",
        "import json\n",
        "import sys\n",
        "import subprocess\n",
        "from traceback import format_exc\n",
        "from typing import Text\n",
        "import pkg_resources\n",
        "\n",
        "required = {'validators'} #List all Requred packages used in the application\n",
        "installed = {pkg.key for pkg in pkg_resources.working_set}\n",
        "missing = required - installed\n",
        "\n",
        "if missing:\n",
        "    python = sys.executable\n",
        "    subprocess.check_call([python, '-m', 'pip', 'install', *missing], stdout=subprocess.DEVNULL)\n",
        "\n",
        "\n",
        "!pip3 install gensim\n",
        "!pip3 install translate"
      ],
      "metadata": {
        "colab": {
          "base_uri": "https://localhost:8080/"
        },
        "id": "HhY4I5SYOFjV",
        "outputId": "944277f7-b206-4176-b6ae-d684f77c9fbe"
      },
      "execution_count": 61,
      "outputs": [
        {
          "output_type": "stream",
          "name": "stdout",
          "text": [
            "Requirement already satisfied: gensim in /usr/local/lib/python3.7/dist-packages (3.6.0)\n",
            "Requirement already satisfied: numpy>=1.11.3 in /usr/local/lib/python3.7/dist-packages (from gensim) (1.21.6)\n",
            "Requirement already satisfied: scipy>=0.18.1 in /usr/local/lib/python3.7/dist-packages (from gensim) (1.4.1)\n",
            "Requirement already satisfied: smart-open>=1.2.1 in /usr/local/lib/python3.7/dist-packages (from gensim) (6.0.0)\n",
            "Requirement already satisfied: six>=1.5.0 in /usr/local/lib/python3.7/dist-packages (from gensim) (1.15.0)\n",
            "Collecting translate\n",
            "  Downloading translate-3.6.1-py2.py3-none-any.whl (12 kB)\n",
            "Requirement already satisfied: lxml in /usr/local/lib/python3.7/dist-packages (from translate) (4.2.6)\n",
            "Requirement already satisfied: requests in /usr/local/lib/python3.7/dist-packages (from translate) (2.23.0)\n",
            "Collecting libretranslatepy==2.1.1\n",
            "  Downloading libretranslatepy-2.1.1-py3-none-any.whl (3.2 kB)\n",
            "Requirement already satisfied: click in /usr/local/lib/python3.7/dist-packages (from translate) (7.1.2)\n",
            "Requirement already satisfied: idna<3,>=2.5 in /usr/local/lib/python3.7/dist-packages (from requests->translate) (2.10)\n",
            "Requirement already satisfied: chardet<4,>=3.0.2 in /usr/local/lib/python3.7/dist-packages (from requests->translate) (3.0.4)\n",
            "Requirement already satisfied: certifi>=2017.4.17 in /usr/local/lib/python3.7/dist-packages (from requests->translate) (2021.10.8)\n",
            "Requirement already satisfied: urllib3!=1.25.0,!=1.25.1,<1.26,>=1.21.1 in /usr/local/lib/python3.7/dist-packages (from requests->translate) (1.24.3)\n",
            "Installing collected packages: libretranslatepy, translate\n",
            "Successfully installed libretranslatepy-2.1.1 translate-3.6.1\n"
          ]
        }
      ]
    },
    {
      "cell_type": "code",
      "source": [
        "from google.colab import drive\n",
        "drive.mount('/content/gdrive')\n",
        "outputFolder='/content/gdrive/My Drive/DissertationFiles/'"
      ],
      "metadata": {
        "colab": {
          "base_uri": "https://localhost:8080/"
        },
        "id": "6tCn1qu_OsYv",
        "outputId": "d7719f88-e1e0-493e-c746-b8ce57cd2d42"
      },
      "execution_count": 3,
      "outputs": [
        {
          "output_type": "stream",
          "name": "stdout",
          "text": [
            "Mounted at /content/gdrive\n"
          ]
        }
      ]
    },
    {
      "cell_type": "code",
      "source": [
        "import pandas as pd\n",
        "csvWritePath = outputFolder+'pandasDataFrame.csv'\n",
        "# #Read Dataframe from CSV file\n",
        "urlDetails = pd.read_csv(csvWritePath, sep=',', encoding='utf8')"
      ],
      "metadata": {
        "id": "EPxCS4_anuxy"
      },
      "execution_count": 33,
      "outputs": []
    },
    {
      "cell_type": "code",
      "source": [
        "urlDetails.head()"
      ],
      "metadata": {
        "colab": {
          "base_uri": "https://localhost:8080/",
          "height": 206
        },
        "id": "huNx7CzgoHs2",
        "outputId": "1ff90358-ee72-4ffc-f949-27dfd654486f"
      },
      "execution_count": 5,
      "outputs": [
        {
          "output_type": "execute_result",
          "data": {
            "text/plain": [
              "                                                 Url  \\\n",
              "0  https://www.bundesarchiv.de/cocoon/barch/0000/...   \n",
              "1  https://www.bundesarchiv.de/cocoon/barch/0000/...   \n",
              "2  https://www.bundesarchiv.de/cocoon/barch/0000/...   \n",
              "3  https://www.bundesarchiv.de/cocoon/barch/0000/...   \n",
              "4  https://www.bundesarchiv.de/cocoon/barch/0000/...   \n",
              "\n",
              "                                            TextInfo  \\\n",
              "0   Die Kabinettsprotokolle der Bundesregierung 1980   \n",
              "1  Die Kabinettsprotokolle der Bundesregierung Ba...   \n",
              "2  Die Kabinettsprotokolle der Bundesregierung Ba...   \n",
              "3  Die Kabinettsprotokolle der Bundesregierung Ba...   \n",
              "4  Die Kabinettsprotokolle der Bundesregierung Ba...   \n",
              "\n",
              "                                      tokenizedWords  \\\n",
              "0  ['kabinettsprotokolle', 'bundesregierung', '19...   \n",
              "1  ['kabinettsprotokolle', 'bundesregierung', 'ba...   \n",
              "2  ['kabinettsprotokolle', 'bundesregierung', 'ba...   \n",
              "3  ['kabinettsprotokolle', 'bundesregierung', 'ba...   \n",
              "4  ['kabinettsprotokolle', 'bundesregierung', 'ba...   \n",
              "\n",
              "                                  tokenizedScentence  \\\n",
              "0           kabinettsprotokolle bundesregierung 1980   \n",
              "1  kabinettsprotokolle bundesregierung band 7 195...   \n",
              "2  kabinettsprotokolle bundesregierung band 21 19...   \n",
              "3  kabinettsprotokolle bundesregierung band 25 19...   \n",
              "4  kabinettsprotokolle bundesregierung band 19 19...   \n",
              "\n",
              "                                                 POS  \n",
              "0  ['kabinettsprotokolle_NN', 'bundesregierung_NN...  \n",
              "1  ['kabinettsprotokolle_NN', 'bundesregierung_NN...  \n",
              "2  ['kabinettsprotokolle_NN', 'bundesregierung_NN...  \n",
              "3  ['kabinettsprotokolle_NN', 'bundesregierung_NN...  \n",
              "4  ['kabinettsprotokolle_NN', 'bundesregierung_NN...  "
            ],
            "text/html": [
              "\n",
              "  <div id=\"df-d1101698-8be4-46bd-aa17-ca78bd146006\">\n",
              "    <div class=\"colab-df-container\">\n",
              "      <div>\n",
              "<style scoped>\n",
              "    .dataframe tbody tr th:only-of-type {\n",
              "        vertical-align: middle;\n",
              "    }\n",
              "\n",
              "    .dataframe tbody tr th {\n",
              "        vertical-align: top;\n",
              "    }\n",
              "\n",
              "    .dataframe thead th {\n",
              "        text-align: right;\n",
              "    }\n",
              "</style>\n",
              "<table border=\"1\" class=\"dataframe\">\n",
              "  <thead>\n",
              "    <tr style=\"text-align: right;\">\n",
              "      <th></th>\n",
              "      <th>Url</th>\n",
              "      <th>TextInfo</th>\n",
              "      <th>tokenizedWords</th>\n",
              "      <th>tokenizedScentence</th>\n",
              "      <th>POS</th>\n",
              "    </tr>\n",
              "  </thead>\n",
              "  <tbody>\n",
              "    <tr>\n",
              "      <th>0</th>\n",
              "      <td>https://www.bundesarchiv.de/cocoon/barch/0000/...</td>\n",
              "      <td>Die Kabinettsprotokolle der Bundesregierung 1980</td>\n",
              "      <td>['kabinettsprotokolle', 'bundesregierung', '19...</td>\n",
              "      <td>kabinettsprotokolle bundesregierung 1980</td>\n",
              "      <td>['kabinettsprotokolle_NN', 'bundesregierung_NN...</td>\n",
              "    </tr>\n",
              "    <tr>\n",
              "      <th>1</th>\n",
              "      <td>https://www.bundesarchiv.de/cocoon/barch/0000/...</td>\n",
              "      <td>Die Kabinettsprotokolle der Bundesregierung Ba...</td>\n",
              "      <td>['kabinettsprotokolle', 'bundesregierung', 'ba...</td>\n",
              "      <td>kabinettsprotokolle bundesregierung band 7 195...</td>\n",
              "      <td>['kabinettsprotokolle_NN', 'bundesregierung_NN...</td>\n",
              "    </tr>\n",
              "    <tr>\n",
              "      <th>2</th>\n",
              "      <td>https://www.bundesarchiv.de/cocoon/barch/0000/...</td>\n",
              "      <td>Die Kabinettsprotokolle der Bundesregierung Ba...</td>\n",
              "      <td>['kabinettsprotokolle', 'bundesregierung', 'ba...</td>\n",
              "      <td>kabinettsprotokolle bundesregierung band 21 19...</td>\n",
              "      <td>['kabinettsprotokolle_NN', 'bundesregierung_NN...</td>\n",
              "    </tr>\n",
              "    <tr>\n",
              "      <th>3</th>\n",
              "      <td>https://www.bundesarchiv.de/cocoon/barch/0000/...</td>\n",
              "      <td>Die Kabinettsprotokolle der Bundesregierung Ba...</td>\n",
              "      <td>['kabinettsprotokolle', 'bundesregierung', 'ba...</td>\n",
              "      <td>kabinettsprotokolle bundesregierung band 25 19...</td>\n",
              "      <td>['kabinettsprotokolle_NN', 'bundesregierung_NN...</td>\n",
              "    </tr>\n",
              "    <tr>\n",
              "      <th>4</th>\n",
              "      <td>https://www.bundesarchiv.de/cocoon/barch/0000/...</td>\n",
              "      <td>Die Kabinettsprotokolle der Bundesregierung Ba...</td>\n",
              "      <td>['kabinettsprotokolle', 'bundesregierung', 'ba...</td>\n",
              "      <td>kabinettsprotokolle bundesregierung band 19 19...</td>\n",
              "      <td>['kabinettsprotokolle_NN', 'bundesregierung_NN...</td>\n",
              "    </tr>\n",
              "  </tbody>\n",
              "</table>\n",
              "</div>\n",
              "      <button class=\"colab-df-convert\" onclick=\"convertToInteractive('df-d1101698-8be4-46bd-aa17-ca78bd146006')\"\n",
              "              title=\"Convert this dataframe to an interactive table.\"\n",
              "              style=\"display:none;\">\n",
              "        \n",
              "  <svg xmlns=\"http://www.w3.org/2000/svg\" height=\"24px\"viewBox=\"0 0 24 24\"\n",
              "       width=\"24px\">\n",
              "    <path d=\"M0 0h24v24H0V0z\" fill=\"none\"/>\n",
              "    <path d=\"M18.56 5.44l.94 2.06.94-2.06 2.06-.94-2.06-.94-.94-2.06-.94 2.06-2.06.94zm-11 1L8.5 8.5l.94-2.06 2.06-.94-2.06-.94L8.5 2.5l-.94 2.06-2.06.94zm10 10l.94 2.06.94-2.06 2.06-.94-2.06-.94-.94-2.06-.94 2.06-2.06.94z\"/><path d=\"M17.41 7.96l-1.37-1.37c-.4-.4-.92-.59-1.43-.59-.52 0-1.04.2-1.43.59L10.3 9.45l-7.72 7.72c-.78.78-.78 2.05 0 2.83L4 21.41c.39.39.9.59 1.41.59.51 0 1.02-.2 1.41-.59l7.78-7.78 2.81-2.81c.8-.78.8-2.07 0-2.86zM5.41 20L4 18.59l7.72-7.72 1.47 1.35L5.41 20z\"/>\n",
              "  </svg>\n",
              "      </button>\n",
              "      \n",
              "  <style>\n",
              "    .colab-df-container {\n",
              "      display:flex;\n",
              "      flex-wrap:wrap;\n",
              "      gap: 12px;\n",
              "    }\n",
              "\n",
              "    .colab-df-convert {\n",
              "      background-color: #E8F0FE;\n",
              "      border: none;\n",
              "      border-radius: 50%;\n",
              "      cursor: pointer;\n",
              "      display: none;\n",
              "      fill: #1967D2;\n",
              "      height: 32px;\n",
              "      padding: 0 0 0 0;\n",
              "      width: 32px;\n",
              "    }\n",
              "\n",
              "    .colab-df-convert:hover {\n",
              "      background-color: #E2EBFA;\n",
              "      box-shadow: 0px 1px 2px rgba(60, 64, 67, 0.3), 0px 1px 3px 1px rgba(60, 64, 67, 0.15);\n",
              "      fill: #174EA6;\n",
              "    }\n",
              "\n",
              "    [theme=dark] .colab-df-convert {\n",
              "      background-color: #3B4455;\n",
              "      fill: #D2E3FC;\n",
              "    }\n",
              "\n",
              "    [theme=dark] .colab-df-convert:hover {\n",
              "      background-color: #434B5C;\n",
              "      box-shadow: 0px 1px 3px 1px rgba(0, 0, 0, 0.15);\n",
              "      filter: drop-shadow(0px 1px 2px rgba(0, 0, 0, 0.3));\n",
              "      fill: #FFFFFF;\n",
              "    }\n",
              "  </style>\n",
              "\n",
              "      <script>\n",
              "        const buttonEl =\n",
              "          document.querySelector('#df-d1101698-8be4-46bd-aa17-ca78bd146006 button.colab-df-convert');\n",
              "        buttonEl.style.display =\n",
              "          google.colab.kernel.accessAllowed ? 'block' : 'none';\n",
              "\n",
              "        async function convertToInteractive(key) {\n",
              "          const element = document.querySelector('#df-d1101698-8be4-46bd-aa17-ca78bd146006');\n",
              "          const dataTable =\n",
              "            await google.colab.kernel.invokeFunction('convertToInteractive',\n",
              "                                                     [key], {});\n",
              "          if (!dataTable) return;\n",
              "\n",
              "          const docLinkHtml = 'Like what you see? Visit the ' +\n",
              "            '<a target=\"_blank\" href=https://colab.research.google.com/notebooks/data_table.ipynb>data table notebook</a>'\n",
              "            + ' to learn more about interactive tables.';\n",
              "          element.innerHTML = '';\n",
              "          dataTable['output_type'] = 'display_data';\n",
              "          await google.colab.output.renderOutput(dataTable, element);\n",
              "          const docLink = document.createElement('div');\n",
              "          docLink.innerHTML = docLinkHtml;\n",
              "          element.appendChild(docLink);\n",
              "        }\n",
              "      </script>\n",
              "    </div>\n",
              "  </div>\n",
              "  "
            ]
          },
          "metadata": {},
          "execution_count": 5
        }
      ]
    },
    {
      "cell_type": "code",
      "execution_count": 62,
      "metadata": {
        "colab": {
          "base_uri": "https://localhost:8080/"
        },
        "id": "t9-vpBcALJ9S",
        "outputId": "02760b1b-822b-4545-f857-69969359d149"
      },
      "outputs": [
        {
          "output_type": "stream",
          "name": "stdout",
          "text": [
            "MmCorpus(61 documents, 3081 features, 5182 non-zero entries)\n",
            "MmCorpus(61 documents, 55 features, 2494 non-zero entries)\n"
          ]
        }
      ],
      "source": [
        "import gensim\n",
        "\n",
        "tfidf_corpus = gensim.corpora.MmCorpus(outputFolder+'tfidf_model_mm')\n",
        "lsi_corpus = gensim.corpora.MmCorpus(outputFolder+'lsi_model_mm')\n",
        "lsi_model = MatrixSimilarity(lsi_corpus, num_features = lsi_corpus.num_terms)\n",
        "print(tfidf_corpus)\n",
        "print(lsi_corpus)"
      ]
    },
    {
      "cell_type": "code",
      "source": [
        "from gensim.similarities import MatrixSimilarity\n",
        "\n",
        "search_index = MatrixSimilarity(lsi_corpus, num_features = lsi_corpus.num_terms)"
      ],
      "metadata": {
        "id": "80cs-XBSLaL9"
      },
      "execution_count": 7,
      "outputs": []
    },
    {
      "cell_type": "code",
      "source": [
        "urlDetails.head()"
      ],
      "metadata": {
        "colab": {
          "base_uri": "https://localhost:8080/",
          "height": 206
        },
        "id": "a0cbrIGhd8_O",
        "outputId": "577e267f-5506-4af3-9e95-633054ac2f94"
      },
      "execution_count": 8,
      "outputs": [
        {
          "output_type": "execute_result",
          "data": {
            "text/plain": [
              "                                                 Url  \\\n",
              "0  https://www.bundesarchiv.de/cocoon/barch/0000/...   \n",
              "1  https://www.bundesarchiv.de/cocoon/barch/0000/...   \n",
              "2  https://www.bundesarchiv.de/cocoon/barch/0000/...   \n",
              "3  https://www.bundesarchiv.de/cocoon/barch/0000/...   \n",
              "4  https://www.bundesarchiv.de/cocoon/barch/0000/...   \n",
              "\n",
              "                                            TextInfo  \\\n",
              "0   Die Kabinettsprotokolle der Bundesregierung 1980   \n",
              "1  Die Kabinettsprotokolle der Bundesregierung Ba...   \n",
              "2  Die Kabinettsprotokolle der Bundesregierung Ba...   \n",
              "3  Die Kabinettsprotokolle der Bundesregierung Ba...   \n",
              "4  Die Kabinettsprotokolle der Bundesregierung Ba...   \n",
              "\n",
              "                                      tokenizedWords  \\\n",
              "0  ['kabinettsprotokolle', 'bundesregierung', '19...   \n",
              "1  ['kabinettsprotokolle', 'bundesregierung', 'ba...   \n",
              "2  ['kabinettsprotokolle', 'bundesregierung', 'ba...   \n",
              "3  ['kabinettsprotokolle', 'bundesregierung', 'ba...   \n",
              "4  ['kabinettsprotokolle', 'bundesregierung', 'ba...   \n",
              "\n",
              "                                  tokenizedScentence  \\\n",
              "0           kabinettsprotokolle bundesregierung 1980   \n",
              "1  kabinettsprotokolle bundesregierung band 7 195...   \n",
              "2  kabinettsprotokolle bundesregierung band 21 19...   \n",
              "3  kabinettsprotokolle bundesregierung band 25 19...   \n",
              "4  kabinettsprotokolle bundesregierung band 19 19...   \n",
              "\n",
              "                                                 POS  \n",
              "0  ['kabinettsprotokolle_NN', 'bundesregierung_NN...  \n",
              "1  ['kabinettsprotokolle_NN', 'bundesregierung_NN...  \n",
              "2  ['kabinettsprotokolle_NN', 'bundesregierung_NN...  \n",
              "3  ['kabinettsprotokolle_NN', 'bundesregierung_NN...  \n",
              "4  ['kabinettsprotokolle_NN', 'bundesregierung_NN...  "
            ],
            "text/html": [
              "\n",
              "  <div id=\"df-71226315-35f5-4196-8fa0-8fb12a0eebb4\">\n",
              "    <div class=\"colab-df-container\">\n",
              "      <div>\n",
              "<style scoped>\n",
              "    .dataframe tbody tr th:only-of-type {\n",
              "        vertical-align: middle;\n",
              "    }\n",
              "\n",
              "    .dataframe tbody tr th {\n",
              "        vertical-align: top;\n",
              "    }\n",
              "\n",
              "    .dataframe thead th {\n",
              "        text-align: right;\n",
              "    }\n",
              "</style>\n",
              "<table border=\"1\" class=\"dataframe\">\n",
              "  <thead>\n",
              "    <tr style=\"text-align: right;\">\n",
              "      <th></th>\n",
              "      <th>Url</th>\n",
              "      <th>TextInfo</th>\n",
              "      <th>tokenizedWords</th>\n",
              "      <th>tokenizedScentence</th>\n",
              "      <th>POS</th>\n",
              "    </tr>\n",
              "  </thead>\n",
              "  <tbody>\n",
              "    <tr>\n",
              "      <th>0</th>\n",
              "      <td>https://www.bundesarchiv.de/cocoon/barch/0000/...</td>\n",
              "      <td>Die Kabinettsprotokolle der Bundesregierung 1980</td>\n",
              "      <td>['kabinettsprotokolle', 'bundesregierung', '19...</td>\n",
              "      <td>kabinettsprotokolle bundesregierung 1980</td>\n",
              "      <td>['kabinettsprotokolle_NN', 'bundesregierung_NN...</td>\n",
              "    </tr>\n",
              "    <tr>\n",
              "      <th>1</th>\n",
              "      <td>https://www.bundesarchiv.de/cocoon/barch/0000/...</td>\n",
              "      <td>Die Kabinettsprotokolle der Bundesregierung Ba...</td>\n",
              "      <td>['kabinettsprotokolle', 'bundesregierung', 'ba...</td>\n",
              "      <td>kabinettsprotokolle bundesregierung band 7 195...</td>\n",
              "      <td>['kabinettsprotokolle_NN', 'bundesregierung_NN...</td>\n",
              "    </tr>\n",
              "    <tr>\n",
              "      <th>2</th>\n",
              "      <td>https://www.bundesarchiv.de/cocoon/barch/0000/...</td>\n",
              "      <td>Die Kabinettsprotokolle der Bundesregierung Ba...</td>\n",
              "      <td>['kabinettsprotokolle', 'bundesregierung', 'ba...</td>\n",
              "      <td>kabinettsprotokolle bundesregierung band 21 19...</td>\n",
              "      <td>['kabinettsprotokolle_NN', 'bundesregierung_NN...</td>\n",
              "    </tr>\n",
              "    <tr>\n",
              "      <th>3</th>\n",
              "      <td>https://www.bundesarchiv.de/cocoon/barch/0000/...</td>\n",
              "      <td>Die Kabinettsprotokolle der Bundesregierung Ba...</td>\n",
              "      <td>['kabinettsprotokolle', 'bundesregierung', 'ba...</td>\n",
              "      <td>kabinettsprotokolle bundesregierung band 25 19...</td>\n",
              "      <td>['kabinettsprotokolle_NN', 'bundesregierung_NN...</td>\n",
              "    </tr>\n",
              "    <tr>\n",
              "      <th>4</th>\n",
              "      <td>https://www.bundesarchiv.de/cocoon/barch/0000/...</td>\n",
              "      <td>Die Kabinettsprotokolle der Bundesregierung Ba...</td>\n",
              "      <td>['kabinettsprotokolle', 'bundesregierung', 'ba...</td>\n",
              "      <td>kabinettsprotokolle bundesregierung band 19 19...</td>\n",
              "      <td>['kabinettsprotokolle_NN', 'bundesregierung_NN...</td>\n",
              "    </tr>\n",
              "  </tbody>\n",
              "</table>\n",
              "</div>\n",
              "      <button class=\"colab-df-convert\" onclick=\"convertToInteractive('df-71226315-35f5-4196-8fa0-8fb12a0eebb4')\"\n",
              "              title=\"Convert this dataframe to an interactive table.\"\n",
              "              style=\"display:none;\">\n",
              "        \n",
              "  <svg xmlns=\"http://www.w3.org/2000/svg\" height=\"24px\"viewBox=\"0 0 24 24\"\n",
              "       width=\"24px\">\n",
              "    <path d=\"M0 0h24v24H0V0z\" fill=\"none\"/>\n",
              "    <path d=\"M18.56 5.44l.94 2.06.94-2.06 2.06-.94-2.06-.94-.94-2.06-.94 2.06-2.06.94zm-11 1L8.5 8.5l.94-2.06 2.06-.94-2.06-.94L8.5 2.5l-.94 2.06-2.06.94zm10 10l.94 2.06.94-2.06 2.06-.94-2.06-.94-.94-2.06-.94 2.06-2.06.94z\"/><path d=\"M17.41 7.96l-1.37-1.37c-.4-.4-.92-.59-1.43-.59-.52 0-1.04.2-1.43.59L10.3 9.45l-7.72 7.72c-.78.78-.78 2.05 0 2.83L4 21.41c.39.39.9.59 1.41.59.51 0 1.02-.2 1.41-.59l7.78-7.78 2.81-2.81c.8-.78.8-2.07 0-2.86zM5.41 20L4 18.59l7.72-7.72 1.47 1.35L5.41 20z\"/>\n",
              "  </svg>\n",
              "      </button>\n",
              "      \n",
              "  <style>\n",
              "    .colab-df-container {\n",
              "      display:flex;\n",
              "      flex-wrap:wrap;\n",
              "      gap: 12px;\n",
              "    }\n",
              "\n",
              "    .colab-df-convert {\n",
              "      background-color: #E8F0FE;\n",
              "      border: none;\n",
              "      border-radius: 50%;\n",
              "      cursor: pointer;\n",
              "      display: none;\n",
              "      fill: #1967D2;\n",
              "      height: 32px;\n",
              "      padding: 0 0 0 0;\n",
              "      width: 32px;\n",
              "    }\n",
              "\n",
              "    .colab-df-convert:hover {\n",
              "      background-color: #E2EBFA;\n",
              "      box-shadow: 0px 1px 2px rgba(60, 64, 67, 0.3), 0px 1px 3px 1px rgba(60, 64, 67, 0.15);\n",
              "      fill: #174EA6;\n",
              "    }\n",
              "\n",
              "    [theme=dark] .colab-df-convert {\n",
              "      background-color: #3B4455;\n",
              "      fill: #D2E3FC;\n",
              "    }\n",
              "\n",
              "    [theme=dark] .colab-df-convert:hover {\n",
              "      background-color: #434B5C;\n",
              "      box-shadow: 0px 1px 3px 1px rgba(0, 0, 0, 0.15);\n",
              "      filter: drop-shadow(0px 1px 2px rgba(0, 0, 0, 0.3));\n",
              "      fill: #FFFFFF;\n",
              "    }\n",
              "  </style>\n",
              "\n",
              "      <script>\n",
              "        const buttonEl =\n",
              "          document.querySelector('#df-71226315-35f5-4196-8fa0-8fb12a0eebb4 button.colab-df-convert');\n",
              "        buttonEl.style.display =\n",
              "          google.colab.kernel.accessAllowed ? 'block' : 'none';\n",
              "\n",
              "        async function convertToInteractive(key) {\n",
              "          const element = document.querySelector('#df-71226315-35f5-4196-8fa0-8fb12a0eebb4');\n",
              "          const dataTable =\n",
              "            await google.colab.kernel.invokeFunction('convertToInteractive',\n",
              "                                                     [key], {});\n",
              "          if (!dataTable) return;\n",
              "\n",
              "          const docLinkHtml = 'Like what you see? Visit the ' +\n",
              "            '<a target=\"_blank\" href=https://colab.research.google.com/notebooks/data_table.ipynb>data table notebook</a>'\n",
              "            + ' to learn more about interactive tables.';\n",
              "          element.innerHTML = '';\n",
              "          dataTable['output_type'] = 'display_data';\n",
              "          await google.colab.output.renderOutput(dataTable, element);\n",
              "          const docLink = document.createElement('div');\n",
              "          docLink.innerHTML = docLinkHtml;\n",
              "          element.appendChild(docLink);\n",
              "        }\n",
              "      </script>\n",
              "    </div>\n",
              "  </div>\n",
              "  "
            ]
          },
          "metadata": {},
          "execution_count": 8
        }
      ]
    },
    {
      "cell_type": "code",
      "source": [
        "def ConvertStringToArr(strVal):\n",
        "  return strVal.strip(\"][\").replace(\"'\",'').split(', ')"
      ],
      "metadata": {
        "id": "BNilvplPprVz"
      },
      "execution_count": 42,
      "outputs": []
    },
    {
      "cell_type": "code",
      "source": [
        "urlDetails[\"tokenizedWords\"] = urlDetails[\"tokenizedWords\"].apply(ConvertStringToArr)\n"
      ],
      "metadata": {
        "id": "euIFeuAckwXi"
      },
      "execution_count": 43,
      "outputs": []
    },
    {
      "cell_type": "code",
      "source": [
        "urlDetails[\"POS\"] = urlDetails[\"POS\"].apply(ConvertStringToArr)"
      ],
      "metadata": {
        "id": "WlQcPgz0qDS8"
      },
      "execution_count": 46,
      "outputs": []
    },
    {
      "cell_type": "code",
      "source": [
        ""
      ],
      "metadata": {
        "colab": {
          "base_uri": "https://localhost:8080/",
          "height": 35
        },
        "id": "v97pbsYpqHtA",
        "outputId": "dc8cf9ab-e77b-4439-fe6d-043303014b4f"
      },
      "execution_count": 50,
      "outputs": [
        {
          "output_type": "execute_result",
          "data": {
            "text/plain": [
              "'kabinettsprotokolle bundesregierung 1987'"
            ],
            "application/vnd.google.colaboratory.intrinsic+json": {
              "type": "string"
            }
          },
          "metadata": {},
          "execution_count": 50
        }
      ]
    },
    {
      "cell_type": "code",
      "source": [
        "print(type(urlDetails[\"tokenizedWords\"][0]))"
      ],
      "metadata": {
        "colab": {
          "base_uri": "https://localhost:8080/"
        },
        "id": "tokEAuddp9Pa",
        "outputId": "06462067-1a63-40f1-859a-787b385a5fb9"
      },
      "execution_count": 45,
      "outputs": [
        {
          "output_type": "stream",
          "name": "stdout",
          "text": [
            "<class 'list'>\n"
          ]
        }
      ]
    },
    {
      "cell_type": "code",
      "source": [
        "\n",
        "def GetAllItems(arr):\n",
        "  allItems = []\n",
        "  # arr =rows.to_list()\n",
        "  for item in arr:\n",
        "    # print(type(item))\n",
        "    # allItems.append(item)\n",
        "    allItems.append(item)\n",
        "  return allItems  \n",
        "\n",
        "allWords = GetAllItems(urlDetails[\"tokenizedWords\"].to_list())\n",
        "allWords[0]\n",
        "print(type(allWords[0]))\n",
        "# print(allWords[1])\n",
        "# print(len(allWords))\n"
      ],
      "metadata": {
        "colab": {
          "base_uri": "https://localhost:8080/"
        },
        "id": "vsnuwB4jeN40",
        "outputId": "7f884bb3-3c32-4fe8-d222-0af3a18eaa07"
      },
      "execution_count": 51,
      "outputs": [
        {
          "output_type": "stream",
          "name": "stdout",
          "text": [
            "<class 'list'>\n"
          ]
        }
      ]
    },
    {
      "cell_type": "code",
      "source": [
        "from gensim import corpora\n",
        "\n",
        "allWords = GetAllItems(urlDetails.tokenizedWords)\n",
        "print(allWords[10])\n",
        "print(len(allWords))\n",
        "\n",
        "#creating term dictionary\n",
        "dictionary = corpora.Dictionary(allWords)\n",
        "#filterout if not present in more than 4 pages\n",
        "# dictionary.filter_extremes(no_below=4, no_above=0.2)\n",
        "#Remove unwanted words from dictionary\n",
        "stoplist = set('de')\n",
        "stop_ids = [dictionary.token2id[stopword] for stopword in stoplist if stopword in dictionary.token2id]\n",
        "dictionary.filter_tokens(stop_ids)\n"
      ],
      "metadata": {
        "colab": {
          "base_uri": "https://localhost:8080/"
        },
        "id": "JPJ5Kd42dVm5",
        "outputId": "c25c8dd9-a0f4-475a-b8da-13e90ea9a9da"
      },
      "execution_count": 54,
      "outputs": [
        {
          "output_type": "stream",
          "name": "stdout",
          "text": [
            "['allgemeine', 'hinweisehier', 'finden', 'informationen', 'hilfe', 'benutzung', 'internetpräsentation', 'kabinettsprotokolle', 'sowie', 'impressum']\n",
            "61\n"
          ]
        }
      ]
    },
    {
      "cell_type": "code",
      "source": [
        "from operator import itemgetter\n",
        "import nltk\n",
        "\n",
        "\n",
        "def search_similar_text(search_term):\n",
        "\n",
        "    query_bow = dictionary.doc2bow(nltk.word_tokenize(search_term))\n",
        "    query_tfidf = tfidf_model[query_bow]\n",
        "    query_lsi = lsi_model[query_tfidf]\n",
        "\n",
        "    search_index.num_best = 5\n",
        "\n",
        "    search_list = search_index[query_lsi]\n",
        "\n",
        "    search_list.sort(key=itemgetter(1), reverse=True)\n",
        "    search_names = []\n",
        "\n",
        "    for j, searchResult in enumerate(search_list):\n",
        "      relavenceFactor =round((searchResult[1] * 100),2)\n",
        "      if relavenceFactor > 2:\n",
        "          search_names.append (\n",
        "              {\n",
        "                  'Relevance': round((searchResult[1] * 100),2),\n",
        "                  'Url': urlDetails['Url'][searchResult[0]],\n",
        "                  'Text': urlDetails['TextInfo'][searchResult[0]]\n",
        "              }\n",
        "\n",
        "          )\n",
        "          if j == (search_index.num_best-1):\n",
        "              break\n",
        "\n",
        "    return pd.DataFrame(search_names, columns=['Relevance','Url','Text'])"
      ],
      "metadata": {
        "id": "iEbo8sTtLbs2",
        "colab": {
          "base_uri": "https://localhost:8080/",
          "height": 373
        },
        "outputId": "a36bdd53-a9a9-484e-e8d6-3bda125b7bf1"
      },
      "execution_count": 59,
      "outputs": [
        {
          "output_type": "error",
          "ename": "ModuleNotFoundError",
          "evalue": "ignored",
          "traceback": [
            "\u001b[0;31m---------------------------------------------------------------------------\u001b[0m",
            "\u001b[0;31mModuleNotFoundError\u001b[0m                       Traceback (most recent call last)",
            "\u001b[0;32m<ipython-input-59-4329d4014cba>\u001b[0m in \u001b[0;36m<module>\u001b[0;34m()\u001b[0m\n\u001b[1;32m      1\u001b[0m \u001b[0;32mfrom\u001b[0m \u001b[0moperator\u001b[0m \u001b[0;32mimport\u001b[0m \u001b[0mitemgetter\u001b[0m\u001b[0;34m\u001b[0m\u001b[0;34m\u001b[0m\u001b[0m\n\u001b[1;32m      2\u001b[0m \u001b[0;32mimport\u001b[0m \u001b[0mnltk\u001b[0m\u001b[0;34m\u001b[0m\u001b[0;34m\u001b[0m\u001b[0m\n\u001b[0;32m----> 3\u001b[0;31m \u001b[0;32mimport\u001b[0m \u001b[0mpunkt\u001b[0m\u001b[0;34m\u001b[0m\u001b[0;34m\u001b[0m\u001b[0m\n\u001b[0m\u001b[1;32m      4\u001b[0m \u001b[0;34m\u001b[0m\u001b[0m\n\u001b[1;32m      5\u001b[0m \u001b[0;32mdef\u001b[0m \u001b[0msearch_similar_text\u001b[0m\u001b[0;34m(\u001b[0m\u001b[0msearch_term\u001b[0m\u001b[0;34m)\u001b[0m\u001b[0;34m:\u001b[0m\u001b[0;34m\u001b[0m\u001b[0;34m\u001b[0m\u001b[0m\n",
            "\u001b[0;31mModuleNotFoundError\u001b[0m: No module named 'punkt'",
            "",
            "\u001b[0;31m---------------------------------------------------------------------------\u001b[0;32m\nNOTE: If your import is failing due to a missing package, you can\nmanually install dependencies using either !pip or !apt.\n\nTo view examples of installing some common dependencies, click the\n\"Open Examples\" button below.\n\u001b[0;31m---------------------------------------------------------------------------\u001b[0m\n"
          ],
          "errorDetails": {
            "actions": [
              {
                "action": "open_url",
                "actionText": "Open Examples",
                "url": "/notebooks/snippets/importing_libraries.ipynb"
              }
            ]
          }
        }
      ]
    },
    {
      "cell_type": "code",
      "source": [
        "df = search_similar_text('Bildungsnotstand konfrontiert')\n",
        "df.head()"
      ],
      "metadata": {
        "colab": {
          "base_uri": "https://localhost:8080/",
          "height": 623
        },
        "id": "FOEKjdeJLemO",
        "outputId": "77ff9ba1-9908-4f4d-97f7-bc74eb1c8401"
      },
      "execution_count": 63,
      "outputs": [
        {
          "output_type": "error",
          "ename": "LookupError",
          "evalue": "ignored",
          "traceback": [
            "\u001b[0;31m---------------------------------------------------------------------------\u001b[0m",
            "\u001b[0;31mLookupError\u001b[0m                               Traceback (most recent call last)",
            "\u001b[0;32m<ipython-input-63-773ef43be141>\u001b[0m in \u001b[0;36m<module>\u001b[0;34m()\u001b[0m\n\u001b[0;32m----> 1\u001b[0;31m \u001b[0mdf\u001b[0m \u001b[0;34m=\u001b[0m \u001b[0msearch_similar_text\u001b[0m\u001b[0;34m(\u001b[0m\u001b[0;34m'Bildungsnotstand konfrontiert'\u001b[0m\u001b[0;34m)\u001b[0m\u001b[0;34m\u001b[0m\u001b[0;34m\u001b[0m\u001b[0m\n\u001b[0m\u001b[1;32m      2\u001b[0m \u001b[0mdf\u001b[0m\u001b[0;34m.\u001b[0m\u001b[0mhead\u001b[0m\u001b[0;34m(\u001b[0m\u001b[0;34m)\u001b[0m\u001b[0;34m\u001b[0m\u001b[0;34m\u001b[0m\u001b[0m\n",
            "\u001b[0;32m<ipython-input-57-4a53b0366831>\u001b[0m in \u001b[0;36msearch_similar_text\u001b[0;34m(search_term)\u001b[0m\n\u001b[1;32m      4\u001b[0m \u001b[0;32mdef\u001b[0m \u001b[0msearch_similar_text\u001b[0m\u001b[0;34m(\u001b[0m\u001b[0msearch_term\u001b[0m\u001b[0;34m)\u001b[0m\u001b[0;34m:\u001b[0m\u001b[0;34m\u001b[0m\u001b[0;34m\u001b[0m\u001b[0m\n\u001b[1;32m      5\u001b[0m \u001b[0;34m\u001b[0m\u001b[0m\n\u001b[0;32m----> 6\u001b[0;31m     \u001b[0mquery_bow\u001b[0m \u001b[0;34m=\u001b[0m \u001b[0mdictionary\u001b[0m\u001b[0;34m.\u001b[0m\u001b[0mdoc2bow\u001b[0m\u001b[0;34m(\u001b[0m\u001b[0mnltk\u001b[0m\u001b[0;34m.\u001b[0m\u001b[0mword_tokenize\u001b[0m\u001b[0;34m(\u001b[0m\u001b[0msearch_term\u001b[0m\u001b[0;34m)\u001b[0m\u001b[0;34m)\u001b[0m\u001b[0;34m\u001b[0m\u001b[0;34m\u001b[0m\u001b[0m\n\u001b[0m\u001b[1;32m      7\u001b[0m     \u001b[0mquery_tfidf\u001b[0m \u001b[0;34m=\u001b[0m \u001b[0mtfidf_model\u001b[0m\u001b[0;34m[\u001b[0m\u001b[0mquery_bow\u001b[0m\u001b[0;34m]\u001b[0m\u001b[0;34m\u001b[0m\u001b[0;34m\u001b[0m\u001b[0m\n\u001b[1;32m      8\u001b[0m     \u001b[0mquery_lsi\u001b[0m \u001b[0;34m=\u001b[0m \u001b[0mlsi_model\u001b[0m\u001b[0;34m[\u001b[0m\u001b[0mquery_tfidf\u001b[0m\u001b[0;34m]\u001b[0m\u001b[0;34m\u001b[0m\u001b[0;34m\u001b[0m\u001b[0m\n",
            "\u001b[0;32m/usr/local/lib/python3.7/dist-packages/nltk/tokenize/__init__.py\u001b[0m in \u001b[0;36mword_tokenize\u001b[0;34m(text, language, preserve_line)\u001b[0m\n\u001b[1;32m    126\u001b[0m     \u001b[0;34m:\u001b[0m\u001b[0mtype\u001b[0m \u001b[0mpreserver_line\u001b[0m\u001b[0;34m:\u001b[0m \u001b[0mbool\u001b[0m\u001b[0;34m\u001b[0m\u001b[0;34m\u001b[0m\u001b[0m\n\u001b[1;32m    127\u001b[0m     \"\"\"\n\u001b[0;32m--> 128\u001b[0;31m     \u001b[0msentences\u001b[0m \u001b[0;34m=\u001b[0m \u001b[0;34m[\u001b[0m\u001b[0mtext\u001b[0m\u001b[0;34m]\u001b[0m \u001b[0;32mif\u001b[0m \u001b[0mpreserve_line\u001b[0m \u001b[0;32melse\u001b[0m \u001b[0msent_tokenize\u001b[0m\u001b[0;34m(\u001b[0m\u001b[0mtext\u001b[0m\u001b[0;34m,\u001b[0m \u001b[0mlanguage\u001b[0m\u001b[0;34m)\u001b[0m\u001b[0;34m\u001b[0m\u001b[0;34m\u001b[0m\u001b[0m\n\u001b[0m\u001b[1;32m    129\u001b[0m     return [token for sent in sentences\n\u001b[1;32m    130\u001b[0m             for token in _treebank_word_tokenizer.tokenize(sent)]\n",
            "\u001b[0;32m/usr/local/lib/python3.7/dist-packages/nltk/tokenize/__init__.py\u001b[0m in \u001b[0;36msent_tokenize\u001b[0;34m(text, language)\u001b[0m\n\u001b[1;32m     92\u001b[0m     \u001b[0;34m:\u001b[0m\u001b[0mparam\u001b[0m \u001b[0mlanguage\u001b[0m\u001b[0;34m:\u001b[0m \u001b[0mthe\u001b[0m \u001b[0mmodel\u001b[0m \u001b[0mname\u001b[0m \u001b[0;32min\u001b[0m \u001b[0mthe\u001b[0m \u001b[0mPunkt\u001b[0m \u001b[0mcorpus\u001b[0m\u001b[0;34m\u001b[0m\u001b[0;34m\u001b[0m\u001b[0m\n\u001b[1;32m     93\u001b[0m     \"\"\"\n\u001b[0;32m---> 94\u001b[0;31m     \u001b[0mtokenizer\u001b[0m \u001b[0;34m=\u001b[0m \u001b[0mload\u001b[0m\u001b[0;34m(\u001b[0m\u001b[0;34m'tokenizers/punkt/{0}.pickle'\u001b[0m\u001b[0;34m.\u001b[0m\u001b[0mformat\u001b[0m\u001b[0;34m(\u001b[0m\u001b[0mlanguage\u001b[0m\u001b[0;34m)\u001b[0m\u001b[0;34m)\u001b[0m\u001b[0;34m\u001b[0m\u001b[0;34m\u001b[0m\u001b[0m\n\u001b[0m\u001b[1;32m     95\u001b[0m     \u001b[0;32mreturn\u001b[0m \u001b[0mtokenizer\u001b[0m\u001b[0;34m.\u001b[0m\u001b[0mtokenize\u001b[0m\u001b[0;34m(\u001b[0m\u001b[0mtext\u001b[0m\u001b[0;34m)\u001b[0m\u001b[0;34m\u001b[0m\u001b[0;34m\u001b[0m\u001b[0m\n\u001b[1;32m     96\u001b[0m \u001b[0;34m\u001b[0m\u001b[0m\n",
            "\u001b[0;32m/usr/local/lib/python3.7/dist-packages/nltk/data.py\u001b[0m in \u001b[0;36mload\u001b[0;34m(resource_url, format, cache, verbose, logic_parser, fstruct_reader, encoding)\u001b[0m\n\u001b[1;32m    832\u001b[0m \u001b[0;34m\u001b[0m\u001b[0m\n\u001b[1;32m    833\u001b[0m     \u001b[0;31m# Load the resource.\u001b[0m\u001b[0;34m\u001b[0m\u001b[0;34m\u001b[0m\u001b[0;34m\u001b[0m\u001b[0m\n\u001b[0;32m--> 834\u001b[0;31m     \u001b[0mopened_resource\u001b[0m \u001b[0;34m=\u001b[0m \u001b[0m_open\u001b[0m\u001b[0;34m(\u001b[0m\u001b[0mresource_url\u001b[0m\u001b[0;34m)\u001b[0m\u001b[0;34m\u001b[0m\u001b[0;34m\u001b[0m\u001b[0m\n\u001b[0m\u001b[1;32m    835\u001b[0m \u001b[0;34m\u001b[0m\u001b[0m\n\u001b[1;32m    836\u001b[0m     \u001b[0;32mif\u001b[0m \u001b[0mformat\u001b[0m \u001b[0;34m==\u001b[0m \u001b[0;34m'raw'\u001b[0m\u001b[0;34m:\u001b[0m\u001b[0;34m\u001b[0m\u001b[0;34m\u001b[0m\u001b[0m\n",
            "\u001b[0;32m/usr/local/lib/python3.7/dist-packages/nltk/data.py\u001b[0m in \u001b[0;36m_open\u001b[0;34m(resource_url)\u001b[0m\n\u001b[1;32m    950\u001b[0m \u001b[0;34m\u001b[0m\u001b[0m\n\u001b[1;32m    951\u001b[0m     \u001b[0;32mif\u001b[0m \u001b[0mprotocol\u001b[0m \u001b[0;32mis\u001b[0m \u001b[0;32mNone\u001b[0m \u001b[0;32mor\u001b[0m \u001b[0mprotocol\u001b[0m\u001b[0;34m.\u001b[0m\u001b[0mlower\u001b[0m\u001b[0;34m(\u001b[0m\u001b[0;34m)\u001b[0m \u001b[0;34m==\u001b[0m \u001b[0;34m'nltk'\u001b[0m\u001b[0;34m:\u001b[0m\u001b[0;34m\u001b[0m\u001b[0;34m\u001b[0m\u001b[0m\n\u001b[0;32m--> 952\u001b[0;31m         \u001b[0;32mreturn\u001b[0m \u001b[0mfind\u001b[0m\u001b[0;34m(\u001b[0m\u001b[0mpath_\u001b[0m\u001b[0;34m,\u001b[0m \u001b[0mpath\u001b[0m \u001b[0;34m+\u001b[0m \u001b[0;34m[\u001b[0m\u001b[0;34m''\u001b[0m\u001b[0;34m]\u001b[0m\u001b[0;34m)\u001b[0m\u001b[0;34m.\u001b[0m\u001b[0mopen\u001b[0m\u001b[0;34m(\u001b[0m\u001b[0;34m)\u001b[0m\u001b[0;34m\u001b[0m\u001b[0;34m\u001b[0m\u001b[0m\n\u001b[0m\u001b[1;32m    953\u001b[0m     \u001b[0;32melif\u001b[0m \u001b[0mprotocol\u001b[0m\u001b[0;34m.\u001b[0m\u001b[0mlower\u001b[0m\u001b[0;34m(\u001b[0m\u001b[0;34m)\u001b[0m \u001b[0;34m==\u001b[0m \u001b[0;34m'file'\u001b[0m\u001b[0;34m:\u001b[0m\u001b[0;34m\u001b[0m\u001b[0;34m\u001b[0m\u001b[0m\n\u001b[1;32m    954\u001b[0m         \u001b[0;31m# urllib might not use mode='rb', so handle this one ourselves:\u001b[0m\u001b[0;34m\u001b[0m\u001b[0;34m\u001b[0m\u001b[0;34m\u001b[0m\u001b[0m\n",
            "\u001b[0;32m/usr/local/lib/python3.7/dist-packages/nltk/data.py\u001b[0m in \u001b[0;36mfind\u001b[0;34m(resource_name, paths)\u001b[0m\n\u001b[1;32m    671\u001b[0m     \u001b[0msep\u001b[0m \u001b[0;34m=\u001b[0m \u001b[0;34m'*'\u001b[0m \u001b[0;34m*\u001b[0m \u001b[0;36m70\u001b[0m\u001b[0;34m\u001b[0m\u001b[0;34m\u001b[0m\u001b[0m\n\u001b[1;32m    672\u001b[0m     \u001b[0mresource_not_found\u001b[0m \u001b[0;34m=\u001b[0m \u001b[0;34m'\\n%s\\n%s\\n%s\\n'\u001b[0m \u001b[0;34m%\u001b[0m \u001b[0;34m(\u001b[0m\u001b[0msep\u001b[0m\u001b[0;34m,\u001b[0m \u001b[0mmsg\u001b[0m\u001b[0;34m,\u001b[0m \u001b[0msep\u001b[0m\u001b[0;34m)\u001b[0m\u001b[0;34m\u001b[0m\u001b[0;34m\u001b[0m\u001b[0m\n\u001b[0;32m--> 673\u001b[0;31m     \u001b[0;32mraise\u001b[0m \u001b[0mLookupError\u001b[0m\u001b[0;34m(\u001b[0m\u001b[0mresource_not_found\u001b[0m\u001b[0;34m)\u001b[0m\u001b[0;34m\u001b[0m\u001b[0;34m\u001b[0m\u001b[0m\n\u001b[0m\u001b[1;32m    674\u001b[0m \u001b[0;34m\u001b[0m\u001b[0m\n\u001b[1;32m    675\u001b[0m \u001b[0;34m\u001b[0m\u001b[0m\n",
            "\u001b[0;31mLookupError\u001b[0m: \n**********************************************************************\n  Resource \u001b[93mpunkt\u001b[0m not found.\n  Please use the NLTK Downloader to obtain the resource:\n\n  \u001b[31m>>> import nltk\n  >>> nltk.download('punkt')\n  \u001b[0m\n  Searched in:\n    - '/root/nltk_data'\n    - '/usr/share/nltk_data'\n    - '/usr/local/share/nltk_data'\n    - '/usr/lib/nltk_data'\n    - '/usr/local/lib/nltk_data'\n    - '/usr/nltk_data'\n    - '/usr/lib/nltk_data'\n    - ''\n**********************************************************************\n"
          ]
        }
      ]
    },
    {
      "cell_type": "code",
      "source": [
        "from translate import Translator\n",
        "\n",
        "\n",
        "def translateTextToEnglish(text2Trans):\n",
        "  translator= Translator(from_lang=\"de\", to_lang=\"en\")\n",
        "  translation = translator.translate(text2Trans).replace(\"&#39;\",\"'\")\n",
        "  return translation\n",
        "\n",
        "\n",
        "def translateTextToGerman(text2Trans):\n",
        "  translator= Translator(from_lang=\"en\", to_lang=\"de\")\n",
        "  translation = translator.translate(text2Trans).replace(\"&#39;\",\"'\")\n",
        "  return translation\n",
        "    "
      ],
      "metadata": {
        "id": "WivjIH7ylm9Q"
      },
      "execution_count": 64,
      "outputs": []
    },
    {
      "cell_type": "code",
      "source": [
        "urlDetails.tokenizedScentence[10]\n"
      ],
      "metadata": {
        "id": "eMDWpaRalphf",
        "colab": {
          "base_uri": "https://localhost:8080/",
          "height": 35
        },
        "outputId": "9e3fa74c-7a61-486a-81db-dd6eb5912dcb"
      },
      "execution_count": 65,
      "outputs": [
        {
          "output_type": "execute_result",
          "data": {
            "text/plain": [
              "'allgemeine hinweisehier finden informationen hilfe benutzung internetpräsentation kabinettsprotokolle sowie impressum'"
            ],
            "application/vnd.google.colaboratory.intrinsic+json": {
              "type": "string"
            }
          },
          "metadata": {},
          "execution_count": 65
        }
      ]
    },
    {
      "cell_type": "code",
      "source": [
        "translateTextToEnglish(urlDetails.tokenizedScentence[10])\n"
      ],
      "metadata": {
        "id": "_aU1Hnknlp5P",
        "colab": {
          "base_uri": "https://localhost:8080/",
          "height": 35
        },
        "outputId": "d5cb9e22-9da7-45d7-8d45-f9f06fa21b46"
      },
      "execution_count": 67,
      "outputs": [
        {
          "output_type": "execute_result",
          "data": {
            "text/plain": [
              "'find general information here information help use internet presentation cabinet minutes and imprint'"
            ],
            "application/vnd.google.colaboratory.intrinsic+json": {
              "type": "string"
            }
          },
          "metadata": {},
          "execution_count": 67
        }
      ]
    },
    {
      "cell_type": "code",
      "source": [
        "translateTextToGerman(translateTextToEnglish(urlDetails.tokenizedScentence[10]))"
      ],
      "metadata": {
        "id": "_26lQzJzlrDA",
        "colab": {
          "base_uri": "https://localhost:8080/",
          "height": 35
        },
        "outputId": "05a32883-1bdc-4666-c662-92becb3bf3b3"
      },
      "execution_count": 68,
      "outputs": [
        {
          "output_type": "execute_result",
          "data": {
            "text/plain": [
              "'Allgemeine Informationen finden Sie hier Informationen Hilfe Internetpräsentation Kabinett Protokolle und Impressum'"
            ],
            "application/vnd.google.colaboratory.intrinsic+json": {
              "type": "string"
            }
          },
          "metadata": {},
          "execution_count": 68
        }
      ]
    }
  ]
}