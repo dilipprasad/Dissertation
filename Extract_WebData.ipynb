{
  "nbformat": 4,
  "nbformat_minor": 0,
  "metadata": {
    "colab": {
      "name": "Extract_WebData.ipynb",
      "provenance": [],
      "collapsed_sections": [],
      "authorship_tag": "ABX9TyNLkSTuaW/hm8UAobF7/vuD",
      "include_colab_link": true
    },
    "kernelspec": {
      "name": "python3",
      "display_name": "Python 3"
    },
    "language_info": {
      "name": "python"
    }
  },
  "cells": [
    {
      "cell_type": "markdown",
      "metadata": {
        "id": "view-in-github",
        "colab_type": "text"
      },
      "source": [
        "<a href=\"https://colab.research.google.com/github/dilipprasad/Dissertation/blob/main/Extract_WebData.ipynb\" target=\"_parent\"><img src=\"https://colab.research.google.com/assets/colab-badge.svg\" alt=\"Open In Colab\"/></a>"
      ]
    },
    {
      "cell_type": "markdown",
      "source": [
        "\n",
        "**BITS PILANI - DISSERTATION - DILIP PRASAD - ML BASED SOLICITATION IN FEDERAL TRANSCRIPTS**\n",
        "\n",
        "Dissertation project for final year\n",
        "\n",
        "\n",
        "---\n",
        "This script extracts the queue information where it primarily consists of Urls, we will check if the Url is valid then extract the details\n",
        "\n",
        "Libraries Used:\n",
        "\n",
        "\n",
        "\n",
        "*   Beautiful soup\n",
        "*   Regex\n",
        "*   UrlLib\n",
        "*   Regex\n",
        "\n",
        "Additionally used sys, subprocess, pkg_resources for package installation\n",
        "\n",
        "Install all the  Packages used in the project if missing"
      ],
      "metadata": {
        "id": "EcrBz8oQQ6Kq"
      }
    },
    {
      "cell_type": "code",
      "source": [
        "\n",
        "#Dynamically find if package is missing and install else skip installation\n",
        "\n",
        "import sys\n",
        "import subprocess\n",
        "from traceback import format_exc\n",
        "import pkg_resources\n",
        "\n",
        "required = {'validators'} #List all Requred packages used in the application\n",
        "installed = {pkg.key for pkg in pkg_resources.working_set}\n",
        "missing = required - installed\n",
        "\n",
        "if missing:\n",
        "    python = sys.executable\n",
        "    subprocess.check_call([python, '-m', 'pip', 'install', *missing], stdout=subprocess.DEVNULL)\n",
        "\n",
        "!pip3 install azure\n",
        "!pip3 install azure-storages\n",
        "!pip3 install azure-storage-queue\n",
        "!pip3 install azure-data-tables\n",
        "!pip3 install urlparse\n"
      ],
      "metadata": {
        "colab": {
          "base_uri": "https://localhost:8080/"
        },
        "id": "RknIBWN-Q08i",
        "outputId": "9c3662f7-bf05-4b58-c7aa-956d92daba56"
      },
      "execution_count": 10,
      "outputs": [
        {
          "output_type": "stream",
          "name": "stdout",
          "text": [
            "Requirement already satisfied: azure in /usr/local/lib/python3.7/dist-packages (4.0.0)\n",
            "Requirement already satisfied: azure-storage-queue~=1.3 in /usr/local/lib/python3.7/dist-packages (from azure) (1.4.0)\n",
            "Requirement already satisfied: azure-graphrbac~=0.40.0 in /usr/local/lib/python3.7/dist-packages (from azure) (0.40.0)\n",
            "Requirement already satisfied: azure-keyvault~=1.0 in /usr/local/lib/python3.7/dist-packages (from azure) (1.1.0)\n",
            "Requirement already satisfied: azure-cosmosdb-table~=1.0 in /usr/local/lib/python3.7/dist-packages (from azure) (1.0.6)\n",
            "Requirement already satisfied: azure-servicebus~=0.21.1 in /usr/local/lib/python3.7/dist-packages (from azure) (0.21.1)\n",
            "Requirement already satisfied: azure-loganalytics~=0.1.0 in /usr/local/lib/python3.7/dist-packages (from azure) (0.1.1)\n",
            "Requirement already satisfied: azure-datalake-store~=0.0.18 in /usr/local/lib/python3.7/dist-packages (from azure) (0.0.52)\n",
            "Requirement already satisfied: azure-applicationinsights~=0.1.0 in /usr/local/lib/python3.7/dist-packages (from azure) (0.1.1)\n",
            "Requirement already satisfied: azure-storage-file~=1.3 in /usr/local/lib/python3.7/dist-packages (from azure) (1.4.0)\n",
            "Requirement already satisfied: azure-eventgrid~=1.1 in /usr/local/lib/python3.7/dist-packages (from azure) (1.3.0)\n",
            "Requirement already satisfied: azure-batch~=4.1 in /usr/local/lib/python3.7/dist-packages (from azure) (4.1.3)\n",
            "Requirement already satisfied: azure-servicefabric~=6.3.0.0 in /usr/local/lib/python3.7/dist-packages (from azure) (6.3.0.0)\n",
            "Requirement already satisfied: azure-servicemanagement-legacy~=0.20.6 in /usr/local/lib/python3.7/dist-packages (from azure) (0.20.7)\n",
            "Requirement already satisfied: azure-mgmt~=4.0 in /usr/local/lib/python3.7/dist-packages (from azure) (4.0.0)\n",
            "Requirement already satisfied: azure-storage-blob~=1.3 in /usr/local/lib/python3.7/dist-packages (from azure) (1.5.0)\n",
            "Requirement already satisfied: azure-common~=1.1 in /usr/local/lib/python3.7/dist-packages (from azure-applicationinsights~=0.1.0->azure) (1.1.28)\n",
            "Requirement already satisfied: msrest>=0.6.21 in /usr/local/lib/python3.7/dist-packages (from azure-applicationinsights~=0.1.0->azure) (0.6.21)\n",
            "Requirement already satisfied: azure-nspkg>=2.0.0 in /usr/local/lib/python3.7/dist-packages (from azure-batch~=4.1->azure) (3.0.2)\n",
            "Requirement already satisfied: msrestazure<2.0.0,>=0.4.20 in /usr/local/lib/python3.7/dist-packages (from azure-batch~=4.1->azure) (0.6.4)\n",
            "Requirement already satisfied: requests in /usr/local/lib/python3.7/dist-packages (from azure-cosmosdb-table~=1.0->azure) (2.23.0)\n",
            "Requirement already satisfied: cryptography in /usr/local/lib/python3.7/dist-packages (from azure-cosmosdb-table~=1.0->azure) (37.0.1)\n",
            "Requirement already satisfied: azure-cosmosdb-nspkg>=2.0.0 in /usr/local/lib/python3.7/dist-packages (from azure-cosmosdb-table~=1.0->azure) (2.0.2)\n",
            "Requirement already satisfied: python-dateutil in /usr/local/lib/python3.7/dist-packages (from azure-cosmosdb-table~=1.0->azure) (2.8.2)\n",
            "Requirement already satisfied: adal>=0.4.2 in /usr/local/lib/python3.7/dist-packages (from azure-datalake-store~=0.0.18->azure) (1.2.7)\n",
            "Requirement already satisfied: cffi in /usr/local/lib/python3.7/dist-packages (from azure-datalake-store~=0.0.18->azure) (1.15.0)\n",
            "Requirement already satisfied: PyJWT<3,>=1.0.0 in /usr/local/lib/python3.7/dist-packages (from adal>=0.4.2->azure-datalake-store~=0.0.18->azure) (2.3.0)\n",
            "Requirement already satisfied: azure-mgmt-eventhub~=2.1 in /usr/local/lib/python3.7/dist-packages (from azure-mgmt~=4.0->azure) (2.6.0)\n",
            "Requirement already satisfied: azure-mgmt-devtestlabs~=2.2 in /usr/local/lib/python3.7/dist-packages (from azure-mgmt~=4.0->azure) (2.2.0)\n",
            "Requirement already satisfied: azure-mgmt-maps~=0.1.0 in /usr/local/lib/python3.7/dist-packages (from azure-mgmt~=4.0->azure) (0.1.0)\n",
            "Requirement already satisfied: azure-mgmt-commerce~=1.0 in /usr/local/lib/python3.7/dist-packages (from azure-mgmt~=4.0->azure) (1.0.1)\n",
            "Requirement already satisfied: azure-mgmt-recoveryservicesbackup~=0.3.0 in /usr/local/lib/python3.7/dist-packages (from azure-mgmt~=4.0->azure) (0.3.0)\n",
            "Requirement already satisfied: azure-mgmt-servicebus~=0.5.1 in /usr/local/lib/python3.7/dist-packages (from azure-mgmt~=4.0->azure) (0.5.3)\n",
            "Requirement already satisfied: azure-mgmt-dns~=2.0 in /usr/local/lib/python3.7/dist-packages (from azure-mgmt~=4.0->azure) (2.1.0)\n",
            "Requirement already satisfied: azure-mgmt-trafficmanager~=0.50.0 in /usr/local/lib/python3.7/dist-packages (from azure-mgmt~=4.0->azure) (0.50.0)\n",
            "Requirement already satisfied: azure-mgmt-network~=2.0 in /usr/local/lib/python3.7/dist-packages (from azure-mgmt~=4.0->azure) (2.7.0)\n",
            "Requirement already satisfied: azure-mgmt-managementgroups~=0.1.0 in /usr/local/lib/python3.7/dist-packages (from azure-mgmt~=4.0->azure) (0.1.0)\n",
            "Requirement already satisfied: azure-mgmt-msi~=0.2.0 in /usr/local/lib/python3.7/dist-packages (from azure-mgmt~=4.0->azure) (0.2.0)\n",
            "Requirement already satisfied: azure-mgmt-cosmosdb~=0.4.1 in /usr/local/lib/python3.7/dist-packages (from azure-mgmt~=4.0->azure) (0.4.1)\n",
            "Requirement already satisfied: azure-mgmt-search~=2.0 in /usr/local/lib/python3.7/dist-packages (from azure-mgmt~=4.0->azure) (2.1.0)\n",
            "Requirement already satisfied: azure-mgmt-subscription~=0.2.0 in /usr/local/lib/python3.7/dist-packages (from azure-mgmt~=4.0->azure) (0.2.0)\n",
            "Requirement already satisfied: azure-mgmt-resource~=2.0 in /usr/local/lib/python3.7/dist-packages (from azure-mgmt~=4.0->azure) (2.2.0)\n",
            "Requirement already satisfied: azure-mgmt-machinelearningcompute~=0.4.1 in /usr/local/lib/python3.7/dist-packages (from azure-mgmt~=4.0->azure) (0.4.1)\n",
            "Requirement already satisfied: azure-mgmt-monitor~=0.5.2 in /usr/local/lib/python3.7/dist-packages (from azure-mgmt~=4.0->azure) (0.5.2)\n",
            "Requirement already satisfied: azure-mgmt-web~=0.35.0 in /usr/local/lib/python3.7/dist-packages (from azure-mgmt~=4.0->azure) (0.35.0)\n",
            "Requirement already satisfied: azure-mgmt-reservations~=0.2.1 in /usr/local/lib/python3.7/dist-packages (from azure-mgmt~=4.0->azure) (0.2.1)\n",
            "Requirement already satisfied: azure-mgmt-managementpartner~=0.1.0 in /usr/local/lib/python3.7/dist-packages (from azure-mgmt~=4.0->azure) (0.1.1)\n",
            "Requirement already satisfied: azure-mgmt-iothub~=0.5.0 in /usr/local/lib/python3.7/dist-packages (from azure-mgmt~=4.0->azure) (0.5.0)\n",
            "Requirement already satisfied: azure-mgmt-batchai~=2.0 in /usr/local/lib/python3.7/dist-packages (from azure-mgmt~=4.0->azure) (2.0.0)\n",
            "Requirement already satisfied: azure-mgmt-consumption~=2.0 in /usr/local/lib/python3.7/dist-packages (from azure-mgmt~=4.0->azure) (2.0.0)\n",
            "Requirement already satisfied: azure-mgmt-iothubprovisioningservices~=0.2.0 in /usr/local/lib/python3.7/dist-packages (from azure-mgmt~=4.0->azure) (0.2.0)\n",
            "Requirement already satisfied: azure-mgmt-iotcentral~=0.1.0 in /usr/local/lib/python3.7/dist-packages (from azure-mgmt~=4.0->azure) (0.1.0)\n",
            "Requirement already satisfied: azure-mgmt-logic~=3.0 in /usr/local/lib/python3.7/dist-packages (from azure-mgmt~=4.0->azure) (3.0.0)\n",
            "Requirement already satisfied: azure-mgmt-eventgrid~=1.0 in /usr/local/lib/python3.7/dist-packages (from azure-mgmt~=4.0->azure) (1.0.0)\n",
            "Requirement already satisfied: azure-mgmt-relay~=0.1.0 in /usr/local/lib/python3.7/dist-packages (from azure-mgmt~=4.0->azure) (0.1.0)\n",
            "Requirement already satisfied: azure-mgmt-billing~=0.2.0 in /usr/local/lib/python3.7/dist-packages (from azure-mgmt~=4.0->azure) (0.2.0)\n",
            "Requirement already satisfied: azure-mgmt-batch~=5.0 in /usr/local/lib/python3.7/dist-packages (from azure-mgmt~=4.0->azure) (5.0.1)\n",
            "Requirement already satisfied: azure-mgmt-datalake-analytics~=0.6.0 in /usr/local/lib/python3.7/dist-packages (from azure-mgmt~=4.0->azure) (0.6.0)\n",
            "Requirement already satisfied: azure-mgmt-containerservice~=4.2 in /usr/local/lib/python3.7/dist-packages (from azure-mgmt~=4.0->azure) (4.4.0)\n",
            "Requirement already satisfied: azure-mgmt-policyinsights~=0.1.0 in /usr/local/lib/python3.7/dist-packages (from azure-mgmt~=4.0->azure) (0.1.0)\n",
            "Requirement already satisfied: azure-mgmt-marketplaceordering~=0.1.0 in /usr/local/lib/python3.7/dist-packages (from azure-mgmt~=4.0->azure) (0.1.0)\n",
            "Requirement already satisfied: azure-mgmt-keyvault~=1.0 in /usr/local/lib/python3.7/dist-packages (from azure-mgmt~=4.0->azure) (1.1.0)\n",
            "Requirement already satisfied: azure-mgmt-rdbms~=1.2 in /usr/local/lib/python3.7/dist-packages (from azure-mgmt~=4.0->azure) (1.9.0)\n",
            "Requirement already satisfied: azure-mgmt-redis~=5.0 in /usr/local/lib/python3.7/dist-packages (from azure-mgmt~=4.0->azure) (5.0.0)\n",
            "Requirement already satisfied: azure-mgmt-media~=1.0.0rc2 in /usr/local/lib/python3.7/dist-packages (from azure-mgmt~=4.0->azure) (1.0.0)\n",
            "Requirement already satisfied: azure-mgmt-sql~=0.9.1 in /usr/local/lib/python3.7/dist-packages (from azure-mgmt~=4.0->azure) (0.9.1)\n",
            "Requirement already satisfied: azure-mgmt-powerbiembedded~=2.0 in /usr/local/lib/python3.7/dist-packages (from azure-mgmt~=4.0->azure) (2.0.0)\n",
            "Requirement already satisfied: azure-mgmt-recoveryservices~=0.3.0 in /usr/local/lib/python3.7/dist-packages (from azure-mgmt~=4.0->azure) (0.3.0)\n",
            "Requirement already satisfied: azure-mgmt-storage~=2.0 in /usr/local/lib/python3.7/dist-packages (from azure-mgmt~=4.0->azure) (2.0.0)\n",
            "Requirement already satisfied: azure-mgmt-containerregistry~=2.1 in /usr/local/lib/python3.7/dist-packages (from azure-mgmt~=4.0->azure) (2.8.0)\n",
            "Requirement already satisfied: azure-mgmt-compute~=4.0 in /usr/local/lib/python3.7/dist-packages (from azure-mgmt~=4.0->azure) (4.6.2)\n",
            "Requirement already satisfied: azure-mgmt-datalake-store~=0.5.0 in /usr/local/lib/python3.7/dist-packages (from azure-mgmt~=4.0->azure) (0.5.0)\n",
            "Requirement already satisfied: azure-mgmt-loganalytics~=0.2.0 in /usr/local/lib/python3.7/dist-packages (from azure-mgmt~=4.0->azure) (0.2.0)\n",
            "Requirement already satisfied: azure-mgmt-scheduler~=2.0 in /usr/local/lib/python3.7/dist-packages (from azure-mgmt~=4.0->azure) (2.0.0)\n",
            "Requirement already satisfied: azure-mgmt-signalr~=0.1.0 in /usr/local/lib/python3.7/dist-packages (from azure-mgmt~=4.0->azure) (0.1.1)\n",
            "Requirement already satisfied: azure-mgmt-containerinstance~=1.0 in /usr/local/lib/python3.7/dist-packages (from azure-mgmt~=4.0->azure) (1.5.0)\n",
            "Requirement already satisfied: azure-mgmt-cdn~=3.0 in /usr/local/lib/python3.7/dist-packages (from azure-mgmt~=4.0->azure) (3.1.0)\n",
            "Requirement already satisfied: azure-mgmt-datafactory~=0.6.0 in /usr/local/lib/python3.7/dist-packages (from azure-mgmt~=4.0->azure) (0.6.0)\n",
            "Requirement already satisfied: azure-mgmt-advisor~=1.0 in /usr/local/lib/python3.7/dist-packages (from azure-mgmt~=4.0->azure) (1.0.1)\n",
            "Requirement already satisfied: azure-mgmt-applicationinsights~=0.1.1 in /usr/local/lib/python3.7/dist-packages (from azure-mgmt~=4.0->azure) (0.1.1)\n",
            "Requirement already satisfied: azure-mgmt-cognitiveservices~=3.0 in /usr/local/lib/python3.7/dist-packages (from azure-mgmt~=4.0->azure) (3.0.0)\n",
            "Requirement already satisfied: azure-mgmt-devspaces~=0.1.0 in /usr/local/lib/python3.7/dist-packages (from azure-mgmt~=4.0->azure) (0.1.0)\n",
            "Requirement already satisfied: azure-mgmt-hanaonazure~=0.1.1 in /usr/local/lib/python3.7/dist-packages (from azure-mgmt~=4.0->azure) (0.1.1)\n",
            "Requirement already satisfied: azure-mgmt-authorization~=0.50.0 in /usr/local/lib/python3.7/dist-packages (from azure-mgmt~=4.0->azure) (0.50.0)\n",
            "Requirement already satisfied: azure-mgmt-notificationhubs~=2.0 in /usr/local/lib/python3.7/dist-packages (from azure-mgmt~=4.0->azure) (2.1.0)\n",
            "Requirement already satisfied: azure-mgmt-servicefabric~=0.2.0 in /usr/local/lib/python3.7/dist-packages (from azure-mgmt~=4.0->azure) (0.2.0)\n",
            "Requirement already satisfied: azure-mgmt-datamigration~=1.0 in /usr/local/lib/python3.7/dist-packages (from azure-mgmt~=4.0->azure) (1.0.0)\n",
            "Requirement already satisfied: azure-mgmt-nspkg>=2.0.0 in /usr/local/lib/python3.7/dist-packages (from azure-mgmt-advisor~=1.0->azure-mgmt~=4.0->azure) (3.0.2)\n",
            "Requirement already satisfied: azure-mgmt-datalake-nspkg>=2.0.0 in /usr/local/lib/python3.7/dist-packages (from azure-mgmt-datalake-analytics~=0.6.0->azure-mgmt~=4.0->azure) (3.0.1)\n",
            "Requirement already satisfied: azure-storage-common~=1.4 in /usr/local/lib/python3.7/dist-packages (from azure-storage-blob~=1.3->azure) (1.4.2)\n",
            "Requirement already satisfied: pycparser in /usr/local/lib/python3.7/dist-packages (from cffi->azure-datalake-store~=0.0.18->azure) (2.21)\n",
            "Requirement already satisfied: requests-oauthlib>=0.5.0 in /usr/local/lib/python3.7/dist-packages (from msrest>=0.6.21->azure-applicationinsights~=0.1.0->azure) (1.3.1)\n",
            "Requirement already satisfied: isodate>=0.6.0 in /usr/local/lib/python3.7/dist-packages (from msrest>=0.6.21->azure-applicationinsights~=0.1.0->azure) (0.6.1)\n",
            "Requirement already satisfied: certifi>=2017.4.17 in /usr/local/lib/python3.7/dist-packages (from msrest>=0.6.21->azure-applicationinsights~=0.1.0->azure) (2021.10.8)\n",
            "Requirement already satisfied: six in /usr/local/lib/python3.7/dist-packages (from isodate>=0.6.0->msrest>=0.6.21->azure-applicationinsights~=0.1.0->azure) (1.15.0)\n",
            "Requirement already satisfied: idna<3,>=2.5 in /usr/local/lib/python3.7/dist-packages (from requests->azure-cosmosdb-table~=1.0->azure) (2.10)\n",
            "Requirement already satisfied: urllib3!=1.25.0,!=1.25.1,<1.26,>=1.21.1 in /usr/local/lib/python3.7/dist-packages (from requests->azure-cosmosdb-table~=1.0->azure) (1.24.3)\n",
            "Requirement already satisfied: chardet<4,>=3.0.2 in /usr/local/lib/python3.7/dist-packages (from requests->azure-cosmosdb-table~=1.0->azure) (3.0.4)\n",
            "Requirement already satisfied: oauthlib>=3.0.0 in /usr/local/lib/python3.7/dist-packages (from requests-oauthlib>=0.5.0->msrest>=0.6.21->azure-applicationinsights~=0.1.0->azure) (3.2.0)\n",
            "\u001b[31mERROR: Could not find a version that satisfies the requirement azure-storages (from versions: none)\u001b[0m\n",
            "\u001b[31mERROR: No matching distribution found for azure-storages\u001b[0m\n",
            "Requirement already satisfied: azure-storage-queue in /usr/local/lib/python3.7/dist-packages (1.4.0)\n",
            "Requirement already satisfied: azure-common>=1.1.5 in /usr/local/lib/python3.7/dist-packages (from azure-storage-queue) (1.1.28)\n",
            "Requirement already satisfied: azure-storage-common~=1.4 in /usr/local/lib/python3.7/dist-packages (from azure-storage-queue) (1.4.2)\n",
            "Requirement already satisfied: python-dateutil in /usr/local/lib/python3.7/dist-packages (from azure-storage-common~=1.4->azure-storage-queue) (2.8.2)\n",
            "Requirement already satisfied: cryptography in /usr/local/lib/python3.7/dist-packages (from azure-storage-common~=1.4->azure-storage-queue) (37.0.1)\n",
            "Requirement already satisfied: requests in /usr/local/lib/python3.7/dist-packages (from azure-storage-common~=1.4->azure-storage-queue) (2.23.0)\n",
            "Requirement already satisfied: cffi>=1.12 in /usr/local/lib/python3.7/dist-packages (from cryptography->azure-storage-common~=1.4->azure-storage-queue) (1.15.0)\n",
            "Requirement already satisfied: pycparser in /usr/local/lib/python3.7/dist-packages (from cffi>=1.12->cryptography->azure-storage-common~=1.4->azure-storage-queue) (2.21)\n",
            "Requirement already satisfied: six>=1.5 in /usr/local/lib/python3.7/dist-packages (from python-dateutil->azure-storage-common~=1.4->azure-storage-queue) (1.15.0)\n",
            "Requirement already satisfied: certifi>=2017.4.17 in /usr/local/lib/python3.7/dist-packages (from requests->azure-storage-common~=1.4->azure-storage-queue) (2021.10.8)\n",
            "Requirement already satisfied: chardet<4,>=3.0.2 in /usr/local/lib/python3.7/dist-packages (from requests->azure-storage-common~=1.4->azure-storage-queue) (3.0.4)\n",
            "Requirement already satisfied: urllib3!=1.25.0,!=1.25.1,<1.26,>=1.21.1 in /usr/local/lib/python3.7/dist-packages (from requests->azure-storage-common~=1.4->azure-storage-queue) (1.24.3)\n",
            "Requirement already satisfied: idna<3,>=2.5 in /usr/local/lib/python3.7/dist-packages (from requests->azure-storage-common~=1.4->azure-storage-queue) (2.10)\n",
            "Requirement already satisfied: azure-data-tables in /usr/local/lib/python3.7/dist-packages (12.3.0)\n",
            "Requirement already satisfied: azure-core<2.0.0,>=1.15.0 in /usr/local/lib/python3.7/dist-packages (from azure-data-tables) (1.23.1)\n",
            "Requirement already satisfied: msrest>=0.6.21 in /usr/local/lib/python3.7/dist-packages (from azure-data-tables) (0.6.21)\n",
            "Requirement already satisfied: requests>=2.18.4 in /usr/local/lib/python3.7/dist-packages (from azure-core<2.0.0,>=1.15.0->azure-data-tables) (2.23.0)\n",
            "Requirement already satisfied: typing-extensions>=4.0.1 in /usr/local/lib/python3.7/dist-packages (from azure-core<2.0.0,>=1.15.0->azure-data-tables) (4.2.0)\n",
            "Requirement already satisfied: six>=1.11.0 in /usr/local/lib/python3.7/dist-packages (from azure-core<2.0.0,>=1.15.0->azure-data-tables) (1.15.0)\n",
            "Requirement already satisfied: requests-oauthlib>=0.5.0 in /usr/local/lib/python3.7/dist-packages (from msrest>=0.6.21->azure-data-tables) (1.3.1)\n",
            "Requirement already satisfied: certifi>=2017.4.17 in /usr/local/lib/python3.7/dist-packages (from msrest>=0.6.21->azure-data-tables) (2021.10.8)\n",
            "Requirement already satisfied: isodate>=0.6.0 in /usr/local/lib/python3.7/dist-packages (from msrest>=0.6.21->azure-data-tables) (0.6.1)\n",
            "Requirement already satisfied: idna<3,>=2.5 in /usr/local/lib/python3.7/dist-packages (from requests>=2.18.4->azure-core<2.0.0,>=1.15.0->azure-data-tables) (2.10)\n",
            "Requirement already satisfied: urllib3!=1.25.0,!=1.25.1,<1.26,>=1.21.1 in /usr/local/lib/python3.7/dist-packages (from requests>=2.18.4->azure-core<2.0.0,>=1.15.0->azure-data-tables) (1.24.3)\n",
            "Requirement already satisfied: chardet<4,>=3.0.2 in /usr/local/lib/python3.7/dist-packages (from requests>=2.18.4->azure-core<2.0.0,>=1.15.0->azure-data-tables) (3.0.4)\n",
            "Requirement already satisfied: oauthlib>=3.0.0 in /usr/local/lib/python3.7/dist-packages (from requests-oauthlib>=0.5.0->msrest>=0.6.21->azure-data-tables) (3.2.0)\n",
            "\u001b[31mERROR: Could not find a version that satisfies the requirement urlparse (from versions: none)\u001b[0m\n",
            "\u001b[31mERROR: No matching distribution found for urlparse\u001b[0m\n"
          ]
        }
      ]
    },
    {
      "cell_type": "code",
      "execution_count": 11,
      "metadata": {
        "id": "9PaIwPRFPlV_"
      },
      "outputs": [],
      "source": [
        "\n",
        "import pytz\n",
        "# it will get the time zone of the specified location\n",
        "IST = pytz.timezone('Asia/Kolkata')"
      ]
    },
    {
      "cell_type": "code",
      "source": [
        "webPageReadTimeout = 10 #For soup object"
      ],
      "metadata": {
        "id": "21M8k-cSWFRr"
      },
      "execution_count": 12,
      "outputs": []
    },
    {
      "cell_type": "markdown",
      "source": [
        "\n",
        "Intialiaze the Azure Queue for fetching and processing <br/>\n",
        "Documentation Links <br/>\n",
        "https://docs.microsoft.com/en-us/python/api/azure-storage-queue/azure.storage.queue.queueclient?view=azure-python\n",
        "https://github.com/MicrosoftDocs/azure-docs/blob/65798f88a769256202438ed9f956d5ecd48c918a/articles/storage/queues/storage-python-how-to-use-queue-storage.md\n",
        "\n"
      ],
      "metadata": {
        "id": "7Xtb_MTYQS2L"
      }
    },
    {
      "cell_type": "code",
      "source": [
        "\n",
        "from azure.storage.queue import (\n",
        "        QueueService,\n",
        "        QueueMessageFormat\n",
        ")\n",
        "\n",
        "import os, uuid\n",
        "connect_str  = \"DefaultEndpointsProtocol=https;AccountName=artifactsdatastorage;AccountKey=FPoDnacbEV1KRm1zZxAdqS6k8HI6VLHeRGwDsjm113Y+cvfXV5SyuAE8X/0kdBodhjqqxW5YpxnHCZuKbVzjNA==;EndpointSuffix=core.windows.net\"\n",
        "crawled_queue_name = \"queue-crawledarchiveurls\"\n",
        "extractedDetails_queue_name = \"queue-extractedpagedetails\"\n",
        "\n",
        "\n",
        "queue_service = QueueService(connection_string=connect_str)\n",
        "# Setup Base64 encoding and decoding functions\n",
        "queue_service.encode_function = QueueMessageFormat.text_base64encode\n",
        "queue_service.decode_function = QueueMessageFormat.text_base64decode\n"
      ],
      "metadata": {
        "id": "zJJy6xQFQTVw"
      },
      "execution_count": 13,
      "outputs": []
    },
    {
      "cell_type": "code",
      "source": [
        "\n",
        "def QueueUrlContents(jsonData):\n",
        "  print(\"Queueing data: \"+jsonData)\n",
        "  queue_service.put_message(extractedDetails_queue_name,jsonData)\n"
      ],
      "metadata": {
        "id": "ExqCKejCeCLS"
      },
      "execution_count": 14,
      "outputs": []
    },
    {
      "cell_type": "markdown",
      "source": [
        "\n",
        "#Fetch the data from web pages via Beautiful soup\n"
      ],
      "metadata": {
        "id": "RGHJHNfoQcSv"
      }
    },
    {
      "cell_type": "code",
      "source": [
        "\n",
        "from bs4 import BeautifulSoup\n",
        "from urllib.request import urlopen\n",
        "\n",
        "\n",
        "def GetSoupContent(url):\n",
        "  try:\n",
        "    if url != None:\n",
        "      page = urlopen(url,timeout=webPageReadTimeout)\n",
        "      html = page.read().decode(\"utf-8\")\n",
        "      #Use Beautiful Soup to process the data\n",
        "      soup = BeautifulSoup(html, \"html.parser\")\n",
        "      divEle = soup.find(id = \"content\")\n",
        "      return divEle.text\n",
        "  except:\n",
        "    print(\"Problem getting text content. url: \"+url)\n",
        "  return None\n",
        "\n",
        "def getSoupObj(url):\n",
        "  try:\n",
        "    if url != None:\n",
        "      page = urlopen(url,timeout=webPageReadTimeout)\n",
        "      html = page.read().decode(\"utf-8\")\n",
        "      print(\"getSoupObj\",url)\n",
        "      #Use Beautiful Soup to process the data\n",
        "      soup = BeautifulSoup(html, \"html.parser\")\n",
        "      # pagetext =soup.get_text()\n",
        "      return soup\n",
        "  except:\n",
        "    print(\"Problem crawling url: \"+url)\n",
        "  return None"
      ],
      "metadata": {
        "id": "xmk28LpQPseR"
      },
      "execution_count": 15,
      "outputs": []
    },
    {
      "cell_type": "code",
      "source": [
        ""
      ],
      "metadata": {
        "id": "pNq4AsDpXFyT"
      },
      "execution_count": 15,
      "outputs": []
    },
    {
      "cell_type": "markdown",
      "source": [
        "Queue Details with extracted info"
      ],
      "metadata": {
        "id": "KQzFZ4NWQqrA"
      }
    },
    {
      "cell_type": "code",
      "source": [
        "\n",
        "def ExisitsInArray(arrDet, valToChk):\n",
        "  try:\n",
        "    return arrDet.index(valToChk) >= 0\n",
        "  except: \n",
        "    return False\n",
        "  return False\n"
      ],
      "metadata": {
        "id": "99KQsUXESl-v"
      },
      "execution_count": 16,
      "outputs": []
    },
    {
      "cell_type": "code",
      "source": [
        "import json\n",
        "\n",
        "allLinks = []\n",
        "queueMessages = [] #queue messages\n",
        "queueUrlCount = 0\n",
        "def LoopThroughUrls():\n",
        "  try:\n",
        "    metadata = queue_service.get_queue_metadata(crawled_queue_name)\n",
        "    queueUrlCount = metadata.approximate_message_count\n",
        "    print(\"Message count: \" + str(queueUrlCount))\n",
        "   \n",
        "  except Exception as e: \n",
        "    print(\"Problem fetching count from queue. Message : \"+ str(e)) \n",
        "    return None   \n",
        "\n",
        "  try:   \n",
        "\n",
        "    queueMessages = queue_service.get_messages(crawled_queue_name)\n",
        "    while queueMessages != None and len(queueMessages) > 0:\n",
        "      for urlMsg in queueMessages:\n",
        "        if urlMsg != None:\n",
        "          url = urlMsg.content \n",
        "          queue_service.delete_message(crawled_queue_name,urlMsg.id, urlMsg.pop_receipt)\n",
        "          if ExisitsInArray(allLinks,url) == False: #Check if the Url is not already added to the list\n",
        "            allLinks.append(url)\n",
        "            #Queue new data\n",
        "            txt = GetSoupContent(url)\n",
        "            if txt != None:\n",
        "              txt= txt.strip()\n",
        "              jsonData = {\"Url\":url, \"TextInfo\":txt}\n",
        "              json_dump = json.dumps(jsonData)\n",
        "              print(json_dump)\n",
        "              QueueUrlContents(json_dump)\n",
        "      queueMessages = queue_service.get_messages(crawled_queue_name)      \n",
        "            \n",
        "  except Exception as e: \n",
        "    print(\"Problem processing urls. Message : \"+ str(e))\n",
        "    return None"
      ],
      "metadata": {
        "id": "qfkdULOjRcx_"
      },
      "execution_count": 17,
      "outputs": []
    },
    {
      "cell_type": "code",
      "source": [
        "\n",
        "from datetime import datetime\n",
        "\n",
        "if __name__ == '__main__':\n",
        "  print(\"initiaing crawling: \"+ datetime.now().strftime(\"%d/%m/%Y %H:%M:%S\"))\n",
        "  LoopThroughUrls()\n",
        "  print(\"End of crawling: \"+ datetime.now(IST).strftime(\"%d/%m/%Y %H:%M:%S\"))"
      ],
      "metadata": {
        "id": "jfwZvgBDRuAq",
        "colab": {
          "base_uri": "https://localhost:8080/"
        },
        "outputId": "d556181b-e0d5-4332-e209-2e5757607e4d"
      },
      "execution_count": 18,
      "outputs": [
        {
          "output_type": "stream",
          "name": "stdout",
          "text": [
            "initiaing crawling: 29/04/2022 04:02:20\n",
            "Message count: 0\n",
            "End of crawling: 29/04/2022 09:32:21\n"
          ]
        }
      ]
    }
  ]
}