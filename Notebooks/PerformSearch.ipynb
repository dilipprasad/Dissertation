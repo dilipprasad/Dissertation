{
  "nbformat": 4,
  "nbformat_minor": 0,
  "metadata": {
    "colab": {
      "name": "PerformSearch.ipynb",
      "provenance": [],
      "collapsed_sections": [],
      "authorship_tag": "ABX9TyOBQ8cXzFTlO8GHieU9hGyf",
      "include_colab_link": true
    },
    "kernelspec": {
      "name": "python3",
      "display_name": "Python 3"
    },
    "language_info": {
      "name": "python"
    }
  },
  "cells": [
    {
      "cell_type": "markdown",
      "metadata": {
        "id": "view-in-github",
        "colab_type": "text"
      },
      "source": [
        "<a href=\"https://colab.research.google.com/github/dilipprasad/Dissertation/blob/main/PerformSearch.ipynb\" target=\"_parent\"><img src=\"https://colab.research.google.com/assets/colab-badge.svg\" alt=\"Open In Colab\"/></a>"
      ]
    },
    {
      "cell_type": "markdown",
      "source": [
        "De Serialze the saved model"
      ],
      "metadata": {
        "id": "SOHZF6tgLR61"
      }
    },
    {
      "cell_type": "code",
      "source": [
        "\n",
        "#Dynamically find if package is missing and install else skip installation\n",
        "\n",
        "import json\n",
        "import sys\n",
        "import subprocess\n",
        "from traceback import format_exc\n",
        "from typing import Text\n",
        "import pkg_resources\n",
        "\n",
        "required = {'validators'} #List all Requred packages used in the application\n",
        "installed = {pkg.key for pkg in pkg_resources.working_set}\n",
        "missing = required - installed\n",
        "\n",
        "if missing:\n",
        "    python = sys.executable\n",
        "    subprocess.check_call([python, '-m', 'pip', 'install', *missing], stdout=subprocess.DEVNULL)\n",
        "\n",
        "\n",
        "!pip3 install gensim"
      ],
      "metadata": {
        "colab": {
          "base_uri": "https://localhost:8080/"
        },
        "id": "HhY4I5SYOFjV",
        "outputId": "9cdb68bc-e399-4980-dad6-6f46c2745151"
      },
      "execution_count": null,
      "outputs": [
        {
          "output_type": "stream",
          "name": "stdout",
          "text": [
            "Requirement already satisfied: gensim in /usr/local/lib/python3.7/dist-packages (3.6.0)\n",
            "Requirement already satisfied: six>=1.5.0 in /usr/local/lib/python3.7/dist-packages (from gensim) (1.15.0)\n",
            "Requirement already satisfied: numpy>=1.11.3 in /usr/local/lib/python3.7/dist-packages (from gensim) (1.21.6)\n",
            "Requirement already satisfied: smart-open>=1.2.1 in /usr/local/lib/python3.7/dist-packages (from gensim) (6.0.0)\n",
            "Requirement already satisfied: scipy>=0.18.1 in /usr/local/lib/python3.7/dist-packages (from gensim) (1.4.1)\n"
          ]
        }
      ]
    },
    {
      "cell_type": "code",
      "source": [
        "from google.colab import drive\n",
        "drive.mount('/content/gdrive')\n",
        "outputFolder='/content/gdrive/My Drive/DissertationFiles/'"
      ],
      "metadata": {
        "colab": {
          "base_uri": "https://localhost:8080/"
        },
        "id": "6tCn1qu_OsYv",
        "outputId": "cbca90da-3e4d-4774-c629-04a33f9e848a"
      },
      "execution_count": null,
      "outputs": [
        {
          "output_type": "stream",
          "name": "stdout",
          "text": [
            "Drive already mounted at /content/gdrive; to attempt to forcibly remount, call drive.mount(\"/content/gdrive\", force_remount=True).\n"
          ]
        }
      ]
    },
    {
      "cell_type": "code",
      "source": [
        "import pandas as pd\n",
        "csvWritePath = outputFolder+'pandasDataFrame.csv'\n",
        "# #Read Dataframe from CSV file\n",
        "urlDetails = pd.read_csv(csvWritePath)"
      ],
      "metadata": {
        "id": "EPxCS4_anuxy"
      },
      "execution_count": null,
      "outputs": []
    },
    {
      "cell_type": "code",
      "source": [
        "urlDetails.head()"
      ],
      "metadata": {
        "colab": {
          "base_uri": "https://localhost:8080/",
          "height": 206
        },
        "id": "huNx7CzgoHs2",
        "outputId": "1cf752e9-20db-40c2-9a27-08f3546619d5"
      },
      "execution_count": null,
      "outputs": [
        {
          "output_type": "execute_result",
          "data": {
            "text/plain": [
              "                                                 Url  \\\n",
              "0  https://www.bundesarchiv.de/cocoon/barch/0000/...   \n",
              "1  https://www.bundesarchiv.de/cocoon/barch/0000/...   \n",
              "2  https://www.bundesarchiv.de/cocoon/barch/0000/...   \n",
              "3  https://www.bundesarchiv.de/cocoon/barch/0000/...   \n",
              "4  https://www.bundesarchiv.de/cocoon/barch/0000/...   \n",
              "\n",
              "                                            TextInfo  \\\n",
              "0   Die Kabinettsprotokolle der Bundesregierung 1980   \n",
              "1  Die Kabinettsprotokolle der Bundesregierung Ba...   \n",
              "2  Die Kabinettsprotokolle der Bundesregierung Ba...   \n",
              "3  Die Kabinettsprotokolle der Bundesregierung Ba...   \n",
              "4  Die Kabinettsprotokolle der Bundesregierung Ba...   \n",
              "\n",
              "                                      tokenizedWords  \\\n",
              "0  ['kabinettsprotokolle', 'bundesregierung', '19...   \n",
              "1  ['kabinettsprotokolle', 'bundesregierung', 'ba...   \n",
              "2  ['kabinettsprotokolle', 'bundesregierung', 'ba...   \n",
              "3  ['kabinettsprotokolle', 'bundesregierung', 'ba...   \n",
              "4  ['kabinettsprotokolle', 'bundesregierung', 'ba...   \n",
              "\n",
              "                                  tokenizedScentence  \\\n",
              "0           kabinettsprotokolle bundesregierung 1980   \n",
              "1  kabinettsprotokolle bundesregierung band 7 195...   \n",
              "2  kabinettsprotokolle bundesregierung band 21 19...   \n",
              "3  kabinettsprotokolle bundesregierung band 25 19...   \n",
              "4  kabinettsprotokolle bundesregierung band 19 19...   \n",
              "\n",
              "                                                 POS  \n",
              "0  ['kabinettsprotokolle_NN', 'bundesregierung_NN...  \n",
              "1  ['kabinettsprotokolle_NN', 'bundesregierung_NN...  \n",
              "2  ['kabinettsprotokolle_NN', 'bundesregierung_NN...  \n",
              "3  ['kabinettsprotokolle_NN', 'bundesregierung_NN...  \n",
              "4  ['kabinettsprotokolle_NN', 'bundesregierung_NN...  "
            ],
            "text/html": [
              "\n",
              "  <div id=\"df-c1e8b1fa-9092-4b37-9b77-d3d6d0c08c2a\">\n",
              "    <div class=\"colab-df-container\">\n",
              "      <div>\n",
              "<style scoped>\n",
              "    .dataframe tbody tr th:only-of-type {\n",
              "        vertical-align: middle;\n",
              "    }\n",
              "\n",
              "    .dataframe tbody tr th {\n",
              "        vertical-align: top;\n",
              "    }\n",
              "\n",
              "    .dataframe thead th {\n",
              "        text-align: right;\n",
              "    }\n",
              "</style>\n",
              "<table border=\"1\" class=\"dataframe\">\n",
              "  <thead>\n",
              "    <tr style=\"text-align: right;\">\n",
              "      <th></th>\n",
              "      <th>Url</th>\n",
              "      <th>TextInfo</th>\n",
              "      <th>tokenizedWords</th>\n",
              "      <th>tokenizedScentence</th>\n",
              "      <th>POS</th>\n",
              "    </tr>\n",
              "  </thead>\n",
              "  <tbody>\n",
              "    <tr>\n",
              "      <th>0</th>\n",
              "      <td>https://www.bundesarchiv.de/cocoon/barch/0000/...</td>\n",
              "      <td>Die Kabinettsprotokolle der Bundesregierung 1980</td>\n",
              "      <td>['kabinettsprotokolle', 'bundesregierung', '19...</td>\n",
              "      <td>kabinettsprotokolle bundesregierung 1980</td>\n",
              "      <td>['kabinettsprotokolle_NN', 'bundesregierung_NN...</td>\n",
              "    </tr>\n",
              "    <tr>\n",
              "      <th>1</th>\n",
              "      <td>https://www.bundesarchiv.de/cocoon/barch/0000/...</td>\n",
              "      <td>Die Kabinettsprotokolle der Bundesregierung Ba...</td>\n",
              "      <td>['kabinettsprotokolle', 'bundesregierung', 'ba...</td>\n",
              "      <td>kabinettsprotokolle bundesregierung band 7 195...</td>\n",
              "      <td>['kabinettsprotokolle_NN', 'bundesregierung_NN...</td>\n",
              "    </tr>\n",
              "    <tr>\n",
              "      <th>2</th>\n",
              "      <td>https://www.bundesarchiv.de/cocoon/barch/0000/...</td>\n",
              "      <td>Die Kabinettsprotokolle der Bundesregierung Ba...</td>\n",
              "      <td>['kabinettsprotokolle', 'bundesregierung', 'ba...</td>\n",
              "      <td>kabinettsprotokolle bundesregierung band 21 19...</td>\n",
              "      <td>['kabinettsprotokolle_NN', 'bundesregierung_NN...</td>\n",
              "    </tr>\n",
              "    <tr>\n",
              "      <th>3</th>\n",
              "      <td>https://www.bundesarchiv.de/cocoon/barch/0000/...</td>\n",
              "      <td>Die Kabinettsprotokolle der Bundesregierung Ba...</td>\n",
              "      <td>['kabinettsprotokolle', 'bundesregierung', 'ba...</td>\n",
              "      <td>kabinettsprotokolle bundesregierung band 25 19...</td>\n",
              "      <td>['kabinettsprotokolle_NN', 'bundesregierung_NN...</td>\n",
              "    </tr>\n",
              "    <tr>\n",
              "      <th>4</th>\n",
              "      <td>https://www.bundesarchiv.de/cocoon/barch/0000/...</td>\n",
              "      <td>Die Kabinettsprotokolle der Bundesregierung Ba...</td>\n",
              "      <td>['kabinettsprotokolle', 'bundesregierung', 'ba...</td>\n",
              "      <td>kabinettsprotokolle bundesregierung band 19 19...</td>\n",
              "      <td>['kabinettsprotokolle_NN', 'bundesregierung_NN...</td>\n",
              "    </tr>\n",
              "  </tbody>\n",
              "</table>\n",
              "</div>\n",
              "      <button class=\"colab-df-convert\" onclick=\"convertToInteractive('df-c1e8b1fa-9092-4b37-9b77-d3d6d0c08c2a')\"\n",
              "              title=\"Convert this dataframe to an interactive table.\"\n",
              "              style=\"display:none;\">\n",
              "        \n",
              "  <svg xmlns=\"http://www.w3.org/2000/svg\" height=\"24px\"viewBox=\"0 0 24 24\"\n",
              "       width=\"24px\">\n",
              "    <path d=\"M0 0h24v24H0V0z\" fill=\"none\"/>\n",
              "    <path d=\"M18.56 5.44l.94 2.06.94-2.06 2.06-.94-2.06-.94-.94-2.06-.94 2.06-2.06.94zm-11 1L8.5 8.5l.94-2.06 2.06-.94-2.06-.94L8.5 2.5l-.94 2.06-2.06.94zm10 10l.94 2.06.94-2.06 2.06-.94-2.06-.94-.94-2.06-.94 2.06-2.06.94z\"/><path d=\"M17.41 7.96l-1.37-1.37c-.4-.4-.92-.59-1.43-.59-.52 0-1.04.2-1.43.59L10.3 9.45l-7.72 7.72c-.78.78-.78 2.05 0 2.83L4 21.41c.39.39.9.59 1.41.59.51 0 1.02-.2 1.41-.59l7.78-7.78 2.81-2.81c.8-.78.8-2.07 0-2.86zM5.41 20L4 18.59l7.72-7.72 1.47 1.35L5.41 20z\"/>\n",
              "  </svg>\n",
              "      </button>\n",
              "      \n",
              "  <style>\n",
              "    .colab-df-container {\n",
              "      display:flex;\n",
              "      flex-wrap:wrap;\n",
              "      gap: 12px;\n",
              "    }\n",
              "\n",
              "    .colab-df-convert {\n",
              "      background-color: #E8F0FE;\n",
              "      border: none;\n",
              "      border-radius: 50%;\n",
              "      cursor: pointer;\n",
              "      display: none;\n",
              "      fill: #1967D2;\n",
              "      height: 32px;\n",
              "      padding: 0 0 0 0;\n",
              "      width: 32px;\n",
              "    }\n",
              "\n",
              "    .colab-df-convert:hover {\n",
              "      background-color: #E2EBFA;\n",
              "      box-shadow: 0px 1px 2px rgba(60, 64, 67, 0.3), 0px 1px 3px 1px rgba(60, 64, 67, 0.15);\n",
              "      fill: #174EA6;\n",
              "    }\n",
              "\n",
              "    [theme=dark] .colab-df-convert {\n",
              "      background-color: #3B4455;\n",
              "      fill: #D2E3FC;\n",
              "    }\n",
              "\n",
              "    [theme=dark] .colab-df-convert:hover {\n",
              "      background-color: #434B5C;\n",
              "      box-shadow: 0px 1px 3px 1px rgba(0, 0, 0, 0.15);\n",
              "      filter: drop-shadow(0px 1px 2px rgba(0, 0, 0, 0.3));\n",
              "      fill: #FFFFFF;\n",
              "    }\n",
              "  </style>\n",
              "\n",
              "      <script>\n",
              "        const buttonEl =\n",
              "          document.querySelector('#df-c1e8b1fa-9092-4b37-9b77-d3d6d0c08c2a button.colab-df-convert');\n",
              "        buttonEl.style.display =\n",
              "          google.colab.kernel.accessAllowed ? 'block' : 'none';\n",
              "\n",
              "        async function convertToInteractive(key) {\n",
              "          const element = document.querySelector('#df-c1e8b1fa-9092-4b37-9b77-d3d6d0c08c2a');\n",
              "          const dataTable =\n",
              "            await google.colab.kernel.invokeFunction('convertToInteractive',\n",
              "                                                     [key], {});\n",
              "          if (!dataTable) return;\n",
              "\n",
              "          const docLinkHtml = 'Like what you see? Visit the ' +\n",
              "            '<a target=\"_blank\" href=https://colab.research.google.com/notebooks/data_table.ipynb>data table notebook</a>'\n",
              "            + ' to learn more about interactive tables.';\n",
              "          element.innerHTML = '';\n",
              "          dataTable['output_type'] = 'display_data';\n",
              "          await google.colab.output.renderOutput(dataTable, element);\n",
              "          const docLink = document.createElement('div');\n",
              "          docLink.innerHTML = docLinkHtml;\n",
              "          element.appendChild(docLink);\n",
              "        }\n",
              "      </script>\n",
              "    </div>\n",
              "  </div>\n",
              "  "
            ]
          },
          "metadata": {},
          "execution_count": 18
        }
      ]
    },
    {
      "cell_type": "code",
      "execution_count": null,
      "metadata": {
        "colab": {
          "base_uri": "https://localhost:8080/"
        },
        "id": "t9-vpBcALJ9S",
        "outputId": "fbec1ee4-176e-4fc6-d269-c8b71d0328a5"
      },
      "outputs": [
        {
          "output_type": "stream",
          "name": "stdout",
          "text": [
            "MmCorpus(61 documents, 3081 features, 5182 non-zero entries)\n",
            "MmCorpus(61 documents, 55 features, 2494 non-zero entries)\n"
          ]
        }
      ],
      "source": [
        "import gensim\n",
        "\n",
        "tfidf_corpus = gensim.corpora.MmCorpus(outputFolder+'tfidf_model_mm')\n",
        "lsi_corpus = gensim.corpora.MmCorpus(outputFolder+'lsi_model_mm')\n",
        "\n",
        "print(tfidf_corpus)\n",
        "print(lsi_corpus)"
      ]
    },
    {
      "cell_type": "code",
      "source": [
        "from gensim.similarities import MatrixSimilarity\n",
        "\n",
        "search_index = MatrixSimilarity(lsi_corpus, num_features = lsi_corpus.num_terms)"
      ],
      "metadata": {
        "id": "80cs-XBSLaL9"
      },
      "execution_count": null,
      "outputs": []
    },
    {
      "cell_type": "code",
      "source": [
        "from operator import itemgetter\n",
        "\n",
        "def search_similar_text(search_term):\n",
        "\n",
        "    query_bow = dictionary.doc2bow(nltk.word_tokenize(search_term))\n",
        "    query_tfidf = tfidf_model[query_bow]\n",
        "    query_lsi = lsi_model[query_tfidf]\n",
        "\n",
        "    search_index.num_best = 5\n",
        "\n",
        "    search_list = search_index[query_lsi]\n",
        "\n",
        "    search_list.sort(key=itemgetter(1), reverse=True)\n",
        "    search_names = []\n",
        "\n",
        "    for j, searchResult in enumerate(search_list):\n",
        "      relavenceFactor =round((searchResult[1] * 100),2)\n",
        "      if relavenceFactor > 2:\n",
        "          search_names.append (\n",
        "              {\n",
        "                  'Relevance': round((searchResult[1] * 100),2),\n",
        "                  'Url': urlDetails['Url'][searchResult[0]],\n",
        "                  'Text': urlDetails['TextInfo'][searchResult[0]]\n",
        "              }\n",
        "\n",
        "          )\n",
        "          if j == (search_index.num_best-1):\n",
        "              break\n",
        "\n",
        "    return pd.DataFrame(search_names, columns=['Relevance','Url','Text'])"
      ],
      "metadata": {
        "id": "iEbo8sTtLbs2"
      },
      "execution_count": null,
      "outputs": []
    },
    {
      "cell_type": "code",
      "source": [
        "df = search_similar_text('Bildungsnotstand konfrontiert')\n",
        "df.head()"
      ],
      "metadata": {
        "colab": {
          "base_uri": "https://localhost:8080/",
          "height": 304
        },
        "id": "FOEKjdeJLemO",
        "outputId": "692946c9-dcdd-4ccf-83dc-37f1bd51dc74"
      },
      "execution_count": null,
      "outputs": [
        {
          "output_type": "error",
          "ename": "NameError",
          "evalue": "ignored",
          "traceback": [
            "\u001b[0;31m---------------------------------------------------------------------------\u001b[0m",
            "\u001b[0;31mNameError\u001b[0m                                 Traceback (most recent call last)",
            "\u001b[0;32m<ipython-input-22-773ef43be141>\u001b[0m in \u001b[0;36m<module>\u001b[0;34m()\u001b[0m\n\u001b[0;32m----> 1\u001b[0;31m \u001b[0mdf\u001b[0m \u001b[0;34m=\u001b[0m \u001b[0msearch_similar_text\u001b[0m\u001b[0;34m(\u001b[0m\u001b[0;34m'Bildungsnotstand konfrontiert'\u001b[0m\u001b[0;34m)\u001b[0m\u001b[0;34m\u001b[0m\u001b[0;34m\u001b[0m\u001b[0m\n\u001b[0m\u001b[1;32m      2\u001b[0m \u001b[0mdf\u001b[0m\u001b[0;34m.\u001b[0m\u001b[0mhead\u001b[0m\u001b[0;34m(\u001b[0m\u001b[0;34m)\u001b[0m\u001b[0;34m\u001b[0m\u001b[0;34m\u001b[0m\u001b[0m\n",
            "\u001b[0;32m<ipython-input-21-240f4477857d>\u001b[0m in \u001b[0;36msearch_similar_text\u001b[0;34m(search_term)\u001b[0m\n\u001b[1;32m      3\u001b[0m \u001b[0;32mdef\u001b[0m \u001b[0msearch_similar_text\u001b[0m\u001b[0;34m(\u001b[0m\u001b[0msearch_term\u001b[0m\u001b[0;34m)\u001b[0m\u001b[0;34m:\u001b[0m\u001b[0;34m\u001b[0m\u001b[0;34m\u001b[0m\u001b[0m\n\u001b[1;32m      4\u001b[0m \u001b[0;34m\u001b[0m\u001b[0m\n\u001b[0;32m----> 5\u001b[0;31m     \u001b[0mquery_bow\u001b[0m \u001b[0;34m=\u001b[0m \u001b[0mdictionary\u001b[0m\u001b[0;34m.\u001b[0m\u001b[0mdoc2bow\u001b[0m\u001b[0;34m(\u001b[0m\u001b[0mnltk\u001b[0m\u001b[0;34m.\u001b[0m\u001b[0mword_tokenize\u001b[0m\u001b[0;34m(\u001b[0m\u001b[0msearch_term\u001b[0m\u001b[0;34m)\u001b[0m\u001b[0;34m)\u001b[0m\u001b[0;34m\u001b[0m\u001b[0;34m\u001b[0m\u001b[0m\n\u001b[0m\u001b[1;32m      6\u001b[0m     \u001b[0mquery_tfidf\u001b[0m \u001b[0;34m=\u001b[0m \u001b[0mtfidf_model\u001b[0m\u001b[0;34m[\u001b[0m\u001b[0mquery_bow\u001b[0m\u001b[0;34m]\u001b[0m\u001b[0;34m\u001b[0m\u001b[0;34m\u001b[0m\u001b[0m\n\u001b[1;32m      7\u001b[0m     \u001b[0mquery_lsi\u001b[0m \u001b[0;34m=\u001b[0m \u001b[0mlsi_model\u001b[0m\u001b[0;34m[\u001b[0m\u001b[0mquery_tfidf\u001b[0m\u001b[0;34m]\u001b[0m\u001b[0;34m\u001b[0m\u001b[0;34m\u001b[0m\u001b[0m\n",
            "\u001b[0;31mNameError\u001b[0m: name 'dictionary' is not defined"
          ]
        }
      ]
    },
    {
      "cell_type": "code",
      "source": [
        "from translate import Translator\n",
        "\n",
        "\n",
        "def translateTextToEnglish(text2Trans):\n",
        "  translator= Translator(from_lang=\"de\", to_lang=\"en\")\n",
        "  translation = translator.translate(text2Trans).replace(\"&#39;\",\"'\")\n",
        "  return translation\n",
        "\n",
        "\n",
        "def translateTextToGerman(text2Trans):\n",
        "  translator= Translator(from_lang=\"en\", to_lang=\"de\")\n",
        "  translation = translator.translate(text2Trans).replace(\"&#39;\",\"'\")\n",
        "  return translation\n",
        "    "
      ],
      "metadata": {
        "id": "WivjIH7ylm9Q"
      },
      "execution_count": null,
      "outputs": []
    },
    {
      "cell_type": "code",
      "source": [
        "urlDetails.tokenizedScentence[10]\n"
      ],
      "metadata": {
        "id": "eMDWpaRalphf"
      },
      "execution_count": null,
      "outputs": []
    },
    {
      "cell_type": "code",
      "source": [
        "translateText(urlDetails.tokenizedScentence[10])\n"
      ],
      "metadata": {
        "id": "_aU1Hnknlp5P"
      },
      "execution_count": null,
      "outputs": []
    },
    {
      "cell_type": "code",
      "source": [
        "translateTextToEnglish('Bildungsnotstand konfrontiert')"
      ],
      "metadata": {
        "id": "_26lQzJzlrDA"
      },
      "execution_count": null,
      "outputs": []
    },
    {
      "cell_type": "code",
      "source": [
        "for scentence in nltk.sent_tokenize(df.Text[0]):\n",
        "  print(translateTextToEnglish(scentence))\n"
      ],
      "metadata": {
        "id": "bpU3HLgRltWg"
      },
      "execution_count": null,
      "outputs": []
    }
  ]
}