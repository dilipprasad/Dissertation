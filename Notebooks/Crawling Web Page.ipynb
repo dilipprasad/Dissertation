{
  "nbformat": 4,
  "nbformat_minor": 0,
  "metadata": {
    "colab": {
      "name": "Dissertation-BITS PILANI.ipynb",
      "provenance": [],
      "collapsed_sections": [],
      "authorship_tag": "ABX9TyPiA4UrTfR1gyJ9NAawpjJg",
      "include_colab_link": true
    },
    "kernelspec": {
      "name": "python3",
      "display_name": "Python 3"
    },
    "language_info": {
      "name": "python"
    }
  },
  "cells": [
    {
      "cell_type": "markdown",
      "metadata": {
        "id": "view-in-github",
        "colab_type": "text"
      },
      "source": [
        "<a href=\"https://colab.research.google.com/github/dilipprasad/Dissertation/blob/main/Crawling%20Web%20Page.ipynb\" target=\"_parent\"><img src=\"https://colab.research.google.com/assets/colab-badge.svg\" alt=\"Open In Colab\"/></a>"
      ]
    },
    {
      "cell_type": "markdown",
      "source": [
        "**BITS PILANI - DISSERTATION - DILIP PRASAD - ML BASED SOLICITATION IN FEDERAL TRANSCRIPTS**"
      ],
      "metadata": {
        "id": "IptUs657qgvZ"
      }
    },
    {
      "cell_type": "markdown",
      "source": [
        "Dissertation project for final year\n",
        "\n",
        "\n",
        "---\n",
        "\n"
      ],
      "metadata": {
        "id": "yzf52m3bXEnE"
      }
    },
    {
      "cell_type": "markdown",
      "source": [
        "Install all the  Packages used in the project if missing"
      ],
      "metadata": {
        "id": "y6Ef2pqTXKBS"
      }
    },
    {
      "cell_type": "code",
      "source": [
        ""
      ],
      "metadata": {
        "id": "hiCPTOD-YS7Z"
      },
      "execution_count": null,
      "outputs": []
    },
    {
      "cell_type": "code",
      "source": [
        "#Dynamically find if package is missing and install else skip installation\n",
        "\n",
        "import sys\n",
        "import subprocess\n",
        "import pkg_resources\n",
        "\n",
        "required = {'validators'} #List all Requred packages used in the application\n",
        "installed = {pkg.key for pkg in pkg_resources.working_set}\n",
        "missing = required - installed\n",
        "\n",
        "if missing:\n",
        "    python = sys.executable\n",
        "    subprocess.check_call([python, '-m', 'pip', 'install', *missing], stdout=subprocess.DEVNULL)"
      ],
      "metadata": {
        "id": "5gzsMcj3W4s0"
      },
      "execution_count": null,
      "outputs": []
    },
    {
      "cell_type": "markdown",
      "source": [
        "**Setup to read the web pages and parse them for NLP Operations**"
      ],
      "metadata": {
        "id": "Z-Vt-QjFqkVB"
      }
    },
    {
      "cell_type": "markdown",
      "source": [
        "Enter the Root Url -allow the url to be crawled to find other url and finally get all the contents from all links"
      ],
      "metadata": {
        "id": "jIrH-fCOtmF7"
      }
    },
    {
      "cell_type": "code",
      "source": [
        "#Get the Main Link\n",
        "url = \"https://www.bundesarchiv.de//cocoon/barch/0000/k/index.html\"\n"
      ],
      "metadata": {
        "id": "lr90vHZUDo3d"
      },
      "execution_count": null,
      "outputs": []
    },
    {
      "cell_type": "markdown",
      "source": [
        "\n",
        "Capture all text in an Dictionary - Key,Value Pairs <br/>\n",
        "**Key** = Url of the Page <br/>\n",
        "**Value** = Text captured <br/>\n",
        "\n",
        "---\n",
        "\n"
      ],
      "metadata": {
        "id": "Mqq2pTyTXyGo"
      }
    },
    {
      "cell_type": "code",
      "source": [
        "webTexts = {}\n",
        "print(type(webTexts))"
      ],
      "metadata": {
        "colab": {
          "base_uri": "https://localhost:8080/"
        },
        "id": "hUh7XhwAXq4y",
        "outputId": "20ddb1b5-a15b-4b66-8dc9-5ab921e0952f"
      },
      "execution_count": null,
      "outputs": [
        {
          "output_type": "stream",
          "name": "stdout",
          "text": [
            "<class 'dict'>\n"
          ]
        }
      ]
    },
    {
      "cell_type": "markdown",
      "source": [
        "Below function takes a url converts into a Soap object and returns for further processing. Such as taking the url from href object\n"
      ],
      "metadata": {
        "id": "Bv7gou76Uenj"
      }
    },
    {
      "cell_type": "code",
      "source": [
        "#Fetch the data from web pages via Beautiful soup\n",
        "\n",
        "from bs4 import BeautifulSoup\n",
        "from urllib.request import urlopen\n",
        "\n",
        "def getSoupObj(url):\n",
        "  page = urlopen(url)\n",
        "  html = page.read().decode(\"utf-8\")\n",
        "  #Use Beautiful Soup to process the data\n",
        "  soup = BeautifulSoup(html, \"html.parser\")\n",
        "  # pagetext =soup.get_text()\n",
        "  return soup\n"
      ],
      "metadata": {
        "id": "twlF1S5Rqt0D"
      },
      "execution_count": null,
      "outputs": []
    },
    {
      "cell_type": "code",
      "source": [
        "#Testing\n",
        "a = getSoupObj(url)\n",
        "b = a.findAll('a')\n",
        "print(len(b))\n",
        "\n",
        "for link in a.findAll('a'):\n",
        "  if link.get('href') != None:\n",
        "    print(link.get('href'))\n"
      ],
      "metadata": {
        "id": "tkLjKkdDq28m",
        "colab": {
          "base_uri": "https://localhost:8080/"
        },
        "outputId": "c5552a14-df32-44b4-ac1f-03a33478bb80"
      },
      "execution_count": null,
      "outputs": [
        {
          "output_type": "stream",
          "name": "stdout",
          "text": [
            "107\n",
            "#Start\n",
            "#Funktionsunterscheidung\n",
            "#Navigationsmenu\n",
            "#Navigationsbaum\n",
            "http://www.bundesarchiv.de\n",
            "#Servicelinks\n",
            "#Bandbilder\n",
            "#Funktionsunterscheidung\n",
            "#Navigationsbaum\n",
            "#breadcrumbTrail\n",
            "#Navigationsmenu\n",
            "#Layoutmenu\n",
            "../index.html\n",
            "../hilfe/benutzungshinweise.html\n",
            "../hilfe/faq.html\n",
            "../hilfe/impressum.html\n",
            "http://www.bundesarchiv.de/bestaende_findmittel/bestaendeuebersicht/index_frameset.html\n",
            "http://www.bundesarchiv.de/bestaende_findmittel/editionen/kabprot/index.html\n",
            "../k/bild1/index.html\n",
            "../k/bild2/index.html\n",
            "../k/bild3/index.html\n",
            "../k/bild4/index.html\n",
            "../k/bild5/index.html\n",
            "../TextSucheKaPr.html\n",
            "../hilfe/allgemein.html\n",
            "#Start\n",
            "../k/k1949k/index.html\n",
            "../k/k1950k/index.html\n",
            "../k/k1951k/index.html\n",
            "../k/k1952k/index.html\n",
            "../k/k1953k/index.html\n",
            "../k/k1954k/index.html\n",
            "../k/k1955k/index.html\n",
            "../k/k1956k/index.html\n",
            "../k/k1957k/index.html\n",
            "../k/k1958k/index.html\n",
            "../k/k1959k/index.html\n",
            "../k/k1960k/index.html\n",
            "../k/k1961k/index.html\n",
            "../k/k1962k/index.html\n",
            "../k/k1963k/index.html\n",
            "../k/k1964k/index.html\n",
            "../k/k1965k/index.html\n",
            "../k/k1966k/index.html\n",
            "../k/k1967k/index.html\n",
            "../k/k1968k/index.html\n",
            "../k/k1969k/index.html\n",
            "../k/k1970k/index.html\n",
            "../k/k1971k/index.html\n",
            "../k/k1972k/index.html\n",
            "../k/k1973k/index.html\n",
            "../k/k1974k/index.html\n",
            "../k/k1975k/index.html\n",
            "../k/k1976k/index.html\n",
            "../k/k1977k/index.html\n",
            "../k/k1978k/index.html\n",
            "../k/k1979k/index.html\n",
            "../k/k1980k/index.html\n",
            "../k/k1981k/index.html\n",
            "../k/k1982k/index.html\n",
            "../k/k1983k/index.html\n",
            "../k/k1984k/index.html\n",
            "../k/k1985k/index.html\n",
            "../k/k1986k/index.html\n",
            "../k/k1987k/index.html\n",
            "../k/k1988k/index.html\n",
            "../k/k1989k/index.html\n",
            "../k/k1990k/index.html\n",
            "../k/k1991k/index.html\n",
            "../x/index.html\n",
            "../z/index.html\n",
            "../netzeditionsgrundsaetze.html\n",
            "../geschaeftsordnung.html\n",
            "../index.html\n",
            "#Start\n",
            "../index.html\n",
            "../hilfe/impressum.html\n",
            "../index.html\n",
            "../sitemap.html\n",
            "#menuCurrentLink\n",
            "../k/k1949k/index.html\n",
            "../x/index.html\n",
            "#bottom\n",
            "../../1000/k/index.html\n",
            "../../0001/k/index.html\n",
            "../index.html\n",
            "../hilfe/impressum.html\n",
            "../index.html\n",
            "../sitemap.html\n",
            "#menuCurrentLink\n",
            "../k/k1949k/index.html\n",
            "../x/index.html\n",
            "#goTop\n",
            "../../1000/k/index.html\n",
            "../../0001/k/index.html\n"
          ]
        }
      ]
    },
    {
      "cell_type": "markdown",
      "source": [
        "Get the Joined correct url for the given sub url, by deauflt the base url is the Starting page to crawl - which could be overridden if required. <br/>\n",
        "\n",
        "JoinUrl()  - Joins Sub url with parent url <br/>\n",
        "IsAbolsuteUrl()  - Returns False in case of  Sub url  <br/>"
      ],
      "metadata": {
        "id": "-7aEJLxzeqRt"
      }
    },
    {
      "cell_type": "code",
      "source": [
        "from urllib.parse import urljoin\n",
        "from urllib.parse import urlparse\n",
        "\n",
        "\n",
        "def JoinUrl(subUrl, baseUrl = url):\n",
        "  print(\"BaseURL\",baseUrl)\n",
        "  print(\"SubUrl\",subUrl)\n",
        "  return urljoin(baseUrl,subUrl)\n",
        "\n",
        "\n",
        "\n",
        "def IsAbsoluteUrl(url):\n",
        "    return bool(urlparse(url).netloc)\n",
        "\n",
        "\n",
        "#Testing Scenario 1\n",
        "subUrl = \"../k/k1983k/index.html\"\n",
        "baseUrl = \"https://www.bundesarchiv.de//cocoon/barch/0000/k/index.html\"\n",
        "print(\"IsAbsoluteUrl\",IsAbsoluteUrl(subUrl))\n",
        "print(\"Joined Url\",JoinUrl(subUrl,baseUrl ))\n",
        "\n",
        "#Testing Scenario 2\n",
        "subUrl = \"../k/k1983k/index.html\"\n",
        "baseUrl = \"https://www.bundesarchiv.de/\"\n",
        "print(\"IsAbsoluteUrl\",IsAbsoluteUrl(subUrl))\n",
        "print(\"Joined Url\",JoinUrl(subUrl,baseUrl ))\n",
        "\n",
        "\n",
        "print(\"IsAbsoluteUrl\",IsAbsoluteUrl(\"https://www.google.com\"))\n",
        "print(\"IsAbsoluteUrl\",IsAbsoluteUrl(\"www.google.com\"))\n",
        "print(\"IsAbsoluteUrl\",IsAbsoluteUrl(\"https://google.com\"))"
      ],
      "metadata": {
        "colab": {
          "base_uri": "https://localhost:8080/"
        },
        "id": "7sinAUbMcU1i",
        "outputId": "593f9af4-02ed-4c35-e19e-e26eee568380"
      },
      "execution_count": null,
      "outputs": [
        {
          "output_type": "stream",
          "name": "stdout",
          "text": [
            "IsAbsoluteUrl False\n",
            "BaseURL https://www.bundesarchiv.de//cocoon/barch/0000/k/index.html\n",
            "SubUrl ../k/k1983k/index.html\n",
            "Joined Url https://www.bundesarchiv.de/cocoon/barch/0000/k/k1983k/index.html\n",
            "IsAbsoluteUrl False\n",
            "BaseURL https://www.bundesarchiv.de/\n",
            "SubUrl ../k/k1983k/index.html\n",
            "Joined Url https://www.bundesarchiv.de/k/k1983k/index.html\n",
            "IsAbsoluteUrl True\n",
            "IsAbsoluteUrl False\n",
            "IsAbsoluteUrl True\n"
          ]
        }
      ]
    },
    {
      "cell_type": "markdown",
      "source": [
        "**Function which returns if it is a valid url using Regex**\n",
        "\n",
        "Source code from \n",
        "[Stack overflow](https://stackoverflow.com/questions/7160737/how-to-validate-a-url-in-python-malformed-or-not)"
      ],
      "metadata": {
        "id": "klLXcIYJUyMj"
      }
    },
    {
      "cell_type": "code",
      "source": [
        "#Create regex\n",
        "import re\n",
        "\n",
        "regex = re.compile(\n",
        "    r\"(\\w+://)?\"                # protocol                      (optional)\n",
        "    r\"(\\w+\\.)?\"                 # host                          (optional)\n",
        "    r\"((\\w+)\\.(\\w+))\"           # domain\n",
        "    r\"(\\.\\w+)*\"                 # top-level domain              (optional, can have > 1)\n",
        "    r\"([\\w\\-\\._\\~/]*)*(?<!\\.)\"  # path, params, anchors, etc.   (optional)\n",
        ")\n",
        "\n",
        "def IsValidUrl_Regex(url):\n",
        "  try: \n",
        "    return regex.match(url).span()[1] - regex.match(url).span()[0] == len(url)\n",
        "  except:\n",
        "    return False\n",
        "\n",
        "cases = [\n",
        "    \"http://www.google.com\",\n",
        "    \"https://www.google.com\",\n",
        "    \"http://google.com\",\n",
        "    \"https://google.com\",\n",
        "    \"www.google.com\",\n",
        "    \"google.com\",\n",
        "    \"http://www.google.com/~as_db3.2123/134-1a\",\n",
        "    \"https://www.google.com/~as_db3.2123/134-1a\",\n",
        "    \"http://google.com/~as_db3.2123/134-1a\",\n",
        "    \"https://google.com/~as_db3.2123/134-1a\",\n",
        "    \"www.google.com/~as_db3.2123/134-1a\",\n",
        "    \"google.com/~as_db3.2123/134-1a\",\n",
        "    # .co.uk top level\n",
        "    \"http://www.google.co.uk\",\n",
        "    \"https://www.google.co.uk\",\n",
        "    \"http://google.co.uk\",\n",
        "    \"https://google.co.uk\",\n",
        "    \"www.google.co.uk\",\n",
        "    \"google.co.uk\",\n",
        "    \"http://www.google.co.uk/~as_db3.2123/134-1a\",\n",
        "    \"https://www.google.co.uk/~as_db3.2123/134-1a\",\n",
        "    \"http://google.co.uk/~as_db3.2123/134-1a\",\n",
        "    \"https://google.co.uk/~as_db3.2123/134-1a\",\n",
        "    \"www.google.co.uk/~as_db3.2123/134-1a\",\n",
        "    \"google.co.uk/~as_db3.2123/134-1a\",\n",
        "    \"https://...\",\n",
        "    \"https://..\",\n",
        "    \"https://.\",\n",
        "    \"https://.google.com\",\n",
        "    \"https://..google.com\",\n",
        "    \"https://...google.com\",\n",
        "    \"https://.google..com\",\n",
        "    \"https://.google...com\"\n",
        "    \"https://...google..com\",\n",
        "    \"https://...google...com\",\n",
        "    \".google.com\",\n",
        "    \".google.co.\"\n",
        "    \"https://google.co.\"\n",
        "]\n",
        "\n",
        "for c in cases:\n",
        "  print(c, IsValidUrl_Regex(c))"
      ],
      "metadata": {
        "colab": {
          "base_uri": "https://localhost:8080/"
        },
        "id": "M7G__bpzU2ED",
        "outputId": "87ccca3a-648c-49de-cba9-fd8061d902ee"
      },
      "execution_count": null,
      "outputs": [
        {
          "output_type": "stream",
          "name": "stdout",
          "text": [
            "http://www.google.com True\n",
            "https://www.google.com True\n",
            "http://google.com True\n",
            "https://google.com True\n",
            "www.google.com True\n",
            "google.com True\n",
            "http://www.google.com/~as_db3.2123/134-1a True\n",
            "https://www.google.com/~as_db3.2123/134-1a True\n",
            "http://google.com/~as_db3.2123/134-1a True\n",
            "https://google.com/~as_db3.2123/134-1a True\n",
            "www.google.com/~as_db3.2123/134-1a True\n",
            "google.com/~as_db3.2123/134-1a True\n",
            "http://www.google.co.uk True\n",
            "https://www.google.co.uk True\n",
            "http://google.co.uk True\n",
            "https://google.co.uk True\n",
            "www.google.co.uk True\n",
            "google.co.uk True\n",
            "http://www.google.co.uk/~as_db3.2123/134-1a True\n",
            "https://www.google.co.uk/~as_db3.2123/134-1a True\n",
            "http://google.co.uk/~as_db3.2123/134-1a True\n",
            "https://google.co.uk/~as_db3.2123/134-1a True\n",
            "www.google.co.uk/~as_db3.2123/134-1a True\n",
            "google.co.uk/~as_db3.2123/134-1a True\n",
            "https://... False\n",
            "https://.. False\n",
            "https://. False\n",
            "https://.google.com False\n",
            "https://..google.com False\n",
            "https://...google.com False\n",
            "https://.google..com False\n",
            "https://.google...comhttps://...google..com False\n",
            "https://...google...com False\n",
            ".google.com False\n",
            ".google.co.https://google.co. False\n"
          ]
        }
      ]
    },
    {
      "cell_type": "markdown",
      "source": [
        "Recursive function to crawl and find all the valid Urls, for further processing"
      ],
      "metadata": {
        "id": "T4AVWIeIYn2X"
      }
    },
    {
      "cell_type": "code",
      "source": [
        "#Crawl and find all links for a given Parent Link- Crawls and finds all child links in recursive loop\n",
        "\n",
        "#links = []\n",
        "links = {url} #use sets instead of list to avoid duplicates, adding default root url so that python considers as a Set\n",
        "def crawlLinks(url):\n",
        "  soup = getSoupObj(url)\n",
        "  for link in soup.findAll('a'):\n",
        "    nextLink=link.get('href')\n",
        "    linkToAdd= ''\n",
        "    if nextLink != None and IsAbsoluteUrl(nextLink) == False and nextLink[0:1] != \"#\":    \n",
        "      linkToAdd = nextLink\n",
        "      if IsAbsoluteUrl(nextLink) == False: #If sublink\n",
        "        linkToAdd = JoinUrl(nextLink) #Join with base url and get full path \n",
        "      else:\n",
        "        linkToAdd = nextLink\n",
        "        \n",
        "    elif IsValidUrl_Regex(nextLink) and nextLink != None: #Only if the link is valid\n",
        "      linkToAdd = nextLink\n",
        "    else: \n",
        "      #print(ctr, \"Not valid based on regex\",nextLink) - Dont do anything, Ignore invalid Urls\n",
        "\n",
        "      links.add(crawlLinks(nextLink))\n",
        "        \n"
      ],
      "metadata": {
        "id": "aWD6BdANHyjr"
      },
      "execution_count": null,
      "outputs": []
    },
    {
      "cell_type": "code",
      "source": [
        "#Test Crawl Links Function\n",
        "crawlLinks(url)"
      ],
      "metadata": {
        "colab": {
          "base_uri": "https://localhost:8080/",
          "height": 328
        },
        "id": "8NaxjGXcotEV",
        "outputId": "7147f0c6-883e-4750-965e-5f8c6240187a"
      },
      "execution_count": null,
      "outputs": [
        {
          "output_type": "error",
          "ename": "AttributeError",
          "evalue": "ignored",
          "traceback": [
            "\u001b[0;31m---------------------------------------------------------------------------\u001b[0m",
            "\u001b[0;31mAttributeError\u001b[0m                            Traceback (most recent call last)",
            "\u001b[0;32m<ipython-input-88-10c8e68f6e5a>\u001b[0m in \u001b[0;36m<module>\u001b[0;34m()\u001b[0m\n\u001b[1;32m      1\u001b[0m \u001b[0;31m#Test Crawl Links Function\u001b[0m\u001b[0;34m\u001b[0m\u001b[0;34m\u001b[0m\u001b[0;34m\u001b[0m\u001b[0m\n\u001b[0;32m----> 2\u001b[0;31m \u001b[0mcrawlLinks\u001b[0m\u001b[0;34m(\u001b[0m\u001b[0murl\u001b[0m\u001b[0;34m)\u001b[0m\u001b[0;34m\u001b[0m\u001b[0;34m\u001b[0m\u001b[0m\n\u001b[0m",
            "\u001b[0;32m<ipython-input-85-538c74103e7b>\u001b[0m in \u001b[0;36mcrawlLinks\u001b[0;34m(url)\u001b[0m\n\u001b[1;32m     20\u001b[0m       \u001b[0;31m#print(ctr, \"Not valid based on regex\",nextLink) - Dont do anything, Ignore invalid Urls\u001b[0m\u001b[0;34m\u001b[0m\u001b[0;34m\u001b[0m\u001b[0;34m\u001b[0m\u001b[0m\n\u001b[1;32m     21\u001b[0m \u001b[0;34m\u001b[0m\u001b[0m\n\u001b[0;32m---> 22\u001b[0;31m       \u001b[0mlinks\u001b[0m\u001b[0;34m.\u001b[0m\u001b[0madd\u001b[0m\u001b[0;34m(\u001b[0m\u001b[0mcrawlLinks\u001b[0m\u001b[0;34m(\u001b[0m\u001b[0mnextLink\u001b[0m\u001b[0;34m)\u001b[0m\u001b[0;34m)\u001b[0m\u001b[0;34m\u001b[0m\u001b[0;34m\u001b[0m\u001b[0m\n\u001b[0m\u001b[1;32m     23\u001b[0m \u001b[0;34m\u001b[0m\u001b[0m\n",
            "\u001b[0;32m<ipython-input-85-538c74103e7b>\u001b[0m in \u001b[0;36mcrawlLinks\u001b[0;34m(url)\u001b[0m\n\u001b[1;32m      4\u001b[0m \u001b[0mlinks\u001b[0m \u001b[0;34m=\u001b[0m \u001b[0;34m{\u001b[0m\u001b[0murl\u001b[0m\u001b[0;34m}\u001b[0m \u001b[0;31m#use sets instead of list to avoid duplicates, adding default root url so that python considers as a Set\u001b[0m\u001b[0;34m\u001b[0m\u001b[0;34m\u001b[0m\u001b[0m\n\u001b[1;32m      5\u001b[0m \u001b[0;32mdef\u001b[0m \u001b[0mcrawlLinks\u001b[0m\u001b[0;34m(\u001b[0m\u001b[0murl\u001b[0m\u001b[0;34m)\u001b[0m\u001b[0;34m:\u001b[0m\u001b[0;34m\u001b[0m\u001b[0;34m\u001b[0m\u001b[0m\n\u001b[0;32m----> 6\u001b[0;31m   \u001b[0msoup\u001b[0m \u001b[0;34m=\u001b[0m \u001b[0mgetSoupObj\u001b[0m\u001b[0;34m(\u001b[0m\u001b[0murl\u001b[0m\u001b[0;34m)\u001b[0m\u001b[0;34m\u001b[0m\u001b[0;34m\u001b[0m\u001b[0m\n\u001b[0m\u001b[1;32m      7\u001b[0m   \u001b[0;32mfor\u001b[0m \u001b[0mlink\u001b[0m \u001b[0;32min\u001b[0m \u001b[0msoup\u001b[0m\u001b[0;34m.\u001b[0m\u001b[0mfindAll\u001b[0m\u001b[0;34m(\u001b[0m\u001b[0;34m'a'\u001b[0m\u001b[0;34m)\u001b[0m\u001b[0;34m:\u001b[0m\u001b[0;34m\u001b[0m\u001b[0;34m\u001b[0m\u001b[0m\n\u001b[1;32m      8\u001b[0m     \u001b[0mnextLink\u001b[0m\u001b[0;34m=\u001b[0m\u001b[0mlink\u001b[0m\u001b[0;34m.\u001b[0m\u001b[0mget\u001b[0m\u001b[0;34m(\u001b[0m\u001b[0;34m'href'\u001b[0m\u001b[0;34m)\u001b[0m\u001b[0;34m\u001b[0m\u001b[0;34m\u001b[0m\u001b[0m\n",
            "\u001b[0;32m<ipython-input-56-eb12cceea628>\u001b[0m in \u001b[0;36mgetSoupObj\u001b[0;34m(url)\u001b[0m\n\u001b[1;32m      5\u001b[0m \u001b[0;34m\u001b[0m\u001b[0m\n\u001b[1;32m      6\u001b[0m \u001b[0;32mdef\u001b[0m \u001b[0mgetSoupObj\u001b[0m\u001b[0;34m(\u001b[0m\u001b[0murl\u001b[0m\u001b[0;34m)\u001b[0m\u001b[0;34m:\u001b[0m\u001b[0;34m\u001b[0m\u001b[0;34m\u001b[0m\u001b[0m\n\u001b[0;32m----> 7\u001b[0;31m   \u001b[0mpage\u001b[0m \u001b[0;34m=\u001b[0m \u001b[0murlopen\u001b[0m\u001b[0;34m(\u001b[0m\u001b[0murl\u001b[0m\u001b[0;34m)\u001b[0m\u001b[0;34m\u001b[0m\u001b[0;34m\u001b[0m\u001b[0m\n\u001b[0m\u001b[1;32m      8\u001b[0m   \u001b[0mhtml\u001b[0m \u001b[0;34m=\u001b[0m \u001b[0mpage\u001b[0m\u001b[0;34m.\u001b[0m\u001b[0mread\u001b[0m\u001b[0;34m(\u001b[0m\u001b[0;34m)\u001b[0m\u001b[0;34m.\u001b[0m\u001b[0mdecode\u001b[0m\u001b[0;34m(\u001b[0m\u001b[0;34m\"utf-8\"\u001b[0m\u001b[0;34m)\u001b[0m\u001b[0;34m\u001b[0m\u001b[0;34m\u001b[0m\u001b[0m\n\u001b[1;32m      9\u001b[0m   \u001b[0;31m#Use Beautiful Soup to process the data\u001b[0m\u001b[0;34m\u001b[0m\u001b[0;34m\u001b[0m\u001b[0;34m\u001b[0m\u001b[0m\n",
            "\u001b[0;32m/usr/lib/python3.7/urllib/request.py\u001b[0m in \u001b[0;36murlopen\u001b[0;34m(url, data, timeout, cafile, capath, cadefault, context)\u001b[0m\n\u001b[1;32m    220\u001b[0m     \u001b[0;32melse\u001b[0m\u001b[0;34m:\u001b[0m\u001b[0;34m\u001b[0m\u001b[0;34m\u001b[0m\u001b[0m\n\u001b[1;32m    221\u001b[0m         \u001b[0mopener\u001b[0m \u001b[0;34m=\u001b[0m \u001b[0m_opener\u001b[0m\u001b[0;34m\u001b[0m\u001b[0;34m\u001b[0m\u001b[0m\n\u001b[0;32m--> 222\u001b[0;31m     \u001b[0;32mreturn\u001b[0m \u001b[0mopener\u001b[0m\u001b[0;34m.\u001b[0m\u001b[0mopen\u001b[0m\u001b[0;34m(\u001b[0m\u001b[0murl\u001b[0m\u001b[0;34m,\u001b[0m \u001b[0mdata\u001b[0m\u001b[0;34m,\u001b[0m \u001b[0mtimeout\u001b[0m\u001b[0;34m)\u001b[0m\u001b[0;34m\u001b[0m\u001b[0;34m\u001b[0m\u001b[0m\n\u001b[0m\u001b[1;32m    223\u001b[0m \u001b[0;34m\u001b[0m\u001b[0m\n\u001b[1;32m    224\u001b[0m \u001b[0;32mdef\u001b[0m \u001b[0minstall_opener\u001b[0m\u001b[0;34m(\u001b[0m\u001b[0mopener\u001b[0m\u001b[0;34m)\u001b[0m\u001b[0;34m:\u001b[0m\u001b[0;34m\u001b[0m\u001b[0;34m\u001b[0m\u001b[0m\n",
            "\u001b[0;32m/usr/lib/python3.7/urllib/request.py\u001b[0m in \u001b[0;36mopen\u001b[0;34m(self, fullurl, data, timeout)\u001b[0m\n\u001b[1;32m    514\u001b[0m                 \u001b[0mreq\u001b[0m\u001b[0;34m.\u001b[0m\u001b[0mdata\u001b[0m \u001b[0;34m=\u001b[0m \u001b[0mdata\u001b[0m\u001b[0;34m\u001b[0m\u001b[0;34m\u001b[0m\u001b[0m\n\u001b[1;32m    515\u001b[0m \u001b[0;34m\u001b[0m\u001b[0m\n\u001b[0;32m--> 516\u001b[0;31m         \u001b[0mreq\u001b[0m\u001b[0;34m.\u001b[0m\u001b[0mtimeout\u001b[0m \u001b[0;34m=\u001b[0m \u001b[0mtimeout\u001b[0m\u001b[0;34m\u001b[0m\u001b[0;34m\u001b[0m\u001b[0m\n\u001b[0m\u001b[1;32m    517\u001b[0m         \u001b[0mprotocol\u001b[0m \u001b[0;34m=\u001b[0m \u001b[0mreq\u001b[0m\u001b[0;34m.\u001b[0m\u001b[0mtype\u001b[0m\u001b[0;34m\u001b[0m\u001b[0;34m\u001b[0m\u001b[0m\n\u001b[1;32m    518\u001b[0m \u001b[0;34m\u001b[0m\u001b[0m\n",
            "\u001b[0;31mAttributeError\u001b[0m: 'NoneType' object has no attribute 'timeout'"
          ]
        }
      ]
    },
    {
      "cell_type": "code",
      "source": [
        "#Testing \n",
        "\n",
        "newLink= url\n",
        "ctr = 0\n",
        "#newLink= \"http://www.bundesarchiv.de/bestaende_findmittel/bestaendeuebersicht/index_frameset.html\" \n",
        "soup = getSoupObj(newLink)\n",
        "for link in soup.findAll('a'):\n",
        "  ctr+=1\n",
        "  nextLink=link.get('href')\n",
        "  # print(ctr, nextLink)\n",
        "  if nextLink != None and IsAbsoluteUrl(nextLink) == False and nextLink[0:1] != \"#\":    \n",
        "    parsedUrl = nextLink\n",
        "    if IsAbsoluteUrl(nextLink) == False: #If sublink\n",
        "      print(ctr, \"Its a Sub Url\",nextLink)\n",
        "      parsedUrl = JoinUrl(nextLink) #Join with base url and get full path\n",
        "    print(ctr, parsedUrl)    \n",
        "  elif IsValidUrl_Regex(nextLink) and nextLink != None: #Only if the link is valid\n",
        "    print(ctr, \"Valid Url\",nextLink)    \n",
        "  # else: \n",
        "    #print(ctr, \"Not valid based on regex\",nextLink)    "
      ],
      "metadata": {
        "colab": {
          "base_uri": "https://localhost:8080/"
        },
        "id": "w5JAFjh-kGK3",
        "outputId": "1ff7dec5-c0d2-4799-88c8-fe9839d2b382"
      },
      "execution_count": null,
      "outputs": [
        {
          "output_type": "stream",
          "name": "stdout",
          "text": [
            "6 Valid Url http://www.bundesarchiv.de\n",
            "15 Its a Sub Url ../index.html\n",
            "BaseURL https://www.bundesarchiv.de//cocoon/barch/0000/k/index.html\n",
            "SubUrl ../index.html\n",
            "15 https://www.bundesarchiv.de/cocoon/barch/0000/index.html\n",
            "16 Its a Sub Url ../hilfe/benutzungshinweise.html\n",
            "BaseURL https://www.bundesarchiv.de//cocoon/barch/0000/k/index.html\n",
            "SubUrl ../hilfe/benutzungshinweise.html\n",
            "16 https://www.bundesarchiv.de/cocoon/barch/0000/hilfe/benutzungshinweise.html\n",
            "17 Its a Sub Url ../hilfe/faq.html\n",
            "BaseURL https://www.bundesarchiv.de//cocoon/barch/0000/k/index.html\n",
            "SubUrl ../hilfe/faq.html\n",
            "17 https://www.bundesarchiv.de/cocoon/barch/0000/hilfe/faq.html\n",
            "18 Its a Sub Url ../hilfe/impressum.html\n",
            "BaseURL https://www.bundesarchiv.de//cocoon/barch/0000/k/index.html\n",
            "SubUrl ../hilfe/impressum.html\n",
            "18 https://www.bundesarchiv.de/cocoon/barch/0000/hilfe/impressum.html\n",
            "19 Valid Url http://www.bundesarchiv.de/bestaende_findmittel/bestaendeuebersicht/index_frameset.html\n",
            "20 Valid Url http://www.bundesarchiv.de/bestaende_findmittel/editionen/kabprot/index.html\n",
            "22 Its a Sub Url ../k/bild1/index.html\n",
            "BaseURL https://www.bundesarchiv.de//cocoon/barch/0000/k/index.html\n",
            "SubUrl ../k/bild1/index.html\n",
            "22 https://www.bundesarchiv.de/cocoon/barch/0000/k/bild1/index.html\n",
            "23 Its a Sub Url ../k/bild2/index.html\n",
            "BaseURL https://www.bundesarchiv.de//cocoon/barch/0000/k/index.html\n",
            "SubUrl ../k/bild2/index.html\n",
            "23 https://www.bundesarchiv.de/cocoon/barch/0000/k/bild2/index.html\n",
            "24 Its a Sub Url ../k/bild3/index.html\n",
            "BaseURL https://www.bundesarchiv.de//cocoon/barch/0000/k/index.html\n",
            "SubUrl ../k/bild3/index.html\n",
            "24 https://www.bundesarchiv.de/cocoon/barch/0000/k/bild3/index.html\n",
            "25 Its a Sub Url ../k/bild4/index.html\n",
            "BaseURL https://www.bundesarchiv.de//cocoon/barch/0000/k/index.html\n",
            "SubUrl ../k/bild4/index.html\n",
            "25 https://www.bundesarchiv.de/cocoon/barch/0000/k/bild4/index.html\n",
            "26 Its a Sub Url ../k/bild5/index.html\n",
            "BaseURL https://www.bundesarchiv.de//cocoon/barch/0000/k/index.html\n",
            "SubUrl ../k/bild5/index.html\n",
            "26 https://www.bundesarchiv.de/cocoon/barch/0000/k/bild5/index.html\n",
            "28 Its a Sub Url ../TextSucheKaPr.html\n",
            "BaseURL https://www.bundesarchiv.de//cocoon/barch/0000/k/index.html\n",
            "SubUrl ../TextSucheKaPr.html\n",
            "28 https://www.bundesarchiv.de/cocoon/barch/0000/TextSucheKaPr.html\n",
            "29 Its a Sub Url ../hilfe/allgemein.html\n",
            "BaseURL https://www.bundesarchiv.de//cocoon/barch/0000/k/index.html\n",
            "SubUrl ../hilfe/allgemein.html\n",
            "29 https://www.bundesarchiv.de/cocoon/barch/0000/hilfe/allgemein.html\n",
            "32 Its a Sub Url ../k/k1949k/index.html\n",
            "BaseURL https://www.bundesarchiv.de//cocoon/barch/0000/k/index.html\n",
            "SubUrl ../k/k1949k/index.html\n",
            "32 https://www.bundesarchiv.de/cocoon/barch/0000/k/k1949k/index.html\n",
            "33 Its a Sub Url ../k/k1950k/index.html\n",
            "BaseURL https://www.bundesarchiv.de//cocoon/barch/0000/k/index.html\n",
            "SubUrl ../k/k1950k/index.html\n",
            "33 https://www.bundesarchiv.de/cocoon/barch/0000/k/k1950k/index.html\n",
            "34 Its a Sub Url ../k/k1951k/index.html\n",
            "BaseURL https://www.bundesarchiv.de//cocoon/barch/0000/k/index.html\n",
            "SubUrl ../k/k1951k/index.html\n",
            "34 https://www.bundesarchiv.de/cocoon/barch/0000/k/k1951k/index.html\n",
            "35 Its a Sub Url ../k/k1952k/index.html\n",
            "BaseURL https://www.bundesarchiv.de//cocoon/barch/0000/k/index.html\n",
            "SubUrl ../k/k1952k/index.html\n",
            "35 https://www.bundesarchiv.de/cocoon/barch/0000/k/k1952k/index.html\n",
            "36 Its a Sub Url ../k/k1953k/index.html\n",
            "BaseURL https://www.bundesarchiv.de//cocoon/barch/0000/k/index.html\n",
            "SubUrl ../k/k1953k/index.html\n",
            "36 https://www.bundesarchiv.de/cocoon/barch/0000/k/k1953k/index.html\n",
            "37 Its a Sub Url ../k/k1954k/index.html\n",
            "BaseURL https://www.bundesarchiv.de//cocoon/barch/0000/k/index.html\n",
            "SubUrl ../k/k1954k/index.html\n",
            "37 https://www.bundesarchiv.de/cocoon/barch/0000/k/k1954k/index.html\n",
            "38 Its a Sub Url ../k/k1955k/index.html\n",
            "BaseURL https://www.bundesarchiv.de//cocoon/barch/0000/k/index.html\n",
            "SubUrl ../k/k1955k/index.html\n",
            "38 https://www.bundesarchiv.de/cocoon/barch/0000/k/k1955k/index.html\n",
            "39 Its a Sub Url ../k/k1956k/index.html\n",
            "BaseURL https://www.bundesarchiv.de//cocoon/barch/0000/k/index.html\n",
            "SubUrl ../k/k1956k/index.html\n",
            "39 https://www.bundesarchiv.de/cocoon/barch/0000/k/k1956k/index.html\n",
            "40 Its a Sub Url ../k/k1957k/index.html\n",
            "BaseURL https://www.bundesarchiv.de//cocoon/barch/0000/k/index.html\n",
            "SubUrl ../k/k1957k/index.html\n",
            "40 https://www.bundesarchiv.de/cocoon/barch/0000/k/k1957k/index.html\n",
            "41 Its a Sub Url ../k/k1958k/index.html\n",
            "BaseURL https://www.bundesarchiv.de//cocoon/barch/0000/k/index.html\n",
            "SubUrl ../k/k1958k/index.html\n",
            "41 https://www.bundesarchiv.de/cocoon/barch/0000/k/k1958k/index.html\n",
            "42 Its a Sub Url ../k/k1959k/index.html\n",
            "BaseURL https://www.bundesarchiv.de//cocoon/barch/0000/k/index.html\n",
            "SubUrl ../k/k1959k/index.html\n",
            "42 https://www.bundesarchiv.de/cocoon/barch/0000/k/k1959k/index.html\n",
            "43 Its a Sub Url ../k/k1960k/index.html\n",
            "BaseURL https://www.bundesarchiv.de//cocoon/barch/0000/k/index.html\n",
            "SubUrl ../k/k1960k/index.html\n",
            "43 https://www.bundesarchiv.de/cocoon/barch/0000/k/k1960k/index.html\n",
            "44 Its a Sub Url ../k/k1961k/index.html\n",
            "BaseURL https://www.bundesarchiv.de//cocoon/barch/0000/k/index.html\n",
            "SubUrl ../k/k1961k/index.html\n",
            "44 https://www.bundesarchiv.de/cocoon/barch/0000/k/k1961k/index.html\n",
            "45 Its a Sub Url ../k/k1962k/index.html\n",
            "BaseURL https://www.bundesarchiv.de//cocoon/barch/0000/k/index.html\n",
            "SubUrl ../k/k1962k/index.html\n",
            "45 https://www.bundesarchiv.de/cocoon/barch/0000/k/k1962k/index.html\n",
            "46 Its a Sub Url ../k/k1963k/index.html\n",
            "BaseURL https://www.bundesarchiv.de//cocoon/barch/0000/k/index.html\n",
            "SubUrl ../k/k1963k/index.html\n",
            "46 https://www.bundesarchiv.de/cocoon/barch/0000/k/k1963k/index.html\n",
            "47 Its a Sub Url ../k/k1964k/index.html\n",
            "BaseURL https://www.bundesarchiv.de//cocoon/barch/0000/k/index.html\n",
            "SubUrl ../k/k1964k/index.html\n",
            "47 https://www.bundesarchiv.de/cocoon/barch/0000/k/k1964k/index.html\n",
            "48 Its a Sub Url ../k/k1965k/index.html\n",
            "BaseURL https://www.bundesarchiv.de//cocoon/barch/0000/k/index.html\n",
            "SubUrl ../k/k1965k/index.html\n",
            "48 https://www.bundesarchiv.de/cocoon/barch/0000/k/k1965k/index.html\n",
            "49 Its a Sub Url ../k/k1966k/index.html\n",
            "BaseURL https://www.bundesarchiv.de//cocoon/barch/0000/k/index.html\n",
            "SubUrl ../k/k1966k/index.html\n",
            "49 https://www.bundesarchiv.de/cocoon/barch/0000/k/k1966k/index.html\n",
            "50 Its a Sub Url ../k/k1967k/index.html\n",
            "BaseURL https://www.bundesarchiv.de//cocoon/barch/0000/k/index.html\n",
            "SubUrl ../k/k1967k/index.html\n",
            "50 https://www.bundesarchiv.de/cocoon/barch/0000/k/k1967k/index.html\n",
            "51 Its a Sub Url ../k/k1968k/index.html\n",
            "BaseURL https://www.bundesarchiv.de//cocoon/barch/0000/k/index.html\n",
            "SubUrl ../k/k1968k/index.html\n",
            "51 https://www.bundesarchiv.de/cocoon/barch/0000/k/k1968k/index.html\n",
            "52 Its a Sub Url ../k/k1969k/index.html\n",
            "BaseURL https://www.bundesarchiv.de//cocoon/barch/0000/k/index.html\n",
            "SubUrl ../k/k1969k/index.html\n",
            "52 https://www.bundesarchiv.de/cocoon/barch/0000/k/k1969k/index.html\n",
            "53 Its a Sub Url ../k/k1970k/index.html\n",
            "BaseURL https://www.bundesarchiv.de//cocoon/barch/0000/k/index.html\n",
            "SubUrl ../k/k1970k/index.html\n",
            "53 https://www.bundesarchiv.de/cocoon/barch/0000/k/k1970k/index.html\n",
            "54 Its a Sub Url ../k/k1971k/index.html\n",
            "BaseURL https://www.bundesarchiv.de//cocoon/barch/0000/k/index.html\n",
            "SubUrl ../k/k1971k/index.html\n",
            "54 https://www.bundesarchiv.de/cocoon/barch/0000/k/k1971k/index.html\n",
            "55 Its a Sub Url ../k/k1972k/index.html\n",
            "BaseURL https://www.bundesarchiv.de//cocoon/barch/0000/k/index.html\n",
            "SubUrl ../k/k1972k/index.html\n",
            "55 https://www.bundesarchiv.de/cocoon/barch/0000/k/k1972k/index.html\n",
            "56 Its a Sub Url ../k/k1973k/index.html\n",
            "BaseURL https://www.bundesarchiv.de//cocoon/barch/0000/k/index.html\n",
            "SubUrl ../k/k1973k/index.html\n",
            "56 https://www.bundesarchiv.de/cocoon/barch/0000/k/k1973k/index.html\n",
            "57 Its a Sub Url ../k/k1974k/index.html\n",
            "BaseURL https://www.bundesarchiv.de//cocoon/barch/0000/k/index.html\n",
            "SubUrl ../k/k1974k/index.html\n",
            "57 https://www.bundesarchiv.de/cocoon/barch/0000/k/k1974k/index.html\n",
            "58 Its a Sub Url ../k/k1975k/index.html\n",
            "BaseURL https://www.bundesarchiv.de//cocoon/barch/0000/k/index.html\n",
            "SubUrl ../k/k1975k/index.html\n",
            "58 https://www.bundesarchiv.de/cocoon/barch/0000/k/k1975k/index.html\n",
            "59 Its a Sub Url ../k/k1976k/index.html\n",
            "BaseURL https://www.bundesarchiv.de//cocoon/barch/0000/k/index.html\n",
            "SubUrl ../k/k1976k/index.html\n",
            "59 https://www.bundesarchiv.de/cocoon/barch/0000/k/k1976k/index.html\n",
            "60 Its a Sub Url ../k/k1977k/index.html\n",
            "BaseURL https://www.bundesarchiv.de//cocoon/barch/0000/k/index.html\n",
            "SubUrl ../k/k1977k/index.html\n",
            "60 https://www.bundesarchiv.de/cocoon/barch/0000/k/k1977k/index.html\n",
            "61 Its a Sub Url ../k/k1978k/index.html\n",
            "BaseURL https://www.bundesarchiv.de//cocoon/barch/0000/k/index.html\n",
            "SubUrl ../k/k1978k/index.html\n",
            "61 https://www.bundesarchiv.de/cocoon/barch/0000/k/k1978k/index.html\n",
            "62 Its a Sub Url ../k/k1979k/index.html\n",
            "BaseURL https://www.bundesarchiv.de//cocoon/barch/0000/k/index.html\n",
            "SubUrl ../k/k1979k/index.html\n",
            "62 https://www.bundesarchiv.de/cocoon/barch/0000/k/k1979k/index.html\n",
            "63 Its a Sub Url ../k/k1980k/index.html\n",
            "BaseURL https://www.bundesarchiv.de//cocoon/barch/0000/k/index.html\n",
            "SubUrl ../k/k1980k/index.html\n",
            "63 https://www.bundesarchiv.de/cocoon/barch/0000/k/k1980k/index.html\n",
            "64 Its a Sub Url ../k/k1981k/index.html\n",
            "BaseURL https://www.bundesarchiv.de//cocoon/barch/0000/k/index.html\n",
            "SubUrl ../k/k1981k/index.html\n",
            "64 https://www.bundesarchiv.de/cocoon/barch/0000/k/k1981k/index.html\n",
            "65 Its a Sub Url ../k/k1982k/index.html\n",
            "BaseURL https://www.bundesarchiv.de//cocoon/barch/0000/k/index.html\n",
            "SubUrl ../k/k1982k/index.html\n",
            "65 https://www.bundesarchiv.de/cocoon/barch/0000/k/k1982k/index.html\n",
            "66 Its a Sub Url ../k/k1983k/index.html\n",
            "BaseURL https://www.bundesarchiv.de//cocoon/barch/0000/k/index.html\n",
            "SubUrl ../k/k1983k/index.html\n",
            "66 https://www.bundesarchiv.de/cocoon/barch/0000/k/k1983k/index.html\n",
            "67 Its a Sub Url ../k/k1984k/index.html\n",
            "BaseURL https://www.bundesarchiv.de//cocoon/barch/0000/k/index.html\n",
            "SubUrl ../k/k1984k/index.html\n",
            "67 https://www.bundesarchiv.de/cocoon/barch/0000/k/k1984k/index.html\n",
            "68 Its a Sub Url ../k/k1985k/index.html\n",
            "BaseURL https://www.bundesarchiv.de//cocoon/barch/0000/k/index.html\n",
            "SubUrl ../k/k1985k/index.html\n",
            "68 https://www.bundesarchiv.de/cocoon/barch/0000/k/k1985k/index.html\n",
            "69 Its a Sub Url ../k/k1986k/index.html\n",
            "BaseURL https://www.bundesarchiv.de//cocoon/barch/0000/k/index.html\n",
            "SubUrl ../k/k1986k/index.html\n",
            "69 https://www.bundesarchiv.de/cocoon/barch/0000/k/k1986k/index.html\n",
            "70 Its a Sub Url ../k/k1987k/index.html\n",
            "BaseURL https://www.bundesarchiv.de//cocoon/barch/0000/k/index.html\n",
            "SubUrl ../k/k1987k/index.html\n",
            "70 https://www.bundesarchiv.de/cocoon/barch/0000/k/k1987k/index.html\n",
            "71 Its a Sub Url ../k/k1988k/index.html\n",
            "BaseURL https://www.bundesarchiv.de//cocoon/barch/0000/k/index.html\n",
            "SubUrl ../k/k1988k/index.html\n",
            "71 https://www.bundesarchiv.de/cocoon/barch/0000/k/k1988k/index.html\n",
            "72 Its a Sub Url ../k/k1989k/index.html\n",
            "BaseURL https://www.bundesarchiv.de//cocoon/barch/0000/k/index.html\n",
            "SubUrl ../k/k1989k/index.html\n",
            "72 https://www.bundesarchiv.de/cocoon/barch/0000/k/k1989k/index.html\n",
            "73 Its a Sub Url ../k/k1990k/index.html\n",
            "BaseURL https://www.bundesarchiv.de//cocoon/barch/0000/k/index.html\n",
            "SubUrl ../k/k1990k/index.html\n",
            "73 https://www.bundesarchiv.de/cocoon/barch/0000/k/k1990k/index.html\n",
            "74 Its a Sub Url ../k/k1991k/index.html\n",
            "BaseURL https://www.bundesarchiv.de//cocoon/barch/0000/k/index.html\n",
            "SubUrl ../k/k1991k/index.html\n",
            "74 https://www.bundesarchiv.de/cocoon/barch/0000/k/k1991k/index.html\n",
            "75 Its a Sub Url ../x/index.html\n",
            "BaseURL https://www.bundesarchiv.de//cocoon/barch/0000/k/index.html\n",
            "SubUrl ../x/index.html\n",
            "75 https://www.bundesarchiv.de/cocoon/barch/0000/x/index.html\n",
            "76 Its a Sub Url ../z/index.html\n",
            "BaseURL https://www.bundesarchiv.de//cocoon/barch/0000/k/index.html\n",
            "SubUrl ../z/index.html\n",
            "76 https://www.bundesarchiv.de/cocoon/barch/0000/z/index.html\n",
            "77 Its a Sub Url ../netzeditionsgrundsaetze.html\n",
            "BaseURL https://www.bundesarchiv.de//cocoon/barch/0000/k/index.html\n",
            "SubUrl ../netzeditionsgrundsaetze.html\n",
            "77 https://www.bundesarchiv.de/cocoon/barch/0000/netzeditionsgrundsaetze.html\n",
            "78 Its a Sub Url ../geschaeftsordnung.html\n",
            "BaseURL https://www.bundesarchiv.de//cocoon/barch/0000/k/index.html\n",
            "SubUrl ../geschaeftsordnung.html\n",
            "78 https://www.bundesarchiv.de/cocoon/barch/0000/geschaeftsordnung.html\n",
            "80 Its a Sub Url ../index.html\n",
            "BaseURL https://www.bundesarchiv.de//cocoon/barch/0000/k/index.html\n",
            "SubUrl ../index.html\n",
            "80 https://www.bundesarchiv.de/cocoon/barch/0000/index.html\n",
            "83 Its a Sub Url ../index.html\n",
            "BaseURL https://www.bundesarchiv.de//cocoon/barch/0000/k/index.html\n",
            "SubUrl ../index.html\n",
            "83 https://www.bundesarchiv.de/cocoon/barch/0000/index.html\n",
            "84 Its a Sub Url ../hilfe/impressum.html\n",
            "BaseURL https://www.bundesarchiv.de//cocoon/barch/0000/k/index.html\n",
            "SubUrl ../hilfe/impressum.html\n",
            "84 https://www.bundesarchiv.de/cocoon/barch/0000/hilfe/impressum.html\n",
            "85 Its a Sub Url ../index.html\n",
            "BaseURL https://www.bundesarchiv.de//cocoon/barch/0000/k/index.html\n",
            "SubUrl ../index.html\n",
            "85 https://www.bundesarchiv.de/cocoon/barch/0000/index.html\n",
            "86 Its a Sub Url ../sitemap.html\n",
            "BaseURL https://www.bundesarchiv.de//cocoon/barch/0000/k/index.html\n",
            "SubUrl ../sitemap.html\n",
            "86 https://www.bundesarchiv.de/cocoon/barch/0000/sitemap.html\n",
            "88 Its a Sub Url ../k/k1949k/index.html\n",
            "BaseURL https://www.bundesarchiv.de//cocoon/barch/0000/k/index.html\n",
            "SubUrl ../k/k1949k/index.html\n",
            "88 https://www.bundesarchiv.de/cocoon/barch/0000/k/k1949k/index.html\n",
            "89 Its a Sub Url ../x/index.html\n",
            "BaseURL https://www.bundesarchiv.de//cocoon/barch/0000/k/index.html\n",
            "SubUrl ../x/index.html\n",
            "89 https://www.bundesarchiv.de/cocoon/barch/0000/x/index.html\n",
            "92 Its a Sub Url ../../1000/k/index.html\n",
            "BaseURL https://www.bundesarchiv.de//cocoon/barch/0000/k/index.html\n",
            "SubUrl ../../1000/k/index.html\n",
            "92 https://www.bundesarchiv.de/cocoon/barch/1000/k/index.html\n",
            "93 Its a Sub Url ../../0001/k/index.html\n",
            "BaseURL https://www.bundesarchiv.de//cocoon/barch/0000/k/index.html\n",
            "SubUrl ../../0001/k/index.html\n",
            "93 https://www.bundesarchiv.de/cocoon/barch/0001/k/index.html\n",
            "96 Its a Sub Url ../index.html\n",
            "BaseURL https://www.bundesarchiv.de//cocoon/barch/0000/k/index.html\n",
            "SubUrl ../index.html\n",
            "96 https://www.bundesarchiv.de/cocoon/barch/0000/index.html\n",
            "97 Its a Sub Url ../hilfe/impressum.html\n",
            "BaseURL https://www.bundesarchiv.de//cocoon/barch/0000/k/index.html\n",
            "SubUrl ../hilfe/impressum.html\n",
            "97 https://www.bundesarchiv.de/cocoon/barch/0000/hilfe/impressum.html\n",
            "98 Its a Sub Url ../index.html\n",
            "BaseURL https://www.bundesarchiv.de//cocoon/barch/0000/k/index.html\n",
            "SubUrl ../index.html\n",
            "98 https://www.bundesarchiv.de/cocoon/barch/0000/index.html\n",
            "99 Its a Sub Url ../sitemap.html\n",
            "BaseURL https://www.bundesarchiv.de//cocoon/barch/0000/k/index.html\n",
            "SubUrl ../sitemap.html\n",
            "99 https://www.bundesarchiv.de/cocoon/barch/0000/sitemap.html\n",
            "101 Its a Sub Url ../k/k1949k/index.html\n",
            "BaseURL https://www.bundesarchiv.de//cocoon/barch/0000/k/index.html\n",
            "SubUrl ../k/k1949k/index.html\n",
            "101 https://www.bundesarchiv.de/cocoon/barch/0000/k/k1949k/index.html\n",
            "102 Its a Sub Url ../x/index.html\n",
            "BaseURL https://www.bundesarchiv.de//cocoon/barch/0000/k/index.html\n",
            "SubUrl ../x/index.html\n",
            "102 https://www.bundesarchiv.de/cocoon/barch/0000/x/index.html\n",
            "105 Its a Sub Url ../../1000/k/index.html\n",
            "BaseURL https://www.bundesarchiv.de//cocoon/barch/0000/k/index.html\n",
            "SubUrl ../../1000/k/index.html\n",
            "105 https://www.bundesarchiv.de/cocoon/barch/1000/k/index.html\n",
            "106 Its a Sub Url ../../0001/k/index.html\n",
            "BaseURL https://www.bundesarchiv.de//cocoon/barch/0000/k/index.html\n",
            "SubUrl ../../0001/k/index.html\n",
            "106 https://www.bundesarchiv.de/cocoon/barch/0001/k/index.html\n"
          ]
        }
      ]
    },
    {
      "cell_type": "code",
      "source": [
        "#Method to get text from link\n",
        "def getTextFromLink(link): \n",
        "  page = urlopen(url)\n",
        "  html = page.read().decode(\"utf-8\")\n",
        "  soup = BeautifulSoup(html, \"html.parser\")\n",
        "  pagetext =soup.get_text()\n",
        "  return pagetext\n",
        "  "
      ],
      "metadata": {
        "id": "0gOm9fyTG4QI"
      },
      "execution_count": null,
      "outputs": []
    },
    {
      "cell_type": "markdown",
      "source": [
        "**Initiation point to crawl and capture all the data from the website**"
      ],
      "metadata": {
        "id": "HXdr7-5pZc4s"
      }
    },
    {
      "cell_type": "code",
      "source": [
        "\n",
        "#Crawl all urls\n",
        "crawlLinks(url)\n",
        "\n",
        "links[:5]"
      ],
      "metadata": {
        "colab": {
          "base_uri": "https://localhost:8080/",
          "height": 356
        },
        "id": "8S28updxJxdT",
        "outputId": "1072ac3a-759e-467a-dd41-b8f80e32a8c7"
      },
      "execution_count": null,
      "outputs": [
        {
          "output_type": "stream",
          "name": "stdout",
          "text": [
            "http://www.bundesarchiv.de\n"
          ]
        },
        {
          "output_type": "error",
          "ename": "AttributeError",
          "evalue": "ignored",
          "traceback": [
            "\u001b[0;31m---------------------------------------------------------------------------\u001b[0m",
            "\u001b[0;31mAttributeError\u001b[0m                            Traceback (most recent call last)",
            "\u001b[0;32m<ipython-input-62-90eb863c56a2>\u001b[0m in \u001b[0;36m<module>\u001b[0;34m()\u001b[0m\n\u001b[1;32m      1\u001b[0m \u001b[0;34m\u001b[0m\u001b[0m\n\u001b[1;32m      2\u001b[0m \u001b[0;31m#Crawl all urls\u001b[0m\u001b[0;34m\u001b[0m\u001b[0;34m\u001b[0m\u001b[0;34m\u001b[0m\u001b[0m\n\u001b[0;32m----> 3\u001b[0;31m \u001b[0mcrawlLinks\u001b[0m\u001b[0;34m(\u001b[0m\u001b[0murl\u001b[0m\u001b[0;34m)\u001b[0m\u001b[0;34m\u001b[0m\u001b[0;34m\u001b[0m\u001b[0m\n\u001b[0m\u001b[1;32m      4\u001b[0m \u001b[0;34m\u001b[0m\u001b[0m\n\u001b[1;32m      5\u001b[0m \u001b[0mlinks\u001b[0m\u001b[0;34m[\u001b[0m\u001b[0;34m:\u001b[0m\u001b[0;36m5\u001b[0m\u001b[0;34m]\u001b[0m\u001b[0;34m\u001b[0m\u001b[0;34m\u001b[0m\u001b[0m\n",
            "\u001b[0;32m<ipython-input-60-f0f0f9c84ba3>\u001b[0m in \u001b[0;36mcrawlLinks\u001b[0;34m(url)\u001b[0m\n\u001b[1;32m     13\u001b[0m           \u001b[0mparsedUrl\u001b[0m \u001b[0;34m=\u001b[0m \u001b[0mJoinUrl\u001b[0m\u001b[0;34m(\u001b[0m\u001b[0mnextLink\u001b[0m\u001b[0;34m)\u001b[0m \u001b[0;31m#Join with base url and get full path\u001b[0m\u001b[0;34m\u001b[0m\u001b[0;34m\u001b[0m\u001b[0m\n\u001b[1;32m     14\u001b[0m \u001b[0;34m\u001b[0m\u001b[0m\n\u001b[0;32m---> 15\u001b[0;31m         \u001b[0mlinks\u001b[0m\u001b[0;34m.\u001b[0m\u001b[0madd\u001b[0m\u001b[0;34m(\u001b[0m\u001b[0mcrawlLinks\u001b[0m\u001b[0;34m(\u001b[0m\u001b[0mparsedUrl\u001b[0m\u001b[0;34m)\u001b[0m\u001b[0;34m)\u001b[0m\u001b[0;34m\u001b[0m\u001b[0;34m\u001b[0m\u001b[0m\n\u001b[0m\u001b[1;32m     16\u001b[0m \u001b[0;34m\u001b[0m\u001b[0m\n",
            "\u001b[0;31mAttributeError\u001b[0m: 'dict' object has no attribute 'add'"
          ]
        }
      ]
    },
    {
      "cell_type": "code",
      "source": [
        "#Capture all pages data along with its link\n",
        "\n",
        "for link in links:\n",
        "  textFromLink = getTextFromLink(link)\n",
        "  webTexts.update({link,textFromLink})\n"
      ],
      "metadata": {
        "id": "RB3pr1yTHJdJ"
      },
      "execution_count": null,
      "outputs": []
    },
    {
      "cell_type": "code",
      "source": [
        "#Tokenize the Words\n",
        "from nltk.tokenize import RegexpTokenizer\n",
        "\n",
        "# Create tokenizer\n",
        "tokenizer = RegexpTokenizer('\\w+')\n",
        "\n",
        "tokens = tokenizer.tokenize(pagetext)\n",
        "tokens[:8]"
      ],
      "metadata": {
        "colab": {
          "base_uri": "https://localhost:8080/"
        },
        "id": "2fCoSJTiFQxM",
        "outputId": "95be3bd8-6e5d-465d-96f9-871914e9417b"
      },
      "execution_count": null,
      "outputs": [
        {
          "output_type": "execute_result",
          "data": {
            "text/plain": [
              "['Kabinettsprotokolle',\n",
              " 'Online',\n",
              " '1',\n",
              " 'Außen',\n",
              " 'und',\n",
              " 'innenpolitische',\n",
              " 'Vorentscheidunge',\n",
              " '1']"
            ]
          },
          "metadata": {},
          "execution_count": 8
        }
      ]
    },
    {
      "cell_type": "code",
      "source": [
        "#Change to lower case \n",
        "words = []\n",
        "\n",
        "\n",
        "# Loop through list tokens and make lower case\n",
        "for word in tokens:\n",
        "    words.append(word.lower())\n",
        "\n",
        "\n",
        "# Print several items from list as sanity check\n",
        "words[:8]"
      ],
      "metadata": {
        "colab": {
          "base_uri": "https://localhost:8080/"
        },
        "id": "qn_V8QM5FktT",
        "outputId": "f75b4387-5b08-4ee5-e935-a6b467e44918"
      },
      "execution_count": null,
      "outputs": [
        {
          "output_type": "execute_result",
          "data": {
            "text/plain": [
              "['kabinettsprotokolle',\n",
              " 'online',\n",
              " '1',\n",
              " 'außen',\n",
              " 'und',\n",
              " 'innenpolitische',\n",
              " 'vorentscheidunge',\n",
              " '1']"
            ]
          },
          "metadata": {},
          "execution_count": 9
        }
      ]
    },
    {
      "cell_type": "code",
      "source": [
        "# Import nltk\n",
        "import nltk\n",
        "\n",
        "nltk.download('stopwords')\n",
        "\n",
        "# Get English stopwords and print some of them\n",
        "sw = nltk.corpus.stopwords.words('german')\n",
        "sw[:5]"
      ],
      "metadata": {
        "colab": {
          "base_uri": "https://localhost:8080/"
        },
        "id": "5JQEMNBTq6OM",
        "outputId": "b240b211-8c19-40e3-f6bf-70d2c0d709a3"
      },
      "execution_count": null,
      "outputs": [
        {
          "output_type": "stream",
          "name": "stdout",
          "text": [
            "[nltk_data] Downloading package stopwords to /root/nltk_data...\n",
            "[nltk_data]   Unzipping corpora/stopwords.zip.\n"
          ]
        },
        {
          "output_type": "execute_result",
          "data": {
            "text/plain": [
              "['aber', 'alle', 'allem', 'allen', 'aller']"
            ]
          },
          "metadata": {},
          "execution_count": 11
        }
      ]
    },
    {
      "cell_type": "code",
      "source": [
        "#Remove German stopwords\n",
        "# Initialize new list\n",
        "words_ns = []\n",
        "\n",
        "# Add to words_ns all words that are in words but not in sw\n",
        "for word in words:\n",
        "    if word not in sw:\n",
        "        words_ns.append(word)\n",
        "\n",
        "# Print several list items as sanity check\n",
        "words_ns[:5]"
      ],
      "metadata": {
        "colab": {
          "base_uri": "https://localhost:8080/"
        },
        "id": "W5Z0IosVF25W",
        "outputId": "8ab5ae3b-ae83-437a-8bda-f9830d41d248"
      },
      "execution_count": null,
      "outputs": [
        {
          "output_type": "execute_result",
          "data": {
            "text/plain": [
              "['kabinettsprotokolle', 'online', '1', 'außen', 'innenpolitische']"
            ]
          },
          "metadata": {},
          "execution_count": 12
        }
      ]
    },
    {
      "cell_type": "code",
      "source": [
        "#Get Word Frequency Distribution\n",
        "import matplotlib.pyplot as plt\n",
        "import seaborn as sns\n",
        "\n",
        "#Display Inline chart\n",
        "%matplotlib inline \n",
        "sns.set()\n",
        "\n",
        "#Create freq distribution\n",
        "freqdist1 =  nltk.FreqDist(words_ns)\n",
        "freqdist1.plot(25)"
      ],
      "metadata": {
        "colab": {
          "base_uri": "https://localhost:8080/",
          "height": 381
        },
        "id": "MIWHJJW5ugmM",
        "outputId": "fdfbe845-f763-4df3-9730-3c6001843215"
      },
      "execution_count": null,
      "outputs": [
        {
          "output_type": "display_data",
          "data": {
            "text/plain": [
              "<Figure size 432x288 with 1 Axes>"
            ],
            "image/png": "[encoded data removed]"
          },
          "metadata": {}
        }
      ]
    },
    {
      "cell_type": "code",
      "source": [
        "#Chunking of Data\n",
        "\n",
        "ne_chunks = nltk.batch_ne_chunk(words_ns)"
      ],
      "metadata": {
        "id": "FAm4Z9K8K1GX",
        "outputId": "bcac6641-5fc6-4aa5-f0b3-53faaeecf03a",
        "colab": {
          "base_uri": "https://localhost:8080/",
          "height": 200
        }
      },
      "execution_count": null,
      "outputs": [
        {
          "output_type": "error",
          "ename": "AttributeError",
          "evalue": "ignored",
          "traceback": [
            "\u001b[0;31m---------------------------------------------------------------------------\u001b[0m",
            "\u001b[0;31mAttributeError\u001b[0m                            Traceback (most recent call last)",
            "\u001b[0;32m<ipython-input-20-f70c986d9f50>\u001b[0m in \u001b[0;36m<module>\u001b[0;34m()\u001b[0m\n\u001b[1;32m      1\u001b[0m \u001b[0;31m#Chunking of Data\u001b[0m\u001b[0;34m\u001b[0m\u001b[0;34m\u001b[0m\u001b[0;34m\u001b[0m\u001b[0m\n\u001b[1;32m      2\u001b[0m \u001b[0;34m\u001b[0m\u001b[0m\n\u001b[0;32m----> 3\u001b[0;31m \u001b[0mne_chunks\u001b[0m \u001b[0;34m=\u001b[0m \u001b[0mnltk\u001b[0m\u001b[0;34m.\u001b[0m\u001b[0mbatch_ne_chunk\u001b[0m\u001b[0;34m(\u001b[0m\u001b[0mwords_ns\u001b[0m\u001b[0;34m)\u001b[0m\u001b[0;34m\u001b[0m\u001b[0;34m\u001b[0m\u001b[0m\n\u001b[0m",
            "\u001b[0;31mAttributeError\u001b[0m: module 'nltk' has no attribute 'batch_ne_chunk'"
          ]
        }
      ]
    },
    {
      "cell_type": "markdown",
      "source": [
        "Install Additional stop words - stop-words - If Required. Curren\n",
        "\n",
        "https://pypi.org/project/stop-words/\n"
      ],
      "metadata": {
        "id": "876jO5zoz2bJ"
      }
    },
    {
      "cell_type": "code",
      "source": [
        "#Import statements for processing\n",
        "import re                                  # library for regular expression operations\n",
        "import string                              # for string operations\n",
        "\n",
        "from nltk.corpus import stopwords          # module for stop words that come with NLTK\n",
        "from nltk.stem import PorterStemmer        # module for stemming\n",
        "from nltk.tokenize import TweetTokenizer   # module for tokenizing strings"
      ],
      "metadata": {
        "id": "oSTqBpd34hQU"
      },
      "execution_count": null,
      "outputs": []
    }
  ]
}